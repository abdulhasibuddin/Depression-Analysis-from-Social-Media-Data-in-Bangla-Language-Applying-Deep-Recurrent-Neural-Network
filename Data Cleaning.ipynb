{
 "cells": [
  {
   "cell_type": "raw",
   "metadata": {},
   "source": [
    " Data Cleaning::"
   ]
  },
  {
   "cell_type": "code",
   "execution_count": 1,
   "metadata": {},
   "outputs": [],
   "source": [
    "import csv\n",
    "from openpyxl import Workbook\n",
    "from openpyxl import load_workbook"
   ]
  },
  {
   "cell_type": "raw",
   "metadata": {},
   "source": [
    " White list of characters::"
   ]
  },
  {
   "cell_type": "code",
   "execution_count": 2,
   "metadata": {},
   "outputs": [],
   "source": [
    "white_list = ['অ','আ','ই','ঈ','উ','ঊ','ঋ','এ','ঐ','ও','ঔ','ক','খ','গ','ঘ','ঙ','চ','ছ','জ','ঝ','ঞ','ট','ঠ','ড',\n",
    "              'ঢ','ণ','ত','থ','দ','ধ','ন','প','ফ','ব','ভ','ম','য','র','ল','শ','ষ','স','হ','ড়','ঢ়','য়','ৎ','ক্ষ',\n",
    "              'ঁ','ং','ঃ','়','া','ি','ী','ু','ূ','ৃ','ৄ','ে','ৈ','ো','ৌ','্','ৗ','ৠ','ৢ','ৣ','ৰ','ৱ','০','১','২',\n",
    "              '৩','৪','৫','৬','৭','৮','৯','।',' ']"
   ]
  },
  {
   "cell_type": "code",
   "execution_count": 3,
   "metadata": {},
   "outputs": [],
   "source": [
    "wb = Workbook()"
   ]
  },
  {
   "cell_type": "code",
   "execution_count": 4,
   "metadata": {},
   "outputs": [],
   "source": [
    "path = 'D:\\EDUCATION\\Deep Learning\\Jupyter Notebook\\Twitter Bangla Collection\\Tweets_June_Raw_Bangla\\\\'"
   ]
  },
  {
   "cell_type": "code",
   "execution_count": 5,
   "metadata": {},
   "outputs": [],
   "source": [
    "file_name = 'Tweet_June_2018_21'"
   ]
  },
  {
   "cell_type": "code",
   "execution_count": 6,
   "metadata": {},
   "outputs": [],
   "source": [
    "file_extension = '.xlsx'"
   ]
  },
  {
   "cell_type": "code",
   "execution_count": 7,
   "metadata": {},
   "outputs": [],
   "source": [
    "wb = load_workbook(path+file_name+file_extension)"
   ]
  },
  {
   "cell_type": "code",
   "execution_count": 8,
   "metadata": {},
   "outputs": [],
   "source": [
    "ws = wb.active"
   ]
  },
  {
   "cell_type": "code",
   "execution_count": 9,
   "metadata": {},
   "outputs": [],
   "source": [
    "tuple_cells = ws['C']"
   ]
  },
  {
   "cell_type": "raw",
   "metadata": {},
   "source": [
    " Column B: Date::"
   ]
  },
  {
   "cell_type": "code",
   "execution_count": 10,
   "metadata": {},
   "outputs": [],
   "source": [
    "for cell_num in range(1, len(tuple_cells)+1):\n",
    "    current_cell = 'A'+str(cell_num)\n",
    "    if ws[current_cell].value is not None:\n",
    "        ws[current_cell].value += '~'"
   ]
  },
  {
   "cell_type": "raw",
   "metadata": {},
   "source": [
    " Column C: Twitter column::"
   ]
  },
  {
   "cell_type": "code",
   "execution_count": 11,
   "metadata": {},
   "outputs": [],
   "source": [
    "for cell_num in range(1, len(tuple_cells)+1):    \n",
    "    current_cell = 'B'+str(cell_num)\n",
    "    #print(current_cell)\n",
    "    filtered_string = ''\n",
    "    if ws[current_cell].value is not None:\n",
    "        for char in ws[current_cell].value:\n",
    "            if char in white_list:\n",
    "                filtered_string += char\n",
    "        filtered_string += '~'\n",
    "        ws[current_cell].value = filtered_string\n",
    "        #print(ws[current_cell].value)"
   ]
  },
  {
   "cell_type": "raw",
   "metadata": {},
   "source": [
    " Deleting unwanted column::"
   ]
  },
  {
   "cell_type": "code",
   "execution_count": 12,
   "metadata": {},
   "outputs": [],
   "source": [
    "for cell_num in range(1, len(tuple_cells)+1):\n",
    "    current_cell = 'D'+str(cell_num)\n",
    "    if ws[current_cell].value is not None:\n",
    "        del(ws[current_cell])"
   ]
  },
  {
   "cell_type": "raw",
   "metadata": {},
   "source": [
    " Saveing file with clean data::"
   ]
  },
  {
   "cell_type": "code",
   "execution_count": 13,
   "metadata": {},
   "outputs": [],
   "source": [
    "wb.save(path+'filtered_'+file_name+file_extension)"
   ]
  },
  {
   "cell_type": "raw",
   "metadata": {},
   "source": [
    " Some Notes::"
   ]
  },
  {
   "cell_type": "code",
   "execution_count": 14,
   "metadata": {},
   "outputs": [],
   "source": [
    "#print(len(tuple_cells)) #10000"
   ]
  },
  {
   "cell_type": "code",
   "execution_count": 15,
   "metadata": {},
   "outputs": [
    {
     "data": {
      "text/plain": [
       "\"\\nn = 4\\ncell = 'C'+str(n)\\nc = ws[cell]\\ntype(c)\\n\""
      ]
     },
     "execution_count": 15,
     "metadata": {},
     "output_type": "execute_result"
    }
   ],
   "source": [
    "'''\n",
    "n = 4\n",
    "cell = 'C'+str(n)\n",
    "c = ws[cell]\n",
    "type(c)\n",
    "'''"
   ]
  },
  {
   "cell_type": "code",
   "execution_count": 16,
   "metadata": {},
   "outputs": [
    {
     "data": {
      "text/plain": [
       "\"\\nn=0\\nc='C'+str(n)\\nd=ws[c]\\nprint(type(d))\\nd1=ws['C0']\\nprint(type(d1))\\n\""
      ]
     },
     "execution_count": 16,
     "metadata": {},
     "output_type": "execute_result"
    }
   ],
   "source": [
    "'''\n",
    "n=0\n",
    "c='C'+str(n)\n",
    "d=ws[c]\n",
    "print(type(d))\n",
    "d1=ws['C0']\n",
    "print(type(d1))\n",
    "'''"
   ]
  },
  {
   "cell_type": "code",
   "execution_count": 17,
   "metadata": {},
   "outputs": [
    {
     "data": {
      "text/plain": [
       "\"\\nc=ws['D3']\\nprint(type(c.value))\\ndel(ws['D2'])\\nd=ws['D2']\\nprint(type(d.value))\\n#del(ws['D']) # Error\\n#b=ws['D']\\n\""
      ]
     },
     "execution_count": 17,
     "metadata": {},
     "output_type": "execute_result"
    }
   ],
   "source": [
    "'''\n",
    "c=ws['D3']\n",
    "print(type(c.value))\n",
    "del(ws['D2'])\n",
    "d=ws['D2']\n",
    "print(type(d.value))\n",
    "#del(ws['D']) # Error\n",
    "#b=ws['D']\n",
    "'''"
   ]
  },
  {
   "cell_type": "code",
   "execution_count": null,
   "metadata": {},
   "outputs": [],
   "source": []
  }
 ],
 "metadata": {
  "kernelspec": {
   "display_name": "Python 3",
   "language": "python",
   "name": "python3"
  },
  "language_info": {
   "codemirror_mode": {
    "name": "ipython",
    "version": 3
   },
   "file_extension": ".py",
   "mimetype": "text/x-python",
   "name": "python",
   "nbconvert_exporter": "python",
   "pygments_lexer": "ipython3",
   "version": "3.6.6"
  }
 },
 "nbformat": 4,
 "nbformat_minor": 2
}
