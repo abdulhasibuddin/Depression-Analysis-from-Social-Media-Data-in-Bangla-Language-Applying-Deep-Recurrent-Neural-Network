{
 "cells": [
  {
   "cell_type": "code",
   "execution_count": null,
   "metadata": {},
   "outputs": [],
   "source": [
    "# copyright (c) abdulhasibuddin@gmail.com"
   ]
  },
  {
   "cell_type": "raw",
   "metadata": {},
   "source": [
    " Data Cleaning::"
   ]
  },
  {
   "cell_type": "code",
   "execution_count": 1,
   "metadata": {},
   "outputs": [],
   "source": [
    "import csv\n",
    "from openpyxl import Workbook\n",
    "from openpyxl import load_workbook\n",
    "from tkinter import Tk\n",
    "from tkinter.filedialog import askopenfilename"
   ]
  },
  {
   "cell_type": "raw",
   "metadata": {},
   "source": [
    " White list of characters::"
   ]
  },
  {
   "cell_type": "code",
   "execution_count": 2,
   "metadata": {},
   "outputs": [],
   "source": [
    "white_list = ['অ','আ','ই','ঈ','উ','ঊ','ঋ','এ','ঐ','ও','ঔ','ক','খ','গ','ঘ','ঙ','চ','ছ','জ','ঝ','ঞ','ট','ঠ','ড',\n",
    "              'ঢ','ণ','ত','থ','দ','ধ','ন','প','ফ','ব','ভ','ম','য','র','ল','শ','ষ','স','হ','ড়','ঢ়','য়','ৎ','ক্ষ',\n",
    "              'ঁ','ং','ঃ','়','া','ি','ী','ু','ূ','ৃ','ৄ','ে','ৈ','ো','ৌ','্','ৗ','ৠ','ৢ','ৣ','ৰ','ৱ','০','১','২',\n",
    "              '৩','৪','৫','৬','৭','৮','৯','।','?','!',',',':',';',' ']"
   ]
  },
  {
   "cell_type": "code",
   "execution_count": 3,
   "metadata": {},
   "outputs": [],
   "source": [
    "special_chars = ['।','?','!',',',':',';',' ']"
   ]
  },
  {
   "cell_type": "code",
   "execution_count": 4,
   "metadata": {},
   "outputs": [],
   "source": [
    "wb = Workbook()"
   ]
  },
  {
   "cell_type": "code",
   "execution_count": 5,
   "metadata": {},
   "outputs": [],
   "source": [
    "#path = 'D:\\EDUCATION\\Deep Learning\\Jupyter Notebook\\Twitter Bangla Collection\\Tweets_July_Bangla_Raw\\\\'\n"
   ]
  },
  {
   "cell_type": "code",
   "execution_count": 6,
   "metadata": {},
   "outputs": [
    {
     "name": "stdout",
     "output_type": "stream",
     "text": [
      "D:/EDUCATION/Thesis - Sentiment Analysis/Twitter Bangla Collection/Tweets_July_Raw_Bangla/Tweet_July_2018_1.xlsx\n"
     ]
    }
   ],
   "source": [
    "#file_name = 'Tweet_July_2018_1'\n",
    "\n",
    "Tk().withdraw()\n",
    "file_name = askopenfilename()\n",
    "print(file_name)"
   ]
  },
  {
   "cell_type": "code",
   "execution_count": 7,
   "metadata": {},
   "outputs": [],
   "source": [
    "#file_extension = '.xlsx'"
   ]
  },
  {
   "cell_type": "code",
   "execution_count": 8,
   "metadata": {},
   "outputs": [],
   "source": [
    "tweet_year = '2018'"
   ]
  },
  {
   "cell_type": "code",
   "execution_count": 9,
   "metadata": {},
   "outputs": [],
   "source": [
    "#wb = load_workbook(path+file_name+file_extension)\n",
    "wb = load_workbook(file_name)"
   ]
  },
  {
   "cell_type": "code",
   "execution_count": 10,
   "metadata": {},
   "outputs": [],
   "source": [
    "ws = wb.active"
   ]
  },
  {
   "cell_type": "code",
   "execution_count": 11,
   "metadata": {},
   "outputs": [],
   "source": [
    "tuple_cells = ws['B']"
   ]
  },
  {
   "cell_type": "code",
   "execution_count": 14,
   "metadata": {},
   "outputs": [],
   "source": [
    "clean_values = []\n",
    "unnecessary_multiple_occurences = False\n",
    "multiple_blacklisted_char = False\n",
    "multiple_whitespace = False\n",
    "total_rows = 5002 #len(tuple_cells)+1\n",
    "#redundant_\n",
    "\n",
    "for cell_num in range(1, total_rows):\n",
    "    cell_date = 'B'+str(cell_num) #date column\n",
    "    cell_tweet = 'C'+str(cell_num) #tweet column\n",
    "    filtered_string = ''\n",
    "    final_filtered_string = ''\n",
    "    \n",
    "    if ws[cell_tweet].value is not None:\n",
    "        #Tweet data cleaning::\n",
    "        for char in ws[cell_tweet].value:\n",
    "            if char in special_chars and char!=' ': # if any stop char...\n",
    "                filtered_string += ' ' # add space before it\n",
    "            if char in special_chars and unnecessary_multiple_occurences==True: # if multiple stop chars or spaces...\n",
    "                continue # skip\n",
    "            elif char not in special_chars and unnecessary_multiple_occurences==True: # if char is letter or number(bangla)...\n",
    "                unnecessary_multiple_occurences = False # set flag for multiple stop chars or spaces to false\n",
    "            elif char in special_chars and unnecessary_multiple_occurences==False: # on 1st occurence of any stop char or space...\n",
    "                unnecessary_multiple_occurences = True # set flag for multiple stop chars or spaces to true to check future char\n",
    "            if char in white_list: # if allowed char...\n",
    "                filtered_string += char # add it to filtered string\n",
    "                multiple_blacklisted_char = False # set flag for non-allowed char to false.\n",
    "                if char in special_chars and char!=' ': # if any stop char...\n",
    "                    filtered_string += ' ' # add sapce after it\n",
    "            elif multiple_blacklisted_char==False: # if multiple non-allowed char...\n",
    "                filtered_string += ' ' # replace them with a space...\n",
    "                multiple_blacklisted_char = True # and set flag for non-allowed char to true.\n",
    "        \n",
    "        #2nd level Twitter data cleaning (removing extra whitespaces)::\n",
    "        for char in filtered_string:\n",
    "            if char!=' ': # skip multiple spaces\n",
    "                final_filtered_string += char\n",
    "                multiple_whitespace = False\n",
    "            elif char==' ' and multiple_whitespace==False:\n",
    "                final_filtered_string += char # add single space\n",
    "                multiple_whitespace = True\n",
    "        #final_filtered_string += '\\n' # adding end-of-line character\n",
    "        \n",
    "        # check for data redundancy and empty data::\n",
    "        if final_filtered_string == '' or final_filtered_string==' ':\n",
    "            continue\n",
    "        if final_filtered_string in [value[1] for value in clean_values]:\n",
    "            continue\n",
    "        \n",
    "        #Date formatting::\n",
    "        for current_date in ws[cell_date].value:\n",
    "            date = ws[cell_date].value + ' ' + tweet_year # decorating date column.\n",
    "        \n",
    "        clean_values.append((date, final_filtered_string))\n",
    "        #clean_values.append((date, filtered_string))"
   ]
  },
  {
   "cell_type": "code",
   "execution_count": 25,
   "metadata": {},
   "outputs": [
    {
     "name": "stdout",
     "output_type": "stream",
     "text": [
      "1948\n",
      "রাজনাথ সিং সংসদে বললেন এই নাকি ফাইনাল নয় । এই লক্ষ লোক কে আবার নাকি সুযোগ দেওয়া হবে নাগরিত্ব প্রমাণ করার । এটা কি আইওয়াশ নয় ? এরা আর কি প্রমাণ দেবেন ? পাসপোর্ট , আধার ভোটার কার্ড সব ই তো বাতিল করে দিয়েছে । আবার অনেক পুরুষের নাম আছে অথচ তাদের পরিবারের নাম নেই । এরা কি করবে ? \n"
     ]
    }
   ],
   "source": [
    "print(len(clean_values))\n",
    "'''\n",
    "for value in clean_values:\n",
    "    print(value[1])\n",
    "    break\n",
    "'''\n",
    "print(clean_values[107][1])"
   ]
  },
  {
   "cell_type": "code",
   "execution_count": 26,
   "metadata": {},
   "outputs": [
    {
     "data": {
      "text/plain": [
       "1948"
      ]
     },
     "execution_count": 26,
     "metadata": {},
     "output_type": "execute_result"
    }
   ],
   "source": [
    "#print(clean_values[-1])\n",
    "#print(clean_values[-1][1])\n",
    "#del(clean_values[0])\n",
    "len(clean_values)"
   ]
  },
  {
   "cell_type": "raw",
   "metadata": {},
   "source": [
    "Inserting clean data in MySQL Database::"
   ]
  },
  {
   "cell_type": "code",
   "execution_count": 15,
   "metadata": {},
   "outputs": [],
   "source": [
    "import mysql.connector"
   ]
  },
  {
   "cell_type": "code",
   "execution_count": 16,
   "metadata": {},
   "outputs": [],
   "source": [
    "host_name = 'localhost'\n",
    "username = 'root'\n",
    "password = ''\n",
    "database = 'sentimentdb'"
   ]
  },
  {
   "cell_type": "code",
   "execution_count": 17,
   "metadata": {},
   "outputs": [
    {
     "name": "stdout",
     "output_type": "stream",
     "text": [
      "<mysql.connector.connection.MySQLConnection object at 0x000001EF80F22978>\n"
     ]
    }
   ],
   "source": [
    "mydb = mysql.connector.Connect(host=host_name, user=username, passwd=password)\n",
    "print(mydb)"
   ]
  },
  {
   "cell_type": "code",
   "execution_count": 18,
   "metadata": {},
   "outputs": [
    {
     "name": "stdout",
     "output_type": "stream",
     "text": [
      "MySQLCursor: (Nothing executed yet)\n"
     ]
    }
   ],
   "source": [
    "mycursor = mydb.cursor()\n",
    "print(mycursor)"
   ]
  },
  {
   "cell_type": "code",
   "execution_count": 19,
   "metadata": {},
   "outputs": [],
   "source": [
    "#sql = 'CREATE DATABASE IF NOT EXISTS ' + database"
   ]
  },
  {
   "cell_type": "code",
   "execution_count": 20,
   "metadata": {},
   "outputs": [],
   "source": [
    "#mycursor.execute(sql)"
   ]
  },
  {
   "cell_type": "code",
   "execution_count": 21,
   "metadata": {},
   "outputs": [],
   "source": [
    "sql = 'USE ' + database"
   ]
  },
  {
   "cell_type": "code",
   "execution_count": 22,
   "metadata": {},
   "outputs": [],
   "source": [
    "mycursor.execute(sql)"
   ]
  },
  {
   "cell_type": "code",
   "execution_count": 23,
   "metadata": {},
   "outputs": [
    {
     "data": {
      "text/plain": [
       "'CREATE TABLE IF NOT EXISTS tweets_1 (\\n    id INT AUTO_INCREMENT PRIMARY KEY,\\n    tweet_date VARCHAR(20) NOT NULL,\\n    tweet TEXT NOT NULL,\\n    labelled_by INT NOT NULL DEFAULT 0\\n    )CHARACTER SET utf8 COLLATE utf8_general_ci\\n'"
      ]
     },
     "execution_count": 23,
     "metadata": {},
     "output_type": "execute_result"
    }
   ],
   "source": [
    "#sql = \n",
    "'''CREATE TABLE IF NOT EXISTS tweets_1 (\n",
    "    id INT AUTO_INCREMENT PRIMARY KEY,\n",
    "    tweet_date VARCHAR(20) NOT NULL,\n",
    "    tweet TEXT NOT NULL,\n",
    "    labelled_by INT NOT NULL DEFAULT 0\n",
    "    )CHARACTER SET utf8 COLLATE utf8_general_ci\n",
    "'''"
   ]
  },
  {
   "cell_type": "code",
   "execution_count": 24,
   "metadata": {},
   "outputs": [],
   "source": [
    "#mycursor.execute(sql)"
   ]
  },
  {
   "cell_type": "code",
   "execution_count": 25,
   "metadata": {},
   "outputs": [],
   "source": [
    "sql = 'SELECT tweets_new.tweet FROM tweets_new'\n",
    "mycursor.execute(sql)\n",
    "existing_tweets = mycursor.fetchall()"
   ]
  },
  {
   "cell_type": "code",
   "execution_count": 26,
   "metadata": {},
   "outputs": [],
   "source": [
    "#print(existing_tweets[-1][0])"
   ]
  },
  {
   "cell_type": "code",
   "execution_count": 27,
   "metadata": {},
   "outputs": [],
   "source": [
    "sql = 'INSERT INTO tweets_new (tweet_date, tweet) VALUES (%s, %s)'"
   ]
  },
  {
   "cell_type": "code",
   "execution_count": 28,
   "metadata": {},
   "outputs": [
    {
     "name": "stdout",
     "output_type": "stream",
     "text": [
      "0 rows have been insetred!\n"
     ]
    }
   ],
   "source": [
    "total_inserted_rows = 0\n",
    "for value in clean_values:\n",
    "    if value[1] in [existing_tweet[0] for existing_tweet in existing_tweets]:\n",
    "            continue\n",
    "    mycursor.execute(sql, value)\n",
    "    total_inserted_rows += 1\n",
    "mydb.commit()\n",
    "print(total_inserted_rows, 'rows have been insetred!')"
   ]
  },
  {
   "cell_type": "code",
   "execution_count": 29,
   "metadata": {},
   "outputs": [],
   "source": [
    "# Remove existing duplicates from database::\n",
    "def remove_existing_duplicates():\n",
    "    sql = '''\n",
    "    DELETE t1\n",
    "    FROM tweets_new t1\n",
    "    INNER JOIN tweets_new t2\n",
    "    WHERE t1.tweet_id > t2.tweet_id\n",
    "    AND t1.tweet=t2.tweet;\n",
    "    '''\n",
    "    mycursor.execute(sql)\n",
    "#remove_existing_duplicates()"
   ]
  },
  {
   "cell_type": "code",
   "execution_count": 30,
   "metadata": {},
   "outputs": [
    {
     "name": "stdout",
     "output_type": "stream",
     "text": [
      "Total no. of rows = 14061\n"
     ]
    }
   ],
   "source": [
    "sql = 'SELECT COUNT(*) FROM tweets_new'\n",
    "mycursor.execute(sql)\n",
    "total_entry = mycursor.fetchall()\n",
    "print('Total no. of rows =', total_entry[0][0])"
   ]
  },
  {
   "cell_type": "code",
   "execution_count": 31,
   "metadata": {},
   "outputs": [
    {
     "name": "stdout",
     "output_type": "stream",
     "text": [
      "<class 'list'>\n",
      "<class 'tuple'>\n",
      "<class 'int'>\n"
     ]
    }
   ],
   "source": [
    "print(type(total_entry))\n",
    "print(type(total_entry[0]))\n",
    "print(type(total_entry[0][0]))"
   ]
  },
  {
   "cell_type": "code",
   "execution_count": 32,
   "metadata": {},
   "outputs": [],
   "source": [
    "def drop_table():\n",
    "    #mycursor.execute('DROP DATABASE tweetdb')\n",
    "    mycursor.execute('DROP TABLE tweets_new')\n",
    "#drop_table()"
   ]
  },
  {
   "cell_type": "code",
   "execution_count": null,
   "metadata": {},
   "outputs": [],
   "source": []
  }
 ],
 "metadata": {
  "kernelspec": {
   "display_name": "Python 3",
   "language": "python",
   "name": "python3"
  },
  "language_info": {
   "codemirror_mode": {
    "name": "ipython",
    "version": 3
   },
   "file_extension": ".py",
   "mimetype": "text/x-python",
   "name": "python",
   "nbconvert_exporter": "python",
   "pygments_lexer": "ipython3",
   "version": "3.6.6"
  }
 },
 "nbformat": 4,
 "nbformat_minor": 2
}
