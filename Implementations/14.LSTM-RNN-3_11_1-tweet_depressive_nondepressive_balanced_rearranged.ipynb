{
 "cells": [
  {
   "cell_type": "code",
   "execution_count": 1,
   "metadata": {},
   "outputs": [
    {
     "data": {
      "text/plain": [
       "'\\nSELECT tweets_depressive_nondepressive_balanced_rearranged.tweet\\nINTO OUTFILE \"D:/EDUCATION/Machine & Deep Learning/Implementations/tweets_depressive_nondepressive_balanced_rearranged_text.txt\" \\nFROM tweets_depressive_nondepressive_balanced_rearranged;\\n'"
      ]
     },
     "execution_count": 1,
     "metadata": {},
     "output_type": "execute_result"
    }
   ],
   "source": [
    "# Courtesy: https://github.com/mchablani/deep-learning/blob/master/sentiment-rnn/Sentiment_RNN.ipynb\n",
    "# Depression Analysis in Bangla with LSTM-RNN::\n",
    "# Two classes with balanced dataset (Total 1968 tweets):\n",
    "# 1. Depressive (984 tweets)\n",
    "# 2. Non-depressive (984 tweets)\n",
    "# 1 depressive -> 1 non-depressive -> 1 depressive -> 1 non-depressive ...\n",
    "\n",
    "'''\n",
    "SELECT tweets_depressive_nondepressive_balanced_rearranged.tweet\n",
    "INTO OUTFILE \"D:/EDUCATION/Machine & Deep Learning/Implementations/tweets_depressive_nondepressive_balanced_rearranged_text.txt\" \n",
    "FROM tweets_depressive_nondepressive_balanced_rearranged;\n",
    "'''"
   ]
  },
  {
   "cell_type": "code",
   "execution_count": 2,
   "metadata": {},
   "outputs": [],
   "source": [
    "import numpy as np\n",
    "import tensorflow as tf\n",
    "from timeit import default_timer as timer\n",
    "from collections import Counter\n",
    "from string import punctuation"
   ]
  },
  {
   "cell_type": "code",
   "execution_count": 3,
   "metadata": {},
   "outputs": [],
   "source": [
    "with open('tweets_depressive_nondepressive_balanced_rearranged_text.txt', 'r', encoding=\"utf8\") as f:\n",
    "    tweets = f.read()\n",
    "with open('tweets_depressive_nondepressive_balanced_rearranged_labels.txt', 'r', encoding=\"utf8\") as f:\n",
    "    labels_org = f.read()"
   ]
  },
  {
   "cell_type": "code",
   "execution_count": 4,
   "metadata": {},
   "outputs": [],
   "source": [
    "# Data preprocessing::\n",
    "all_text = ''.join([c for c in tweets if c not in punctuation])\n",
    "tweets = all_text.split('\\n')\n",
    "\n",
    "all_text = ' '.join(tweets)\n",
    "words = all_text.split()"
   ]
  },
  {
   "cell_type": "code",
   "execution_count": 5,
   "metadata": {},
   "outputs": [],
   "source": [
    "counts = Counter(words)\n",
    "vocab = sorted(counts, key=counts.get, reverse=True)\n",
    "vocab_to_int = {word: ii for ii, word in enumerate(vocab, 1)}\n",
    "\n",
    "tweets_ints = []\n",
    "for each in tweets:\n",
    "    tweets_ints.append([vocab_to_int[word] for word in each.split()])"
   ]
  },
  {
   "cell_type": "code",
   "execution_count": 6,
   "metadata": {},
   "outputs": [],
   "source": [
    "# Encoding the labels::\n",
    "list_labels = []\n",
    "\n",
    "for l in labels_org.split():\n",
    "    if l == \"non_depressive\":\n",
    "        list_labels.append(0)\n",
    "    elif l == \"depressive\":\n",
    "        list_labels.append(1)\n",
    "        \n",
    "labels = np.array(list_labels)\n",
    "#print(len(labels))"
   ]
  },
  {
   "cell_type": "code",
   "execution_count": 7,
   "metadata": {},
   "outputs": [
    {
     "name": "stdout",
     "output_type": "stream",
     "text": [
      "Zero-length tweets: 1\n",
      "Maximum tweets length: 61\n"
     ]
    }
   ],
   "source": [
    "tweets_lens = Counter([len(x) for x in tweets_ints])\n",
    "print(\"Zero-length tweets: {}\".format(tweets_lens[0]))\n",
    "print(\"Maximum tweets length: {}\".format(max(tweets_lens)))"
   ]
  },
  {
   "cell_type": "code",
   "execution_count": 8,
   "metadata": {},
   "outputs": [],
   "source": [
    "# Filter out that tweets with 0 length\n",
    "tweets_ints = [r[0:200] for r in tweets_ints if len(r) > 0]"
   ]
  },
  {
   "cell_type": "code",
   "execution_count": 9,
   "metadata": {},
   "outputs": [
    {
     "name": "stdout",
     "output_type": "stream",
     "text": [
      "Zero-length tweets: 0\n",
      "Maximum tweet length: 61\n"
     ]
    }
   ],
   "source": [
    "from collections import Counter\n",
    "tweets_lens = Counter([len(x) for x in tweets_ints])\n",
    "print(\"Zero-length tweets: {}\".format(tweets_lens[0]))\n",
    "print(\"Maximum tweet length: {}\".format(max(tweets_lens)))"
   ]
  },
  {
   "cell_type": "code",
   "execution_count": 10,
   "metadata": {},
   "outputs": [],
   "source": [
    "seq_len = 200\n",
    "features = np.zeros((len(tweets_ints), seq_len), dtype=int)\n",
    "# print(features[:10,:100])\n",
    "for i, row in enumerate(tweets_ints):\n",
    "    features[i, -len(row):] = np.array(row)[:seq_len]\n",
    "#features[:10,:100]"
   ]
  },
  {
   "cell_type": "code",
   "execution_count": 11,
   "metadata": {},
   "outputs": [
    {
     "name": "stdout",
     "output_type": "stream",
     "text": [
      "\t\t\tFeature Shapes:\n",
      "Train set: \t\t(1574, 200) \n",
      "Validation set: \t(197, 200) \n",
      "Test set: \t\t(197, 200)\n",
      "label set: \t\t(1574,) \n",
      "Validation label set: \t(197,) \n",
      "Test label set: \t\t(197,)\n"
     ]
    }
   ],
   "source": [
    "# 80% training, 10% validation, 10% testing::\n",
    "\n",
    "split_frac = 0.8\n",
    "\n",
    "split_index = int(split_frac * len(features))\n",
    "\n",
    "train_x, val_x = features[:split_index], features[split_index:] \n",
    "train_y, val_y = labels[:split_index], labels[split_index:]\n",
    "\n",
    "split_frac = 0.5\n",
    "split_index = int(split_frac * len(val_x))\n",
    "\n",
    "val_x, test_x = val_x[:split_index], val_x[split_index:]\n",
    "val_y, test_y = val_y[:split_index], val_y[split_index:]\n",
    "\n",
    "print(\"\\t\\t\\tFeature Shapes:\")\n",
    "print(\"Train set: \\t\\t{}\".format(train_x.shape), \n",
    "      \"\\nValidation set: \\t{}\".format(val_x.shape),\n",
    "      \"\\nTest set: \\t\\t{}\".format(test_x.shape))\n",
    "print(\"label set: \\t\\t{}\".format(train_y.shape), \n",
    "      \"\\nValidation label set: \\t{}\".format(val_y.shape),\n",
    "      \"\\nTest label set: \\t\\t{}\".format(test_y.shape))"
   ]
  },
  {
   "cell_type": "code",
   "execution_count": 12,
   "metadata": {},
   "outputs": [],
   "source": [
    "# Build the graph::\n",
    "\n",
    "lstm_size = 128\n",
    "lstm_layers = 5\n",
    "batch_size = 50\n",
    "learning_rate = 0.001"
   ]
  },
  {
   "cell_type": "code",
   "execution_count": 13,
   "metadata": {},
   "outputs": [],
   "source": [
    "n_words = len(vocab_to_int) + 1 # Add 1 for 0 added to vocab\n",
    "\n",
    "# Create the graph object\n",
    "tf.reset_default_graph()\n",
    "with tf.name_scope('inputs'):\n",
    "    inputs_ = tf.placeholder(tf.int32, [None, None], name=\"inputs\")\n",
    "    labels_ = tf.placeholder(tf.int32, [None, None], name=\"labels\")\n",
    "    keep_prob = tf.placeholder(tf.float32, name=\"keep_prob\")"
   ]
  },
  {
   "cell_type": "code",
   "execution_count": 14,
   "metadata": {},
   "outputs": [],
   "source": [
    "# Size of the embedding vectors (number of units in the embedding layer)\n",
    "embed_size = 300 \n",
    "\n",
    "with tf.name_scope(\"Embeddings\"):\n",
    "    embedding = tf.Variable(tf.random_uniform((n_words, embed_size), -1, 1))\n",
    "    embed = tf.nn.embedding_lookup(embedding, inputs_)"
   ]
  },
  {
   "cell_type": "code",
   "execution_count": 15,
   "metadata": {},
   "outputs": [],
   "source": [
    "def lstm_cell():\n",
    "    # Your basic LSTM cell\n",
    "    lstm = tf.contrib.rnn.BasicLSTMCell(lstm_size, reuse=tf.get_variable_scope().reuse)\n",
    "    # Add dropout to the cell\n",
    "    return tf.contrib.rnn.DropoutWrapper(lstm, output_keep_prob=keep_prob)\n",
    "\n",
    "with tf.name_scope(\"RNN_layers\"):\n",
    "    # Stack up multiple LSTM layers, for deep learning\n",
    "    cell = tf.contrib.rnn.MultiRNNCell([lstm_cell() for _ in range(lstm_layers)])\n",
    "    \n",
    "    # Getting an initial state of all zeros\n",
    "    initial_state = cell.zero_state(batch_size, tf.float32)"
   ]
  },
  {
   "cell_type": "code",
   "execution_count": 16,
   "metadata": {},
   "outputs": [],
   "source": [
    "with tf.name_scope(\"RNN_forward\"):\n",
    "    outputs, final_state = tf.nn.dynamic_rnn(cell, embed, initial_state=initial_state)"
   ]
  },
  {
   "cell_type": "code",
   "execution_count": 17,
   "metadata": {},
   "outputs": [],
   "source": [
    "# Output::\n",
    "\n",
    "with tf.name_scope('predictions'):\n",
    "    predictions = tf.contrib.layers.fully_connected(outputs[:, -1], 1, activation_fn=tf.sigmoid)\n",
    "    #predictions = tf.contrib.layers.fully_connected(outputs[:, -1], 1, activation_fn=tf.nn.softmax)\n",
    "    tf.summary.histogram('predictions', predictions)\n",
    "with tf.name_scope('cost'):\n",
    "    cost = tf.losses.mean_squared_error(labels_, predictions)\n",
    "    tf.summary.scalar('cost', cost)\n",
    "\n",
    "with tf.name_scope('train'):\n",
    "    optimizer = tf.train.AdamOptimizer(learning_rate).minimize(cost)\n",
    "\n",
    "merged = tf.summary.merge_all()"
   ]
  },
  {
   "cell_type": "code",
   "execution_count": 18,
   "metadata": {},
   "outputs": [],
   "source": [
    "# Validation accuracy::\n",
    "\n",
    "with tf.name_scope('validation'):\n",
    "    correct_pred = tf.equal(tf.cast(tf.round(predictions), tf.int32), labels_)\n",
    "    accuracy = tf.reduce_mean(tf.cast(correct_pred, tf.float32))"
   ]
  },
  {
   "cell_type": "code",
   "execution_count": 19,
   "metadata": {},
   "outputs": [],
   "source": [
    "# Batching::\n",
    "\n",
    "def get_batches(x, y, batch_size=100):\n",
    "    \n",
    "    n_batches = len(x)//batch_size\n",
    "    x, y = x[:n_batches*batch_size], y[:n_batches*batch_size]\n",
    "    for ii in range(0, len(x), batch_size):\n",
    "        yield x[ii:ii+batch_size], y[ii:ii+batch_size]"
   ]
  },
  {
   "cell_type": "code",
   "execution_count": 20,
   "metadata": {},
   "outputs": [
    {
     "name": "stdout",
     "output_type": "stream",
     "text": [
      "Epoch: 0/10 Iteration: 5 Train loss: 0.244\n",
      "Epoch: 0/10 Iteration: 10 Train loss: 0.239\n",
      "Epoch: 0/10 Iteration: 15 Train loss: 0.247\n",
      "Epoch: 0/10 Iteration: 20 Train loss: 0.236\n",
      "Epoch: 0/10 Iteration: 25 Train loss: 0.232\n",
      "Val acc: 0.573\n",
      "Epoch: 0/10 Iteration: 30 Train loss: 0.217\n",
      "Epoch: 1/10 Iteration: 35 Train loss: 0.194\n",
      "Epoch: 1/10 Iteration: 40 Train loss: 0.158\n",
      "Epoch: 1/10 Iteration: 45 Train loss: 0.194\n",
      "Epoch: 1/10 Iteration: 50 Train loss: 0.180\n",
      "Val acc: 0.700\n",
      "Epoch: 1/10 Iteration: 55 Train loss: 0.190\n",
      "Epoch: 1/10 Iteration: 60 Train loss: 0.146\n",
      "Epoch: 2/10 Iteration: 65 Train loss: 0.167\n",
      "Epoch: 2/10 Iteration: 70 Train loss: 0.153\n",
      "Epoch: 2/10 Iteration: 75 Train loss: 0.122\n",
      "Val acc: 0.747\n",
      "Epoch: 2/10 Iteration: 80 Train loss: 0.142\n",
      "Epoch: 2/10 Iteration: 85 Train loss: 0.169\n",
      "Epoch: 2/10 Iteration: 90 Train loss: 0.126\n",
      "Epoch: 3/10 Iteration: 95 Train loss: 0.156\n",
      "Epoch: 3/10 Iteration: 100 Train loss: 0.094\n",
      "Val acc: 0.767\n",
      "Epoch: 3/10 Iteration: 105 Train loss: 0.093\n",
      "Epoch: 3/10 Iteration: 110 Train loss: 0.132\n",
      "Epoch: 3/10 Iteration: 115 Train loss: 0.116\n",
      "Epoch: 3/10 Iteration: 120 Train loss: 0.143\n",
      "Epoch: 4/10 Iteration: 125 Train loss: 0.077\n",
      "Val acc: 0.813\n",
      "Epoch: 4/10 Iteration: 130 Train loss: 0.066\n",
      "Epoch: 4/10 Iteration: 135 Train loss: 0.164\n",
      "Epoch: 4/10 Iteration: 140 Train loss: 0.109\n",
      "Epoch: 4/10 Iteration: 145 Train loss: 0.045\n",
      "Epoch: 4/10 Iteration: 150 Train loss: 0.164\n",
      "Val acc: 0.847\n",
      "Epoch: 4/10 Iteration: 155 Train loss: 0.063\n",
      "Epoch: 5/10 Iteration: 160 Train loss: 0.081\n",
      "Epoch: 5/10 Iteration: 165 Train loss: 0.092\n",
      "Epoch: 5/10 Iteration: 170 Train loss: 0.123\n",
      "Epoch: 5/10 Iteration: 175 Train loss: 0.044\n",
      "Val acc: 0.847\n",
      "Epoch: 5/10 Iteration: 180 Train loss: 0.113\n",
      "Epoch: 5/10 Iteration: 185 Train loss: 0.119\n",
      "Epoch: 6/10 Iteration: 190 Train loss: 0.048\n",
      "Epoch: 6/10 Iteration: 195 Train loss: 0.070\n",
      "Epoch: 6/10 Iteration: 200 Train loss: 0.071\n",
      "Val acc: 0.820\n",
      "Epoch: 6/10 Iteration: 205 Train loss: 0.022\n",
      "Epoch: 6/10 Iteration: 210 Train loss: 0.096\n",
      "Epoch: 6/10 Iteration: 215 Train loss: 0.051\n",
      "Epoch: 7/10 Iteration: 220 Train loss: 0.088\n",
      "Epoch: 7/10 Iteration: 225 Train loss: 0.179\n",
      "Val acc: 0.833\n",
      "Epoch: 7/10 Iteration: 230 Train loss: 0.093\n",
      "Epoch: 7/10 Iteration: 235 Train loss: 0.022\n",
      "Epoch: 7/10 Iteration: 240 Train loss: 0.099\n",
      "Epoch: 7/10 Iteration: 245 Train loss: 0.095\n",
      "Epoch: 8/10 Iteration: 250 Train loss: 0.050\n",
      "Val acc: 0.840\n",
      "Epoch: 8/10 Iteration: 255 Train loss: 0.121\n",
      "Epoch: 8/10 Iteration: 260 Train loss: 0.104\n",
      "Epoch: 8/10 Iteration: 265 Train loss: 0.051\n",
      "Epoch: 8/10 Iteration: 270 Train loss: 0.079\n",
      "Epoch: 8/10 Iteration: 275 Train loss: 0.108\n",
      "Val acc: 0.800\n",
      "Epoch: 9/10 Iteration: 280 Train loss: 0.040\n",
      "Epoch: 9/10 Iteration: 285 Train loss: 0.060\n",
      "Epoch: 9/10 Iteration: 290 Train loss: 0.134\n",
      "Epoch: 9/10 Iteration: 295 Train loss: 0.057\n",
      "Epoch: 9/10 Iteration: 300 Train loss: 0.048\n",
      "Val acc: 0.827\n",
      "Epoch: 9/10 Iteration: 305 Train loss: 0.155\n",
      "Epoch: 9/10 Iteration: 310 Train loss: 0.055\n",
      "Time elasped = 1243.3212056057876 sec(s)\n"
     ]
    }
   ],
   "source": [
    "# Training::\n",
    "\n",
    "epochs = 10\n",
    "saver = tf.train.Saver()\n",
    "start = timer()\n",
    "\n",
    "with tf.Session() as sess:\n",
    "    sess.run(tf.global_variables_initializer())\n",
    "    train_writer = tf.summary.FileWriter('./logs/tb/train', sess.graph)\n",
    "    test_writer = tf.summary.FileWriter('./logs/tb/test', sess.graph)\n",
    "    iteration = 1\n",
    "    for e in range(epochs):\n",
    "        state = sess.run(initial_state)\n",
    "        \n",
    "        for ii, (x, y) in enumerate(get_batches(train_x, train_y, batch_size), 1):\n",
    "            feed = {inputs_: x,\n",
    "                    labels_: y[:, None],\n",
    "                    keep_prob: 0.5,\n",
    "                    initial_state: state}\n",
    "            summary, loss, state, _ = sess.run([merged, cost, final_state, optimizer], feed_dict=feed)\n",
    "#             loss, state, _ = sess.run([cost, final_state, optimizer], feed_dict=feed)\n",
    "\n",
    "            train_writer.add_summary(summary, iteration)\n",
    "        \n",
    "            if iteration%5==0:\n",
    "                print(\"Epoch: {}/{}\".format(e, epochs),\n",
    "                      \"Iteration: {}\".format(iteration),\n",
    "                      \"Train loss: {:.3f}\".format(loss))\n",
    "\n",
    "            if iteration%25==0:\n",
    "                val_acc = []\n",
    "                val_state = sess.run(cell.zero_state(batch_size, tf.float32))\n",
    "                for x, y in get_batches(val_x, val_y, batch_size):\n",
    "                    feed = {inputs_: x,\n",
    "                            labels_: y[:, None],\n",
    "                            keep_prob: 1,\n",
    "                            initial_state: val_state}\n",
    "#                     batch_acc, val_state = sess.run([accuracy, final_state], feed_dict=feed)\n",
    "                    summary, batch_acc, val_state = sess.run([merged, accuracy, final_state], feed_dict=feed)\n",
    "                    val_acc.append(batch_acc)\n",
    "                print(\"Val acc: {:.3f}\".format(np.mean(val_acc)))\n",
    "            iteration +=1\n",
    "            test_writer.add_summary(summary, iteration)\n",
    "            saver.save(sess, \"checkpoints/tweet_depressive_nondepressive_balanced_rearranged.ckpt\")\n",
    "#            tensorboard = TensorBoard(log_dir=\"logs/tweet_5000_all_sentiments_six_classes-{}\".format(int(time.time())))\n",
    "    saver.save(sess, \"checkpoints/tweet_depressive_nondepressive_balanced_rearranged.ckpt\")\n",
    "    \n",
    "duration = timer() - start\n",
    "print('Time elasped =',duration,'sec(s)')"
   ]
  },
  {
   "cell_type": "code",
   "execution_count": 21,
   "metadata": {},
   "outputs": [
    {
     "name": "stdout",
     "output_type": "stream",
     "text": [
      "INFO:tensorflow:Restoring parameters from checkpoints/tweet_depressive_nondepressive_balanced_rearranged.ckpt\n",
      "Test accuracy: 0.673\n"
     ]
    }
   ],
   "source": [
    "# Testing::\n",
    "\n",
    "test_acc = []\n",
    "with tf.Session() as sess:\n",
    "    saver.restore(sess, \"checkpoints/tweet_depressive_nondepressive_balanced_rearranged.ckpt\")\n",
    "    test_state = sess.run(cell.zero_state(batch_size, tf.float32))\n",
    "    for ii, (x, y) in enumerate(get_batches(test_x, test_y, batch_size), 1):\n",
    "        feed = {inputs_: x,\n",
    "                labels_: y[:, None],\n",
    "                keep_prob: 1,\n",
    "                initial_state: test_state}\n",
    "        batch_acc, test_state = sess.run([accuracy, final_state], feed_dict=feed)\n",
    "        test_acc.append(batch_acc)\n",
    "    print(\"Test accuracy: {:.3f}\".format(np.mean(test_acc)))"
   ]
  },
  {
   "cell_type": "code",
   "execution_count": null,
   "metadata": {},
   "outputs": [],
   "source": []
  }
 ],
 "metadata": {
  "kernelspec": {
   "display_name": "Python 3",
   "language": "python",
   "name": "python3"
  },
  "language_info": {
   "codemirror_mode": {
    "name": "ipython",
    "version": 3
   },
   "file_extension": ".py",
   "mimetype": "text/x-python",
   "name": "python",
   "nbconvert_exporter": "python",
   "pygments_lexer": "ipython3",
   "version": "3.6.6"
  }
 },
 "nbformat": 4,
 "nbformat_minor": 2
}
