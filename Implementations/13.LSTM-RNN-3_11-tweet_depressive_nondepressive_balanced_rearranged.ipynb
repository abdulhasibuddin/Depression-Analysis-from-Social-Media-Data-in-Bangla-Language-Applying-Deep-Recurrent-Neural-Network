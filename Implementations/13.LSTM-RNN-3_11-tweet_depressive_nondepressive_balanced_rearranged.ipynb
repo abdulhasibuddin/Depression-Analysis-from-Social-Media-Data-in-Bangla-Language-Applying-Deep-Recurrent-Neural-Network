{
 "cells": [
  {
   "cell_type": "code",
   "execution_count": 1,
   "metadata": {},
   "outputs": [
    {
     "data": {
      "text/plain": [
       "'\\nSELECT tweets_depressive_nondepressive_balanced_rearranged.tweet\\nINTO OUTFILE \"D:/EDUCATION/Machine & Deep Learning/Implementations/tweets_depressive_nondepressive_balanced_rearranged_text.txt\" \\nFROM tweets_depressive_nondepressive_balanced_rearranged;\\n'"
      ]
     },
     "execution_count": 1,
     "metadata": {},
     "output_type": "execute_result"
    }
   ],
   "source": [
    "# Courtesy: https://github.com/mchablani/deep-learning/blob/master/sentiment-rnn/Sentiment_RNN.ipynb\n",
    "# Depression Analysis in Bangla with LSTM-RNN::\n",
    "# Two classes with balanced dataset (Total 1968 tweets):\n",
    "# 1. Depressive (984 tweets)\n",
    "# 2. Non-depressive (984 tweets)\n",
    "# 1 depressive -> 1 non-depressive -> 1 depressive -> 1 non-depressive ...\n",
    "\n",
    "'''\n",
    "SELECT tweets_depressive_nondepressive_balanced_rearranged.tweet\n",
    "INTO OUTFILE \"D:/EDUCATION/Machine & Deep Learning/Implementations/tweets_depressive_nondepressive_balanced_rearranged_text.txt\" \n",
    "FROM tweets_depressive_nondepressive_balanced_rearranged;\n",
    "'''"
   ]
  },
  {
   "cell_type": "code",
   "execution_count": 2,
   "metadata": {},
   "outputs": [],
   "source": [
    "import numpy as np\n",
    "import tensorflow as tf\n",
    "from timeit import default_timer as timer\n",
    "from collections import Counter\n",
    "from string import punctuation"
   ]
  },
  {
   "cell_type": "code",
   "execution_count": 3,
   "metadata": {},
   "outputs": [],
   "source": [
    "with open('tweets_depressive_nondepressive_balanced_rearranged_text.txt', 'r', encoding=\"utf8\") as f:\n",
    "    tweets = f.read()\n",
    "with open('tweets_depressive_nondepressive_balanced_rearranged_labels.txt', 'r', encoding=\"utf8\") as f:\n",
    "    labels_org = f.read()"
   ]
  },
  {
   "cell_type": "code",
   "execution_count": 4,
   "metadata": {},
   "outputs": [],
   "source": [
    "# Data preprocessing::\n",
    "all_text = ''.join([c for c in tweets if c not in punctuation])\n",
    "tweets = all_text.split('\\n')\n",
    "\n",
    "all_text = ' '.join(tweets)\n",
    "words = all_text.split()"
   ]
  },
  {
   "cell_type": "code",
   "execution_count": 5,
   "metadata": {},
   "outputs": [],
   "source": [
    "counts = Counter(words)\n",
    "vocab = sorted(counts, key=counts.get, reverse=True)\n",
    "vocab_to_int = {word: ii for ii, word in enumerate(vocab, 1)}\n",
    "\n",
    "tweets_ints = []\n",
    "for each in tweets:\n",
    "    tweets_ints.append([vocab_to_int[word] for word in each.split()])"
   ]
  },
  {
   "cell_type": "code",
   "execution_count": 6,
   "metadata": {},
   "outputs": [],
   "source": [
    "# Encoding the labels::\n",
    "list_labels = []\n",
    "\n",
    "for l in labels_org.split():\n",
    "    if l == \"non_depressive\":\n",
    "        list_labels.append(0)\n",
    "    elif l == \"depressive\":\n",
    "        list_labels.append(1)\n",
    "        \n",
    "labels = np.array(list_labels)\n",
    "#print(len(labels))"
   ]
  },
  {
   "cell_type": "code",
   "execution_count": 7,
   "metadata": {},
   "outputs": [
    {
     "name": "stdout",
     "output_type": "stream",
     "text": [
      "Zero-length tweets: 1\n",
      "Maximum tweets length: 61\n"
     ]
    }
   ],
   "source": [
    "tweets_lens = Counter([len(x) for x in tweets_ints])\n",
    "print(\"Zero-length tweets: {}\".format(tweets_lens[0]))\n",
    "print(\"Maximum tweets length: {}\".format(max(tweets_lens)))"
   ]
  },
  {
   "cell_type": "code",
   "execution_count": 8,
   "metadata": {},
   "outputs": [],
   "source": [
    "# Filter out that tweets with 0 length\n",
    "tweets_ints = [r[0:200] for r in tweets_ints if len(r) > 0]"
   ]
  },
  {
   "cell_type": "code",
   "execution_count": 9,
   "metadata": {},
   "outputs": [
    {
     "name": "stdout",
     "output_type": "stream",
     "text": [
      "Zero-length tweets: 0\n",
      "Maximum tweet length: 61\n"
     ]
    }
   ],
   "source": [
    "from collections import Counter\n",
    "tweets_lens = Counter([len(x) for x in tweets_ints])\n",
    "print(\"Zero-length tweets: {}\".format(tweets_lens[0]))\n",
    "print(\"Maximum tweet length: {}\".format(max(tweets_lens)))"
   ]
  },
  {
   "cell_type": "code",
   "execution_count": 10,
   "metadata": {},
   "outputs": [],
   "source": [
    "seq_len = 200\n",
    "features = np.zeros((len(tweets_ints), seq_len), dtype=int)\n",
    "# print(features[:10,:100])\n",
    "for i, row in enumerate(tweets_ints):\n",
    "    features[i, -len(row):] = np.array(row)[:seq_len]\n",
    "#features[:10,:100]"
   ]
  },
  {
   "cell_type": "code",
   "execution_count": 11,
   "metadata": {},
   "outputs": [
    {
     "name": "stdout",
     "output_type": "stream",
     "text": [
      "\t\t\tFeature Shapes:\n",
      "Train set: \t\t(1574, 200) \n",
      "Validation set: \t(197, 200) \n",
      "Test set: \t\t(197, 200)\n",
      "label set: \t\t(1574,) \n",
      "Validation label set: \t(197,) \n",
      "Test label set: \t\t(197,)\n"
     ]
    }
   ],
   "source": [
    "# 80% training, 10% validation, 10% testing::\n",
    "\n",
    "split_frac = 0.8\n",
    "\n",
    "split_index = int(split_frac * len(features))\n",
    "\n",
    "train_x, val_x = features[:split_index], features[split_index:] \n",
    "train_y, val_y = labels[:split_index], labels[split_index:]\n",
    "\n",
    "split_frac = 0.5\n",
    "split_index = int(split_frac * len(val_x))\n",
    "\n",
    "val_x, test_x = val_x[:split_index], val_x[split_index:]\n",
    "val_y, test_y = val_y[:split_index], val_y[split_index:]\n",
    "\n",
    "print(\"\\t\\t\\tFeature Shapes:\")\n",
    "print(\"Train set: \\t\\t{}\".format(train_x.shape), \n",
    "      \"\\nValidation set: \\t{}\".format(val_x.shape),\n",
    "      \"\\nTest set: \\t\\t{}\".format(test_x.shape))\n",
    "print(\"label set: \\t\\t{}\".format(train_y.shape), \n",
    "      \"\\nValidation label set: \\t{}\".format(val_y.shape),\n",
    "      \"\\nTest label set: \\t\\t{}\".format(test_y.shape))"
   ]
  },
  {
   "cell_type": "code",
   "execution_count": 12,
   "metadata": {},
   "outputs": [],
   "source": [
    "# Build the graph::\n",
    "\n",
    "lstm_size = 128\n",
    "lstm_layers = 5\n",
    "batch_size = 50\n",
    "learning_rate = 0.001"
   ]
  },
  {
   "cell_type": "code",
   "execution_count": 13,
   "metadata": {},
   "outputs": [],
   "source": [
    "n_words = len(vocab_to_int) + 1 # Add 1 for 0 added to vocab\n",
    "\n",
    "# Create the graph object\n",
    "tf.reset_default_graph()\n",
    "with tf.name_scope('inputs'):\n",
    "    inputs_ = tf.placeholder(tf.int32, [None, None], name=\"inputs\")\n",
    "    labels_ = tf.placeholder(tf.int32, [None, None], name=\"labels\")\n",
    "    keep_prob = tf.placeholder(tf.float32, name=\"keep_prob\")"
   ]
  },
  {
   "cell_type": "code",
   "execution_count": 14,
   "metadata": {},
   "outputs": [],
   "source": [
    "# Size of the embedding vectors (number of units in the embedding layer)\n",
    "embed_size = 300 \n",
    "\n",
    "with tf.name_scope(\"Embeddings\"):\n",
    "    embedding = tf.Variable(tf.random_uniform((n_words, embed_size), -1, 1))\n",
    "    embed = tf.nn.embedding_lookup(embedding, inputs_)"
   ]
  },
  {
   "cell_type": "code",
   "execution_count": 15,
   "metadata": {},
   "outputs": [],
   "source": [
    "def lstm_cell():\n",
    "    # Your basic LSTM cell\n",
    "    lstm = tf.contrib.rnn.BasicLSTMCell(lstm_size, reuse=tf.get_variable_scope().reuse)\n",
    "    # Add dropout to the cell\n",
    "    return tf.contrib.rnn.DropoutWrapper(lstm, output_keep_prob=keep_prob)\n",
    "\n",
    "with tf.name_scope(\"RNN_layers\"):\n",
    "    # Stack up multiple LSTM layers, for deep learning\n",
    "    cell = tf.contrib.rnn.MultiRNNCell([lstm_cell() for _ in range(lstm_layers)])\n",
    "    \n",
    "    # Getting an initial state of all zeros\n",
    "    initial_state = cell.zero_state(batch_size, tf.float32)"
   ]
  },
  {
   "cell_type": "code",
   "execution_count": 16,
   "metadata": {},
   "outputs": [],
   "source": [
    "with tf.name_scope(\"RNN_forward\"):\n",
    "    outputs, final_state = tf.nn.dynamic_rnn(cell, embed, initial_state=initial_state)"
   ]
  },
  {
   "cell_type": "code",
   "execution_count": 17,
   "metadata": {},
   "outputs": [],
   "source": [
    "# Output::\n",
    "\n",
    "with tf.name_scope('predictions'):\n",
    "    predictions = tf.contrib.layers.fully_connected(outputs[:, -1], 1, activation_fn=tf.sigmoid)\n",
    "    #predictions = tf.contrib.layers.fully_connected(outputs[:, -1], 1, activation_fn=tf.nn.softmax)\n",
    "    tf.summary.histogram('predictions', predictions)\n",
    "with tf.name_scope('cost'):\n",
    "    cost = tf.losses.mean_squared_error(labels_, predictions)\n",
    "    tf.summary.scalar('cost', cost)\n",
    "\n",
    "with tf.name_scope('train'):\n",
    "    optimizer = tf.train.AdamOptimizer(learning_rate).minimize(cost)\n",
    "\n",
    "merged = tf.summary.merge_all()"
   ]
  },
  {
   "cell_type": "code",
   "execution_count": 18,
   "metadata": {},
   "outputs": [],
   "source": [
    "# Validation accuracy::\n",
    "\n",
    "with tf.name_scope('validation'):\n",
    "    correct_pred = tf.equal(tf.cast(tf.round(predictions), tf.int32), labels_)\n",
    "    accuracy = tf.reduce_mean(tf.cast(correct_pred, tf.float32))"
   ]
  },
  {
   "cell_type": "code",
   "execution_count": 19,
   "metadata": {},
   "outputs": [],
   "source": [
    "# Batching::\n",
    "\n",
    "def get_batches(x, y, batch_size=100):\n",
    "    \n",
    "    n_batches = len(x)//batch_size\n",
    "    x, y = x[:n_batches*batch_size], y[:n_batches*batch_size]\n",
    "    for ii in range(0, len(x), batch_size):\n",
    "        yield x[ii:ii+batch_size], y[ii:ii+batch_size]"
   ]
  },
  {
   "cell_type": "code",
   "execution_count": 20,
   "metadata": {},
   "outputs": [
    {
     "name": "stdout",
     "output_type": "stream",
     "text": [
      "Epoch: 0/10 Iteration: 5 Train loss: 0.245\n",
      "Epoch: 0/10 Iteration: 10 Train loss: 0.237\n",
      "Epoch: 0/10 Iteration: 15 Train loss: 0.264\n",
      "Epoch: 0/10 Iteration: 20 Train loss: 0.229\n",
      "Epoch: 0/10 Iteration: 25 Train loss: 0.249\n",
      "Val acc: 0.533\n",
      "Epoch: 0/10 Iteration: 30 Train loss: 0.224\n",
      "Epoch: 1/10 Iteration: 35 Train loss: 0.197\n",
      "Epoch: 1/10 Iteration: 40 Train loss: 0.170\n",
      "Epoch: 1/10 Iteration: 45 Train loss: 0.206\n",
      "Epoch: 1/10 Iteration: 50 Train loss: 0.177\n",
      "Val acc: 0.707\n",
      "Epoch: 1/10 Iteration: 55 Train loss: 0.175\n",
      "Epoch: 1/10 Iteration: 60 Train loss: 0.141\n",
      "Epoch: 2/10 Iteration: 65 Train loss: 0.137\n",
      "Epoch: 2/10 Iteration: 70 Train loss: 0.199\n",
      "Epoch: 2/10 Iteration: 75 Train loss: 0.144\n",
      "Val acc: 0.753\n",
      "Epoch: 2/10 Iteration: 80 Train loss: 0.126\n",
      "Epoch: 2/10 Iteration: 85 Train loss: 0.143\n",
      "Epoch: 2/10 Iteration: 90 Train loss: 0.107\n",
      "Epoch: 3/10 Iteration: 95 Train loss: 0.132\n",
      "Epoch: 3/10 Iteration: 100 Train loss: 0.096\n",
      "Val acc: 0.753\n",
      "Epoch: 3/10 Iteration: 105 Train loss: 0.107\n",
      "Epoch: 3/10 Iteration: 110 Train loss: 0.107\n",
      "Epoch: 3/10 Iteration: 115 Train loss: 0.112\n",
      "Epoch: 3/10 Iteration: 120 Train loss: 0.185\n",
      "Epoch: 4/10 Iteration: 125 Train loss: 0.095\n",
      "Val acc: 0.807\n",
      "Epoch: 4/10 Iteration: 130 Train loss: 0.071\n",
      "Epoch: 4/10 Iteration: 135 Train loss: 0.151\n",
      "Epoch: 4/10 Iteration: 140 Train loss: 0.109\n",
      "Epoch: 4/10 Iteration: 145 Train loss: 0.021\n",
      "Epoch: 4/10 Iteration: 150 Train loss: 0.183\n",
      "Val acc: 0.840\n",
      "Epoch: 4/10 Iteration: 155 Train loss: 0.094\n",
      "Epoch: 5/10 Iteration: 160 Train loss: 0.056\n",
      "Epoch: 5/10 Iteration: 165 Train loss: 0.140\n",
      "Epoch: 5/10 Iteration: 170 Train loss: 0.128\n",
      "Epoch: 5/10 Iteration: 175 Train loss: 0.056\n",
      "Val acc: 0.793\n",
      "Epoch: 5/10 Iteration: 180 Train loss: 0.129\n",
      "Epoch: 5/10 Iteration: 185 Train loss: 0.109\n",
      "Epoch: 6/10 Iteration: 190 Train loss: 0.055\n",
      "Epoch: 6/10 Iteration: 195 Train loss: 0.083\n",
      "Epoch: 6/10 Iteration: 200 Train loss: 0.106\n",
      "Val acc: 0.807\n",
      "Epoch: 6/10 Iteration: 205 Train loss: 0.038\n",
      "Epoch: 6/10 Iteration: 210 Train loss: 0.101\n",
      "Epoch: 6/10 Iteration: 215 Train loss: 0.053\n",
      "Epoch: 7/10 Iteration: 220 Train loss: 0.072\n",
      "Epoch: 7/10 Iteration: 225 Train loss: 0.186\n",
      "Val acc: 0.780\n",
      "Epoch: 7/10 Iteration: 230 Train loss: 0.070\n",
      "Epoch: 7/10 Iteration: 235 Train loss: 0.034\n",
      "Epoch: 7/10 Iteration: 240 Train loss: 0.131\n",
      "Epoch: 7/10 Iteration: 245 Train loss: 0.105\n",
      "Epoch: 8/10 Iteration: 250 Train loss: 0.049\n",
      "Val acc: 0.793\n",
      "Epoch: 8/10 Iteration: 255 Train loss: 0.113\n",
      "Epoch: 8/10 Iteration: 260 Train loss: 0.067\n",
      "Epoch: 8/10 Iteration: 265 Train loss: 0.051\n",
      "Epoch: 8/10 Iteration: 270 Train loss: 0.060\n",
      "Epoch: 8/10 Iteration: 275 Train loss: 0.111\n",
      "Val acc: 0.820\n",
      "Epoch: 9/10 Iteration: 280 Train loss: 0.048\n",
      "Epoch: 9/10 Iteration: 285 Train loss: 0.070\n",
      "Epoch: 9/10 Iteration: 290 Train loss: 0.092\n",
      "Epoch: 9/10 Iteration: 295 Train loss: 0.089\n",
      "Epoch: 9/10 Iteration: 300 Train loss: 0.030\n",
      "Val acc: 0.807\n",
      "Epoch: 9/10 Iteration: 305 Train loss: 0.141\n",
      "Epoch: 9/10 Iteration: 310 Train loss: 0.053\n",
      "Time elasped = 1009.5768620904328 sec(s)\n"
     ]
    }
   ],
   "source": [
    "# Training::\n",
    "\n",
    "epochs = 10\n",
    "saver = tf.train.Saver()\n",
    "start = timer()\n",
    "\n",
    "with tf.Session() as sess:\n",
    "    sess.run(tf.global_variables_initializer())\n",
    "    train_writer = tf.summary.FileWriter('./logs/tb/train', sess.graph)\n",
    "    test_writer = tf.summary.FileWriter('./logs/tb/test', sess.graph)\n",
    "    iteration = 1\n",
    "    for e in range(epochs):\n",
    "        state = sess.run(initial_state)\n",
    "        \n",
    "        for ii, (x, y) in enumerate(get_batches(train_x, train_y, batch_size), 1):\n",
    "            feed = {inputs_: x,\n",
    "                    labels_: y[:, None],\n",
    "                    keep_prob: 0.5,\n",
    "                    initial_state: state}\n",
    "            summary, loss, state, _ = sess.run([merged, cost, final_state, optimizer], feed_dict=feed)\n",
    "#             loss, state, _ = sess.run([cost, final_state, optimizer], feed_dict=feed)\n",
    "\n",
    "            train_writer.add_summary(summary, iteration)\n",
    "        \n",
    "            if iteration%5==0:\n",
    "                print(\"Epoch: {}/{}\".format(e, epochs),\n",
    "                      \"Iteration: {}\".format(iteration),\n",
    "                      \"Train loss: {:.3f}\".format(loss))\n",
    "\n",
    "            if iteration%25==0:\n",
    "                val_acc = []\n",
    "                val_state = sess.run(cell.zero_state(batch_size, tf.float32))\n",
    "                for x, y in get_batches(val_x, val_y, batch_size):\n",
    "                    feed = {inputs_: x,\n",
    "                            labels_: y[:, None],\n",
    "                            keep_prob: 1,\n",
    "                            initial_state: val_state}\n",
    "#                     batch_acc, val_state = sess.run([accuracy, final_state], feed_dict=feed)\n",
    "                    summary, batch_acc, val_state = sess.run([merged, accuracy, final_state], feed_dict=feed)\n",
    "                    val_acc.append(batch_acc)\n",
    "                print(\"Val acc: {:.3f}\".format(np.mean(val_acc)))\n",
    "            iteration +=1\n",
    "            test_writer.add_summary(summary, iteration)\n",
    "            saver.save(sess, \"checkpoints/tweet_depressive_nondepressive_balanced_rearranged.ckpt\")\n",
    "#            tensorboard = TensorBoard(log_dir=\"logs/tweet_5000_all_sentiments_six_classes-{}\".format(int(time.time())))\n",
    "    saver.save(sess, \"checkpoints/tweet_depressive_nondepressive_balanced_rearranged.ckpt\")\n",
    "    \n",
    "duration = timer() - start\n",
    "print('Time elasped =',duration,'sec(s)')"
   ]
  },
  {
   "cell_type": "code",
   "execution_count": 21,
   "metadata": {},
   "outputs": [
    {
     "name": "stdout",
     "output_type": "stream",
     "text": [
      "INFO:tensorflow:Restoring parameters from checkpoints/tweet_depressive_nondepressive_balanced_rearranged.ckpt\n",
      "Test accuracy: 0.693\n"
     ]
    }
   ],
   "source": [
    "# Testing::\n",
    "\n",
    "test_acc = []\n",
    "with tf.Session() as sess:\n",
    "    saver.restore(sess, \"checkpoints/tweet_depressive_nondepressive_balanced_rearranged.ckpt\")\n",
    "    test_state = sess.run(cell.zero_state(batch_size, tf.float32))\n",
    "    for ii, (x, y) in enumerate(get_batches(test_x, test_y, batch_size), 1):\n",
    "        feed = {inputs_: x,\n",
    "                labels_: y[:, None],\n",
    "                keep_prob: 1,\n",
    "                initial_state: test_state}\n",
    "        batch_acc, test_state = sess.run([accuracy, final_state], feed_dict=feed)\n",
    "        test_acc.append(batch_acc)\n",
    "    print(\"Test accuracy: {:.3f}\".format(np.mean(test_acc)))"
   ]
  },
  {
   "cell_type": "code",
   "execution_count": null,
   "metadata": {},
   "outputs": [],
   "source": []
  }
 ],
 "metadata": {
  "kernelspec": {
   "display_name": "Python 3",
   "language": "python",
   "name": "python3"
  },
  "language_info": {
   "codemirror_mode": {
    "name": "ipython",
    "version": 3
   },
   "file_extension": ".py",
   "mimetype": "text/x-python",
   "name": "python",
   "nbconvert_exporter": "python",
   "pygments_lexer": "ipython3",
   "version": "3.6.6"
  }
 },
 "nbformat": 4,
 "nbformat_minor": 2
}
