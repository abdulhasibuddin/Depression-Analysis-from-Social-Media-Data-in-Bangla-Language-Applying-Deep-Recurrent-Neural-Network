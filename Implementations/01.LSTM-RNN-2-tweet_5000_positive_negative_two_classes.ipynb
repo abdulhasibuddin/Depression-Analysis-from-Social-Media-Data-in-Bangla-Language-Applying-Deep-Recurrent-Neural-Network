{
 "cells": [
  {
   "cell_type": "code",
   "execution_count": 1,
   "metadata": {},
   "outputs": [
    {
     "data": {
      "text/plain": [
       "'\\nSELECT tweets_1.tweet \\nINTO OUTFILE \"D:/EDUCATION/Machine & Deep Learning/tweet_5000_positive_negative_two_classes_text.txt\" \\nFROM tweets_1 \\nWHERE tweets_1.label_1=\\'positive\\'\\nOR tweets_1.label_1=\\'depressive\\'\\nOR tweets_1.label_1=\\'sim_negative\\';\\n'"
      ]
     },
     "execution_count": 1,
     "metadata": {},
     "output_type": "execute_result"
    }
   ],
   "source": [
    "# Courtesy: https://github.com/mchablani/deep-learning/blob/master/sentiment-rnn/Sentiment_RNN.ipynb\n",
    "# Sentiment Analysis with an LSTM-RNN::\n",
    "# Two classes:\n",
    "# 1. Positive (2708 tweets)\n",
    "# 2. Negative (both depressed (984) and simple negative (27) are commonly considered as Negative)\n",
    "\n",
    "'''\n",
    "SELECT tweets_1.tweet \n",
    "INTO OUTFILE \"D:/EDUCATION/Machine & Deep Learning/tweet_5000_positive_negative_two_classes_text.txt\" \n",
    "FROM tweets_1 \n",
    "WHERE tweets_1.label_1='positive'\n",
    "OR tweets_1.label_1='depressive'\n",
    "OR tweets_1.label_1='sim_negative';\n",
    "'''"
   ]
  },
  {
   "cell_type": "code",
   "execution_count": 2,
   "metadata": {},
   "outputs": [],
   "source": [
    "import numpy as np\n",
    "import tensorflow as tf\n",
    "from timeit import default_timer as timer\n",
    "from collections import Counter\n",
    "from string import punctuation"
   ]
  },
  {
   "cell_type": "code",
   "execution_count": 3,
   "metadata": {},
   "outputs": [],
   "source": [
    "with open('../tweet_5000_positive_negative_two_classes_text.txt', 'r', encoding=\"utf8\") as f:\n",
    "    tweets = f.read()\n",
    "with open('../tweet_5000_positive_negative_two_classes_labels.txt', 'r', encoding=\"utf8\") as f:\n",
    "    labels_org = f.read()"
   ]
  },
  {
   "cell_type": "code",
   "execution_count": 4,
   "metadata": {},
   "outputs": [
    {
     "data": {
      "text/plain": [
       "'positive\\npositive\\npositive\\npositive\\npositive\\npositive\\npositive\\npositive\\ndepressive\\npositive\\npositive\\ndepressive\\npositive\\npositive\\npositive\\npositive\\ndepressive\\npositive\\npositive\\ndepressive\\npositive\\npositive\\npositive\\npositive\\ndepressive\\npositive\\npositive\\npositive\\ndepressive\\npositive\\npositive\\npositive\\npositive\\npositive\\ndepressive\\npositive\\npositive\\npositive\\npositive\\npositive\\npositive\\npositive\\npositive\\npositive\\nsim_negative\\npositive\\npositive\\npositive\\ndepressive\\npositive\\npositive\\npositive\\npositive\\npositive\\npositive\\ndepressive\\npositive\\npositive\\npositive\\nsim_negative\\npositive\\npositive\\npositive\\ndepressive\\npositive\\ndepressive\\npositive\\ndepressive\\npositive\\ndepressive\\ndepressive\\ndepressive\\npositive\\npositive\\ndepressive\\npositive\\ndepressive\\ndepressive\\npositive\\ndepressive\\npositive\\npositive\\npositive\\npositive\\ndepressive\\ndepressive\\npositive\\npositive\\ndepressive\\ndepressive\\ndepressive\\npositive\\npositive\\npositive\\ndepressive\\ndepressive\\npositive\\nsim_negative\\npositive\\npositive\\ndepressive\\ndepressive\\npositive\\nposit'"
      ]
     },
     "execution_count": 4,
     "metadata": {},
     "output_type": "execute_result"
    }
   ],
   "source": [
    "labels_org[:1000]"
   ]
  },
  {
   "cell_type": "code",
   "execution_count": 5,
   "metadata": {},
   "outputs": [
    {
     "data": {
      "text/plain": [
       "'সবথেকে বড় যুদ্ধ হলো নিজের মনের সাথে যুদ্ধ আবেগ\\nরোজ আকাশে একটা তারা জলমল করতো হাজার মেঘলা এমনকি ঘন বর্ষাতেও আমি খুঁজে পাইতাম । শুভ সকাল \\nআল্লাহ মহাপরাক্রমশালী এবং সবার ওপর পরিপূর্ণরূপে বিজয়ী হওয়া সত্ত্বেও নিজের সৃষ্টির প্রতি তিনি দয়াবান ও ক্ষমাশীল । দুষ্কর্মকারীদের শাস্তি দেয়ার পুরো ক্ষমতা তাঁর আছে । কিন্তু যারা লজ্জিত হয়ে দুষ্কর্ম পরিত্যাগ করে এবং ক্ষমা প্রার্থনা করে তাদের সাথে তিনি ক্ষমাশীলতার আচরণ করে থাকেন । \\nনিষিদ্ধ পল্লীতে নিষিদ্ধ মানুষের বসবাস থাকলেও সেখানকার খরিদ্দাররা একদম বিশুদ্ধ পল্লীর হয়\\nসবাই কেমন আছেন আশা করি ভালো আছেন\\nযত ধৈর্য্য তত বেশি সফলতা । সমস্যা হলো আমাদের ধৈয্যধারন ক্ষমতা তুলো গোছের । \\nগতকাল হুগলী জেলার রিষড়ার হেস্টিংস জুট মিলের শ্রমিকদের ট্রাস্টি বোর্ডের বিজেপির অসংগঠিত শ্রমিকদের সংগঠন পাকসু মোর্চা র প্রার্থীদের জয় প্রমান করল পশ্চিমবঙ্গের খেটে খাওয়া গরিব মানুষ আজ প্রধানমন্ত্রী শ্রী নরেন্দ্র মোদী জির পক্ষে । বিজয়ী প্রার্থীদের জানাই আন্তরিক গৈরিক শুভেচ্ছা \\nঅভিনন্দন ! \\nযে দেশে মানুষের মৃত্যুর খবর শুনে মন্ত্রী মহোদয় হাসে , প্রতিদিন মৃত্যু ভয় নিয়ে বাইরে বে'"
      ]
     },
     "execution_count": 5,
     "metadata": {},
     "output_type": "execute_result"
    }
   ],
   "source": [
    "tweets[:1000]"
   ]
  },
  {
   "cell_type": "code",
   "execution_count": 6,
   "metadata": {},
   "outputs": [],
   "source": [
    "# Data preprocessing::\n",
    "all_text = ''.join([c for c in tweets if c not in punctuation])\n",
    "tweets = all_text.split('\\n')\n",
    "\n",
    "all_text = ' '.join(tweets)\n",
    "words = all_text.split()"
   ]
  },
  {
   "cell_type": "code",
   "execution_count": 7,
   "metadata": {},
   "outputs": [
    {
     "data": {
      "text/plain": [
       "'সবথেকে বড় যুদ্ধ হলো নিজের মনের সাথে যুদ্ধ আবেগ রোজ আকাশে একটা তারা জলমল করতো হাজার মেঘলা এমনকি ঘন বর্ষাতেও আমি খুঁজে পাইতাম । শুভ সকাল  আল্লাহ মহাপরাক্রমশালী এবং সবার ওপর পরিপূর্ণরূপে বিজয়ী হওয়া সত্ত্বেও নিজের সৃষ্টির প্রতি তিনি দয়াবান ও ক্ষমাশীল । দুষ্কর্মকারীদের শাস্তি দেয়ার পুরো ক্ষমতা তাঁর আছে । কিন্তু যারা লজ্জিত হয়ে দুষ্কর্ম পরিত্যাগ করে এবং ক্ষমা প্রার্থনা করে তাদের সাথে তিনি ক্ষমাশীলতার আচরণ করে থাকেন ।  নিষিদ্ধ পল্লীতে নিষিদ্ধ মানুষের বসবাস থাকলেও সেখানকার খরিদ্দাররা একদম বিশুদ্ধ '"
      ]
     },
     "execution_count": 7,
     "metadata": {},
     "output_type": "execute_result"
    }
   ],
   "source": [
    "all_text[:500]"
   ]
  },
  {
   "cell_type": "code",
   "execution_count": 8,
   "metadata": {},
   "outputs": [
    {
     "data": {
      "text/plain": [
       "['সবথেকে',\n",
       " 'বড়',\n",
       " 'যুদ্ধ',\n",
       " 'হলো',\n",
       " 'নিজের',\n",
       " 'মনের',\n",
       " 'সাথে',\n",
       " 'যুদ্ধ',\n",
       " 'আবেগ',\n",
       " 'রোজ']"
      ]
     },
     "execution_count": 8,
     "metadata": {},
     "output_type": "execute_result"
    }
   ],
   "source": [
    "words[:10]"
   ]
  },
  {
   "cell_type": "code",
   "execution_count": 9,
   "metadata": {},
   "outputs": [],
   "source": [
    "counts = Counter(words)\n",
    "vocab = sorted(counts, key=counts.get, reverse=True)\n",
    "vocab_to_int = {word: ii for ii, word in enumerate(vocab, 1)}\n",
    "\n",
    "tweets_ints = []\n",
    "for each in tweets:\n",
    "    tweets_ints.append([vocab_to_int[word] for word in each.split()])"
   ]
  },
  {
   "cell_type": "code",
   "execution_count": 10,
   "metadata": {},
   "outputs": [
    {
     "name": "stdout",
     "output_type": "stream",
     "text": [
      "3720\n"
     ]
    }
   ],
   "source": [
    "print(len(tweets_ints))"
   ]
  },
  {
   "cell_type": "code",
   "execution_count": 11,
   "metadata": {},
   "outputs": [
    {
     "name": "stdout",
     "output_type": "stream",
     "text": [
      "3719\n"
     ]
    }
   ],
   "source": [
    "# Encoding the labels::\n",
    "\n",
    "# Convert labels to 1s and 0s for 'positive' and 'negative'\n",
    "# both depressed and simple negative are commonly considered as Negative (0):\n",
    "list_labels = []\n",
    "\n",
    "for l in labels_org.split():\n",
    "    if l == \"positive\":\n",
    "        list_labels.append(1)\n",
    "    elif l == \"depressive\" or l == \"sim_negative\":\n",
    "        list_labels.append(0)\n",
    "        \n",
    "labels = np.array(list_labels)\n",
    "print(len(labels))"
   ]
  },
  {
   "cell_type": "code",
   "execution_count": 12,
   "metadata": {},
   "outputs": [
    {
     "name": "stdout",
     "output_type": "stream",
     "text": [
      "Zero-length tweets: 1\n",
      "Maximum tweets length: 61\n"
     ]
    }
   ],
   "source": [
    "tweets_lens = Counter([len(x) for x in tweets_ints])\n",
    "print(\"Zero-length tweets: {}\".format(tweets_lens[0]))\n",
    "print(\"Maximum tweets length: {}\".format(max(tweets_lens)))"
   ]
  },
  {
   "cell_type": "code",
   "execution_count": 13,
   "metadata": {},
   "outputs": [],
   "source": [
    "# Filter out that tweets with 0 length\n",
    "tweets_ints = [r[0:200] for r in tweets_ints if len(r) > 0]"
   ]
  },
  {
   "cell_type": "code",
   "execution_count": 14,
   "metadata": {},
   "outputs": [
    {
     "name": "stdout",
     "output_type": "stream",
     "text": [
      "Zero-length tweets: 0\n",
      "Maximum tweet length: 61\n"
     ]
    }
   ],
   "source": [
    "from collections import Counter\n",
    "tweets_lens = Counter([len(x) for x in tweets_ints])\n",
    "print(\"Zero-length tweets: {}\".format(tweets_lens[0]))\n",
    "print(\"Maximum tweet length: {}\".format(max(tweets_lens)))"
   ]
  },
  {
   "cell_type": "code",
   "execution_count": 15,
   "metadata": {},
   "outputs": [],
   "source": [
    "seq_len = 200\n",
    "features = np.zeros((len(tweets_ints), seq_len), dtype=int)\n",
    "# print(features[:10,:100])\n",
    "for i, row in enumerate(tweets_ints):\n",
    "    features[i, -len(row):] = np.array(row)[:seq_len]\n",
    "#features[:10,:100]"
   ]
  },
  {
   "cell_type": "code",
   "execution_count": 16,
   "metadata": {},
   "outputs": [
    {
     "name": "stdout",
     "output_type": "stream",
     "text": [
      "\t\t\tFeature Shapes:\n",
      "Train set: \t\t(2975, 200) \n",
      "Validation set: \t(372, 200) \n",
      "Test set: \t\t(372, 200)\n",
      "label set: \t\t(2975,) \n",
      "Validation label set: \t(372,) \n",
      "Test label set: \t\t(372,)\n"
     ]
    }
   ],
   "source": [
    "split_frac = 0.8\n",
    "\n",
    "split_index = int(split_frac * len(features))\n",
    "\n",
    "train_x, val_x = features[:split_index], features[split_index:] \n",
    "train_y, val_y = labels[:split_index], labels[split_index:]\n",
    "\n",
    "split_frac = 0.5\n",
    "split_index = int(split_frac * len(val_x))\n",
    "\n",
    "val_x, test_x = val_x[:split_index], val_x[split_index:]\n",
    "val_y, test_y = val_y[:split_index], val_y[split_index:]\n",
    "\n",
    "print(\"\\t\\t\\tFeature Shapes:\")\n",
    "print(\"Train set: \\t\\t{}\".format(train_x.shape), \n",
    "      \"\\nValidation set: \\t{}\".format(val_x.shape),\n",
    "      \"\\nTest set: \\t\\t{}\".format(test_x.shape))\n",
    "print(\"label set: \\t\\t{}\".format(train_y.shape), \n",
    "      \"\\nValidation label set: \\t{}\".format(val_y.shape),\n",
    "      \"\\nTest label set: \\t\\t{}\".format(test_y.shape))"
   ]
  },
  {
   "cell_type": "code",
   "execution_count": 17,
   "metadata": {},
   "outputs": [],
   "source": [
    "# Build the graph::\n",
    "\n",
    "lstm_size = 256\n",
    "#lstm_layers = 2\n",
    "lstm_layers = 2\n",
    "#batch_size = 1000\n",
    "batch_size = 50\n",
    "learning_rate = 0.01"
   ]
  },
  {
   "cell_type": "code",
   "execution_count": 18,
   "metadata": {},
   "outputs": [],
   "source": [
    "n_words = len(vocab_to_int) + 1 # Add 1 for 0 added to vocab\n",
    "\n",
    "# Create the graph object\n",
    "tf.reset_default_graph()\n",
    "with tf.name_scope('inputs'):\n",
    "    inputs_ = tf.placeholder(tf.int32, [None, None], name=\"inputs\")\n",
    "    labels_ = tf.placeholder(tf.int32, [None, None], name=\"labels\")\n",
    "    keep_prob = tf.placeholder(tf.float32, name=\"keep_prob\")"
   ]
  },
  {
   "cell_type": "code",
   "execution_count": 19,
   "metadata": {},
   "outputs": [],
   "source": [
    "# Size of the embedding vectors (number of units in the embedding layer)\n",
    "embed_size = 300 \n",
    "\n",
    "with tf.name_scope(\"Embeddings\"):\n",
    "    embedding = tf.Variable(tf.random_uniform((n_words, embed_size), -1, 1))\n",
    "    embed = tf.nn.embedding_lookup(embedding, inputs_)"
   ]
  },
  {
   "cell_type": "code",
   "execution_count": 20,
   "metadata": {},
   "outputs": [],
   "source": [
    "def lstm_cell():\n",
    "    # Your basic LSTM cell\n",
    "    lstm = tf.contrib.rnn.BasicLSTMCell(lstm_size, reuse=tf.get_variable_scope().reuse)\n",
    "    # Add dropout to the cell\n",
    "    return tf.contrib.rnn.DropoutWrapper(lstm, output_keep_prob=keep_prob)\n",
    "\n",
    "with tf.name_scope(\"RNN_layers\"):\n",
    "    # Stack up multiple LSTM layers, for deep learning\n",
    "    cell = tf.contrib.rnn.MultiRNNCell([lstm_cell() for _ in range(lstm_layers)])\n",
    "    \n",
    "    # Getting an initial state of all zeros\n",
    "    initial_state = cell.zero_state(batch_size, tf.float32)"
   ]
  },
  {
   "cell_type": "code",
   "execution_count": 21,
   "metadata": {},
   "outputs": [],
   "source": [
    "with tf.name_scope(\"RNN_forward\"):\n",
    "    outputs, final_state = tf.nn.dynamic_rnn(cell, embed, initial_state=initial_state)"
   ]
  },
  {
   "cell_type": "code",
   "execution_count": 22,
   "metadata": {},
   "outputs": [],
   "source": [
    "# Output::\n",
    "\n",
    "with tf.name_scope('predictions'):\n",
    "    predictions = tf.contrib.layers.fully_connected(outputs[:, -1], 1, activation_fn=tf.sigmoid)\n",
    "    tf.summary.histogram('predictions', predictions)\n",
    "with tf.name_scope('cost'):\n",
    "    cost = tf.losses.mean_squared_error(labels_, predictions)\n",
    "    tf.summary.scalar('cost', cost)\n",
    "\n",
    "with tf.name_scope('train'):\n",
    "    optimizer = tf.train.AdamOptimizer(learning_rate).minimize(cost)\n",
    "\n",
    "merged = tf.summary.merge_all()"
   ]
  },
  {
   "cell_type": "code",
   "execution_count": 23,
   "metadata": {},
   "outputs": [],
   "source": [
    "# Validation accuracy::\n",
    "\n",
    "with tf.name_scope('validation'):\n",
    "    correct_pred = tf.equal(tf.cast(tf.round(predictions), tf.int32), labels_)\n",
    "    accuracy = tf.reduce_mean(tf.cast(correct_pred, tf.float32))"
   ]
  },
  {
   "cell_type": "code",
   "execution_count": 24,
   "metadata": {},
   "outputs": [],
   "source": [
    "# Batching::\n",
    "\n",
    "def get_batches(x, y, batch_size=100):\n",
    "    \n",
    "    n_batches = len(x)//batch_size\n",
    "    x, y = x[:n_batches*batch_size], y[:n_batches*batch_size]\n",
    "    for ii in range(0, len(x), batch_size):\n",
    "        yield x[ii:ii+batch_size], y[ii:ii+batch_size]"
   ]
  },
  {
   "cell_type": "code",
   "execution_count": 25,
   "metadata": {},
   "outputs": [
    {
     "name": "stdout",
     "output_type": "stream",
     "text": [
      "Epoch: 0/10 Iteration: 5 Train loss: 0.198\n",
      "Epoch: 0/10 Iteration: 10 Train loss: 0.207\n",
      "Epoch: 0/10 Iteration: 15 Train loss: 0.177\n",
      "Epoch: 0/10 Iteration: 20 Train loss: 0.248\n",
      "Epoch: 0/10 Iteration: 25 Train loss: 0.131\n",
      "Val acc: 0.783\n",
      "Epoch: 0/10 Iteration: 30 Train loss: 0.164\n",
      "Epoch: 0/10 Iteration: 35 Train loss: 0.286\n",
      "Epoch: 0/10 Iteration: 40 Train loss: 0.212\n",
      "Epoch: 0/10 Iteration: 45 Train loss: 0.329\n",
      "Epoch: 0/10 Iteration: 50 Train loss: 0.224\n",
      "Val acc: 0.749\n",
      "Epoch: 0/10 Iteration: 55 Train loss: 0.186\n",
      "Epoch: 1/10 Iteration: 60 Train loss: 0.096\n",
      "Epoch: 1/10 Iteration: 65 Train loss: 0.139\n",
      "Epoch: 1/10 Iteration: 70 Train loss: 0.132\n",
      "Epoch: 1/10 Iteration: 75 Train loss: 0.146\n",
      "Val acc: 0.814\n",
      "Epoch: 1/10 Iteration: 80 Train loss: 0.137\n",
      "Epoch: 1/10 Iteration: 85 Train loss: 0.078\n",
      "Epoch: 1/10 Iteration: 90 Train loss: 0.163\n",
      "Epoch: 1/10 Iteration: 95 Train loss: 0.156\n",
      "Epoch: 1/10 Iteration: 100 Train loss: 0.119\n",
      "Val acc: 0.840\n",
      "Epoch: 1/10 Iteration: 105 Train loss: 0.145\n",
      "Epoch: 1/10 Iteration: 110 Train loss: 0.136\n",
      "Epoch: 1/10 Iteration: 115 Train loss: 0.077\n",
      "Epoch: 2/10 Iteration: 120 Train loss: 0.107\n",
      "Epoch: 2/10 Iteration: 125 Train loss: 0.122\n",
      "Val acc: 0.831\n",
      "Epoch: 2/10 Iteration: 130 Train loss: 0.039\n",
      "Epoch: 2/10 Iteration: 135 Train loss: 0.113\n",
      "Epoch: 2/10 Iteration: 140 Train loss: 0.129\n",
      "Epoch: 2/10 Iteration: 145 Train loss: 0.102\n",
      "Epoch: 2/10 Iteration: 150 Train loss: 0.041\n",
      "Val acc: 0.843\n",
      "Epoch: 2/10 Iteration: 155 Train loss: 0.042\n",
      "Epoch: 2/10 Iteration: 160 Train loss: 0.042\n",
      "Epoch: 2/10 Iteration: 165 Train loss: 0.027\n",
      "Epoch: 2/10 Iteration: 170 Train loss: 0.051\n",
      "Epoch: 2/10 Iteration: 175 Train loss: 0.069\n",
      "Val acc: 0.846\n",
      "Epoch: 3/10 Iteration: 180 Train loss: 0.089\n",
      "Epoch: 3/10 Iteration: 185 Train loss: 0.122\n",
      "Epoch: 3/10 Iteration: 190 Train loss: 0.057\n",
      "Epoch: 3/10 Iteration: 195 Train loss: 0.110\n",
      "Epoch: 3/10 Iteration: 200 Train loss: 0.044\n",
      "Val acc: 0.823\n",
      "Epoch: 3/10 Iteration: 205 Train loss: 0.074\n",
      "Epoch: 3/10 Iteration: 210 Train loss: 0.046\n",
      "Epoch: 3/10 Iteration: 215 Train loss: 0.025\n",
      "Epoch: 3/10 Iteration: 220 Train loss: 0.061\n",
      "Epoch: 3/10 Iteration: 225 Train loss: 0.058\n",
      "Val acc: 0.860\n",
      "Epoch: 3/10 Iteration: 230 Train loss: 0.020\n",
      "Epoch: 3/10 Iteration: 235 Train loss: 0.108\n",
      "Epoch: 4/10 Iteration: 240 Train loss: 0.128\n",
      "Epoch: 4/10 Iteration: 245 Train loss: 0.061\n",
      "Epoch: 4/10 Iteration: 250 Train loss: 0.071\n",
      "Val acc: 0.851\n",
      "Epoch: 4/10 Iteration: 255 Train loss: 0.142\n",
      "Epoch: 4/10 Iteration: 260 Train loss: 0.065\n",
      "Epoch: 4/10 Iteration: 265 Train loss: 0.020\n",
      "Epoch: 4/10 Iteration: 270 Train loss: 0.067\n",
      "Epoch: 4/10 Iteration: 275 Train loss: 0.020\n",
      "Val acc: 0.851\n",
      "Epoch: 4/10 Iteration: 280 Train loss: 0.074\n",
      "Epoch: 4/10 Iteration: 285 Train loss: 0.178\n",
      "Epoch: 4/10 Iteration: 290 Train loss: 0.074\n",
      "Epoch: 4/10 Iteration: 295 Train loss: 0.020\n",
      "Epoch: 5/10 Iteration: 300 Train loss: 0.190\n",
      "Val acc: 0.854\n",
      "Epoch: 5/10 Iteration: 305 Train loss: 0.187\n",
      "Epoch: 5/10 Iteration: 310 Train loss: 0.053\n",
      "Epoch: 5/10 Iteration: 315 Train loss: 0.105\n",
      "Epoch: 5/10 Iteration: 320 Train loss: 0.022\n",
      "Epoch: 5/10 Iteration: 325 Train loss: 0.068\n",
      "Val acc: 0.860\n",
      "Epoch: 5/10 Iteration: 330 Train loss: 0.011\n",
      "Epoch: 5/10 Iteration: 335 Train loss: 0.005\n",
      "Epoch: 5/10 Iteration: 340 Train loss: 0.091\n",
      "Epoch: 5/10 Iteration: 345 Train loss: 0.058\n",
      "Epoch: 5/10 Iteration: 350 Train loss: 0.039\n",
      "Val acc: 0.863\n",
      "Epoch: 6/10 Iteration: 355 Train loss: 0.011\n",
      "Epoch: 6/10 Iteration: 360 Train loss: 0.107\n",
      "Epoch: 6/10 Iteration: 365 Train loss: 0.106\n",
      "Epoch: 6/10 Iteration: 370 Train loss: 0.086\n",
      "Epoch: 6/10 Iteration: 375 Train loss: 0.076\n",
      "Val acc: 0.857\n",
      "Epoch: 6/10 Iteration: 380 Train loss: 0.027\n",
      "Epoch: 6/10 Iteration: 385 Train loss: 0.079\n",
      "Epoch: 6/10 Iteration: 390 Train loss: 0.023\n",
      "Epoch: 6/10 Iteration: 395 Train loss: 0.015\n",
      "Epoch: 6/10 Iteration: 400 Train loss: 0.115\n",
      "Val acc: 0.857\n",
      "Epoch: 6/10 Iteration: 405 Train loss: 0.098\n",
      "Epoch: 6/10 Iteration: 410 Train loss: 0.040\n",
      "Epoch: 7/10 Iteration: 415 Train loss: 0.041\n",
      "Epoch: 7/10 Iteration: 420 Train loss: 0.038\n",
      "Epoch: 7/10 Iteration: 425 Train loss: 0.049\n",
      "Val acc: 0.860\n",
      "Epoch: 7/10 Iteration: 430 Train loss: 0.089\n",
      "Epoch: 7/10 Iteration: 435 Train loss: 0.061\n",
      "Epoch: 7/10 Iteration: 440 Train loss: 0.107\n",
      "Epoch: 7/10 Iteration: 445 Train loss: 0.004\n",
      "Epoch: 7/10 Iteration: 450 Train loss: 0.004\n",
      "Val acc: 0.857\n",
      "Epoch: 7/10 Iteration: 455 Train loss: 0.003\n",
      "Epoch: 7/10 Iteration: 460 Train loss: 0.026\n",
      "Epoch: 7/10 Iteration: 465 Train loss: 0.031\n",
      "Epoch: 7/10 Iteration: 470 Train loss: 0.059\n",
      "Epoch: 8/10 Iteration: 475 Train loss: 0.114\n",
      "Val acc: 0.863\n",
      "Epoch: 8/10 Iteration: 480 Train loss: 0.091\n",
      "Epoch: 8/10 Iteration: 485 Train loss: 0.049\n",
      "Epoch: 8/10 Iteration: 490 Train loss: 0.124\n",
      "Epoch: 8/10 Iteration: 495 Train loss: 0.089\n",
      "Epoch: 8/10 Iteration: 500 Train loss: 0.053\n",
      "Val acc: 0.854\n",
      "Epoch: 8/10 Iteration: 505 Train loss: 0.032\n",
      "Epoch: 8/10 Iteration: 510 Train loss: 0.005\n",
      "Epoch: 8/10 Iteration: 515 Train loss: 0.039\n",
      "Epoch: 8/10 Iteration: 520 Train loss: 0.051\n",
      "Epoch: 8/10 Iteration: 525 Train loss: 0.020\n",
      "Val acc: 0.851\n",
      "Epoch: 8/10 Iteration: 530 Train loss: 0.077\n",
      "Epoch: 9/10 Iteration: 535 Train loss: 0.143\n",
      "Epoch: 9/10 Iteration: 540 Train loss: 0.094\n",
      "Epoch: 9/10 Iteration: 545 Train loss: 0.050\n",
      "Epoch: 9/10 Iteration: 550 Train loss: 0.124\n",
      "Val acc: 0.829\n",
      "Epoch: 9/10 Iteration: 555 Train loss: 0.054\n",
      "Epoch: 9/10 Iteration: 560 Train loss: 0.032\n",
      "Epoch: 9/10 Iteration: 565 Train loss: 0.009\n",
      "Epoch: 9/10 Iteration: 570 Train loss: 0.002\n",
      "Epoch: 9/10 Iteration: 575 Train loss: 0.072\n",
      "Val acc: 0.857\n",
      "Epoch: 9/10 Iteration: 580 Train loss: 0.144\n",
      "Epoch: 9/10 Iteration: 585 Train loss: 0.055\n",
      "Epoch: 9/10 Iteration: 590 Train loss: 0.022\n",
      "Time elasped = 1914.9563987186625 sec(s)\n"
     ]
    }
   ],
   "source": [
    "# Training::\n",
    "\n",
    "epochs = 10\n",
    "\n",
    "# with graph.as_default():\n",
    "saver = tf.train.Saver()\n",
    "start = timer()\n",
    "\n",
    "with tf.Session() as sess:\n",
    "    sess.run(tf.global_variables_initializer())\n",
    "    train_writer = tf.summary.FileWriter('./logs/tb/train', sess.graph)\n",
    "    test_writer = tf.summary.FileWriter('./logs/tb/test', sess.graph)\n",
    "    iteration = 1\n",
    "    for e in range(epochs):\n",
    "        state = sess.run(initial_state)\n",
    "        \n",
    "        for ii, (x, y) in enumerate(get_batches(train_x, train_y, batch_size), 1):\n",
    "            feed = {inputs_: x,\n",
    "                    labels_: y[:, None],\n",
    "                    keep_prob: 0.5,\n",
    "                    initial_state: state}\n",
    "            summary, loss, state, _ = sess.run([merged, cost, final_state, optimizer], feed_dict=feed)\n",
    "#             loss, state, _ = sess.run([cost, final_state, optimizer], feed_dict=feed)\n",
    "\n",
    "            train_writer.add_summary(summary, iteration)\n",
    "        \n",
    "            if iteration%5==0:\n",
    "                print(\"Epoch: {}/{}\".format(e, epochs),\n",
    "                      \"Iteration: {}\".format(iteration),\n",
    "                      \"Train loss: {:.3f}\".format(loss))\n",
    "\n",
    "            if iteration%25==0:\n",
    "                val_acc = []\n",
    "                val_state = sess.run(cell.zero_state(batch_size, tf.float32))\n",
    "                for x, y in get_batches(val_x, val_y, batch_size):\n",
    "                    feed = {inputs_: x,\n",
    "                            labels_: y[:, None],\n",
    "                            keep_prob: 1,\n",
    "                            initial_state: val_state}\n",
    "#                     batch_acc, val_state = sess.run([accuracy, final_state], feed_dict=feed)\n",
    "                    summary, batch_acc, val_state = sess.run([merged, accuracy, final_state], feed_dict=feed)\n",
    "                    val_acc.append(batch_acc)\n",
    "                print(\"Val acc: {:.3f}\".format(np.mean(val_acc)))\n",
    "            iteration +=1\n",
    "            test_writer.add_summary(summary, iteration)\n",
    "            saver.save(sess, \"checkpoints/tweet_5000_positive_negative_two_classes.ckpt\")\n",
    "#            tensorboard = TensorBoard(log_dir=\"logs/tweet_5000_all_sentiments_six_classes-{}\".format(int(time.time())))\n",
    "    saver.save(sess, \"checkpoints/tweet_5000_positive_negative_two_classes.ckpt\")\n",
    "    \n",
    "duration = timer() - start\n",
    "print('Time elasped =',duration,'sec(s)')"
   ]
  },
  {
   "cell_type": "code",
   "execution_count": 26,
   "metadata": {},
   "outputs": [
    {
     "name": "stdout",
     "output_type": "stream",
     "text": [
      "INFO:tensorflow:Restoring parameters from checkpoints/tweet_5000_positive_negative_two_classes.ckpt\n",
      "Test accuracy: 0.860\n"
     ]
    }
   ],
   "source": [
    "# Testing::\n",
    "\n",
    "test_acc = []\n",
    "with tf.Session() as sess:\n",
    "    saver.restore(sess, \"checkpoints/tweet_5000_positive_negative_two_classes.ckpt\")\n",
    "    test_state = sess.run(cell.zero_state(batch_size, tf.float32))\n",
    "    for ii, (x, y) in enumerate(get_batches(test_x, test_y, batch_size), 1):\n",
    "        feed = {inputs_: x,\n",
    "                labels_: y[:, None],\n",
    "                keep_prob: 1,\n",
    "                initial_state: test_state}\n",
    "        batch_acc, test_state = sess.run([accuracy, final_state], feed_dict=feed)\n",
    "        test_acc.append(batch_acc)\n",
    "    print(\"Test accuracy: {:.3f}\".format(np.mean(test_acc)))"
   ]
  },
  {
   "cell_type": "code",
   "execution_count": null,
   "metadata": {},
   "outputs": [],
   "source": []
  }
 ],
 "metadata": {
  "kernelspec": {
   "display_name": "Python 3",
   "language": "python",
   "name": "python3"
  },
  "language_info": {
   "codemirror_mode": {
    "name": "ipython",
    "version": 3
   },
   "file_extension": ".py",
   "mimetype": "text/x-python",
   "name": "python",
   "nbconvert_exporter": "python",
   "pygments_lexer": "ipython3",
   "version": "3.6.6"
  }
 },
 "nbformat": 4,
 "nbformat_minor": 2
}
