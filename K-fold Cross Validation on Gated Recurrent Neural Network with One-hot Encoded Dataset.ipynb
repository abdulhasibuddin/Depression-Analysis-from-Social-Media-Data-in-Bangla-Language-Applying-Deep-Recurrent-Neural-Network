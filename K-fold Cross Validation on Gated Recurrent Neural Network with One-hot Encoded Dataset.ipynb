{
 "cells": [
  {
   "cell_type": "code",
   "execution_count": null,
   "metadata": {},
   "outputs": [],
   "source": [
    "# copyright(c) abdulhasibuddin@gmail.com"
   ]
  },
  {
   "cell_type": "code",
   "execution_count": 1,
   "metadata": {},
   "outputs": [
    {
     "name": "stderr",
     "output_type": "stream",
     "text": [
      "Using TensorFlow backend.\n"
     ]
    }
   ],
   "source": [
    "import keras\n",
    "#from keras.preprocessing.text import one_hot\n",
    "#from keras.preprocessing.text import text_to_word_sequence\n",
    "from keras.models import Sequential\n",
    "from keras.layers import *\n",
    "from keras.optimizers import *\n",
    "from keras.utils import plot_model\n",
    "import numpy as np\n",
    "import matplotlib.pyplot as plt\n",
    "from tkinter import Tk\n",
    "from tkinter.filedialog import askopenfilename"
   ]
  },
  {
   "cell_type": "code",
   "execution_count": 2,
   "metadata": {},
   "outputs": [
    {
     "name": "stdout",
     "output_type": "stream",
     "text": [
      "D:/EDUCATION/Thesis - Sentiment Analysis/Twitter Bangla Collection/labelled/tweets_final_dataset_04_11_2018.txt\n"
     ]
    }
   ],
   "source": [
    "Tk().withdraw()\n",
    "#tweets_file_name = askopenfilename()\n",
    "tweets_file_name = \"D:/EDUCATION/Thesis - Sentiment Analysis/Twitter Bangla Collection/labelled/tweets_final_dataset_04_11_2018.txt\"\n",
    "print(tweets_file_name)"
   ]
  },
  {
   "cell_type": "code",
   "execution_count": 3,
   "metadata": {},
   "outputs": [
    {
     "name": "stdout",
     "output_type": "stream",
     "text": [
      "D:/EDUCATION/Thesis - Sentiment Analysis/Twitter Bangla Collection/labelled/labels_final_dataset_04_11_2018.txt\n"
     ]
    }
   ],
   "source": [
    "Tk().withdraw()\n",
    "#labels_file_name = askopenfilename()\n",
    "labels_file_name = \"D:/EDUCATION/Thesis - Sentiment Analysis/Twitter Bangla Collection/labelled/labels_final_dataset_04_11_2018.txt\"\n",
    "print(labels_file_name)"
   ]
  },
  {
   "cell_type": "code",
   "execution_count": 4,
   "metadata": {},
   "outputs": [],
   "source": [
    "with open(tweets_file_name, 'r', encoding=\"utf8\") as tweets_file:\n",
    "    tweet_list = tweets_file.read().split('\\n')\n",
    "    \n",
    "with open(labels_file_name, 'r', encoding=\"utf8\") as labels_file:\n",
    "    label_list = labels_file.read().split('\\n')"
   ]
  },
  {
   "cell_type": "code",
   "execution_count": 5,
   "metadata": {},
   "outputs": [],
   "source": [
    "for i in range(len(label_list)):\n",
    "    if tweet_list[i]=='' or label_list[i]=='':\n",
    "        del(tweet_list[i])\n",
    "        del(label_list[i])"
   ]
  },
  {
   "cell_type": "code",
   "execution_count": 6,
   "metadata": {},
   "outputs": [
    {
     "name": "stdout",
     "output_type": "stream",
     "text": [
      "1024\n",
      "1024\n",
      "<class 'list'>\n",
      "<class 'str'>\n",
      "জনগণের ভোট চুরি করে ক্ষমতায় আসা ওই নিয়ত আমাদের নাই আওয়ামী লীগ নেত্রী শেখ হাসিনা এভাবে নৌকার পক্ষে ভোটে ডাকাতি করছেন লজ্জা লাগেনা ছিঃ বাসদ নেত্রী ড মনীষা চক্রবর্তী । \n",
      "simple_negative\n",
      "পুষে রাখে যেমন ঝিনুক খোলসের আবরণে মুক্তোর সুখ , তেমনি তোমার গভীর ছোয়া ভেতরের এই বন্দরে , আমার ভিতর বাহিরে অন্তরে অন্তরে আছো তুমি হৃদয় জুরে এ এ এ এ \n",
      "unclassified_emotion\n"
     ]
    }
   ],
   "source": [
    "print(len(tweet_list))\n",
    "print(len(label_list))\n",
    "\n",
    "print(type(tweet_list))\n",
    "print(type(tweet_list[0]))\n",
    "\n",
    "print(tweet_list[0])\n",
    "print(label_list[0])\n",
    "\n",
    "print(tweet_list[-1])\n",
    "print(label_list[-1])"
   ]
  },
  {
   "cell_type": "code",
   "execution_count": 7,
   "metadata": {},
   "outputs": [
    {
     "name": "stdout",
     "output_type": "stream",
     "text": [
      "1024\n",
      "count_1 = 280\n",
      "count_0 = 744\n",
      "[0, 0, 0, 1, 0, 0, 0, 0, 0, 0, 0, 1, 1, 0, 0, 0, 0, 1, 0, 0]\n"
     ]
    }
   ],
   "source": [
    "encoded_label_list = []\n",
    "count_1 = 0\n",
    "count_0 = 0\n",
    "\n",
    "for label in label_list:\n",
    "    #print(label)\n",
    "    if label=='depressive':\n",
    "        encoded_label_list.append(1)\n",
    "        count_1 += 1\n",
    "    else:\n",
    "        encoded_label_list.append(0)\n",
    "        count_0 += 1\n",
    "        \n",
    "print(len(encoded_label_list))\n",
    "print('count_1 =',count_1)\n",
    "print('count_0 =',count_0)\n",
    "print(encoded_label_list[30:50])"
   ]
  },
  {
   "cell_type": "code",
   "execution_count": 8,
   "metadata": {},
   "outputs": [
    {
     "name": "stdout",
     "output_type": "stream",
     "text": [
      "6956\n",
      "64\n"
     ]
    }
   ],
   "source": [
    "vocabulary = {'':0}\n",
    "max_tweet_length = 0\n",
    "\n",
    "for tweet in tweet_list:\n",
    "    word_list = tweet.split(' ')\n",
    "    \n",
    "    if max_tweet_length < len(word_list):\n",
    "        max_tweet_length = len(word_list)\n",
    "        \n",
    "#    if len(word_list)==64:\n",
    "#        print(word_list)\n",
    "    \n",
    "    for word in word_list:\n",
    "        if word not in vocabulary.keys():\n",
    "            vocabulary[word] = len(vocabulary.keys())\n",
    "            \n",
    "print(len(vocabulary))\n",
    "print(max_tweet_length)\n",
    "#print(vocabulary)"
   ]
  },
  {
   "cell_type": "code",
   "execution_count": 9,
   "metadata": {},
   "outputs": [],
   "source": [
    "### WORD LEVEL INTEGER ENCODING :: ###"
   ]
  },
  {
   "cell_type": "code",
   "execution_count": 10,
   "metadata": {},
   "outputs": [
    {
     "name": "stdout",
     "output_type": "stream",
     "text": [
      "64\n",
      "2\n",
      "[[30, 31, 32, 33, 34, 35, 36, 32, 37], [38, 39, 40, 41, 42, 43, 38, 39, 40, 41, 44, 45, 46, 47, 48]]\n"
     ]
    }
   ],
   "source": [
    "integer_encoded_tweet_list = []\n",
    "for tweet in tweet_list:\n",
    "    word_list = tweet.split(' ')\n",
    "    integer_encoded_tweet = [vocabulary[word] for word in word_list]\n",
    "    integer_encoded_tweet_list.append(integer_encoded_tweet)\n",
    "    \n",
    "#    if len(integer_encoded_tweet)==64:\n",
    "#        print(integer_encoded_tweet)   \n",
    "    \n",
    "print(len(max(integer_encoded_tweet_list, key=len)))\n",
    "print(len(min(integer_encoded_tweet_list, key=len)))\n",
    "print(integer_encoded_tweet_list[1:3])"
   ]
  },
  {
   "cell_type": "code",
   "execution_count": 11,
   "metadata": {
    "scrolled": true
   },
   "outputs": [
    {
     "name": "stdout",
     "output_type": "stream",
     "text": [
      "64\n",
      "64\n",
      "[[30, 31, 32, 33, 34, 35, 36, 32, 37, 0, 0, 0, 0, 0, 0, 0, 0, 0, 0, 0, 0, 0, 0, 0, 0, 0, 0, 0, 0, 0, 0, 0, 0, 0, 0, 0, 0, 0, 0, 0, 0, 0, 0, 0, 0, 0, 0, 0, 0, 0, 0, 0, 0, 0, 0, 0, 0, 0, 0, 0, 0, 0, 0, 0], [38, 39, 40, 41, 42, 43, 38, 39, 40, 41, 44, 45, 46, 47, 48, 0, 0, 0, 0, 0, 0, 0, 0, 0, 0, 0, 0, 0, 0, 0, 0, 0, 0, 0, 0, 0, 0, 0, 0, 0, 0, 0, 0, 0, 0, 0, 0, 0, 0, 0, 0, 0, 0, 0, 0, 0, 0, 0, 0, 0, 0, 0, 0, 0]]\n"
     ]
    }
   ],
   "source": [
    "# PADDING::\n",
    "for i in range(len(integer_encoded_tweet_list)):\n",
    "    while len(integer_encoded_tweet_list[i]) < max_tweet_length:\n",
    "        integer_encoded_tweet_list[i].append(0)\n",
    "        \n",
    "print(len(max(integer_encoded_tweet_list, key=len)))\n",
    "print(len(min(integer_encoded_tweet_list, key=len)))\n",
    "print(integer_encoded_tweet_list[1:3])"
   ]
  },
  {
   "cell_type": "code",
   "execution_count": 12,
   "metadata": {},
   "outputs": [
    {
     "name": "stdout",
     "output_type": "stream",
     "text": [
      "<class 'list'>\n",
      "<class 'list'>\n",
      "<class 'int'>\n",
      "[1, 2, 3, 4, 5, 6, 7, 8, 9, 10, 11, 12, 13, 14, 15, 16, 17, 18, 19, 20, 21, 22, 23, 24, 25, 13, 26, 27, 28, 29, 0, 0, 0, 0, 0, 0, 0, 0, 0, 0, 0, 0, 0, 0, 0, 0, 0, 0, 0, 0, 0, 0, 0, 0, 0, 0, 0, 0, 0, 0, 0, 0, 0, 0]\n"
     ]
    }
   ],
   "source": [
    "print(type(integer_encoded_tweet_list))\n",
    "print(type(integer_encoded_tweet_list[0]))\n",
    "print(type(integer_encoded_tweet_list[0][0]))\n",
    "print(integer_encoded_tweet_list[0])"
   ]
  },
  {
   "cell_type": "code",
   "execution_count": 13,
   "metadata": {},
   "outputs": [],
   "source": [
    "### ONE HOT ENCODING :: ###"
   ]
  },
  {
   "cell_type": "code",
   "execution_count": 14,
   "metadata": {},
   "outputs": [
    {
     "name": "stdout",
     "output_type": "stream",
     "text": [
      "64\n"
     ]
    }
   ],
   "source": [
    "length_padded_data = len(max(integer_encoded_tweet_list, key=len))\n",
    "print(length_padded_data)"
   ]
  },
  {
   "cell_type": "code",
   "execution_count": 15,
   "metadata": {},
   "outputs": [],
   "source": [
    "one_hot_encoded_tweet_list = []\n",
    "\n",
    "for integer_encoded_tweet in integer_encoded_tweet_list:\n",
    "    one_hot_encoded_tweet = []\n",
    "    for integer_encoded_word in integer_encoded_tweet:\n",
    "        for index in range(length_padded_data):\n",
    "            if index == integer_encoded_word:\n",
    "                one_hot_encoded_tweet.append(1)\n",
    "            else:\n",
    "                one_hot_encoded_tweet.append(0)\n",
    "    \n",
    "    one_hot_encoded_tweet_list.append(one_hot_encoded_tweet)"
   ]
  },
  {
   "cell_type": "code",
   "execution_count": 16,
   "metadata": {},
   "outputs": [
    {
     "name": "stdout",
     "output_type": "stream",
     "text": [
      "<class 'list'>\n",
      "<class 'list'>\n",
      "<class 'int'>\n",
      "1024\n",
      "Length of each tweet = 64\n",
      "Length of each word in a one hot encoded tweet = Length of each tweet = 64\n",
      "len(one_hot_encoded_tweet_list[0])=(64x64)=4096\n",
      "[0, 1, 0, 0, 0, 0, 0, 0, 0, 0, 0, 0, 0, 0, 0, 0, 0, 0, 0, 0, 0, 0, 0, 0, 0, 0, 0, 0, 0, 0, 0, 0, 0, 0, 0, 0, 0, 0, 0, 0, 0, 0, 0, 0, 0, 0, 0, 0, 0, 0, 0, 0, 0, 0, 0, 0, 0, 0, 0, 0, 0, 0, 0, 0, 0, 0, 1, 0, 0, 0, 0, 0, 0, 0, 0, 0, 0, 0, 0, 0, 0, 0, 0, 0, 0, 0, 0, 0, 0, 0, 0, 0, 0, 0, 0, 0, 0, 0, 0, 0, 0, 0, 0, 0, 0, 0, 0, 0, 0, 0, 0, 0, 0, 0, 0, 0, 0, 0, 0, 0, 0, 0, 0, 0, 0, 0, 0, 0, 0, 0, 0, 1, 0, 0, 0, 0, 0, 0, 0, 0, 0, 0, 0, 0, 0, 0, 0, 0, 0, 0, 0, 0, 0, 0, 0, 0, 0, 0, 0, 0, 0, 0, 0, 0, 0, 0, 0, 0, 0, 0, 0, 0, 0, 0, 0, 0, 0, 0, 0, 0, 0, 0, 0, 0, 0, 0, 0, 0, 0, 0, 0, 0, 0, 0, 0, 0, 1, 0, 0, 0, 0, 0, 0, 0, 0, 0, 0, 0, 0, 0, 0, 0, 0, 0, 0, 0, 0, 0, 0, 0, 0, 0, 0, 0, 0, 0, 0, 0, 0, 0, 0, 0, 0, 0, 0, 0, 0, 0, 0, 0, 0, 0, 0, 0, 0, 0, 0, 0, 0, 0, 0, 0, 0, 0, 0, 0, 0, 0, 0, 0, 0, 1, 0, 0, 0, 0, 0, 0, 0, 0, 0, 0, 0, 0, 0, 0, 0, 0, 0, 0, 0, 0, 0, 0, 0, 0, 0, 0, 0, 0, 0, 0, 0, 0, 0, 0, 0, 0, 0, 0, 0, 0, 0, 0, 0, 0, 0, 0, 0, 0, 0, 0, 0, 0, 0, 0, 0, 0, 0, 0, 0, 0, 0, 0, 0, 0, 1, 0, 0, 0, 0, 0, 0, 0, 0, 0, 0, 0, 0, 0, 0, 0, 0, 0, 0, 0, 0, 0, 0, 0, 0, 0, 0, 0, 0, 0, 0, 0, 0, 0, 0, 0, 0, 0, 0, 0, 0, 0, 0, 0, 0, 0, 0, 0, 0, 0, 0, 0, 0, 0, 0, 0, 0, 0, 0, 0, 0, 0, 0, 0, 0, 1, 0, 0, 0, 0, 0, 0, 0, 0, 0, 0, 0, 0, 0, 0, 0, 0, 0, 0, 0, 0, 0, 0, 0, 0, 0, 0, 0, 0, 0, 0, 0, 0, 0, 0, 0, 0, 0, 0, 0, 0, 0, 0, 0, 0, 0, 0, 0, 0, 0, 0, 0, 0, 0, 0, 0, 0, 0, 0, 0, 0, 0, 0, 0, 0, 1, 0, 0, 0, 0, 0, 0, 0, 0, 0, 0, 0, 0, 0, 0, 0, 0, 0, 0, 0, 0, 0, 0, 0, 0, 0, 0, 0, 0, 0, 0, 0, 0, 0, 0, 0, 0, 0, 0, 0, 0, 0, 0, 0, 0, 0, 0, 0, 0, 0, 0, 0, 0, 0, 0, 0, 0, 0, 0, 0, 0, 0, 0, 0, 0, 1, 0, 0, 0, 0, 0, 0, 0, 0, 0, 0, 0, 0, 0, 0, 0, 0, 0, 0, 0, 0, 0, 0, 0, 0, 0, 0, 0, 0, 0, 0, 0, 0, 0, 0, 0, 0, 0, 0, 0, 0, 0, 0, 0, 0, 0, 0, 0, 0, 0, 0, 0, 0, 0, 0, 0, 0, 0, 0, 0, 0, 0, 0, 0, 0, 1, 0, 0, 0, 0, 0, 0, 0, 0, 0, 0, 0, 0, 0, 0, 0, 0, 0, 0, 0, 0, 0, 0, 0, 0, 0, 0, 0, 0, 0, 0, 0, 0, 0, 0, 0, 0, 0, 0, 0, 0, 0, 0, 0, 0, 0, 0, 0, 0, 0, 0, 0, 0, 0, 0, 0, 0, 0, 0, 0, 0, 0, 0, 0, 0, 1, 0, 0, 0, 0, 0, 0, 0, 0, 0, 0, 0, 0, 0, 0, 0, 0, 0, 0, 0, 0, 0, 0, 0, 0, 0, 0, 0, 0, 0, 0, 0, 0, 0, 0, 0, 0, 0, 0, 0, 0, 0, 0, 0, 0, 0, 0, 0, 0, 0, 0, 0, 0, 0, 0, 0, 0, 0, 0, 0, 0, 0, 0, 0, 0, 1, 0, 0, 0, 0, 0, 0, 0, 0, 0, 0, 0, 0, 0, 0, 0, 0, 0, 0, 0, 0, 0, 0, 0, 0, 0, 0, 0, 0, 0, 0, 0, 0, 0, 0, 0, 0, 0, 0, 0, 0, 0, 0, 0, 0, 0, 0, 0, 0, 0, 0, 0, 0, 0, 0, 0, 0, 0, 0, 0, 0, 0, 0, 0, 0, 1, 0, 0, 0, 0, 0, 0, 0, 0, 0, 0, 0, 0, 0, 0, 0, 0, 0, 0, 0, 0, 0, 0, 0, 0, 0, 0, 0, 0, 0, 0, 0, 0, 0, 0, 0, 0, 0, 0, 0, 0, 0, 0, 0, 0, 0, 0, 0, 0, 0, 0, 0, 0, 0, 0, 0, 0, 0, 0, 0, 0, 0, 0, 0, 0, 1, 0, 0, 0, 0, 0, 0, 0, 0, 0, 0, 0, 0, 0, 0, 0, 0, 0, 0, 0, 0, 0, 0, 0, 0, 0, 0, 0, 0, 0, 0, 0, 0, 0, 0, 0, 0, 0, 0, 0, 0, 0, 0, 0, 0, 0, 0, 0, 0, 0, 0, 0, 0, 0, 0, 0, 0, 0, 0, 0, 0, 0, 0, 0, 0, 1, 0, 0, 0, 0, 0, 0, 0, 0, 0, 0, 0, 0, 0, 0, 0, 0, 0, 0, 0, 0, 0, 0, 0, 0, 0, 0, 0, 0, 0, 0, 0, 0, 0, 0, 0, 0, 0, 0, 0, 0, 0, 0, 0, 0, 0, 0, 0, 0, 0, 0, 0, 0, 0, 0, 0, 0, 0, 0, 0, 0, 0, 0, 0, 0, 1, 0, 0, 0, 0, 0, 0, 0, 0, 0, 0, 0, 0, 0, 0, 0, 0, 0, 0, 0, 0, 0, 0, 0, 0, 0, 0, 0, 0, 0, 0, 0, 0, 0, 0, 0, 0, 0, 0, 0, 0, 0, 0, 0, 0, 0, 0, 0, 0, 0, 0, 0, 0, 0, 0, 0, 0, 0, 0, 0, 0, 0, 0, 0, 0, 1, 0, 0, 0, 0, 0, 0, 0, 0, 0, 0, 0, 0, 0, 0, 0, 0, 0, 0, 0, 0, 0, 0, 0, 0, 0, 0, 0, 0, 0, 0, 0, 0, 0, 0, 0, 0, 0, 0, 0, 0, 0, 0, 0, 0, 0, 0, 0, 0, 0, 0, 0, 0, 0, 0, 0, 0, 0, 0, 0, 0, 0, 0, 0, 0, 1, 0, 0, 0, 0, 0, 0, 0, 0, 0, 0, 0, 0, 0, 0, 0, 0, 0, 0, 0, 0, 0, 0, 0, 0, 0, 0, 0, 0, 0, 0, 0, 0, 0, 0, 0, 0, 0, 0, 0, 0, 0, 0, 0, 0, 0, 0, 0, 0, 0, 0, 0, 0, 0, 0, 0, 0, 0, 0, 0, 0, 0, 0, 0, 0, 1, 0, 0, 0, 0, 0, 0, 0, 0, 0, 0, 0, 0, 0, 0, 0, 0, 0, 0, 0, 0, 0, 0, 0, 0, 0, 0, 0, 0, 0, 0, 0, 0, 0, 0, 0, 0, 0, 0, 0, 0, 0, 0, 0, 0, 0, 0, 0, 0, 0, 0, 0, 0, 0, 0, 0, 0, 0, 0, 0, 0, 0, 0, 0, 0, 1, 0, 0, 0, 0, 0, 0, 0, 0, 0, 0, 0, 0, 0, 0, 0, 0, 0, 0, 0, 0, 0, 0, 0, 0, 0, 0, 0, 0, 0, 0, 0, 0, 0, 0, 0, 0, 0, 0, 0, 0, 0, 0, 0, 0, 0, 0, 0, 0, 0, 0, 0, 0, 0, 0, 0, 0, 0, 0, 0, 0, 0, 0, 0, 0, 1, 0, 0, 0, 0, 0, 0, 0, 0, 0, 0, 0, 0, 0, 0, 0, 0, 0, 0, 0, 0, 0, 0, 0, 0, 0, 0, 0, 0, 0, 0, 0, 0, 0, 0, 0, 0, 0, 0, 0, 0, 0, 0, 0, 0, 0, 0, 0, 0, 0, 0, 0, 0, 0, 0, 0, 0, 0, 0, 0, 0, 0, 0, 0, 0, 1, 0, 0, 0, 0, 0, 0, 0, 0, 0, 0, 0, 0, 0, 0, 0, 0, 0, 0, 0, 0, 0, 0, 0, 0, 0, 0, 0, 0, 0, 0, 0, 0, 0, 0, 0, 0, 0, 0, 0, 0, 0, 0, 0, 0, 0, 0, 0, 0, 0, 0, 0, 0, 0, 0, 0, 0, 0, 0, 0, 0, 0, 0, 0, 0, 1, 0, 0, 0, 0, 0, 0, 0, 0, 0, 0, 0, 0, 0, 0, 0, 0, 0, 0, 0, 0, 0, 0, 0, 0, 0, 0, 0, 0, 0, 0, 0, 0, 0, 0, 0, 0, 0, 0, 0, 0, 0, 0, 0, 0, 0, 0, 0, 0, 0, 0, 0, 0, 0, 0, 0, 0, 0, 0, 0, 0, 0, 0, 0, 0, 1, 0, 0, 0, 0, 0, 0, 0, 0, 0, 0, 0, 0, 0, 0, 0, 0, 0, 0, 0, 0, 0, 0, 0, 0, 0, 0, 0, 0, 0, 0, 0, 0, 0, 0, 0, 0, 0, 0, 0, 0, 0, 0, 0, 0, 0, 0, 0, 0, 0, 0, 0, 0, 0, 0, 0, 0, 0, 0, 0, 0, 0, 0, 0, 0, 1, 0, 0, 0, 0, 0, 0, 0, 0, 0, 0, 0, 0, 0, 0, 0, 0, 0, 0, 0, 0, 0, 0, 0, 0, 0, 0, 0, 0, 0, 0, 0, 0, 0, 0, 0, 0, 0, 0, 0, 0, 0, 0, 0, 0, 0, 0, 0, 0, 0, 0, 0, 1, 0, 0, 0, 0, 0, 0, 0, 0, 0, 0, 0, 0, 0, 0, 0, 0, 0, 0, 0, 0, 0, 0, 0, 0, 0, 0, 0, 0, 0, 0, 0, 0, 0, 0, 0, 0, 0, 0, 0, 0, 0, 0, 0, 0, 0, 0, 0, 0, 0, 0, 0, 0, 0, 0, 0, 0, 0, 0, 0, 0, 0, 0, 0, 0, 0, 0, 0, 0, 0, 0, 0, 0, 0, 0, 0, 0, 1, 0, 0, 0, 0, 0, 0, 0, 0, 0, 0, 0, 0, 0, 0, 0, 0, 0, 0, 0, 0, 0, 0, 0, 0, 0, 0, 0, 0, 0, 0, 0, 0, 0, 0, 0, 0, 0, 0, 0, 0, 0, 0, 0, 0, 0, 0, 0, 0, 0, 0, 0, 0, 0, 0, 0, 0, 0, 0, 0, 0, 0, 0, 0, 0, 1, 0, 0, 0, 0, 0, 0, 0, 0, 0, 0, 0, 0, 0, 0, 0, 0, 0, 0, 0, 0, 0, 0, 0, 0, 0, 0, 0, 0, 0, 0, 0, 0, 0, 0, 0, 0, 0, 0, 0, 0, 0, 0, 0, 0, 0, 0, 0, 0, 0, 0, 0, 0, 0, 0, 0, 0, 0, 0, 0, 0, 0, 0, 0, 0, 1, 0, 0, 0, 0, 0, 0, 0, 0, 0, 0, 0, 0, 0, 0, 0, 0, 0, 0, 0, 0, 0, 0, 0, 0, 0, 0, 0, 0, 0, 0, 0, 0, 0, 0, 0, 0, 0, 0, 0, 0, 0, 0, 0, 0, 0, 0, 0, 0, 0, 0, 0, 0, 0, 0, 0, 0, 0, 0, 0, 0, 0, 0, 0, 0, 1, 0, 0, 0, 0, 0, 0, 0, 0, 0, 0, 0, 0, 0, 0, 0, 0, 0, 0, 0, 0, 0, 0, 0, 0, 0, 0, 0, 0, 0, 0, 0, 0, 0, 0, 1, 0, 0, 0, 0, 0, 0, 0, 0, 0, 0, 0, 0, 0, 0, 0, 0, 0, 0, 0, 0, 0, 0, 0, 0, 0, 0, 0, 0, 0, 0, 0, 0, 0, 0, 0, 0, 0, 0, 0, 0, 0, 0, 0, 0, 0, 0, 0, 0, 0, 0, 0, 0, 0, 0, 0, 0, 0, 0, 0, 0, 0, 0, 0, 1, 0, 0, 0, 0, 0, 0, 0, 0, 0, 0, 0, 0, 0, 0, 0, 0, 0, 0, 0, 0, 0, 0, 0, 0, 0, 0, 0, 0, 0, 0, 0, 0, 0, 0, 0, 0, 0, 0, 0, 0, 0, 0, 0, 0, 0, 0, 0, 0, 0, 0, 0, 0, 0, 0, 0, 0, 0, 0, 0, 0, 0, 0, 0, 1, 0, 0, 0, 0, 0, 0, 0, 0, 0, 0, 0, 0, 0, 0, 0, 0, 0, 0, 0, 0, 0, 0, 0, 0, 0, 0, 0, 0, 0, 0, 0, 0, 0, 0, 0, 0, 0, 0, 0, 0, 0, 0, 0, 0, 0, 0, 0, 0, 0, 0, 0, 0, 0, 0, 0, 0, 0, 0, 0, 0, 0, 0, 0, 1, 0, 0, 0, 0, 0, 0, 0, 0, 0, 0, 0, 0, 0, 0, 0, 0, 0, 0, 0, 0, 0, 0, 0, 0, 0, 0, 0, 0, 0, 0, 0, 0, 0, 0, 0, 0, 0, 0, 0, 0, 0, 0, 0, 0, 0, 0, 0, 0, 0, 0, 0, 0, 0, 0, 0, 0, 0, 0, 0, 0, 0, 0, 0, 1, 0, 0, 0, 0, 0, 0, 0, 0, 0, 0, 0, 0, 0, 0, 0, 0, 0, 0, 0, 0, 0, 0, 0, 0, 0, 0, 0, 0, 0, 0, 0, 0, 0, 0, 0, 0, 0, 0, 0, 0, 0, 0, 0, 0, 0, 0, 0, 0, 0, 0, 0, 0, 0, 0, 0, 0, 0, 0, 0, 0, 0, 0, 0, 1, 0, 0, 0, 0, 0, 0, 0, 0, 0, 0, 0, 0, 0, 0, 0, 0, 0, 0, 0, 0, 0, 0, 0, 0, 0, 0, 0, 0, 0, 0, 0, 0, 0, 0, 0, 0, 0, 0, 0, 0, 0, 0, 0, 0, 0, 0, 0, 0, 0, 0, 0, 0, 0, 0, 0, 0, 0, 0, 0, 0, 0, 0, 0, 1, 0, 0, 0, 0, 0, 0, 0, 0, 0, 0, 0, 0, 0, 0, 0, 0, 0, 0, 0, 0, 0, 0, 0, 0, 0, 0, 0, 0, 0, 0, 0, 0, 0, 0, 0, 0, 0, 0, 0, 0, 0, 0, 0, 0, 0, 0, 0, 0, 0, 0, 0, 0, 0, 0, 0, 0, 0, 0, 0, 0, 0, 0, 0, 1, 0, 0, 0, 0, 0, 0, 0, 0, 0, 0, 0, 0, 0, 0, 0, 0, 0, 0, 0, 0, 0, 0, 0, 0, 0, 0, 0, 0, 0, 0, 0, 0, 0, 0, 0, 0, 0, 0, 0, 0, 0, 0, 0, 0, 0, 0, 0, 0, 0, 0, 0, 0, 0, 0, 0, 0, 0, 0, 0, 0, 0, 0, 0, 1, 0, 0, 0, 0, 0, 0, 0, 0, 0, 0, 0, 0, 0, 0, 0, 0, 0, 0, 0, 0, 0, 0, 0, 0, 0, 0, 0, 0, 0, 0, 0, 0, 0, 0, 0, 0, 0, 0, 0, 0, 0, 0, 0, 0, 0, 0, 0, 0, 0, 0, 0, 0, 0, 0, 0, 0, 0, 0, 0, 0, 0, 0, 0, 1, 0, 0, 0, 0, 0, 0, 0, 0, 0, 0, 0, 0, 0, 0, 0, 0, 0, 0, 0, 0, 0, 0, 0, 0, 0, 0, 0, 0, 0, 0, 0, 0, 0, 0, 0, 0, 0, 0, 0, 0, 0, 0, 0, 0, 0, 0, 0, 0, 0, 0, 0, 0, 0, 0, 0, 0, 0, 0, 0, 0, 0, 0, 0, 1, 0, 0, 0, 0, 0, 0, 0, 0, 0, 0, 0, 0, 0, 0, 0, 0, 0, 0, 0, 0, 0, 0, 0, 0, 0, 0, 0, 0, 0, 0, 0, 0, 0, 0, 0, 0, 0, 0, 0, 0, 0, 0, 0, 0, 0, 0, 0, 0, 0, 0, 0, 0, 0, 0, 0, 0, 0, 0, 0, 0, 0, 0, 0, 1, 0, 0, 0, 0, 0, 0, 0, 0, 0, 0, 0, 0, 0, 0, 0, 0, 0, 0, 0, 0, 0, 0, 0, 0, 0, 0, 0, 0, 0, 0, 0, 0, 0, 0, 0, 0, 0, 0, 0, 0, 0, 0, 0, 0, 0, 0, 0, 0, 0, 0, 0, 0, 0, 0, 0, 0, 0, 0, 0, 0, 0, 0, 0, 1, 0, 0, 0, 0, 0, 0, 0, 0, 0, 0, 0, 0, 0, 0, 0, 0, 0, 0, 0, 0, 0, 0, 0, 0, 0, 0, 0, 0, 0, 0, 0, 0, 0, 0, 0, 0, 0, 0, 0, 0, 0, 0, 0, 0, 0, 0, 0, 0, 0, 0, 0, 0, 0, 0, 0, 0, 0, 0, 0, 0, 0, 0, 0, 1, 0, 0, 0, 0, 0, 0, 0, 0, 0, 0, 0, 0, 0, 0, 0, 0, 0, 0, 0, 0, 0, 0, 0, 0, 0, 0, 0, 0, 0, 0, 0, 0, 0, 0, 0, 0, 0, 0, 0, 0, 0, 0, 0, 0, 0, 0, 0, 0, 0, 0, 0, 0, 0, 0, 0, 0, 0, 0, 0, 0, 0, 0, 0, 1, 0, 0, 0, 0, 0, 0, 0, 0, 0, 0, 0, 0, 0, 0, 0, 0, 0, 0, 0, 0, 0, 0, 0, 0, 0, 0, 0, 0, 0, 0, 0, 0, 0, 0, 0, 0, 0, 0, 0, 0, 0, 0, 0, 0, 0, 0, 0, 0, 0, 0, 0, 0, 0, 0, 0, 0, 0, 0, 0, 0, 0, 0, 0, 1, 0, 0, 0, 0, 0, 0, 0, 0, 0, 0, 0, 0, 0, 0, 0, 0, 0, 0, 0, 0, 0, 0, 0, 0, 0, 0, 0, 0, 0, 0, 0, 0, 0, 0, 0, 0, 0, 0, 0, 0, 0, 0, 0, 0, 0, 0, 0, 0, 0, 0, 0, 0, 0, 0, 0, 0, 0, 0, 0, 0, 0, 0, 0, 1, 0, 0, 0, 0, 0, 0, 0, 0, 0, 0, 0, 0, 0, 0, 0, 0, 0, 0, 0, 0, 0, 0, 0, 0, 0, 0, 0, 0, 0, 0, 0, 0, 0, 0, 0, 0, 0, 0, 0, 0, 0, 0, 0, 0, 0, 0, 0, 0, 0, 0, 0, 0, 0, 0, 0, 0, 0, 0, 0, 0, 0, 0, 0, 1, 0, 0, 0, 0, 0, 0, 0, 0, 0, 0, 0, 0, 0, 0, 0, 0, 0, 0, 0, 0, 0, 0, 0, 0, 0, 0, 0, 0, 0, 0, 0, 0, 0, 0, 0, 0, 0, 0, 0, 0, 0, 0, 0, 0, 0, 0, 0, 0, 0, 0, 0, 0, 0, 0, 0, 0, 0, 0, 0, 0, 0, 0, 0, 1, 0, 0, 0, 0, 0, 0, 0, 0, 0, 0, 0, 0, 0, 0, 0, 0, 0, 0, 0, 0, 0, 0, 0, 0, 0, 0, 0, 0, 0, 0, 0, 0, 0, 0, 0, 0, 0, 0, 0, 0, 0, 0, 0, 0, 0, 0, 0, 0, 0, 0, 0, 0, 0, 0, 0, 0, 0, 0, 0, 0, 0, 0, 0, 1, 0, 0, 0, 0, 0, 0, 0, 0, 0, 0, 0, 0, 0, 0, 0, 0, 0, 0, 0, 0, 0, 0, 0, 0, 0, 0, 0, 0, 0, 0, 0, 0, 0, 0, 0, 0, 0, 0, 0, 0, 0, 0, 0, 0, 0, 0, 0, 0, 0, 0, 0, 0, 0, 0, 0, 0, 0, 0, 0, 0, 0, 0, 0, 1, 0, 0, 0, 0, 0, 0, 0, 0, 0, 0, 0, 0, 0, 0, 0, 0, 0, 0, 0, 0, 0, 0, 0, 0, 0, 0, 0, 0, 0, 0, 0, 0, 0, 0, 0, 0, 0, 0, 0, 0, 0, 0, 0, 0, 0, 0, 0, 0, 0, 0, 0, 0, 0, 0, 0, 0, 0, 0, 0, 0, 0, 0, 0, 1, 0, 0, 0, 0, 0, 0, 0, 0, 0, 0, 0, 0, 0, 0, 0, 0, 0, 0, 0, 0, 0, 0, 0, 0, 0, 0, 0, 0, 0, 0, 0, 0, 0, 0, 0, 0, 0, 0, 0, 0, 0, 0, 0, 0, 0, 0, 0, 0, 0, 0, 0, 0, 0, 0, 0, 0, 0, 0, 0, 0, 0, 0, 0, 1, 0, 0, 0, 0, 0, 0, 0, 0, 0, 0, 0, 0, 0, 0, 0, 0, 0, 0, 0, 0, 0, 0, 0, 0, 0, 0, 0, 0, 0, 0, 0, 0, 0, 0, 0, 0, 0, 0, 0, 0, 0, 0, 0, 0, 0, 0, 0, 0, 0, 0, 0, 0, 0, 0, 0, 0, 0, 0, 0, 0, 0, 0, 0, 1, 0, 0, 0, 0, 0, 0, 0, 0, 0, 0, 0, 0, 0, 0, 0, 0, 0, 0, 0, 0, 0, 0, 0, 0, 0, 0, 0, 0, 0, 0, 0, 0, 0, 0, 0, 0, 0, 0, 0, 0, 0, 0, 0, 0, 0, 0, 0, 0, 0, 0, 0, 0, 0, 0, 0, 0, 0, 0, 0, 0, 0, 0, 0, 1, 0, 0, 0, 0, 0, 0, 0, 0, 0, 0, 0, 0, 0, 0, 0, 0, 0, 0, 0, 0, 0, 0, 0, 0, 0, 0, 0, 0, 0, 0, 0, 0, 0, 0, 0, 0, 0, 0, 0, 0, 0, 0, 0, 0, 0, 0, 0, 0, 0, 0, 0, 0, 0, 0, 0, 0, 0, 0, 0, 0, 0, 0, 0, 1, 0, 0, 0, 0, 0, 0, 0, 0, 0, 0, 0, 0, 0, 0, 0, 0, 0, 0, 0, 0, 0, 0, 0, 0, 0, 0, 0, 0, 0, 0, 0, 0, 0, 0, 0, 0, 0, 0, 0, 0, 0, 0, 0, 0, 0, 0, 0, 0, 0, 0, 0, 0, 0, 0, 0, 0, 0, 0, 0, 0, 0, 0, 0, 1, 0, 0, 0, 0, 0, 0, 0, 0, 0, 0, 0, 0, 0, 0, 0, 0, 0, 0, 0, 0, 0, 0, 0, 0, 0, 0, 0, 0, 0, 0, 0, 0, 0, 0, 0, 0, 0, 0, 0, 0, 0, 0, 0, 0, 0, 0, 0, 0, 0, 0, 0, 0, 0, 0, 0, 0, 0, 0, 0, 0, 0, 0, 0, 1, 0, 0, 0, 0, 0, 0, 0, 0, 0, 0, 0, 0, 0, 0, 0, 0, 0, 0, 0, 0, 0, 0, 0, 0, 0, 0, 0, 0, 0, 0, 0, 0, 0, 0, 0, 0, 0, 0, 0, 0, 0, 0, 0, 0, 0, 0, 0, 0, 0, 0, 0, 0, 0, 0, 0, 0, 0, 0, 0, 0, 0, 0, 0, 1, 0, 0, 0, 0, 0, 0, 0, 0, 0, 0, 0, 0, 0, 0, 0, 0, 0, 0, 0, 0, 0, 0, 0, 0, 0, 0, 0, 0, 0, 0, 0, 0, 0, 0, 0, 0, 0, 0, 0, 0, 0, 0, 0, 0, 0, 0, 0, 0, 0, 0, 0, 0, 0, 0, 0, 0, 0, 0, 0, 0, 0, 0, 0, 1, 0, 0, 0, 0, 0, 0, 0, 0, 0, 0, 0, 0, 0, 0, 0, 0, 0, 0, 0, 0, 0, 0, 0, 0, 0, 0, 0, 0, 0, 0, 0, 0, 0, 0, 0, 0, 0, 0, 0, 0, 0, 0, 0, 0, 0, 0, 0, 0, 0, 0, 0, 0, 0, 0, 0, 0, 0, 0, 0, 0, 0, 0, 0, 1, 0, 0, 0, 0, 0, 0, 0, 0, 0, 0, 0, 0, 0, 0, 0, 0, 0, 0, 0, 0, 0, 0, 0, 0, 0, 0, 0, 0, 0, 0, 0, 0, 0, 0, 0, 0, 0, 0, 0, 0, 0, 0, 0, 0, 0, 0, 0, 0, 0, 0, 0, 0, 0, 0, 0, 0, 0, 0, 0, 0, 0, 0, 0, 1, 0, 0, 0, 0, 0, 0, 0, 0, 0, 0, 0, 0, 0, 0, 0, 0, 0, 0, 0, 0, 0, 0, 0, 0, 0, 0, 0, 0, 0, 0, 0, 0, 0, 0, 0, 0, 0, 0, 0, 0, 0, 0, 0, 0, 0, 0, 0, 0, 0, 0, 0, 0, 0, 0, 0, 0, 0, 0, 0, 0, 0, 0, 0, 1, 0, 0, 0, 0, 0, 0, 0, 0, 0, 0, 0, 0, 0, 0, 0, 0, 0, 0, 0, 0, 0, 0, 0, 0, 0, 0, 0, 0, 0, 0, 0, 0, 0, 0, 0, 0, 0, 0, 0, 0, 0, 0, 0, 0, 0, 0, 0, 0, 0, 0, 0, 0, 0, 0, 0, 0, 0, 0, 0, 0, 0, 0, 0, 1, 0, 0, 0, 0, 0, 0, 0, 0, 0, 0, 0, 0, 0, 0, 0, 0, 0, 0, 0, 0, 0, 0, 0, 0, 0, 0, 0, 0, 0, 0, 0, 0, 0, 0, 0, 0, 0, 0, 0, 0, 0, 0, 0, 0, 0, 0, 0, 0, 0, 0, 0, 0, 0, 0, 0, 0, 0, 0, 0, 0, 0, 0, 0]\n"
     ]
    }
   ],
   "source": [
    "print(type(one_hot_encoded_tweet_list))\n",
    "print(type(one_hot_encoded_tweet_list[0]))\n",
    "print(type(one_hot_encoded_tweet_list[0][0]))\n",
    "\n",
    "print(len(one_hot_encoded_tweet_list))\n",
    "print('Length of each tweet =',length_padded_data)\n",
    "print('Length of each word in a one hot encoded tweet = Length of each tweet =',length_padded_data)\n",
    "print('len(one_hot_encoded_tweet_list[0])=('+str(length_padded_data)+'x'+str(length_padded_data)+')='+str(len(one_hot_encoded_tweet_list[0])))\n",
    "#print(len(one_hot_encoded_tweet_list[0][0]))\n",
    "\n",
    "#print(one_hot_encoded_tweet_list[0][0])\n",
    "print(one_hot_encoded_tweet_list[0])"
   ]
  },
  {
   "cell_type": "code",
   "execution_count": null,
   "metadata": {},
   "outputs": [],
   "source": []
  },
  {
   "cell_type": "code",
   "execution_count": 17,
   "metadata": {},
   "outputs": [],
   "source": [
    "### DEFINE FINAL DATASET AND CORRESPONDING LABELSET :: ###"
   ]
  },
  {
   "cell_type": "code",
   "execution_count": 18,
   "metadata": {},
   "outputs": [
    {
     "name": "stdout",
     "output_type": "stream",
     "text": [
      "len(final_dataset) = 1024\n",
      "len(final_labelset) = 1024\n"
     ]
    }
   ],
   "source": [
    "final_dataset = integer_encoded_tweet_list\n",
    "#final_dataset = one_hot_encoded_tweet_list\n",
    "final_labelset = encoded_label_list\n",
    "\n",
    "print('len(final_dataset) =',len(final_dataset))\n",
    "print('len(final_labelset) =',len(final_labelset))"
   ]
  },
  {
   "cell_type": "code",
   "execution_count": null,
   "metadata": {},
   "outputs": [],
   "source": []
  },
  {
   "cell_type": "code",
   "execution_count": 19,
   "metadata": {},
   "outputs": [],
   "source": [
    "units = len(integer_encoded_tweet_list[0])\n",
    "embedding_dim = len(integer_encoded_tweet_list[0])\n",
    "input_shape = len(integer_encoded_tweet_list[0])\n",
    "\n",
    "#units = len(one_hot_encoded_tweet_list[0])\n",
    "#embedding_dim = len(one_hot_encoded_tweet_list[0])\n",
    "#input_shape = len(one_hot_encoded_tweet_list[0])"
   ]
  },
  {
   "cell_type": "code",
   "execution_count": 20,
   "metadata": {},
   "outputs": [],
   "source": [
    "model = Sequential()"
   ]
  },
  {
   "cell_type": "code",
   "execution_count": 21,
   "metadata": {},
   "outputs": [],
   "source": [
    "model.add(Embedding(units, \n",
    "                    embedding_dim,\n",
    "                    input_shape=(input_shape,)))"
   ]
  },
  {
   "cell_type": "code",
   "execution_count": 22,
   "metadata": {},
   "outputs": [],
   "source": [
    "model.add(GRU(512, \n",
    "              activation='tanh', \n",
    "              use_bias=True, \n",
    "              bias_initializer='RandomNormal', \n",
    "              dropout=0.2, \n",
    "              return_sequences=True))"
   ]
  },
  {
   "cell_type": "code",
   "execution_count": 23,
   "metadata": {},
   "outputs": [],
   "source": [
    "model.add(GRU(512, \n",
    "              activation='tanh', \n",
    "              use_bias=True, \n",
    "              bias_initializer='RandomNormal', \n",
    "              dropout=0.2, \n",
    "              return_sequences=True))"
   ]
  },
  {
   "cell_type": "code",
   "execution_count": 24,
   "metadata": {},
   "outputs": [],
   "source": [
    "model.add(GRU(2, \n",
    "              activation='softmax', \n",
    "              use_bias=True, \n",
    "              bias_initializer='RandomNormal', \n",
    "              dropout=0.2))"
   ]
  },
  {
   "cell_type": "code",
   "execution_count": 25,
   "metadata": {},
   "outputs": [
    {
     "name": "stdout",
     "output_type": "stream",
     "text": [
      "_________________________________________________________________\n",
      "Layer (type)                 Output Shape              Param #   \n",
      "=================================================================\n",
      "embedding_1 (Embedding)      (None, 64, 64)            4096      \n",
      "_________________________________________________________________\n",
      "gru_1 (GRU)                  (None, 64, 512)           886272    \n",
      "_________________________________________________________________\n",
      "gru_2 (GRU)                  (None, 64, 512)           1574400   \n",
      "_________________________________________________________________\n",
      "gru_3 (GRU)                  (None, 2)                 3090      \n",
      "=================================================================\n",
      "Total params: 2,467,858\n",
      "Trainable params: 2,467,858\n",
      "Non-trainable params: 0\n",
      "_________________________________________________________________\n"
     ]
    }
   ],
   "source": [
    "model.summary()"
   ]
  },
  {
   "cell_type": "code",
   "execution_count": 26,
   "metadata": {},
   "outputs": [],
   "source": [
    "plot_model(model, to_file='D:\\EDUCATION\\Machine & Deep Learning\\Jupyter Notebook\\Images\\model.pdf')"
   ]
  },
  {
   "cell_type": "code",
   "execution_count": 27,
   "metadata": {},
   "outputs": [],
   "source": [
    "batch_size = 500\n",
    "epochs = 4\n",
    "k = 3\n",
    "learning_rate = 0.1\n",
    "learning_rate_decay = 1e-6"
   ]
  },
  {
   "cell_type": "code",
   "execution_count": 28,
   "metadata": {},
   "outputs": [],
   "source": [
    "model.compile(loss='sparse_categorical_crossentropy',\n",
    "             optimizer=SGD(lr=learning_rate,\n",
    "                           decay=learning_rate_decay\n",
    "                          ),\n",
    "             metrics=['accuracy'])"
   ]
  },
  {
   "cell_type": "code",
   "execution_count": 29,
   "metadata": {},
   "outputs": [
    {
     "name": "stdout",
     "output_type": "stream",
     "text": [
      "102\n",
      "len(training_validation_dataset) = 922\n",
      "len(training_validation_labelset) = 922\n",
      "len(testing_dataset) = 102\n",
      "len(testing_labelset) 102\n"
     ]
    }
   ],
   "source": [
    "dataset_split_index = int(len(final_dataset)*0.1)\n",
    "\n",
    "training_validation_dataset = final_dataset[dataset_split_index:]\n",
    "testing_dataset = final_dataset[:dataset_split_index]\n",
    "\n",
    "training_validation_labelset = final_labelset[dataset_split_index:]\n",
    "testing_labelset = final_labelset[:dataset_split_index]\n",
    "\n",
    "print(dataset_split_index)\n",
    "\n",
    "print('len(training_validation_dataset) =',len(training_validation_dataset))\n",
    "print('len(training_validation_labelset) =',len(training_validation_labelset))\n",
    "\n",
    "print('len(testing_dataset) =',len(testing_dataset))\n",
    "print('len(testing_labelset)',len(testing_labelset))"
   ]
  },
  {
   "cell_type": "code",
   "execution_count": 30,
   "metadata": {},
   "outputs": [
    {
     "name": "stdout",
     "output_type": "stream",
     "text": [
      "1024\n"
     ]
    }
   ],
   "source": [
    "total_data = len(integer_encoded_tweet_list)\n",
    "split_indices = int(total_data/k)\n",
    "\n",
    "print(total_data)"
   ]
  },
  {
   "cell_type": "code",
   "execution_count": 31,
   "metadata": {
    "scrolled": false
   },
   "outputs": [
    {
     "name": "stdout",
     "output_type": "stream",
     "text": [
      "Fold - 1 ::\n",
      "--------------\n",
      "581\n",
      "64\n",
      "Training on 581 samples & validating on 341 samples with batch size 500 .\n",
      "Epoch 1/4\n",
      "581/581 [==============================] - 9s 15ms/step - loss: 0.6966 - acc: 0.3907\n",
      "Epoch 2/4\n",
      "581/581 [==============================] - 5s 8ms/step - loss: 0.6054 - acc: 0.7263\n",
      "Epoch 3/4\n",
      "581/581 [==============================] - 5s 8ms/step - loss: 0.5905 - acc: 0.7263\n",
      "Epoch 4/4\n",
      "581/581 [==============================] - 5s 8ms/step - loss: 0.5931 - acc: 0.7263\n",
      "\n",
      "Validating...\n",
      "341/341 [==============================] - 3s 8ms/step\n",
      "Validation loss: 0.5863779377727565 , Validation acc: 0.7272727276223147\n",
      "--------------\n",
      "\n",
      "Fold - 2 ::\n",
      "--------------\n",
      "581\n",
      "64\n",
      "Training on 581 samples & validating on 341 samples with batch size 500 .\n",
      "Epoch 1/4\n",
      "581/581 [==============================] - 5s 8ms/step - loss: 0.5797 - acc: 0.7315\n",
      "Epoch 2/4\n",
      "581/581 [==============================] - 5s 8ms/step - loss: 0.5819 - acc: 0.7315\n",
      "Epoch 3/4\n",
      "581/581 [==============================] - 5s 8ms/step - loss: 0.5861 - acc: 0.7315\n",
      "Epoch 4/4\n",
      "581/581 [==============================] - 5s 8ms/step - loss: 0.5839 - acc: 0.7315\n",
      "\n",
      "Validating...\n",
      "341/341 [==============================] - 3s 8ms/step\n",
      "Validation loss: 0.595106505578564 , Validation acc: 0.7184750740129577\n",
      "--------------\n",
      "\n",
      "Fold - 3 ::\n",
      "--------------\n",
      "682\n",
      "64\n",
      "Training on 682 samples & validating on 240 samples with batch size 500 .\n",
      "Epoch 1/4\n",
      "682/682 [==============================] - 5s 7ms/step - loss: 0.5914 - acc: 0.7229\n",
      "Epoch 2/4\n",
      "682/682 [==============================] - 5s 7ms/step - loss: 0.5899 - acc: 0.7229\n",
      "Epoch 3/4\n",
      "682/682 [==============================] - 5s 7ms/step - loss: 0.5910 - acc: 0.7229\n",
      "Epoch 4/4\n",
      "682/682 [==============================] - 5s 7ms/step - loss: 0.5918 - acc: 0.7229\n",
      "\n",
      "Validating...\n",
      "240/240 [==============================] - 2s 8ms/step\n",
      "Validation loss: 0.5762793938318889 , Validation acc: 0.7375\n",
      "--------------\n",
      "\n"
     ]
    }
   ],
   "source": [
    "training_loss = []\n",
    "training_acc = []\n",
    "validation_loss = []\n",
    "validation_acc = []\n",
    "\n",
    "for fold in range(1,k+1):\n",
    "    print('Fold -',fold,'::')\n",
    "    print('--------------')\n",
    "    \n",
    "    training_dataset = training_validation_dataset[:fold*split_indices-split_indices]\n",
    "    training_dataset += training_validation_dataset[fold*split_indices:]\n",
    "    validation_dataset = training_validation_dataset[fold*split_indices-split_indices:fold*split_indices]\n",
    "    \n",
    "    training_labelset = training_validation_labelset[:fold*split_indices-split_indices]\n",
    "    training_labelset += training_validation_labelset[fold*split_indices:]\n",
    "    validation_labelset = training_validation_labelset[fold*split_indices-split_indices:fold*split_indices]\n",
    "    \n",
    "    #print(len(training_dataset))\n",
    "    #print(len(training_dataset[0]))\n",
    "    #print(type(training_dataset[0][0]))\n",
    "    \n",
    "    print('Training on',len(training_dataset),'samples & validating on',len(validation_dataset),'samples with batch size',batch_size,'.')\n",
    "    \n",
    "    training_history = model.fit(np.array(training_dataset),\n",
    "                                 np.array(training_labelset),\n",
    "                                 batch_size=batch_size,\n",
    "                                 epochs=epochs,\n",
    "                                 #validation_split=0.1\n",
    "                                )\n",
    "    #training_history.append(current_training_history)\n",
    "    for loss in training_history.history['loss']:\n",
    "        training_loss.append(loss)\n",
    "    for acc in training_history.history['acc']:\n",
    "        training_acc.append(acc)\n",
    "    \n",
    "    print('\\nValidating...')\n",
    "    validation_history = model.evaluate(np.array(validation_dataset),\n",
    "                                        np.array(validation_labelset),\n",
    "                                        batch_size=None, \n",
    "                                       )\n",
    "    #validation_history.append(current_validation_history)\n",
    "    validation_loss.append(validation_history[0])\n",
    "    validation_acc.append(validation_history[1])\n",
    "    print('Validation loss:',validation_history[0],', Validation acc:',validation_history[1])\n",
    "    \n",
    "    print('--------------\\n')"
   ]
  },
  {
   "cell_type": "code",
   "execution_count": 32,
   "metadata": {},
   "outputs": [
    {
     "data": {
      "image/png": "[encoded data removed]",
      "text/plain": [
       "<Figure size 432x288 with 1 Axes>"
      ]
     },
     "metadata": {
      "needs_background": "light"
     },
     "output_type": "display_data"
    }
   ],
   "source": [
    "x_axis = [x/epochs for x in range(1,epochs*k+1)]\n",
    "\n",
    "plt.grid()\n",
    "plt.plot(x_axis, training_loss)\n",
    "plt.plot(x_axis, training_acc)\n",
    "plt.plot([0,k], [min(training_loss),max(training_acc)+.05], alpha=0.0)\n",
    "plt.title('Training Loss vs Training Accuracy')\n",
    "plt.ylabel('Training Value')\n",
    "plt.xlabel('Fold')\n",
    "plt.legend(['Training Loss', 'Training Accuracy'], loc='best')\n",
    "plt.show()"
   ]
  },
  {
   "cell_type": "code",
   "execution_count": 47,
   "metadata": {
    "scrolled": true
   },
   "outputs": [
    {
     "data": {
      "image/png": "[encoded data removed]",
      "text/plain": [
       "<Figure size 432x288 with 1 Axes>"
      ]
     },
     "metadata": {
      "needs_background": "light"
     },
     "output_type": "display_data"
    }
   ],
   "source": [
    "x_axis = [x for x in range(1,k+1)]\n",
    "\n",
    "plt.grid()\n",
    "plt.plot(x_axis, validation_loss)\n",
    "plt.plot(x_axis, validation_acc)\n",
    "plt.plot([1,k], [min(validation_loss),max(validation_acc)+.05], alpha=0.0)\n",
    "plt.title('Validation Loss vs Validation Accuracy')\n",
    "plt.ylabel('Validation Value')\n",
    "plt.xlabel('Fold')\n",
    "plt.legend(['Validation Loss', 'Validation Accuracy'], loc='best')\n",
    "plt.show()"
   ]
  },
  {
   "cell_type": "code",
   "execution_count": 34,
   "metadata": {},
   "outputs": [],
   "source": [
    "### TESTING :: ###"
   ]
  },
  {
   "cell_type": "code",
   "execution_count": 35,
   "metadata": {},
   "outputs": [],
   "source": [
    "testing_result = model.predict_classes(np.array(testing_dataset))"
   ]
  },
  {
   "cell_type": "code",
   "execution_count": 36,
   "metadata": {},
   "outputs": [],
   "source": [
    "accuracy_count = 0\n",
    "for target,predicted in zip(testing_labelset,testing_result):\n",
    "    if target == predicted:\n",
    "        accuracy_count += 1"
   ]
  },
  {
   "cell_type": "code",
   "execution_count": 37,
   "metadata": {},
   "outputs": [
    {
     "name": "stdout",
     "output_type": "stream",
     "text": [
      "74 out of 102 testing samples are correctly classified!\n",
      "Accuracy = 72.55%\n"
     ]
    }
   ],
   "source": [
    "print(accuracy_count,'out of',len(testing_labelset),'testing samples are correctly classified!')\n",
    "accuracy = round(((accuracy_count/len(testing_labelset))*100), 2)\n",
    "print('Accuracy = '+str(accuracy)+'%')"
   ]
  },
  {
   "cell_type": "code",
   "execution_count": null,
   "metadata": {},
   "outputs": [],
   "source": []
  },
  {
   "cell_type": "code",
   "execution_count": 38,
   "metadata": {},
   "outputs": [],
   "source": [
    "### SOME NOTES:-"
   ]
  },
  {
   "cell_type": "code",
   "execution_count": 39,
   "metadata": {},
   "outputs": [
    {
     "name": "stdout",
     "output_type": "stream",
     "text": [
      "{'loss': [0.5914404617726279, 0.5899179425756952, 0.5909863588047867, 0.5917728576492355], 'acc': [0.7228738861349671, 0.7228738800171883, 0.7228739106060822, 0.7228739114800506]}\n",
      "[0.5914404617726279, 0.5899179425756952, 0.5909863588047867, 0.5917728576492355]\n",
      "[0.7228738861349671, 0.7228738800171883, 0.7228739106060822, 0.7228739114800506]\n"
     ]
    }
   ],
   "source": [
    "#print(training_history.epoch)\n",
    "print(training_history.history)\n",
    "print(training_history.history['loss'])\n",
    "print(training_history.history['acc'])\n",
    "#print(training_history.model)"
   ]
  },
  {
   "cell_type": "code",
   "execution_count": 40,
   "metadata": {},
   "outputs": [
    {
     "name": "stdout",
     "output_type": "stream",
     "text": [
      "[0.5762793938318889, 0.7375]\n",
      "0.5762793938318889\n",
      "0.7375\n"
     ]
    }
   ],
   "source": [
    "print(validation_history)\n",
    "print(validation_history[0])\n",
    "print(validation_history[1])\n",
    "#print(validation_history.count)"
   ]
  },
  {
   "cell_type": "code",
   "execution_count": 41,
   "metadata": {
    "scrolled": false
   },
   "outputs": [
    {
     "name": "stdout",
     "output_type": "stream",
     "text": [
      "[0.6966254530593163, 0.6054173268877906, 0.5905174346265613, 0.5931132588657373, 0.5796593466642186, 0.5818502812705639, 0.5861447766397578, 0.5838533236730119, 0.5914404617726279, 0.5899179425756952, 0.5909863588047867, 0.5917728576492355]\n",
      "[0.3907056781182806, 0.7263338930020029, 0.7263339117759271, 0.7263338839741048, 0.731497410139816, 0.7314974305551762, 0.7314974215272781, 0.7314974403012025, 0.7228738861349671, 0.7228738800171883, 0.7228739106060822, 0.7228739114800506]\n",
      "validation_loss = [0.5863779377727565, 0.595106505578564, 0.5762793938318889]\n",
      "[0.7272727276223147, 0.7184750740129577, 0.7375]\n",
      "0.7314974403012025\n",
      "0.5796593466642186\n",
      "0.7375\n",
      "min(validation_loss) = 0.5762793938318889\n",
      "12\n"
     ]
    }
   ],
   "source": [
    "print(training_loss)\n",
    "print(training_acc)\n",
    "print('validation_loss =',validation_loss)\n",
    "print(validation_acc)\n",
    "\n",
    "print(max(training_acc))\n",
    "print(min(training_loss))\n",
    "\n",
    "print(max(validation_acc))\n",
    "print('min(validation_loss) =',min(validation_loss))\n",
    "\n",
    "print(len(training_loss))"
   ]
  },
  {
   "cell_type": "code",
   "execution_count": 42,
   "metadata": {},
   "outputs": [
    {
     "data": {
      "text/plain": [
       "\"\\nplt.plot(training_loss)\\nplt.plot(validation_loss)\\nplt.title('Training Loss vs Validation Loss')\\nplt.ylabel('Loss')\\nplt.xlabel('Epoch')\\nplt.legend(['Training Loss', 'Validation Loss'], loc='upper left')\\nplt.show()\\n\""
      ]
     },
     "execution_count": 42,
     "metadata": {},
     "output_type": "execute_result"
    }
   ],
   "source": [
    "'''\n",
    "plt.plot(training_loss)\n",
    "plt.plot(validation_loss)\n",
    "plt.title('Training Loss vs Validation Loss')\n",
    "plt.ylabel('Loss')\n",
    "plt.xlabel('Epoch')\n",
    "plt.legend(['Training Loss', 'Validation Loss'], loc='upper left')\n",
    "plt.show()\n",
    "'''"
   ]
  },
  {
   "cell_type": "code",
   "execution_count": 43,
   "metadata": {},
   "outputs": [
    {
     "data": {
      "text/plain": [
       "1.67"
      ]
     },
     "execution_count": 43,
     "metadata": {},
     "output_type": "execute_result"
    }
   ],
   "source": [
    "5/3\n",
    "round(5/3, 2)"
   ]
  },
  {
   "cell_type": "code",
   "execution_count": 44,
   "metadata": {},
   "outputs": [
    {
     "name": "stdout",
     "output_type": "stream",
     "text": [
      "[0.08, 0.17, 0.25, 0.33, 0.42, 0.5, 0.58, 0.67, 0.75, 0.83, 0.92, 1.0]\n",
      "[0, 1, 2, 3, 4, 5, 6, 7, 8, 9, 10, 11, 12]\n",
      "[0.0, 0.25, 0.5, 0.75, 1.0, 1.25, 1.5, 1.75, 2.0, 2.25, 2.5, 2.75, 3.0]\n",
      "[0.0, 0.25, 0.5, 0.75, 1.0, 1.25, 1.5, 1.75, 2.0, 2.25, 2.5, 2.75, 3.0]\n",
      "[0.6966254530593163, 0.6054173268877906, 0.5905174346265613, 0.5931132588657373, 0.5796593466642186, 0.5818502812705639, 0.5861447766397578, 0.5838533236730119, 0.5914404617726279, 0.5899179425756952, 0.5909863588047867, 0.5917728576492355, 1]\n"
     ]
    }
   ],
   "source": [
    "x_axis = [round(x/len(training_loss), 2) for x in range(1,len(training_loss)+1)]\n",
    "print(x_axis)\n",
    "\n",
    "x_axis = [x for x in range(epochs*k+1)]\n",
    "print(x_axis)\n",
    "\n",
    "x_axis = [x/epochs for x in range(epochs*k+1)]\n",
    "print(x_axis)\n",
    "\n",
    "x_axis = [x/epochs for x in range(epochs*k+1)]\n",
    "print(x_axis)\n",
    "\n",
    "y_axis = [y for y in training_loss]\n",
    "y_axis.append(1)\n",
    "print(y_axis)"
   ]
  },
  {
   "cell_type": "code",
   "execution_count": 45,
   "metadata": {},
   "outputs": [
    {
     "data": {
      "text/plain": [
       "[10, 11]"
      ]
     },
     "execution_count": 45,
     "metadata": {},
     "output_type": "execute_result"
    }
   ],
   "source": [
    "x=10\n",
    "[x,11]"
   ]
  },
  {
   "cell_type": "code",
   "execution_count": null,
   "metadata": {},
   "outputs": [],
   "source": []
  }
 ],
 "metadata": {
  "kernelspec": {
   "display_name": "Python 3",
   "language": "python",
   "name": "python3"
  },
  "language_info": {
   "codemirror_mode": {
    "name": "ipython",
    "version": 3
   },
   "file_extension": ".py",
   "mimetype": "text/x-python",
   "name": "python",
   "nbconvert_exporter": "python",
   "pygments_lexer": "ipython3",
   "version": "3.6.6"
  }
 },
 "nbformat": 4,
 "nbformat_minor": 2
}
