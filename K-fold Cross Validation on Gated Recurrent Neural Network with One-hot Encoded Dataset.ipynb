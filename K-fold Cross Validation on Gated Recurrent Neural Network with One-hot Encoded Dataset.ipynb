{
  "nbformat": 4,
  "nbformat_minor": 0,
  "metadata": {
    "colab": {
      "name": "K-fold Cross Validation on Gated Recurrent Neural Network with One-hot Encoded Dataset.ipynb",
      "version": "0.3.2",
      "provenance": [],
      "collapsed_sections": []
    },
    "kernelspec": {
      "name": "python3",
      "display_name": "Python 3"
    },
    "accelerator": "GPU"
  },
  "cells": [
    {
      "metadata": {
        "id": "6ez1a1fJtPxr",
        "colab_type": "code",
        "colab": {}
      },
      "cell_type": "code",
      "source": [
        "# copyright(c) abdulhasibuddin@gmail.com"
      ],
      "execution_count": 0,
      "outputs": []
    },
    {
      "metadata": {
        "id": "3gs1EWVktPx4",
        "colab_type": "code",
        "colab": {
          "base_uri": "https://localhost:8080/",
          "height": 34
        },
        "outputId": "a8bf5508-1d05-4d91-8aae-1f7f4773233f"
      },
      "cell_type": "code",
      "source": [
        "import keras\n",
        "#from keras.preprocessing.text import one_hot\n",
        "#from keras.preprocessing.text import text_to_word_sequence\n",
        "from keras.models import Sequential\n",
        "from keras.layers import *\n",
        "from keras.optimizers import *\n",
        "from keras.utils import plot_model\n",
        "import numpy as np\n",
        "import matplotlib.pyplot as plt\n",
        "from tkinter import Tk\n",
        "from tkinter.filedialog import askopenfilename\n",
        "from google.colab import files"
      ],
      "execution_count": 2,
      "outputs": [
        {
          "output_type": "stream",
          "text": [
            "Using TensorFlow backend.\n"
          ],
          "name": "stderr"
        }
      ]
    },
    {
      "metadata": {
        "id": "RY2JTFdPuIFP",
        "colab_type": "code",
        "colab": {
          "resources": {
            "http://localhost:8080/nbextensions/google.colab/files.js": {
              "data": "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",
              "ok": true,
              "headers": [
                [
                  "content-type",
                  "application/javascript"
                ]
              ],
              "status": 200,
              "status_text": ""
            }
          },
          "base_uri": "https://localhost:8080/",
          "height": 164
        },
        "outputId": "63a05a5f-c213-43ec-bad2-2390ee05c70f"
      },
      "cell_type": "code",
      "source": [
        "files.upload()\n",
        "files.upload()"
      ],
      "execution_count": 3,
      "outputs": [
        {
          "output_type": "display_data",
          "data": {
            "text/html": [
              "\n",
              "     <input type=\"file\" id=\"files-1d77779e-8b4e-4f6c-80db-693d169df347\" name=\"files[]\" multiple disabled />\n",
              "     <output id=\"result-1d77779e-8b4e-4f6c-80db-693d169df347\">\n",
              "      Upload widget is only available when the cell has been executed in the\n",
              "      current browser session. Please rerun this cell to enable.\n",
              "      </output>\n",
              "      <script src=\"/nbextensions/google.colab/files.js\"></script> "
            ],
            "text/plain": [
              "<IPython.core.display.HTML object>"
            ]
          },
          "metadata": {
            "tags": []
          }
        },
        {
          "output_type": "stream",
          "text": [
            "Saving tweets_final_dataset_04_11_2018.txt to tweets_final_dataset_04_11_2018.txt\n"
          ],
          "name": "stdout"
        },
        {
          "output_type": "display_data",
          "data": {
            "text/html": [
              "\n",
              "     <input type=\"file\" id=\"files-681d8cdc-7873-4d8b-99dd-db53968360e3\" name=\"files[]\" multiple disabled />\n",
              "     <output id=\"result-681d8cdc-7873-4d8b-99dd-db53968360e3\">\n",
              "      Upload widget is only available when the cell has been executed in the\n",
              "      current browser session. Please rerun this cell to enable.\n",
              "      </output>\n",
              "      <script src=\"/nbextensions/google.colab/files.js\"></script> "
            ],
            "text/plain": [
              "<IPython.core.display.HTML object>"
            ]
          },
          "metadata": {
            "tags": []
          }
        },
        {
          "output_type": "stream",
          "text": [
            "Saving labels_final_dataset_04_11_2018.txt to labels_final_dataset_04_11_2018.txt\n"
          ],
          "name": "stdout"
        },
        {
          "output_type": "execute_result",
          "data": {
            "text/plain": [
              "{'labels_final_dataset_04_11_2018.txt': b'simple_negative\\nunclassified_emotion\\nunclassified_emotion\\npositive\\npositive\\nunclassified_emotion\\nsimple_negative\\npositive\\nsimple_negative\\npositive\\npositive\\ndepressive\\ndepressive\\npositive\\ndepressive\\npositive\\nunclassified_emotion\\npositive\\nsimple_negative\\npositive\\npositive\\nsimple_negative\\npositive\\ndepressive\\npositive\\npositive\\npositive\\npositive\\nunclassified_emotion\\ndepressive\\npositive\\nunclassified_emotion\\npositive\\ndepressive\\nunclassified_emotion\\npositive\\nunclassified_emotion\\npositive\\nunclassified_emotion\\nsimple_negative\\nunclassified_emotion\\ndepressive\\ndepressive\\npositive\\npositive\\nunclassified_emotion\\nsimple_negative\\ndepressive\\npositive\\npositive\\ndepressive\\nsimple_negative\\ndepressive\\npositive\\ndepressive\\npositive\\nsimple_negative\\nunclassified_emotion\\npositive\\nunclassified_emotion\\ndepressive\\ndepressive\\ndepressive\\nunclassified_emotion\\npositive\\npositive\\nunclassified_emotion\\nsimple_negative\\ndepressive\\nunclassified_emotion\\npositive\\nsimple_negative\\nsimple_negative\\ndepressive\\nunclassified_emotion\\npositive\\ndepressive\\ndepressive\\npositive\\npositive\\nunclassified_emotion\\npositive\\npositive\\ndepressive\\npositive\\ndepressive\\ndepressive\\ndepressive\\nunclassified_emotion\\nsimple_negative\\ndepressive\\ndepressive\\ndepressive\\nunclassified_emotion\\nsimple_negative\\nunclassified_emotion\\nsimple_negative\\nsimple_negative\\nsimple_negative\\ndepressive\\ndepressive\\npositive\\ndepressive\\ndepressive\\ndepressive\\npositive\\ndepressive\\ndepressive\\ndepressive\\ndepressive\\npositive\\npositive\\nsimple_negative\\nsimple_negative\\npositive\\ndepressive\\npositive\\npositive\\ndepressive\\ndepressive\\ndepressive\\nunclassified_emotion\\nunclassified_emotion\\nsimple_negative\\npositive\\nsimple_negative\\nsimple_negative\\ndepressive\\npositive\\nunclassified_emotion\\nsimple_negative\\npositive\\ndepressive\\ndepressive\\ndepressive\\nunclassified_emotion\\ndepressive\\nsimple_negative\\ndepressive\\ndepressive\\npositive\\nsimple_negative\\nsimple_negative\\nunclassified_emotion\\npositive\\nsimple_negative\\nsimple_negative\\npositive\\npositive\\nsimple_negative\\ndepressive\\nsimple_negative\\nsimple_negative\\npositive\\npositive\\nsimple_negative\\ndepressive\\npositive\\nsimple_negative\\ndepressive\\ndepressive\\npositive\\npositive\\nunclassified_emotion\\nsimple_negative\\nsimple_negative\\ndepressive\\ndepressive\\npositive\\nsimple_negative\\ndepressive\\nsimple_negative\\ndepressive\\nsimple_negative\\nsimple_negative\\npositive\\nunclassified_emotion\\npositive\\nsimple_negative\\ndepressive\\nsimple_negative\\ndepressive\\nsimple_negative\\nsimple_negative\\npositive\\nsimple_negative\\nsimple_negative\\nsimple_negative\\npositive\\npositive\\nsimple_negative\\nsimple_negative\\npositive\\nsimple_negative\\nsimple_negative\\nsimple_negative\\npositive\\nsimple_negative\\nunclassified_emotion\\ndepressive\\ndepressive\\npositive\\nsimple_negative\\npositive\\nunclassified_emotion\\ndepressive\\ndepressive\\ndepressive\\ndepressive\\nunclassified_emotion\\nunclassified_emotion\\nsimple_negative\\npositive\\nunclassified_emotion\\npositive\\ndepressive\\nsimple_negative\\ndepressive\\ndepressive\\npositive\\ndepressive\\npositive\\npositive\\npositive\\npositive\\nsimple_negative\\ndepressive\\npositive\\npositive\\npositive\\ndepressive\\ndepressive\\npositive\\npositive\\npositive\\nsimple_negative\\npositive\\ndepressive\\nsimple_negative\\npositive\\npositive\\nsimple_negative\\ndepressive\\npositive\\npositive\\npositive\\nsimple_negative\\npositive\\nsimple_negative\\npositive\\npositive\\ndepressive\\nsimple_negative\\nsimple_negative\\npositive\\nsimple_negative\\npositive\\ndepressive\\nunclassified_emotion\\npositive\\npositive\\nunclassified_emotion\\ndepressive\\nsimple_negative\\nsimple_negative\\npositive\\ndepressive\\nunclassified_emotion\\npositive\\ndepressive\\ndepressive\\npositive\\npositive\\npositive\\ndepressive\\ndepressive\\nunclassified_emotion\\nunclassified_emotion\\nunclassified_emotion\\npositive\\nsimple_negative\\nunclassified_emotion\\ndepressive\\ndepressive\\npositive\\ndepressive\\npositive\\ndepressive\\ndepressive\\ndepressive\\nsimple_negative\\ndepressive\\nsimple_negative\\nunclassified_emotion\\nsimple_negative\\npositive\\nunclassified_emotion\\npositive\\ndepressive\\npositive\\ndepressive\\nsimple_negative\\npositive\\nunclassified_emotion\\nsimple_negative\\nsimple_negative\\ndepressive\\npositive\\npositive\\nunclassified_emotion\\ndepressive\\nsimple_negative\\npositive\\npositive\\ndepressive\\nunclassified_emotion\\nunclassified_emotion\\ndepressive\\nsimple_negative\\npositive\\ndepressive\\nsimple_negative\\npositive\\npositive\\npositive\\ndepressive\\npositive\\npositive\\npositive\\nsimple_negative\\nsimple_negative\\npositive\\nunclassified_emotion\\ndepressive\\npositive\\ndepressive\\nunclassified_emotion\\npositive\\npositive\\npositive\\ndepressive\\nsimple_negative\\npositive\\ndepressive\\ndepressive\\ndepressive\\nunclassified_emotion\\nunclassified_emotion\\nsimple_negative\\ndepressive\\nsimple_negative\\ndepressive\\nunclassified_emotion\\npositive\\ndepressive\\npositive\\npositive\\npositive\\npositive\\nsimple_negative\\npositive\\nsimple_negative\\nunclassified_emotion\\nunclassified_emotion\\nsimple_negative\\ndepressive\\nsimple_negative\\ndepressive\\npositive\\nsimple_negative\\nsimple_negative\\npositive\\npositive\\nsimple_negative\\nsimple_negative\\npositive\\nsimple_negative\\nsimple_negative\\ndepressive\\npositive\\ndepressive\\ndepressive\\ndepressive\\npositive\\npositive\\nsimple_negative\\npositive\\nsimple_negative\\ndepressive\\npositive\\nsimple_negative\\ndepressive\\nsimple_negative\\npositive\\nunclassified_emotion\\nsimple_negative\\nsimple_negative\\ndepressive\\nunclassified_emotion\\npositive\\nsimple_negative\\nsimple_negative\\nsimple_negative\\npositive\\npositive\\npositive\\nunclassified_emotion\\ndepressive\\ndepressive\\ndepressive\\npositive\\npositive\\ndepressive\\ndepressive\\npositive\\nsimple_negative\\npositive\\ndepressive\\nunclassified_emotion\\npositive\\ndepressive\\npositive\\ndepressive\\npositive\\npositive\\npositive\\npositive\\nunclassified_emotion\\nunclassified_emotion\\npositive\\nunclassified_emotion\\npositive\\npositive\\nunclassified_emotion\\nsimple_negative\\ndepressive\\npositive\\npositive\\npositive\\npositive\\npositive\\npositive\\nunclassified_emotion\\npositive\\npositive\\nunclassified_emotion\\npositive\\npositive\\npositive\\npositive\\npositive\\npositive\\npositive\\npositive\\npositive\\npositive\\npositive\\npositive\\npositive\\nunclassified_emotion\\npositive\\ndepressive\\npositive\\nsimple_negative\\nunclassified_emotion\\npositive\\ndepressive\\ndepressive\\ndepressive\\npositive\\npositive\\npositive\\ndepressive\\npositive\\ndepressive\\nsimple_negative\\ndepressive\\npositive\\npositive\\npositive\\nsimple_negative\\nunclassified_emotion\\npositive\\ndepressive\\nsimple_negative\\npositive\\npositive\\npositive\\npositive\\ndepressive\\npositive\\npositive\\npositive\\npositive\\ndepressive\\nsimple_negative\\ndepressive\\ndepressive\\ndepressive\\ndepressive\\ndepressive\\npositive\\npositive\\npositive\\npositive\\ndepressive\\ndepressive\\nunclassified_emotion\\nsimple_negative\\nsimple_negative\\nsimple_negative\\nsimple_negative\\ndepressive\\ndepressive\\nsimple_negative\\npositive\\nsimple_negative\\npositive\\npositive\\ndepressive\\npositive\\nunclassified_emotion\\ndepressive\\ndepressive\\ndepressive\\npositive\\npositive\\npositive\\ndepressive\\nunclassified_emotion\\npositive\\npositive\\npositive\\ndepressive\\nunclassified_emotion\\nunclassified_emotion\\npositive\\ndepressive\\npositive\\npositive\\ndepressive\\nunclassified_emotion\\nsimple_negative\\npositive\\ndepressive\\npositive\\nsimple_negative\\npositive\\ndepressive\\ndepressive\\ndepressive\\ndepressive\\npositive\\ndepressive\\nunclassified_emotion\\nunclassified_emotion\\nsimple_negative\\nsimple_negative\\nsimple_negative\\nunclassified_emotion\\nsimple_negative\\nsimple_negative\\nsimple_negative\\npositive\\npositive\\nsimple_negative\\ndepressive\\nunclassified_emotion\\nunclassified_emotion\\npositive\\nsimple_negative\\npositive\\nsimple_negative\\ndepressive\\npositive\\nunclassified_emotion\\nsimple_negative\\nsimple_negative\\ndepressive\\nsimple_negative\\nsimple_negative\\npositive\\ndepressive\\nsimple_negative\\npositive\\npositive\\ndepressive\\ndepressive\\npositive\\npositive\\nunclassified_emotion\\nunclassified_emotion\\npositive\\nsimple_negative\\ndepressive\\ndepressive\\nsimple_negative\\npositive\\npositive\\ndepressive\\ndepressive\\nsimple_negative\\npositive\\ndepressive\\nunclassified_emotion\\npositive\\nunclassified_emotion\\npositive\\npositive\\npositive\\npositive\\npositive\\ndepressive\\ndepressive\\ndepressive\\npositive\\npositive\\nsimple_negative\\nunclassified_emotion\\npositive\\npositive\\nunclassified_emotion\\nsimple_negative\\npositive\\npositive\\ndepressive\\npositive\\ndepressive\\ndepressive\\npositive\\ndepressive\\npositive\\ndepressive\\ndepressive\\npositive\\npositive\\nsimple_negative\\ndepressive\\npositive\\ndepressive\\ndepressive\\nunclassified_emotion\\npositive\\ndepressive\\ndepressive\\nsimple_negative\\nunclassified_emotion\\nsimple_negative\\ndepressive\\nsimple_negative\\nunclassified_emotion\\nsimple_negative\\npositive\\ndepressive\\npositive\\nsimple_negative\\ndepressive\\nunclassified_emotion\\nunclassified_emotion\\npositive\\ndepressive\\npositive\\ndepressive\\nsimple_negative\\npositive\\npositive\\nsimple_negative\\ndepressive\\ndepressive\\nsimple_negative\\ndepressive\\ndepressive\\nunclassified_emotion\\ndepressive\\npositive\\ndepressive\\npositive\\npositive\\nunclassified_emotion\\npositive\\ndepressive\\npositive\\ndepressive\\ndepressive\\nsimple_negative\\npositive\\ndepressive\\npositive\\nsimple_negative\\nsimple_negative\\ndepressive\\ndepressive\\ndepressive\\npositive\\nsimple_negative\\nsimple_negative\\nunclassified_emotion\\ndepressive\\npositive\\ndepressive\\nsimple_negative\\nsimple_negative\\nunclassified_emotion\\ndepressive\\npositive\\npositive\\ndepressive\\ndepressive\\nsimple_negative\\nsimple_negative\\ndepressive\\ndepressive\\nsimple_negative\\nunclassified_emotion\\ndepressive\\nsimple_negative\\npositive\\npositive\\npositive\\nunclassified_emotion\\nsimple_negative\\npositive\\nsimple_negative\\npositive\\npositive\\nsimple_negative\\npositive\\npositive\\nunclassified_emotion\\nsimple_negative\\ndepressive\\ndepressive\\ndepressive\\npositive\\npositive\\nsimple_negative\\nunclassified_emotion\\ndepressive\\nsimple_negative\\ndepressive\\nsimple_negative\\nsimple_negative\\ndepressive\\nunclassified_emotion\\nsimple_negative\\npositive\\npositive\\npositive\\nsimple_negative\\npositive\\ndepressive\\npositive\\nsimple_negative\\nsimple_negative\\npositive\\npositive\\nunclassified_emotion\\ndepressive\\npositive\\npositive\\nsimple_negative\\nsimple_negative\\nsimple_negative\\ndepressive\\nsimple_negative\\nsimple_negative\\nsimple_negative\\npositive\\nsimple_negative\\npositive\\npositive\\ndepressive\\nsimple_negative\\npositive\\npositive\\npositive\\ndepressive\\ndepressive\\npositive\\nsimple_negative\\npositive\\npositive\\nsimple_negative\\npositive\\npositive\\npositive\\nunclassified_emotion\\nsimple_negative\\nsimple_negative\\npositive\\npositive\\npositive\\npositive\\nsimple_negative\\npositive\\nsimple_negative\\ndepressive\\npositive\\nsimple_negative\\nsimple_negative\\nsimple_negative\\npositive\\nsimple_negative\\npositive\\ndepressive\\nsimple_negative\\npositive\\npositive\\npositive\\nsimple_negative\\nunclassified_emotion\\npositive\\nsimple_negative\\ndepressive\\npositive\\nunclassified_emotion\\npositive\\ndepressive\\npositive\\nsimple_negative\\ndepressive\\npositive\\npositive\\nunclassified_emotion\\npositive\\npositive\\npositive\\nunclassified_emotion\\npositive\\ndepressive\\nunclassified_emotion\\npositive\\npositive\\ndepressive\\npositive\\nsimple_negative\\npositive\\npositive\\ndepressive\\nunclassified_emotion\\nsimple_negative\\nunclassified_emotion\\nsimple_negative\\nunclassified_emotion\\nunclassified_emotion\\nsimple_negative\\ndepressive\\nsimple_negative\\npositive\\nsimple_negative\\nsimple_negative\\ndepressive\\npositive\\npositive\\npositive\\ndepressive\\ndepressive\\npositive\\ndepressive\\npositive\\ndepressive\\ndepressive\\ndepressive\\npositive\\npositive\\npositive\\nsimple_negative\\nunclassified_emotion\\npositive\\ndepressive\\npositive\\nunclassified_emotion\\nsimple_negative\\nunclassified_emotion\\nunclassified_emotion\\ndepressive\\nsimple_negative\\nsimple_negative\\npositive\\ndepressive\\ndepressive\\nsimple_negative\\ndepressive\\npositive\\nunclassified_emotion\\ndepressive\\nsimple_negative\\npositive\\ndepressive\\npositive\\nsimple_negative\\nsimple_negative\\ndepressive\\npositive\\ndepressive\\nsimple_negative\\ndepressive\\npositive\\ndepressive\\nsimple_negative\\nunclassified_emotion\\npositive\\nsimple_negative\\npositive\\nsimple_negative\\nsimple_negative\\ndepressive\\nunclassified_emotion\\npositive\\nsimple_negative\\nsimple_negative\\npositive\\npositive\\ndepressive\\nsimple_negative\\npositive\\ndepressive\\npositive\\nunclassified_emotion\\nsimple_negative\\npositive\\ndepressive\\nsimple_negative\\npositive\\ndepressive\\ndepressive\\npositive\\ndepressive\\npositive\\npositive\\nunclassified_emotion\\nunclassified_emotion\\ndepressive\\ndepressive\\nunclassified_emotion\\nunclassified_emotion\\ndepressive\\nsimple_negative\\ndepressive\\ndepressive\\npositive\\ndepressive\\nunclassified_emotion\\nsimple_negative\\ndepressive\\nsimple_negative\\nsimple_negative\\npositive\\ndepressive\\npositive\\ndepressive\\ndepressive\\nsimple_negative\\npositive\\npositive\\nunclassified_emotion\\ndepressive\\ndepressive\\nsimple_negative\\nsimple_negative\\npositive\\ndepressive\\ndepressive\\npositive\\npositive\\nunclassified_emotion\\ndepressive\\ndepressive\\nsimple_negative\\npositive\\ndepressive\\nsimple_negative\\npositive\\npositive\\nsimple_negative\\npositive\\nunclassified_emotion\\nsimple_negative\\npositive\\ndepressive\\nunclassified_emotion\\ndepressive\\ndepressive\\ndepressive\\npositive\\ndepressive\\npositive\\npositive\\npositive\\ndepressive\\ndepressive\\npositive\\npositive\\ndepressive\\npositive\\npositive\\npositive\\ndepressive\\npositive\\npositive\\npositive\\npositive\\nsimple_negative\\npositive\\nsimple_negative\\ndepressive\\npositive\\ndepressive\\nunclassified_emotion\\npositive\\npositive\\npositive\\npositive\\npositive\\nunclassified_emotion\\ndepressive\\nsimple_negative\\nsimple_negative\\nsimple_negative\\nsimple_negative\\npositive\\npositive\\nsimple_negative\\nunclassified_emotion\\n'}"
            ]
          },
          "metadata": {
            "tags": []
          },
          "execution_count": 3
        }
      ]
    },
    {
      "metadata": {
        "id": "vxAO5FF7tPyI",
        "colab_type": "code",
        "colab": {
          "base_uri": "https://localhost:8080/",
          "height": 34
        },
        "outputId": "5dbcfb1f-dc8c-49de-ed00-d4eddb2667e0"
      },
      "cell_type": "code",
      "source": [
        "#Tk().withdraw()\n",
        "#tweets_file_name = askopenfilename()\n",
        "#tweets_file_name = \"D:/EDUCATION/Thesis - Sentiment Analysis/Twitter Bangla Collection/labelled/tweets_final_dataset_04_11_2018.txt\"\n",
        "tweets_file_name = \"tweets_final_dataset_04_11_2018.txt\"\n",
        "print(tweets_file_name)"
      ],
      "execution_count": 4,
      "outputs": [
        {
          "output_type": "stream",
          "text": [
            "tweets_final_dataset_04_11_2018.txt\n"
          ],
          "name": "stdout"
        }
      ]
    },
    {
      "metadata": {
        "id": "PvuwXS_-tPyT",
        "colab_type": "code",
        "colab": {
          "base_uri": "https://localhost:8080/",
          "height": 34
        },
        "outputId": "a5b9b3fb-da30-4ec3-f202-cc1ce5c700bf"
      },
      "cell_type": "code",
      "source": [
        "#Tk().withdraw()\n",
        "#labels_file_name = askopenfilename()\n",
        "#labels_file_name = \"D:/EDUCATION/Thesis - Sentiment Analysis/Twitter Bangla Collection/labelled/labels_final_dataset_04_11_2018.txt\"\n",
        "labels_file_name = \"labels_final_dataset_04_11_2018.txt\"\n",
        "print(labels_file_name)"
      ],
      "execution_count": 5,
      "outputs": [
        {
          "output_type": "stream",
          "text": [
            "labels_final_dataset_04_11_2018.txt\n"
          ],
          "name": "stdout"
        }
      ]
    },
    {
      "metadata": {
        "id": "J2qpMEcOtPyg",
        "colab_type": "code",
        "colab": {}
      },
      "cell_type": "code",
      "source": [
        "with open(tweets_file_name, 'r', encoding=\"utf8\") as tweets_file:\n",
        "    tweet_list = tweets_file.read().split('\\n')\n",
        "    \n",
        "with open(labels_file_name, 'r', encoding=\"utf8\") as labels_file:\n",
        "    label_list = labels_file.read().split('\\n')"
      ],
      "execution_count": 0,
      "outputs": []
    },
    {
      "metadata": {
        "id": "sHUD0QR9tPyn",
        "colab_type": "code",
        "colab": {}
      },
      "cell_type": "code",
      "source": [
        "for i in range(len(label_list)):\n",
        "    if tweet_list[i]=='' or label_list[i]=='':\n",
        "        del(tweet_list[i])\n",
        "        del(label_list[i])"
      ],
      "execution_count": 0,
      "outputs": []
    },
    {
      "metadata": {
        "id": "EYpd8rVptPyv",
        "colab_type": "code",
        "colab": {
          "base_uri": "https://localhost:8080/",
          "height": 153
        },
        "outputId": "447c0f2d-8f04-41c5-b239-9708e3a61d56"
      },
      "cell_type": "code",
      "source": [
        "print(len(tweet_list))\n",
        "print(len(label_list))\n",
        "\n",
        "print(type(tweet_list))\n",
        "print(type(tweet_list[0]))\n",
        "\n",
        "print(tweet_list[1])\n",
        "print(label_list[1])\n",
        "\n",
        "print(tweet_list[-1])\n",
        "print(label_list[-1])"
      ],
      "execution_count": 8,
      "outputs": [
        {
          "output_type": "stream",
          "text": [
            "1024\n",
            "1024\n",
            "<class 'list'>\n",
            "<class 'str'>\n",
            "সবথেকে বড় যুদ্ধ হলো নিজের মনের সাথে যুদ্ধ আবেগ\n",
            "unclassified_emotion\n",
            "পুষে রাখে যেমন ঝিনুক খোলসের আবরণে মুক্তোর সুখ , তেমনি তোমার গভীর ছোয়া ভেতরের এই বন্দরে , আমার ভিতর বাহিরে অন্তরে অন্তরে আছো তুমি হৃদয় জুরে এ এ এ এ \n",
            "unclassified_emotion\n"
          ],
          "name": "stdout"
        }
      ]
    },
    {
      "metadata": {
        "id": "yGhdKikDtPy8",
        "colab_type": "code",
        "colab": {
          "base_uri": "https://localhost:8080/",
          "height": 85
        },
        "outputId": "7f50bbc0-3b7a-4fdc-b52f-27a42d8557a0"
      },
      "cell_type": "code",
      "source": [
        "encoded_label_list = []\n",
        "count_1 = 0\n",
        "count_0 = 0\n",
        "\n",
        "for label in label_list:\n",
        "    #print(label)\n",
        "    if label=='depressive':\n",
        "        encoded_label_list.append(1)\n",
        "        count_1 += 1\n",
        "    else:\n",
        "        encoded_label_list.append(0)\n",
        "        count_0 += 1\n",
        "        \n",
        "print(len(encoded_label_list))\n",
        "print('count_1 =',count_1)\n",
        "print('count_0 =',count_0)\n",
        "print(encoded_label_list[30:50])"
      ],
      "execution_count": 9,
      "outputs": [
        {
          "output_type": "stream",
          "text": [
            "1024\n",
            "count_1 = 280\n",
            "count_0 = 744\n",
            "[0, 0, 0, 1, 0, 0, 0, 0, 0, 0, 0, 1, 1, 0, 0, 0, 0, 1, 0, 0]\n"
          ],
          "name": "stdout"
        }
      ]
    },
    {
      "metadata": {
        "id": "8s_DkljbtPzD",
        "colab_type": "code",
        "colab": {
          "base_uri": "https://localhost:8080/",
          "height": 51
        },
        "outputId": "b00771b7-3bfa-46f9-ba24-51105d19f7c9"
      },
      "cell_type": "code",
      "source": [
        "vocabulary = {'':0}\n",
        "max_tweet_length = 0\n",
        "\n",
        "for tweet in tweet_list:\n",
        "    word_list = tweet.split(' ')\n",
        "    \n",
        "    if max_tweet_length < len(word_list):\n",
        "        max_tweet_length = len(word_list)\n",
        "        \n",
        "#    if len(word_list)==64:\n",
        "#        print(word_list)\n",
        "    \n",
        "    for word in word_list:\n",
        "        if word not in vocabulary.keys():\n",
        "            vocabulary[word] = len(vocabulary.keys())\n",
        "            \n",
        "print(len(vocabulary))\n",
        "print(max_tweet_length)\n",
        "#print(vocabulary)"
      ],
      "execution_count": 10,
      "outputs": [
        {
          "output_type": "stream",
          "text": [
            "6956\n",
            "64\n"
          ],
          "name": "stdout"
        }
      ]
    },
    {
      "metadata": {
        "id": "7_2bZPNwtPzH",
        "colab_type": "code",
        "colab": {}
      },
      "cell_type": "code",
      "source": [
        "### WORD LEVEL INTEGER ENCODING :: ###"
      ],
      "execution_count": 0,
      "outputs": []
    },
    {
      "metadata": {
        "id": "Pr165HP7tPzN",
        "colab_type": "code",
        "colab": {
          "base_uri": "https://localhost:8080/",
          "height": 68
        },
        "outputId": "35939ecc-81db-4200-cb33-d34d1d916e70"
      },
      "cell_type": "code",
      "source": [
        "integer_encoded_tweet_list = []\n",
        "for tweet in tweet_list:\n",
        "    word_list = tweet.split(' ')\n",
        "    integer_encoded_tweet = [vocabulary[word] for word in word_list]\n",
        "    integer_encoded_tweet_list.append(integer_encoded_tweet)\n",
        "    \n",
        "#    if len(integer_encoded_tweet)==64:\n",
        "#        print(integer_encoded_tweet)   \n",
        "    \n",
        "print(len(max(integer_encoded_tweet_list, key=len)))\n",
        "print(len(min(integer_encoded_tweet_list, key=len)))\n",
        "print(integer_encoded_tweet_list[1:3])"
      ],
      "execution_count": 12,
      "outputs": [
        {
          "output_type": "stream",
          "text": [
            "64\n",
            "2\n",
            "[[30, 31, 32, 33, 34, 35, 36, 32, 37], [38, 39, 40, 41, 42, 43, 38, 39, 40, 41, 44, 45, 46, 47, 48]]\n"
          ],
          "name": "stdout"
        }
      ]
    },
    {
      "metadata": {
        "scrolled": true,
        "id": "fBYPaj66tPzS",
        "colab_type": "code",
        "colab": {
          "base_uri": "https://localhost:8080/",
          "height": 88
        },
        "outputId": "449d4808-2676-4685-c1e3-0c2e60645cd7"
      },
      "cell_type": "code",
      "source": [
        "# PADDING::\n",
        "for i in range(len(integer_encoded_tweet_list)):\n",
        "    while len(integer_encoded_tweet_list[i]) < max_tweet_length:\n",
        "        integer_encoded_tweet_list[i].append(0)\n",
        "        \n",
        "print(len(max(integer_encoded_tweet_list, key=len)))\n",
        "print(len(min(integer_encoded_tweet_list, key=len)))\n",
        "print(integer_encoded_tweet_list[1:3])"
      ],
      "execution_count": 13,
      "outputs": [
        {
          "output_type": "stream",
          "text": [
            "64\n",
            "64\n",
            "[[30, 31, 32, 33, 34, 35, 36, 32, 37, 0, 0, 0, 0, 0, 0, 0, 0, 0, 0, 0, 0, 0, 0, 0, 0, 0, 0, 0, 0, 0, 0, 0, 0, 0, 0, 0, 0, 0, 0, 0, 0, 0, 0, 0, 0, 0, 0, 0, 0, 0, 0, 0, 0, 0, 0, 0, 0, 0, 0, 0, 0, 0, 0, 0], [38, 39, 40, 41, 42, 43, 38, 39, 40, 41, 44, 45, 46, 47, 48, 0, 0, 0, 0, 0, 0, 0, 0, 0, 0, 0, 0, 0, 0, 0, 0, 0, 0, 0, 0, 0, 0, 0, 0, 0, 0, 0, 0, 0, 0, 0, 0, 0, 0, 0, 0, 0, 0, 0, 0, 0, 0, 0, 0, 0, 0, 0, 0, 0]]\n"
          ],
          "name": "stdout"
        }
      ]
    },
    {
      "metadata": {
        "id": "YHmFtm1ytPzV",
        "colab_type": "code",
        "colab": {
          "base_uri": "https://localhost:8080/",
          "height": 105
        },
        "outputId": "35dc5f5e-25df-4bed-ef7f-04a6cf48b338"
      },
      "cell_type": "code",
      "source": [
        "print(type(integer_encoded_tweet_list))\n",
        "print(type(integer_encoded_tweet_list[0]))\n",
        "print(type(integer_encoded_tweet_list[0][0]))\n",
        "print(integer_encoded_tweet_list[0])"
      ],
      "execution_count": 14,
      "outputs": [
        {
          "output_type": "stream",
          "text": [
            "<class 'list'>\n",
            "<class 'list'>\n",
            "<class 'int'>\n",
            "[1, 2, 3, 4, 5, 6, 7, 8, 9, 10, 11, 12, 13, 14, 15, 16, 17, 18, 19, 20, 21, 22, 23, 24, 25, 13, 26, 27, 28, 29, 0, 0, 0, 0, 0, 0, 0, 0, 0, 0, 0, 0, 0, 0, 0, 0, 0, 0, 0, 0, 0, 0, 0, 0, 0, 0, 0, 0, 0, 0, 0, 0, 0, 0]\n"
          ],
          "name": "stdout"
        }
      ]
    },
    {
      "metadata": {
        "id": "wlDVtUHCtPzZ",
        "colab_type": "code",
        "colab": {}
      },
      "cell_type": "code",
      "source": [
        "### ONE HOT ENCODING :: ###"
      ],
      "execution_count": 0,
      "outputs": []
    },
    {
      "metadata": {
        "id": "Jya4FSuKtPzc",
        "colab_type": "code",
        "colab": {
          "base_uri": "https://localhost:8080/",
          "height": 34
        },
        "outputId": "220a912e-a7ff-4076-f671-a490368072ee"
      },
      "cell_type": "code",
      "source": [
        "length_padded_data = len(max(integer_encoded_tweet_list, key=len))\n",
        "print(length_padded_data)"
      ],
      "execution_count": 16,
      "outputs": [
        {
          "output_type": "stream",
          "text": [
            "64\n"
          ],
          "name": "stdout"
        }
      ]
    },
    {
      "metadata": {
        "id": "VZeXV8zptPzh",
        "colab_type": "code",
        "colab": {}
      },
      "cell_type": "code",
      "source": [
        "one_hot_encoded_tweet_list = []\n",
        "\n",
        "for integer_encoded_tweet in integer_encoded_tweet_list:\n",
        "    one_hot_encoded_tweet = []\n",
        "    for integer_encoded_word in integer_encoded_tweet:\n",
        "        for index in range(length_padded_data):\n",
        "            if index == integer_encoded_word:\n",
        "                one_hot_encoded_tweet.append(1)\n",
        "            else:\n",
        "                one_hot_encoded_tweet.append(0)\n",
        "    \n",
        "    one_hot_encoded_tweet_list.append(one_hot_encoded_tweet)"
      ],
      "execution_count": 0,
      "outputs": []
    },
    {
      "metadata": {
        "id": "Nx12g9Y9tPzk",
        "colab_type": "code",
        "colab": {
          "base_uri": "https://localhost:8080/",
          "height": 173
        },
        "outputId": "361d39e4-c73d-44ad-de9e-2d18e2f21f55"
      },
      "cell_type": "code",
      "source": [
        "print(type(one_hot_encoded_tweet_list))\n",
        "print(type(one_hot_encoded_tweet_list[0]))\n",
        "print(type(one_hot_encoded_tweet_list[0][0]))\n",
        "\n",
        "print(len(one_hot_encoded_tweet_list))\n",
        "print('Length of each tweet =',length_padded_data)\n",
        "print('Length of each word in a one hot encoded tweet = Length of each tweet =',length_padded_data)\n",
        "print('len(one_hot_encoded_tweet_list[0])=('+str(length_padded_data)+'x'+str(length_padded_data)+')='+str(len(one_hot_encoded_tweet_list[0])))\n",
        "#print(len(one_hot_encoded_tweet_list[0][0]))\n",
        "\n",
        "#print(one_hot_encoded_tweet_list[0][0])\n",
        "print(one_hot_encoded_tweet_list[0])"
      ],
      "execution_count": 18,
      "outputs": [
        {
          "output_type": "stream",
          "text": [
            "<class 'list'>\n",
            "<class 'list'>\n",
            "<class 'int'>\n",
            "1024\n",
            "Length of each tweet = 64\n",
            "Length of each word in a one hot encoded tweet = Length of each tweet = 64\n",
            "len(one_hot_encoded_tweet_list[0])=(64x64)=4096\n",
            "[0, 1, 0, 0, 0, 0, 0, 0, 0, 0, 0, 0, 0, 0, 0, 0, 0, 0, 0, 0, 0, 0, 0, 0, 0, 0, 0, 0, 0, 0, 0, 0, 0, 0, 0, 0, 0, 0, 0, 0, 0, 0, 0, 0, 0, 0, 0, 0, 0, 0, 0, 0, 0, 0, 0, 0, 0, 0, 0, 0, 0, 0, 0, 0, 0, 0, 1, 0, 0, 0, 0, 0, 0, 0, 0, 0, 0, 0, 0, 0, 0, 0, 0, 0, 0, 0, 0, 0, 0, 0, 0, 0, 0, 0, 0, 0, 0, 0, 0, 0, 0, 0, 0, 0, 0, 0, 0, 0, 0, 0, 0, 0, 0, 0, 0, 0, 0, 0, 0, 0, 0, 0, 0, 0, 0, 0, 0, 0, 0, 0, 0, 1, 0, 0, 0, 0, 0, 0, 0, 0, 0, 0, 0, 0, 0, 0, 0, 0, 0, 0, 0, 0, 0, 0, 0, 0, 0, 0, 0, 0, 0, 0, 0, 0, 0, 0, 0, 0, 0, 0, 0, 0, 0, 0, 0, 0, 0, 0, 0, 0, 0, 0, 0, 0, 0, 0, 0, 0, 0, 0, 0, 0, 0, 0, 0, 0, 1, 0, 0, 0, 0, 0, 0, 0, 0, 0, 0, 0, 0, 0, 0, 0, 0, 0, 0, 0, 0, 0, 0, 0, 0, 0, 0, 0, 0, 0, 0, 0, 0, 0, 0, 0, 0, 0, 0, 0, 0, 0, 0, 0, 0, 0, 0, 0, 0, 0, 0, 0, 0, 0, 0, 0, 0, 0, 0, 0, 0, 0, 0, 0, 0, 1, 0, 0, 0, 0, 0, 0, 0, 0, 0, 0, 0, 0, 0, 0, 0, 0, 0, 0, 0, 0, 0, 0, 0, 0, 0, 0, 0, 0, 0, 0, 0, 0, 0, 0, 0, 0, 0, 0, 0, 0, 0, 0, 0, 0, 0, 0, 0, 0, 0, 0, 0, 0, 0, 0, 0, 0, 0, 0, 0, 0, 0, 0, 0, 0, 1, 0, 0, 0, 0, 0, 0, 0, 0, 0, 0, 0, 0, 0, 0, 0, 0, 0, 0, 0, 0, 0, 0, 0, 0, 0, 0, 0, 0, 0, 0, 0, 0, 0, 0, 0, 0, 0, 0, 0, 0, 0, 0, 0, 0, 0, 0, 0, 0, 0, 0, 0, 0, 0, 0, 0, 0, 0, 0, 0, 0, 0, 0, 0, 0, 1, 0, 0, 0, 0, 0, 0, 0, 0, 0, 0, 0, 0, 0, 0, 0, 0, 0, 0, 0, 0, 0, 0, 0, 0, 0, 0, 0, 0, 0, 0, 0, 0, 0, 0, 0, 0, 0, 0, 0, 0, 0, 0, 0, 0, 0, 0, 0, 0, 0, 0, 0, 0, 0, 0, 0, 0, 0, 0, 0, 0, 0, 0, 0, 0, 1, 0, 0, 0, 0, 0, 0, 0, 0, 0, 0, 0, 0, 0, 0, 0, 0, 0, 0, 0, 0, 0, 0, 0, 0, 0, 0, 0, 0, 0, 0, 0, 0, 0, 0, 0, 0, 0, 0, 0, 0, 0, 0, 0, 0, 0, 0, 0, 0, 0, 0, 0, 0, 0, 0, 0, 0, 0, 0, 0, 0, 0, 0, 0, 0, 1, 0, 0, 0, 0, 0, 0, 0, 0, 0, 0, 0, 0, 0, 0, 0, 0, 0, 0, 0, 0, 0, 0, 0, 0, 0, 0, 0, 0, 0, 0, 0, 0, 0, 0, 0, 0, 0, 0, 0, 0, 0, 0, 0, 0, 0, 0, 0, 0, 0, 0, 0, 0, 0, 0, 0, 0, 0, 0, 0, 0, 0, 0, 0, 0, 1, 0, 0, 0, 0, 0, 0, 0, 0, 0, 0, 0, 0, 0, 0, 0, 0, 0, 0, 0, 0, 0, 0, 0, 0, 0, 0, 0, 0, 0, 0, 0, 0, 0, 0, 0, 0, 0, 0, 0, 0, 0, 0, 0, 0, 0, 0, 0, 0, 0, 0, 0, 0, 0, 0, 0, 0, 0, 0, 0, 0, 0, 0, 0, 0, 1, 0, 0, 0, 0, 0, 0, 0, 0, 0, 0, 0, 0, 0, 0, 0, 0, 0, 0, 0, 0, 0, 0, 0, 0, 0, 0, 0, 0, 0, 0, 0, 0, 0, 0, 0, 0, 0, 0, 0, 0, 0, 0, 0, 0, 0, 0, 0, 0, 0, 0, 0, 0, 0, 0, 0, 0, 0, 0, 0, 0, 0, 0, 0, 0, 1, 0, 0, 0, 0, 0, 0, 0, 0, 0, 0, 0, 0, 0, 0, 0, 0, 0, 0, 0, 0, 0, 0, 0, 0, 0, 0, 0, 0, 0, 0, 0, 0, 0, 0, 0, 0, 0, 0, 0, 0, 0, 0, 0, 0, 0, 0, 0, 0, 0, 0, 0, 0, 0, 0, 0, 0, 0, 0, 0, 0, 0, 0, 0, 0, 1, 0, 0, 0, 0, 0, 0, 0, 0, 0, 0, 0, 0, 0, 0, 0, 0, 0, 0, 0, 0, 0, 0, 0, 0, 0, 0, 0, 0, 0, 0, 0, 0, 0, 0, 0, 0, 0, 0, 0, 0, 0, 0, 0, 0, 0, 0, 0, 0, 0, 0, 0, 0, 0, 0, 0, 0, 0, 0, 0, 0, 0, 0, 0, 0, 1, 0, 0, 0, 0, 0, 0, 0, 0, 0, 0, 0, 0, 0, 0, 0, 0, 0, 0, 0, 0, 0, 0, 0, 0, 0, 0, 0, 0, 0, 0, 0, 0, 0, 0, 0, 0, 0, 0, 0, 0, 0, 0, 0, 0, 0, 0, 0, 0, 0, 0, 0, 0, 0, 0, 0, 0, 0, 0, 0, 0, 0, 0, 0, 0, 1, 0, 0, 0, 0, 0, 0, 0, 0, 0, 0, 0, 0, 0, 0, 0, 0, 0, 0, 0, 0, 0, 0, 0, 0, 0, 0, 0, 0, 0, 0, 0, 0, 0, 0, 0, 0, 0, 0, 0, 0, 0, 0, 0, 0, 0, 0, 0, 0, 0, 0, 0, 0, 0, 0, 0, 0, 0, 0, 0, 0, 0, 0, 0, 0, 1, 0, 0, 0, 0, 0, 0, 0, 0, 0, 0, 0, 0, 0, 0, 0, 0, 0, 0, 0, 0, 0, 0, 0, 0, 0, 0, 0, 0, 0, 0, 0, 0, 0, 0, 0, 0, 0, 0, 0, 0, 0, 0, 0, 0, 0, 0, 0, 0, 0, 0, 0, 0, 0, 0, 0, 0, 0, 0, 0, 0, 0, 0, 0, 0, 1, 0, 0, 0, 0, 0, 0, 0, 0, 0, 0, 0, 0, 0, 0, 0, 0, 0, 0, 0, 0, 0, 0, 0, 0, 0, 0, 0, 0, 0, 0, 0, 0, 0, 0, 0, 0, 0, 0, 0, 0, 0, 0, 0, 0, 0, 0, 0, 0, 0, 0, 0, 0, 0, 0, 0, 0, 0, 0, 0, 0, 0, 0, 0, 0, 1, 0, 0, 0, 0, 0, 0, 0, 0, 0, 0, 0, 0, 0, 0, 0, 0, 0, 0, 0, 0, 0, 0, 0, 0, 0, 0, 0, 0, 0, 0, 0, 0, 0, 0, 0, 0, 0, 0, 0, 0, 0, 0, 0, 0, 0, 0, 0, 0, 0, 0, 0, 0, 0, 0, 0, 0, 0, 0, 0, 0, 0, 0, 0, 0, 1, 0, 0, 0, 0, 0, 0, 0, 0, 0, 0, 0, 0, 0, 0, 0, 0, 0, 0, 0, 0, 0, 0, 0, 0, 0, 0, 0, 0, 0, 0, 0, 0, 0, 0, 0, 0, 0, 0, 0, 0, 0, 0, 0, 0, 0, 0, 0, 0, 0, 0, 0, 0, 0, 0, 0, 0, 0, 0, 0, 0, 0, 0, 0, 0, 1, 0, 0, 0, 0, 0, 0, 0, 0, 0, 0, 0, 0, 0, 0, 0, 0, 0, 0, 0, 0, 0, 0, 0, 0, 0, 0, 0, 0, 0, 0, 0, 0, 0, 0, 0, 0, 0, 0, 0, 0, 0, 0, 0, 0, 0, 0, 0, 0, 0, 0, 0, 0, 0, 0, 0, 0, 0, 0, 0, 0, 0, 0, 0, 0, 1, 0, 0, 0, 0, 0, 0, 0, 0, 0, 0, 0, 0, 0, 0, 0, 0, 0, 0, 0, 0, 0, 0, 0, 0, 0, 0, 0, 0, 0, 0, 0, 0, 0, 0, 0, 0, 0, 0, 0, 0, 0, 0, 0, 0, 0, 0, 0, 0, 0, 0, 0, 0, 0, 0, 0, 0, 0, 0, 0, 0, 0, 0, 0, 0, 1, 0, 0, 0, 0, 0, 0, 0, 0, 0, 0, 0, 0, 0, 0, 0, 0, 0, 0, 0, 0, 0, 0, 0, 0, 0, 0, 0, 0, 0, 0, 0, 0, 0, 0, 0, 0, 0, 0, 0, 0, 0, 0, 0, 0, 0, 0, 0, 0, 0, 0, 0, 0, 0, 0, 0, 0, 0, 0, 0, 0, 0, 0, 0, 0, 1, 0, 0, 0, 0, 0, 0, 0, 0, 0, 0, 0, 0, 0, 0, 0, 0, 0, 0, 0, 0, 0, 0, 0, 0, 0, 0, 0, 0, 0, 0, 0, 0, 0, 0, 0, 0, 0, 0, 0, 0, 0, 0, 0, 0, 0, 0, 0, 0, 0, 0, 0, 0, 0, 0, 0, 0, 0, 0, 0, 0, 0, 0, 0, 0, 1, 0, 0, 0, 0, 0, 0, 0, 0, 0, 0, 0, 0, 0, 0, 0, 0, 0, 0, 0, 0, 0, 0, 0, 0, 0, 0, 0, 0, 0, 0, 0, 0, 0, 0, 0, 0, 0, 0, 0, 0, 0, 0, 0, 0, 0, 0, 0, 0, 0, 0, 0, 0, 0, 0, 0, 0, 0, 0, 0, 0, 0, 0, 0, 0, 1, 0, 0, 0, 0, 0, 0, 0, 0, 0, 0, 0, 0, 0, 0, 0, 0, 0, 0, 0, 0, 0, 0, 0, 0, 0, 0, 0, 0, 0, 0, 0, 0, 0, 0, 0, 0, 0, 0, 0, 0, 0, 0, 0, 0, 0, 0, 0, 0, 0, 0, 0, 1, 0, 0, 0, 0, 0, 0, 0, 0, 0, 0, 0, 0, 0, 0, 0, 0, 0, 0, 0, 0, 0, 0, 0, 0, 0, 0, 0, 0, 0, 0, 0, 0, 0, 0, 0, 0, 0, 0, 0, 0, 0, 0, 0, 0, 0, 0, 0, 0, 0, 0, 0, 0, 0, 0, 0, 0, 0, 0, 0, 0, 0, 0, 0, 0, 0, 0, 0, 0, 0, 0, 0, 0, 0, 0, 0, 0, 1, 0, 0, 0, 0, 0, 0, 0, 0, 0, 0, 0, 0, 0, 0, 0, 0, 0, 0, 0, 0, 0, 0, 0, 0, 0, 0, 0, 0, 0, 0, 0, 0, 0, 0, 0, 0, 0, 0, 0, 0, 0, 0, 0, 0, 0, 0, 0, 0, 0, 0, 0, 0, 0, 0, 0, 0, 0, 0, 0, 0, 0, 0, 0, 0, 1, 0, 0, 0, 0, 0, 0, 0, 0, 0, 0, 0, 0, 0, 0, 0, 0, 0, 0, 0, 0, 0, 0, 0, 0, 0, 0, 0, 0, 0, 0, 0, 0, 0, 0, 0, 0, 0, 0, 0, 0, 0, 0, 0, 0, 0, 0, 0, 0, 0, 0, 0, 0, 0, 0, 0, 0, 0, 0, 0, 0, 0, 0, 0, 0, 1, 0, 0, 0, 0, 0, 0, 0, 0, 0, 0, 0, 0, 0, 0, 0, 0, 0, 0, 0, 0, 0, 0, 0, 0, 0, 0, 0, 0, 0, 0, 0, 0, 0, 0, 0, 0, 0, 0, 0, 0, 0, 0, 0, 0, 0, 0, 0, 0, 0, 0, 0, 0, 0, 0, 0, 0, 0, 0, 0, 0, 0, 0, 0, 0, 1, 0, 0, 0, 0, 0, 0, 0, 0, 0, 0, 0, 0, 0, 0, 0, 0, 0, 0, 0, 0, 0, 0, 0, 0, 0, 0, 0, 0, 0, 0, 0, 0, 0, 0, 1, 0, 0, 0, 0, 0, 0, 0, 0, 0, 0, 0, 0, 0, 0, 0, 0, 0, 0, 0, 0, 0, 0, 0, 0, 0, 0, 0, 0, 0, 0, 0, 0, 0, 0, 0, 0, 0, 0, 0, 0, 0, 0, 0, 0, 0, 0, 0, 0, 0, 0, 0, 0, 0, 0, 0, 0, 0, 0, 0, 0, 0, 0, 0, 1, 0, 0, 0, 0, 0, 0, 0, 0, 0, 0, 0, 0, 0, 0, 0, 0, 0, 0, 0, 0, 0, 0, 0, 0, 0, 0, 0, 0, 0, 0, 0, 0, 0, 0, 0, 0, 0, 0, 0, 0, 0, 0, 0, 0, 0, 0, 0, 0, 0, 0, 0, 0, 0, 0, 0, 0, 0, 0, 0, 0, 0, 0, 0, 1, 0, 0, 0, 0, 0, 0, 0, 0, 0, 0, 0, 0, 0, 0, 0, 0, 0, 0, 0, 0, 0, 0, 0, 0, 0, 0, 0, 0, 0, 0, 0, 0, 0, 0, 0, 0, 0, 0, 0, 0, 0, 0, 0, 0, 0, 0, 0, 0, 0, 0, 0, 0, 0, 0, 0, 0, 0, 0, 0, 0, 0, 0, 0, 1, 0, 0, 0, 0, 0, 0, 0, 0, 0, 0, 0, 0, 0, 0, 0, 0, 0, 0, 0, 0, 0, 0, 0, 0, 0, 0, 0, 0, 0, 0, 0, 0, 0, 0, 0, 0, 0, 0, 0, 0, 0, 0, 0, 0, 0, 0, 0, 0, 0, 0, 0, 0, 0, 0, 0, 0, 0, 0, 0, 0, 0, 0, 0, 1, 0, 0, 0, 0, 0, 0, 0, 0, 0, 0, 0, 0, 0, 0, 0, 0, 0, 0, 0, 0, 0, 0, 0, 0, 0, 0, 0, 0, 0, 0, 0, 0, 0, 0, 0, 0, 0, 0, 0, 0, 0, 0, 0, 0, 0, 0, 0, 0, 0, 0, 0, 0, 0, 0, 0, 0, 0, 0, 0, 0, 0, 0, 0, 1, 0, 0, 0, 0, 0, 0, 0, 0, 0, 0, 0, 0, 0, 0, 0, 0, 0, 0, 0, 0, 0, 0, 0, 0, 0, 0, 0, 0, 0, 0, 0, 0, 0, 0, 0, 0, 0, 0, 0, 0, 0, 0, 0, 0, 0, 0, 0, 0, 0, 0, 0, 0, 0, 0, 0, 0, 0, 0, 0, 0, 0, 0, 0, 1, 0, 0, 0, 0, 0, 0, 0, 0, 0, 0, 0, 0, 0, 0, 0, 0, 0, 0, 0, 0, 0, 0, 0, 0, 0, 0, 0, 0, 0, 0, 0, 0, 0, 0, 0, 0, 0, 0, 0, 0, 0, 0, 0, 0, 0, 0, 0, 0, 0, 0, 0, 0, 0, 0, 0, 0, 0, 0, 0, 0, 0, 0, 0, 1, 0, 0, 0, 0, 0, 0, 0, 0, 0, 0, 0, 0, 0, 0, 0, 0, 0, 0, 0, 0, 0, 0, 0, 0, 0, 0, 0, 0, 0, 0, 0, 0, 0, 0, 0, 0, 0, 0, 0, 0, 0, 0, 0, 0, 0, 0, 0, 0, 0, 0, 0, 0, 0, 0, 0, 0, 0, 0, 0, 0, 0, 0, 0, 1, 0, 0, 0, 0, 0, 0, 0, 0, 0, 0, 0, 0, 0, 0, 0, 0, 0, 0, 0, 0, 0, 0, 0, 0, 0, 0, 0, 0, 0, 0, 0, 0, 0, 0, 0, 0, 0, 0, 0, 0, 0, 0, 0, 0, 0, 0, 0, 0, 0, 0, 0, 0, 0, 0, 0, 0, 0, 0, 0, 0, 0, 0, 0, 1, 0, 0, 0, 0, 0, 0, 0, 0, 0, 0, 0, 0, 0, 0, 0, 0, 0, 0, 0, 0, 0, 0, 0, 0, 0, 0, 0, 0, 0, 0, 0, 0, 0, 0, 0, 0, 0, 0, 0, 0, 0, 0, 0, 0, 0, 0, 0, 0, 0, 0, 0, 0, 0, 0, 0, 0, 0, 0, 0, 0, 0, 0, 0, 1, 0, 0, 0, 0, 0, 0, 0, 0, 0, 0, 0, 0, 0, 0, 0, 0, 0, 0, 0, 0, 0, 0, 0, 0, 0, 0, 0, 0, 0, 0, 0, 0, 0, 0, 0, 0, 0, 0, 0, 0, 0, 0, 0, 0, 0, 0, 0, 0, 0, 0, 0, 0, 0, 0, 0, 0, 0, 0, 0, 0, 0, 0, 0, 1, 0, 0, 0, 0, 0, 0, 0, 0, 0, 0, 0, 0, 0, 0, 0, 0, 0, 0, 0, 0, 0, 0, 0, 0, 0, 0, 0, 0, 0, 0, 0, 0, 0, 0, 0, 0, 0, 0, 0, 0, 0, 0, 0, 0, 0, 0, 0, 0, 0, 0, 0, 0, 0, 0, 0, 0, 0, 0, 0, 0, 0, 0, 0, 1, 0, 0, 0, 0, 0, 0, 0, 0, 0, 0, 0, 0, 0, 0, 0, 0, 0, 0, 0, 0, 0, 0, 0, 0, 0, 0, 0, 0, 0, 0, 0, 0, 0, 0, 0, 0, 0, 0, 0, 0, 0, 0, 0, 0, 0, 0, 0, 0, 0, 0, 0, 0, 0, 0, 0, 0, 0, 0, 0, 0, 0, 0, 0, 1, 0, 0, 0, 0, 0, 0, 0, 0, 0, 0, 0, 0, 0, 0, 0, 0, 0, 0, 0, 0, 0, 0, 0, 0, 0, 0, 0, 0, 0, 0, 0, 0, 0, 0, 0, 0, 0, 0, 0, 0, 0, 0, 0, 0, 0, 0, 0, 0, 0, 0, 0, 0, 0, 0, 0, 0, 0, 0, 0, 0, 0, 0, 0, 1, 0, 0, 0, 0, 0, 0, 0, 0, 0, 0, 0, 0, 0, 0, 0, 0, 0, 0, 0, 0, 0, 0, 0, 0, 0, 0, 0, 0, 0, 0, 0, 0, 0, 0, 0, 0, 0, 0, 0, 0, 0, 0, 0, 0, 0, 0, 0, 0, 0, 0, 0, 0, 0, 0, 0, 0, 0, 0, 0, 0, 0, 0, 0, 1, 0, 0, 0, 0, 0, 0, 0, 0, 0, 0, 0, 0, 0, 0, 0, 0, 0, 0, 0, 0, 0, 0, 0, 0, 0, 0, 0, 0, 0, 0, 0, 0, 0, 0, 0, 0, 0, 0, 0, 0, 0, 0, 0, 0, 0, 0, 0, 0, 0, 0, 0, 0, 0, 0, 0, 0, 0, 0, 0, 0, 0, 0, 0, 1, 0, 0, 0, 0, 0, 0, 0, 0, 0, 0, 0, 0, 0, 0, 0, 0, 0, 0, 0, 0, 0, 0, 0, 0, 0, 0, 0, 0, 0, 0, 0, 0, 0, 0, 0, 0, 0, 0, 0, 0, 0, 0, 0, 0, 0, 0, 0, 0, 0, 0, 0, 0, 0, 0, 0, 0, 0, 0, 0, 0, 0, 0, 0, 1, 0, 0, 0, 0, 0, 0, 0, 0, 0, 0, 0, 0, 0, 0, 0, 0, 0, 0, 0, 0, 0, 0, 0, 0, 0, 0, 0, 0, 0, 0, 0, 0, 0, 0, 0, 0, 0, 0, 0, 0, 0, 0, 0, 0, 0, 0, 0, 0, 0, 0, 0, 0, 0, 0, 0, 0, 0, 0, 0, 0, 0, 0, 0, 1, 0, 0, 0, 0, 0, 0, 0, 0, 0, 0, 0, 0, 0, 0, 0, 0, 0, 0, 0, 0, 0, 0, 0, 0, 0, 0, 0, 0, 0, 0, 0, 0, 0, 0, 0, 0, 0, 0, 0, 0, 0, 0, 0, 0, 0, 0, 0, 0, 0, 0, 0, 0, 0, 0, 0, 0, 0, 0, 0, 0, 0, 0, 0, 1, 0, 0, 0, 0, 0, 0, 0, 0, 0, 0, 0, 0, 0, 0, 0, 0, 0, 0, 0, 0, 0, 0, 0, 0, 0, 0, 0, 0, 0, 0, 0, 0, 0, 0, 0, 0, 0, 0, 0, 0, 0, 0, 0, 0, 0, 0, 0, 0, 0, 0, 0, 0, 0, 0, 0, 0, 0, 0, 0, 0, 0, 0, 0, 1, 0, 0, 0, 0, 0, 0, 0, 0, 0, 0, 0, 0, 0, 0, 0, 0, 0, 0, 0, 0, 0, 0, 0, 0, 0, 0, 0, 0, 0, 0, 0, 0, 0, 0, 0, 0, 0, 0, 0, 0, 0, 0, 0, 0, 0, 0, 0, 0, 0, 0, 0, 0, 0, 0, 0, 0, 0, 0, 0, 0, 0, 0, 0, 1, 0, 0, 0, 0, 0, 0, 0, 0, 0, 0, 0, 0, 0, 0, 0, 0, 0, 0, 0, 0, 0, 0, 0, 0, 0, 0, 0, 0, 0, 0, 0, 0, 0, 0, 0, 0, 0, 0, 0, 0, 0, 0, 0, 0, 0, 0, 0, 0, 0, 0, 0, 0, 0, 0, 0, 0, 0, 0, 0, 0, 0, 0, 0, 1, 0, 0, 0, 0, 0, 0, 0, 0, 0, 0, 0, 0, 0, 0, 0, 0, 0, 0, 0, 0, 0, 0, 0, 0, 0, 0, 0, 0, 0, 0, 0, 0, 0, 0, 0, 0, 0, 0, 0, 0, 0, 0, 0, 0, 0, 0, 0, 0, 0, 0, 0, 0, 0, 0, 0, 0, 0, 0, 0, 0, 0, 0, 0, 1, 0, 0, 0, 0, 0, 0, 0, 0, 0, 0, 0, 0, 0, 0, 0, 0, 0, 0, 0, 0, 0, 0, 0, 0, 0, 0, 0, 0, 0, 0, 0, 0, 0, 0, 0, 0, 0, 0, 0, 0, 0, 0, 0, 0, 0, 0, 0, 0, 0, 0, 0, 0, 0, 0, 0, 0, 0, 0, 0, 0, 0, 0, 0, 1, 0, 0, 0, 0, 0, 0, 0, 0, 0, 0, 0, 0, 0, 0, 0, 0, 0, 0, 0, 0, 0, 0, 0, 0, 0, 0, 0, 0, 0, 0, 0, 0, 0, 0, 0, 0, 0, 0, 0, 0, 0, 0, 0, 0, 0, 0, 0, 0, 0, 0, 0, 0, 0, 0, 0, 0, 0, 0, 0, 0, 0, 0, 0, 1, 0, 0, 0, 0, 0, 0, 0, 0, 0, 0, 0, 0, 0, 0, 0, 0, 0, 0, 0, 0, 0, 0, 0, 0, 0, 0, 0, 0, 0, 0, 0, 0, 0, 0, 0, 0, 0, 0, 0, 0, 0, 0, 0, 0, 0, 0, 0, 0, 0, 0, 0, 0, 0, 0, 0, 0, 0, 0, 0, 0, 0, 0, 0, 1, 0, 0, 0, 0, 0, 0, 0, 0, 0, 0, 0, 0, 0, 0, 0, 0, 0, 0, 0, 0, 0, 0, 0, 0, 0, 0, 0, 0, 0, 0, 0, 0, 0, 0, 0, 0, 0, 0, 0, 0, 0, 0, 0, 0, 0, 0, 0, 0, 0, 0, 0, 0, 0, 0, 0, 0, 0, 0, 0, 0, 0, 0, 0, 1, 0, 0, 0, 0, 0, 0, 0, 0, 0, 0, 0, 0, 0, 0, 0, 0, 0, 0, 0, 0, 0, 0, 0, 0, 0, 0, 0, 0, 0, 0, 0, 0, 0, 0, 0, 0, 0, 0, 0, 0, 0, 0, 0, 0, 0, 0, 0, 0, 0, 0, 0, 0, 0, 0, 0, 0, 0, 0, 0, 0, 0, 0, 0, 1, 0, 0, 0, 0, 0, 0, 0, 0, 0, 0, 0, 0, 0, 0, 0, 0, 0, 0, 0, 0, 0, 0, 0, 0, 0, 0, 0, 0, 0, 0, 0, 0, 0, 0, 0, 0, 0, 0, 0, 0, 0, 0, 0, 0, 0, 0, 0, 0, 0, 0, 0, 0, 0, 0, 0, 0, 0, 0, 0, 0, 0, 0, 0, 1, 0, 0, 0, 0, 0, 0, 0, 0, 0, 0, 0, 0, 0, 0, 0, 0, 0, 0, 0, 0, 0, 0, 0, 0, 0, 0, 0, 0, 0, 0, 0, 0, 0, 0, 0, 0, 0, 0, 0, 0, 0, 0, 0, 0, 0, 0, 0, 0, 0, 0, 0, 0, 0, 0, 0, 0, 0, 0, 0, 0, 0, 0, 0, 1, 0, 0, 0, 0, 0, 0, 0, 0, 0, 0, 0, 0, 0, 0, 0, 0, 0, 0, 0, 0, 0, 0, 0, 0, 0, 0, 0, 0, 0, 0, 0, 0, 0, 0, 0, 0, 0, 0, 0, 0, 0, 0, 0, 0, 0, 0, 0, 0, 0, 0, 0, 0, 0, 0, 0, 0, 0, 0, 0, 0, 0, 0, 0, 1, 0, 0, 0, 0, 0, 0, 0, 0, 0, 0, 0, 0, 0, 0, 0, 0, 0, 0, 0, 0, 0, 0, 0, 0, 0, 0, 0, 0, 0, 0, 0, 0, 0, 0, 0, 0, 0, 0, 0, 0, 0, 0, 0, 0, 0, 0, 0, 0, 0, 0, 0, 0, 0, 0, 0, 0, 0, 0, 0, 0, 0, 0, 0, 1, 0, 0, 0, 0, 0, 0, 0, 0, 0, 0, 0, 0, 0, 0, 0, 0, 0, 0, 0, 0, 0, 0, 0, 0, 0, 0, 0, 0, 0, 0, 0, 0, 0, 0, 0, 0, 0, 0, 0, 0, 0, 0, 0, 0, 0, 0, 0, 0, 0, 0, 0, 0, 0, 0, 0, 0, 0, 0, 0, 0, 0, 0, 0, 1, 0, 0, 0, 0, 0, 0, 0, 0, 0, 0, 0, 0, 0, 0, 0, 0, 0, 0, 0, 0, 0, 0, 0, 0, 0, 0, 0, 0, 0, 0, 0, 0, 0, 0, 0, 0, 0, 0, 0, 0, 0, 0, 0, 0, 0, 0, 0, 0, 0, 0, 0, 0, 0, 0, 0, 0, 0, 0, 0, 0, 0, 0, 0]\n"
          ],
          "name": "stdout"
        }
      ]
    },
    {
      "metadata": {
        "id": "KQ7DpkdrtPzq",
        "colab_type": "code",
        "colab": {}
      },
      "cell_type": "code",
      "source": [
        ""
      ],
      "execution_count": 0,
      "outputs": []
    },
    {
      "metadata": {
        "id": "Ad_-Cc-ctPzt",
        "colab_type": "code",
        "colab": {}
      },
      "cell_type": "code",
      "source": [
        "### DEFINE FINAL DATASET AND CORRESPONDING LABELSET :: ###"
      ],
      "execution_count": 0,
      "outputs": []
    },
    {
      "metadata": {
        "id": "_a3bsueHtPzv",
        "colab_type": "code",
        "colab": {
          "base_uri": "https://localhost:8080/",
          "height": 51
        },
        "outputId": "b3c08f42-0934-40c7-ea90-dd6a8fecfe77"
      },
      "cell_type": "code",
      "source": [
        "final_dataset = integer_encoded_tweet_list\n",
        "#final_dataset = one_hot_encoded_tweet_list\n",
        "final_labelset = encoded_label_list\n",
        "\n",
        "print('len(final_dataset) =',len(final_dataset))\n",
        "print('len(final_labelset) =',len(final_labelset))"
      ],
      "execution_count": 20,
      "outputs": [
        {
          "output_type": "stream",
          "text": [
            "len(final_dataset) = 1024\n",
            "len(final_labelset) = 1024\n"
          ],
          "name": "stdout"
        }
      ]
    },
    {
      "metadata": {
        "id": "GbNhUx_LtPz0",
        "colab_type": "code",
        "colab": {}
      },
      "cell_type": "code",
      "source": [
        ""
      ],
      "execution_count": 0,
      "outputs": []
    },
    {
      "metadata": {
        "id": "HvpMsSgctPz2",
        "colab_type": "code",
        "colab": {}
      },
      "cell_type": "code",
      "source": [
        "units = len(integer_encoded_tweet_list[0])\n",
        "embedding_dim = len(integer_encoded_tweet_list[0])\n",
        "input_shape = len(integer_encoded_tweet_list[0])\n",
        "\n",
        "#units = len(one_hot_encoded_tweet_list[0])\n",
        "#embedding_dim = len(one_hot_encoded_tweet_list[0])\n",
        "#input_shape = len(one_hot_encoded_tweet_list[0])"
      ],
      "execution_count": 0,
      "outputs": []
    },
    {
      "metadata": {
        "id": "7eQCWVLetPz5",
        "colab_type": "code",
        "colab": {}
      },
      "cell_type": "code",
      "source": [
        "model = Sequential()"
      ],
      "execution_count": 0,
      "outputs": []
    },
    {
      "metadata": {
        "id": "x2NcBK_HtPz9",
        "colab_type": "code",
        "colab": {}
      },
      "cell_type": "code",
      "source": [
        "model.add(Embedding(units, \n",
        "                    embedding_dim,\n",
        "                    input_shape=(input_shape,)))"
      ],
      "execution_count": 0,
      "outputs": []
    },
    {
      "metadata": {
        "id": "-zAFYzo6tP0B",
        "colab_type": "code",
        "colab": {}
      },
      "cell_type": "code",
      "source": [
        "model.add(GRU(512, \n",
        "              activation='tanh', \n",
        "              use_bias=True, \n",
        "              bias_initializer='RandomNormal', \n",
        "              dropout=0.2, \n",
        "              return_sequences=True))"
      ],
      "execution_count": 0,
      "outputs": []
    },
    {
      "metadata": {
        "id": "GwRodTQrtP0D",
        "colab_type": "code",
        "colab": {}
      },
      "cell_type": "code",
      "source": [
        "model.add(GRU(512, \n",
        "              activation='tanh', \n",
        "              use_bias=True, \n",
        "              bias_initializer='RandomNormal', \n",
        "              dropout=0.2, \n",
        "              return_sequences=True))"
      ],
      "execution_count": 0,
      "outputs": []
    },
    {
      "metadata": {
        "id": "sQ-On6p3tP0G",
        "colab_type": "code",
        "colab": {}
      },
      "cell_type": "code",
      "source": [
        "model.add(GRU(2, \n",
        "              activation='softmax', \n",
        "              use_bias=True, \n",
        "              bias_initializer='RandomNormal', \n",
        "              dropout=0.2))"
      ],
      "execution_count": 0,
      "outputs": []
    },
    {
      "metadata": {
        "id": "tyhTtBawtP0I",
        "colab_type": "code",
        "colab": {
          "base_uri": "https://localhost:8080/",
          "height": 272
        },
        "outputId": "db7a5163-f558-4e7f-c17e-35c2698b5042"
      },
      "cell_type": "code",
      "source": [
        "model.summary()"
      ],
      "execution_count": 27,
      "outputs": [
        {
          "output_type": "stream",
          "text": [
            "_________________________________________________________________\n",
            "Layer (type)                 Output Shape              Param #   \n",
            "=================================================================\n",
            "embedding_1 (Embedding)      (None, 64, 64)            4096      \n",
            "_________________________________________________________________\n",
            "gru_1 (GRU)                  (None, 64, 512)           886272    \n",
            "_________________________________________________________________\n",
            "gru_2 (GRU)                  (None, 64, 512)           1574400   \n",
            "_________________________________________________________________\n",
            "gru_3 (GRU)                  (None, 2)                 3090      \n",
            "=================================================================\n",
            "Total params: 2,467,858\n",
            "Trainable params: 2,467,858\n",
            "Non-trainable params: 0\n",
            "_________________________________________________________________\n"
          ],
          "name": "stdout"
        }
      ]
    },
    {
      "metadata": {
        "id": "g8LgoT8qtP0N",
        "colab_type": "code",
        "colab": {}
      },
      "cell_type": "code",
      "source": [
        "#plot_model(model, to_file='D:\\EDUCATION\\Machine & Deep Learning\\Jupyter Notebook\\Images\\model.pdf')"
      ],
      "execution_count": 0,
      "outputs": []
    },
    {
      "metadata": {
        "id": "giuovsQktP0S",
        "colab_type": "code",
        "colab": {}
      },
      "cell_type": "code",
      "source": [
        "batch_size = 50\n",
        "epochs = 10\n",
        "k = 10\n",
        "learning_rate = 0.001\n",
        "learning_rate_decay = 1e-6"
      ],
      "execution_count": 0,
      "outputs": []
    },
    {
      "metadata": {
        "id": "0-CTK3yAtP0V",
        "colab_type": "code",
        "colab": {}
      },
      "cell_type": "code",
      "source": [
        "model.compile(loss='sparse_categorical_crossentropy',\n",
        "             optimizer=SGD(lr=learning_rate,\n",
        "                           decay=learning_rate_decay\n",
        "                          ),\n",
        "             metrics=['accuracy'])"
      ],
      "execution_count": 0,
      "outputs": []
    },
    {
      "metadata": {
        "id": "T-vj0yYStP0a",
        "colab_type": "code",
        "colab": {
          "base_uri": "https://localhost:8080/",
          "height": 102
        },
        "outputId": "8ce3fe05-2176-4a9e-be27-75fffc0c0d9f"
      },
      "cell_type": "code",
      "source": [
        "dataset_split_index = int(len(final_dataset)*0.1)\n",
        "\n",
        "training_validation_dataset = final_dataset[dataset_split_index:]\n",
        "testing_dataset = final_dataset[:dataset_split_index]\n",
        "\n",
        "training_validation_labelset = final_labelset[dataset_split_index:]\n",
        "testing_labelset = final_labelset[:dataset_split_index]\n",
        "\n",
        "print(dataset_split_index)\n",
        "\n",
        "print('len(training_validation_dataset) =',len(training_validation_dataset))\n",
        "print('len(training_validation_labelset) =',len(training_validation_labelset))\n",
        "\n",
        "print('len(testing_dataset) =',len(testing_dataset))\n",
        "print('len(testing_labelset)',len(testing_labelset))"
      ],
      "execution_count": 31,
      "outputs": [
        {
          "output_type": "stream",
          "text": [
            "102\n",
            "len(training_validation_dataset) = 922\n",
            "len(training_validation_labelset) = 922\n",
            "len(testing_dataset) = 102\n",
            "len(testing_labelset) 102\n"
          ],
          "name": "stdout"
        }
      ]
    },
    {
      "metadata": {
        "id": "JZrXqX7WtP0d",
        "colab_type": "code",
        "colab": {
          "base_uri": "https://localhost:8080/",
          "height": 34
        },
        "outputId": "ae312206-2b33-4052-9d05-a1f6520b8c76"
      },
      "cell_type": "code",
      "source": [
        "total_data = len(integer_encoded_tweet_list)\n",
        "split_indices = int(total_data/k)\n",
        "\n",
        "print(total_data)"
      ],
      "execution_count": 32,
      "outputs": [
        {
          "output_type": "stream",
          "text": [
            "1024\n"
          ],
          "name": "stdout"
        }
      ]
    },
    {
      "metadata": {
        "scrolled": false,
        "id": "kgxTjTkqtP0h",
        "colab_type": "code",
        "colab": {
          "base_uri": "https://localhost:8080/",
          "height": 4984
        },
        "outputId": "72cc828c-32fa-46b3-c3d6-170659e1a109"
      },
      "cell_type": "code",
      "source": [
        "training_loss = []\n",
        "training_acc = []\n",
        "validation_loss = []\n",
        "validation_acc = []\n",
        "\n",
        "for fold in range(1,k+1):\n",
        "    print('Fold -',fold,'::')\n",
        "    print('--------------')\n",
        "    \n",
        "    training_dataset = training_validation_dataset[:fold*split_indices-split_indices]\n",
        "    training_dataset += training_validation_dataset[fold*split_indices:]\n",
        "    validation_dataset = training_validation_dataset[fold*split_indices-split_indices:fold*split_indices]\n",
        "    \n",
        "    training_labelset = training_validation_labelset[:fold*split_indices-split_indices]\n",
        "    training_labelset += training_validation_labelset[fold*split_indices:]\n",
        "    validation_labelset = training_validation_labelset[fold*split_indices-split_indices:fold*split_indices]\n",
        "    \n",
        "    #print(len(training_dataset))\n",
        "    #print(len(training_dataset[0]))\n",
        "    #print(type(training_dataset[0][0]))\n",
        "    \n",
        "    print('Training on',len(training_dataset),'samples & validating on',len(validation_dataset),'samples with batch size',batch_size,'.')\n",
        "    \n",
        "    training_history = model.fit(np.array(training_dataset),\n",
        "                                 np.array(training_labelset),\n",
        "                                 batch_size=batch_size,\n",
        "                                 epochs=epochs,\n",
        "                                 #validation_split=0.1\n",
        "                                )\n",
        "    #training_history.append(current_training_history)\n",
        "    for loss in training_history.history['loss']:\n",
        "        training_loss.append(loss)\n",
        "    for acc in training_history.history['acc']:\n",
        "        training_acc.append(acc)\n",
        "    \n",
        "    print('\\nValidating...')\n",
        "    validation_history = model.evaluate(np.array(validation_dataset),\n",
        "                                        np.array(validation_labelset),\n",
        "                                        batch_size=None, \n",
        "                                       )\n",
        "    #validation_history.append(current_validation_history)\n",
        "    validation_loss.append(validation_history[0])\n",
        "    validation_acc.append(validation_history[1])\n",
        "    print('Validation loss:',validation_history[0],', Validation acc:',validation_history[1])\n",
        "    \n",
        "    print('--------------\\n')"
      ],
      "execution_count": 33,
      "outputs": [
        {
          "output_type": "stream",
          "text": [
            "Fold - 1 ::\n",
            "--------------\n",
            "Training on 820 samples & validating on 102 samples with batch size 50 .\n",
            "WARNING:tensorflow:Variable *= will be deprecated. Use `var.assign(var * other)` if you want assignment to the variable value or `x = x * y` if you want a new python Tensor object.\n",
            "Epoch 1/10\n",
            "820/820 [==============================] - 9s 11ms/step - loss: 0.6452 - acc: 0.7268\n",
            "Epoch 2/10\n",
            "820/820 [==============================] - 6s 7ms/step - loss: 0.6356 - acc: 0.7293\n",
            "Epoch 3/10\n",
            "820/820 [==============================] - 6s 7ms/step - loss: 0.6247 - acc: 0.7293\n",
            "Epoch 4/10\n",
            "820/820 [==============================] - 6s 7ms/step - loss: 0.6166 - acc: 0.7293\n",
            "Epoch 5/10\n",
            "820/820 [==============================] - 6s 7ms/step - loss: 0.6089 - acc: 0.7293\n",
            "Epoch 6/10\n",
            "820/820 [==============================] - 6s 7ms/step - loss: 0.6053 - acc: 0.7293\n",
            "Epoch 7/10\n",
            "820/820 [==============================] - 6s 7ms/step - loss: 0.6019 - acc: 0.7293\n",
            "Epoch 8/10\n",
            "820/820 [==============================] - 6s 7ms/step - loss: 0.5932 - acc: 0.7293\n",
            "Epoch 9/10\n",
            "820/820 [==============================] - 6s 7ms/step - loss: 0.5957 - acc: 0.7293\n",
            "Epoch 10/10\n",
            "820/820 [==============================] - 6s 7ms/step - loss: 0.5936 - acc: 0.7293\n",
            "\n",
            "Validating...\n",
            "102/102 [==============================] - 1s 6ms/step\n",
            "Validation loss: 0.6082933334743276 , Validation acc: 0.705882354109895\n",
            "--------------\n",
            "\n",
            "Fold - 2 ::\n",
            "--------------\n",
            "Training on 820 samples & validating on 102 samples with batch size 50 .\n",
            "Epoch 1/10\n",
            "820/820 [==============================] - 6s 7ms/step - loss: 0.5930 - acc: 0.7293\n",
            "Epoch 2/10\n",
            "820/820 [==============================] - 6s 7ms/step - loss: 0.5902 - acc: 0.7293\n",
            "Epoch 3/10\n",
            "820/820 [==============================] - 6s 7ms/step - loss: 0.5917 - acc: 0.7293\n",
            "Epoch 4/10\n",
            "820/820 [==============================] - 6s 7ms/step - loss: 0.5888 - acc: 0.7293\n",
            "Epoch 5/10\n",
            "820/820 [==============================] - 6s 7ms/step - loss: 0.5869 - acc: 0.7293\n",
            "Epoch 6/10\n",
            "820/820 [==============================] - 6s 7ms/step - loss: 0.5879 - acc: 0.7293\n",
            "Epoch 7/10\n",
            "820/820 [==============================] - 6s 7ms/step - loss: 0.5871 - acc: 0.7293\n",
            "Epoch 8/10\n",
            "820/820 [==============================] - 6s 7ms/step - loss: 0.5873 - acc: 0.7293\n",
            "Epoch 9/10\n",
            "820/820 [==============================] - 6s 7ms/step - loss: 0.5873 - acc: 0.7293\n",
            "Epoch 10/10\n",
            "820/820 [==============================] - 6s 7ms/step - loss: 0.5875 - acc: 0.7293\n",
            "\n",
            "Validating...\n",
            "102/102 [==============================] - 0s 4ms/step\n",
            "Validation loss: 0.6058767712583729 , Validation acc: 0.705882351772458\n",
            "--------------\n",
            "\n",
            "Fold - 3 ::\n",
            "--------------\n",
            "Training on 820 samples & validating on 102 samples with batch size 50 .\n",
            "Epoch 1/10\n",
            "820/820 [==============================] - 6s 7ms/step - loss: 0.5923 - acc: 0.7232\n",
            "Epoch 2/10\n",
            "820/820 [==============================] - 6s 7ms/step - loss: 0.5923 - acc: 0.7232\n",
            "Epoch 3/10\n",
            "820/820 [==============================] - 6s 7ms/step - loss: 0.5907 - acc: 0.7232\n",
            "Epoch 4/10\n",
            "820/820 [==============================] - 6s 7ms/step - loss: 0.5906 - acc: 0.7232\n",
            "Epoch 5/10\n",
            "820/820 [==============================] - 6s 7ms/step - loss: 0.5914 - acc: 0.7232\n",
            "Epoch 6/10\n",
            "820/820 [==============================] - 6s 7ms/step - loss: 0.5921 - acc: 0.7232\n",
            "Epoch 7/10\n",
            "820/820 [==============================] - 6s 7ms/step - loss: 0.5896 - acc: 0.7232\n",
            "Epoch 8/10\n",
            "820/820 [==============================] - 6s 7ms/step - loss: 0.5888 - acc: 0.7232\n",
            "Epoch 9/10\n",
            "820/820 [==============================] - 6s 7ms/step - loss: 0.5908 - acc: 0.7232\n",
            "Epoch 10/10\n",
            "820/820 [==============================] - 6s 7ms/step - loss: 0.5902 - acc: 0.7232\n",
            "\n",
            "Validating...\n",
            "102/102 [==============================] - 0s 4ms/step\n",
            "Validation loss: 0.5606153846955767 , Validation acc: 0.7549019596155953\n",
            "--------------\n",
            "\n",
            "Fold - 4 ::\n",
            "--------------\n",
            "Training on 820 samples & validating on 102 samples with batch size 50 .\n",
            "Epoch 1/10\n",
            "820/820 [==============================] - 6s 7ms/step - loss: 0.5885 - acc: 0.7232\n",
            "Epoch 2/10\n",
            "820/820 [==============================] - 6s 7ms/step - loss: 0.5945 - acc: 0.7232\n",
            "Epoch 3/10\n",
            "820/820 [==============================] - 6s 7ms/step - loss: 0.5909 - acc: 0.7232\n",
            "Epoch 4/10\n",
            "820/820 [==============================] - 6s 7ms/step - loss: 0.5906 - acc: 0.7232\n",
            "Epoch 5/10\n",
            "820/820 [==============================] - 6s 7ms/step - loss: 0.5914 - acc: 0.7232\n",
            "Epoch 6/10\n",
            "820/820 [==============================] - 6s 7ms/step - loss: 0.5896 - acc: 0.7232\n",
            "Epoch 7/10\n",
            "820/820 [==============================] - 6s 7ms/step - loss: 0.5933 - acc: 0.7232\n",
            "Epoch 8/10\n",
            "820/820 [==============================] - 6s 7ms/step - loss: 0.5913 - acc: 0.7232\n",
            "Epoch 9/10\n",
            "820/820 [==============================] - 6s 7ms/step - loss: 0.5920 - acc: 0.7232\n",
            "Epoch 10/10\n",
            "820/820 [==============================] - 6s 7ms/step - loss: 0.5900 - acc: 0.7232\n",
            "\n",
            "Validating...\n",
            "102/102 [==============================] - 0s 4ms/step\n",
            "Validation loss: 0.5599431208535737 , Validation acc: 0.7549019619530323\n",
            "--------------\n",
            "\n",
            "Fold - 5 ::\n",
            "--------------\n",
            "Training on 820 samples & validating on 102 samples with batch size 50 .\n",
            "Epoch 1/10\n",
            "820/820 [==============================] - 6s 7ms/step - loss: 0.5881 - acc: 0.7256\n",
            "Epoch 2/10\n",
            "820/820 [==============================] - 6s 7ms/step - loss: 0.5892 - acc: 0.7256\n",
            "Epoch 3/10\n",
            "820/820 [==============================] - 6s 7ms/step - loss: 0.5876 - acc: 0.7256\n",
            "Epoch 4/10\n",
            "820/820 [==============================] - 6s 7ms/step - loss: 0.5893 - acc: 0.7256\n",
            "Epoch 5/10\n",
            "820/820 [==============================] - 6s 7ms/step - loss: 0.5844 - acc: 0.7256\n",
            "Epoch 6/10\n",
            "820/820 [==============================] - 6s 7ms/step - loss: 0.5898 - acc: 0.7256\n",
            "Epoch 7/10\n",
            "820/820 [==============================] - 6s 7ms/step - loss: 0.5883 - acc: 0.7256\n",
            "Epoch 8/10\n",
            "820/820 [==============================] - 6s 7ms/step - loss: 0.5864 - acc: 0.7256\n",
            "Epoch 9/10\n",
            "820/820 [==============================] - 6s 7ms/step - loss: 0.5877 - acc: 0.7256\n",
            "Epoch 10/10\n",
            "820/820 [==============================] - 6s 7ms/step - loss: 0.5896 - acc: 0.7256\n",
            "\n",
            "Validating...\n",
            "102/102 [==============================] - 0s 4ms/step\n",
            "Validation loss: 0.5781928762501362 , Validation acc: 0.7352941176470589\n",
            "--------------\n",
            "\n",
            "Fold - 6 ::\n",
            "--------------\n",
            "Training on 820 samples & validating on 102 samples with batch size 50 .\n",
            "Epoch 1/10\n",
            "820/820 [==============================] - 6s 7ms/step - loss: 0.5726 - acc: 0.7402\n",
            "Epoch 2/10\n",
            "820/820 [==============================] - 6s 7ms/step - loss: 0.5712 - acc: 0.7402\n",
            "Epoch 3/10\n",
            "820/820 [==============================] - 6s 7ms/step - loss: 0.5726 - acc: 0.7402\n",
            "Epoch 4/10\n",
            "820/820 [==============================] - 6s 7ms/step - loss: 0.5713 - acc: 0.7402\n",
            "Epoch 5/10\n",
            "820/820 [==============================] - 6s 7ms/step - loss: 0.5748 - acc: 0.7402\n",
            "Epoch 6/10\n",
            "820/820 [==============================] - 6s 7ms/step - loss: 0.5718 - acc: 0.7402\n",
            "Epoch 7/10\n",
            "820/820 [==============================] - 6s 8ms/step - loss: 0.5706 - acc: 0.7402\n",
            "Epoch 8/10\n",
            "820/820 [==============================] - 6s 7ms/step - loss: 0.5724 - acc: 0.7402\n",
            "Epoch 9/10\n",
            "820/820 [==============================] - 6s 7ms/step - loss: 0.5745 - acc: 0.7402\n",
            "Epoch 10/10\n",
            "820/820 [==============================] - 6s 7ms/step - loss: 0.5743 - acc: 0.7402\n",
            "\n",
            "Validating...\n",
            "102/102 [==============================] - 0s 4ms/step\n",
            "Validation loss: 0.697090725104014 , Validation acc: 0.6176470599922479\n",
            "--------------\n",
            "\n",
            "Fold - 7 ::\n",
            "--------------\n",
            "Training on 820 samples & validating on 102 samples with batch size 50 .\n",
            "Epoch 1/10\n",
            "820/820 [==============================] - 6s 7ms/step - loss: 0.6019 - acc: 0.7122\n",
            "Epoch 2/10\n",
            "820/820 [==============================] - 6s 7ms/step - loss: 0.6004 - acc: 0.7122\n",
            "Epoch 3/10\n",
            "820/820 [==============================] - 6s 7ms/step - loss: 0.6004 - acc: 0.7122\n",
            "Epoch 4/10\n",
            "820/820 [==============================] - 6s 7ms/step - loss: 0.6018 - acc: 0.7122\n",
            "Epoch 5/10\n",
            "820/820 [==============================] - 6s 7ms/step - loss: 0.6004 - acc: 0.7122\n",
            "Epoch 6/10\n",
            "820/820 [==============================] - 6s 7ms/step - loss: 0.6021 - acc: 0.7122\n",
            "Epoch 7/10\n",
            "820/820 [==============================] - 6s 7ms/step - loss: 0.6001 - acc: 0.7122\n",
            "Epoch 8/10\n",
            "820/820 [==============================] - 6s 7ms/step - loss: 0.6011 - acc: 0.7122\n",
            "Epoch 9/10\n",
            "820/820 [==============================] - 6s 7ms/step - loss: 0.5986 - acc: 0.7122\n",
            "Epoch 10/10\n",
            "820/820 [==============================] - 6s 7ms/step - loss: 0.6038 - acc: 0.7122\n",
            "\n",
            "Validating...\n",
            "102/102 [==============================] - 0s 4ms/step\n",
            "Validation loss: 0.47643689957319524 , Validation acc: 0.8431372537332422\n",
            "--------------\n",
            "\n",
            "Fold - 8 ::\n",
            "--------------\n",
            "Training on 820 samples & validating on 102 samples with batch size 50 .\n",
            "Epoch 1/10\n",
            "820/820 [==============================] - 6s 7ms/step - loss: 0.5894 - acc: 0.7256\n",
            "Epoch 2/10\n",
            "820/820 [==============================] - 6s 7ms/step - loss: 0.5898 - acc: 0.7256\n",
            "Epoch 3/10\n",
            "820/820 [==============================] - 6s 7ms/step - loss: 0.5878 - acc: 0.7256\n",
            "Epoch 4/10\n",
            "820/820 [==============================] - 6s 7ms/step - loss: 0.5881 - acc: 0.7256\n",
            "Epoch 5/10\n",
            "820/820 [==============================] - 6s 7ms/step - loss: 0.5879 - acc: 0.7256\n",
            "Epoch 6/10\n",
            "820/820 [==============================] - 6s 7ms/step - loss: 0.5898 - acc: 0.7256\n",
            "Epoch 7/10\n",
            "820/820 [==============================] - 6s 7ms/step - loss: 0.5900 - acc: 0.7256\n",
            "Epoch 8/10\n",
            "820/820 [==============================] - 6s 8ms/step - loss: 0.5908 - acc: 0.7256\n",
            "Epoch 9/10\n",
            "820/820 [==============================] - 6s 7ms/step - loss: 0.5888 - acc: 0.7256\n",
            "Epoch 10/10\n",
            "820/820 [==============================] - 6s 7ms/step - loss: 0.5885 - acc: 0.7256\n",
            "\n",
            "Validating...\n",
            "102/102 [==============================] - 0s 4ms/step\n",
            "Validation loss: 0.5783085273761376 , Validation acc: 0.7352941188157773\n",
            "--------------\n",
            "\n",
            "Fold - 9 ::\n",
            "--------------\n",
            "Training on 820 samples & validating on 102 samples with batch size 50 .\n",
            "Epoch 1/10\n",
            "820/820 [==============================] - 6s 7ms/step - loss: 0.5810 - acc: 0.7329\n",
            "Epoch 2/10\n",
            "820/820 [==============================] - 6s 7ms/step - loss: 0.5805 - acc: 0.7329\n",
            "Epoch 3/10\n",
            "820/820 [==============================] - 6s 7ms/step - loss: 0.5807 - acc: 0.7329\n",
            "Epoch 4/10\n",
            "820/820 [==============================] - 6s 7ms/step - loss: 0.5810 - acc: 0.7329\n",
            "Epoch 5/10\n",
            "820/820 [==============================] - 6s 7ms/step - loss: 0.5798 - acc: 0.7329\n",
            "Epoch 6/10\n",
            "820/820 [==============================] - 6s 7ms/step - loss: 0.5806 - acc: 0.7329\n",
            "Epoch 7/10\n",
            "820/820 [==============================] - 6s 7ms/step - loss: 0.5802 - acc: 0.7329\n",
            "Epoch 8/10\n",
            "820/820 [==============================] - 6s 7ms/step - loss: 0.5780 - acc: 0.7329\n",
            "Epoch 9/10\n",
            "820/820 [==============================] - 6s 7ms/step - loss: 0.5795 - acc: 0.7329\n",
            "Epoch 10/10\n",
            "820/820 [==============================] - 6s 7ms/step - loss: 0.5820 - acc: 0.7329\n",
            "\n",
            "Validating...\n",
            "102/102 [==============================] - 0s 4ms/step\n",
            "Validation loss: 0.636387065929525 , Validation acc: 0.6764705870665756\n",
            "--------------\n",
            "\n",
            "Fold - 10 ::\n",
            "--------------\n",
            "Training on 918 samples & validating on 4 samples with batch size 50 .\n",
            "Epoch 1/10\n",
            "918/918 [==============================] - 7s 7ms/step - loss: 0.5890 - acc: 0.7255\n",
            "Epoch 2/10\n",
            "918/918 [==============================] - 7s 7ms/step - loss: 0.5865 - acc: 0.7255\n",
            "Epoch 3/10\n",
            "918/918 [==============================] - 7s 7ms/step - loss: 0.5882 - acc: 0.7255\n",
            "Epoch 4/10\n",
            "918/918 [==============================] - 7s 7ms/step - loss: 0.5863 - acc: 0.7255\n",
            "Epoch 5/10\n",
            "918/918 [==============================] - 7s 7ms/step - loss: 0.5892 - acc: 0.7255\n",
            "Epoch 6/10\n",
            "918/918 [==============================] - 7s 7ms/step - loss: 0.5873 - acc: 0.7255\n",
            "Epoch 7/10\n",
            "918/918 [==============================] - 7s 7ms/step - loss: 0.5887 - acc: 0.7255\n",
            "Epoch 8/10\n",
            "918/918 [==============================] - 7s 7ms/step - loss: 0.5871 - acc: 0.7255\n",
            "Epoch 9/10\n",
            "918/918 [==============================] - 7s 7ms/step - loss: 0.5886 - acc: 0.7255\n",
            "Epoch 10/10\n",
            "918/918 [==============================] - 7s 7ms/step - loss: 0.5911 - acc: 0.7255\n",
            "\n",
            "Validating...\n",
            "4/4 [==============================] - 0s 23ms/step\n",
            "Validation loss: 0.3192262649536133 , Validation acc: 1.0\n",
            "--------------\n",
            "\n"
          ],
          "name": "stdout"
        }
      ]
    },
    {
      "metadata": {
        "id": "0JQVNljxtP0m",
        "colab_type": "code",
        "colab": {
          "base_uri": "https://localhost:8080/",
          "height": 376
        },
        "outputId": "83abe973-62c0-499d-d9c4-fe4148490f9c"
      },
      "cell_type": "code",
      "source": [
        "x_axis = [x/epochs for x in range(1,epochs*k+1)]\n",
        "\n",
        "plt.grid()\n",
        "plt.plot(x_axis, training_loss)\n",
        "plt.plot(x_axis, training_acc)\n",
        "plt.plot([0,k], [min(training_loss),max(training_acc)+.05], alpha=0.0)\n",
        "plt.title('Training Loss vs Training Accuracy')\n",
        "plt.ylabel('Training Value')\n",
        "plt.xlabel('Fold')\n",
        "plt.legend(['Training Loss', 'Training Accuracy'], loc='best')\n",
        "plt.show()"
      ],
      "execution_count": 34,
      "outputs": [
        {
          "output_type": "display_data",
          "data": {
            "image/png": "[encoded data removed]",
            "text/plain": [
              "<matplotlib.figure.Figure at 0x7fe0b8c4e2e8>"
            ]
          },
          "metadata": {
            "tags": []
          }
        }
      ]
    },
    {
      "metadata": {
        "scrolled": true,
        "id": "3tpsA9RqtP0o",
        "colab_type": "code",
        "colab": {
          "base_uri": "https://localhost:8080/",
          "height": 376
        },
        "outputId": "f19d3da8-b7c8-4414-f82b-ff572a6ee338"
      },
      "cell_type": "code",
      "source": [
        "x_axis = [x for x in range(1,k+1)]\n",
        "\n",
        "plt.grid()\n",
        "plt.plot(x_axis, validation_loss)\n",
        "plt.plot(x_axis, validation_acc)\n",
        "plt.plot([1,k], [min(validation_loss),max(validation_acc)+.05], alpha=0.0)\n",
        "plt.title('Validation Loss vs Validation Accuracy')\n",
        "plt.ylabel('Validation Value')\n",
        "plt.xlabel('Fold')\n",
        "plt.legend(['Validation Loss', 'Validation Accuracy'], loc='best')\n",
        "plt.show()"
      ],
      "execution_count": 35,
      "outputs": [
        {
          "output_type": "display_data",
          "data": {
            "image/png": "[encoded data removed]",
            "text/plain": [
              "<matplotlib.figure.Figure at 0x7fe0b8c4e1d0>"
            ]
          },
          "metadata": {
            "tags": []
          }
        }
      ]
    },
    {
      "metadata": {
        "id": "zdkjkv7mtP0t",
        "colab_type": "code",
        "colab": {}
      },
      "cell_type": "code",
      "source": [
        "### TESTING :: ###"
      ],
      "execution_count": 0,
      "outputs": []
    },
    {
      "metadata": {
        "id": "pLyj0WV1tP0w",
        "colab_type": "code",
        "colab": {}
      },
      "cell_type": "code",
      "source": [
        "testing_result = model.predict_classes(np.array(testing_dataset))"
      ],
      "execution_count": 0,
      "outputs": []
    },
    {
      "metadata": {
        "id": "xQbNxiZ2tP0y",
        "colab_type": "code",
        "colab": {}
      },
      "cell_type": "code",
      "source": [
        "accuracy_count = 0\n",
        "for target,predicted in zip(testing_labelset,testing_result):\n",
        "    if target == predicted:\n",
        "        accuracy_count += 1"
      ],
      "execution_count": 0,
      "outputs": []
    },
    {
      "metadata": {
        "id": "5g0dEO0ZtP0-",
        "colab_type": "code",
        "colab": {
          "base_uri": "https://localhost:8080/",
          "height": 51
        },
        "outputId": "1ebf54ec-8e7a-4dcc-cedd-acab8687fcfc"
      },
      "cell_type": "code",
      "source": [
        "print(accuracy_count,'out of',len(testing_labelset),'testing samples are correctly classified!')\n",
        "accuracy = round(((accuracy_count/len(testing_labelset))*100), 2)\n",
        "print('Accuracy = '+str(accuracy)+'%')"
      ],
      "execution_count": 39,
      "outputs": [
        {
          "output_type": "stream",
          "text": [
            "74 out of 102 testing samples are correctly classified!\n",
            "Accuracy = 72.55%\n"
          ],
          "name": "stdout"
        }
      ]
    },
    {
      "metadata": {
        "id": "rmQlwkjvtP1C",
        "colab_type": "code",
        "colab": {}
      },
      "cell_type": "code",
      "source": [
        "### END OF MODEL ###"
      ],
      "execution_count": 0,
      "outputs": []
    },
    {
      "metadata": {
        "id": "WMNA_EsotP1F",
        "colab_type": "code",
        "colab": {}
      },
      "cell_type": "code",
      "source": [
        ""
      ],
      "execution_count": 0,
      "outputs": []
    },
    {
      "metadata": {
        "id": "0QyYIzOXtP1L",
        "colab_type": "code",
        "colab": {}
      },
      "cell_type": "code",
      "source": [
        "### SOME NOTES:-"
      ],
      "execution_count": 0,
      "outputs": []
    },
    {
      "metadata": {
        "id": "Byd1zTYWtP1Q",
        "colab_type": "code",
        "colab": {
          "base_uri": "https://localhost:8080/",
          "height": 88
        },
        "outputId": "187db6da-1641-4ccc-fe48-06d21076301d"
      },
      "cell_type": "code",
      "source": [
        "#print(training_history.epoch)\n",
        "print(training_history.history)\n",
        "print(training_history.history['loss'])\n",
        "print(training_history.history['acc'])\n",
        "#print(training_history.model)"
      ],
      "execution_count": 42,
      "outputs": [
        {
          "output_type": "stream",
          "text": [
            "{'loss': [0.5890258609079847, 0.5865027770107868, 0.5881902759241383, 0.5862787542519746, 0.5891812633325332, 0.5872723294628991, 0.588725708668528, 0.5871497453687498, 0.5886337729191209, 0.5910850103644244], 'acc': [0.7254901988054413, 0.7254902007533055, 0.7254902091940504, 0.7254901940007096, 0.7254901991950141, 0.7254902001040174, 0.7254901959485738, 0.7254901988054413, 0.7254901975068652, 0.7254901927021334]}\n",
            "[0.5890258609079847, 0.5865027770107868, 0.5881902759241383, 0.5862787542519746, 0.5891812633325332, 0.5872723294628991, 0.588725708668528, 0.5871497453687498, 0.5886337729191209, 0.5910850103644244]\n",
            "[0.7254901988054413, 0.7254902007533055, 0.7254902091940504, 0.7254901940007096, 0.7254901991950141, 0.7254902001040174, 0.7254901959485738, 0.7254901988054413, 0.7254901975068652, 0.7254901927021334]\n"
          ],
          "name": "stdout"
        }
      ]
    },
    {
      "metadata": {
        "id": "Rp0z9fbLtP1T",
        "colab_type": "code",
        "colab": {
          "base_uri": "https://localhost:8080/",
          "height": 68
        },
        "outputId": "f420c59a-c9d8-4fa7-c159-7b466353252a"
      },
      "cell_type": "code",
      "source": [
        "print(validation_history)\n",
        "print(validation_history[0])\n",
        "print(validation_history[1])\n",
        "#print(validation_history.count)"
      ],
      "execution_count": 43,
      "outputs": [
        {
          "output_type": "stream",
          "text": [
            "[0.3192262649536133, 1.0]\n",
            "0.3192262649536133\n",
            "1.0\n"
          ],
          "name": "stdout"
        }
      ]
    },
    {
      "metadata": {
        "scrolled": false,
        "id": "SpFRo1rhtP1X",
        "colab_type": "code",
        "colab": {
          "base_uri": "https://localhost:8080/",
          "height": 190
        },
        "outputId": "235cb6f0-a2a5-4d8e-8d66-3e685be713c2"
      },
      "cell_type": "code",
      "source": [
        "print(training_loss)\n",
        "print(training_acc)\n",
        "print('validation_loss =',validation_loss)\n",
        "print(validation_acc)\n",
        "\n",
        "print(max(training_acc))\n",
        "print(min(training_loss))\n",
        "\n",
        "print(max(validation_acc))\n",
        "print('min(validation_loss) =',min(validation_loss))\n",
        "\n",
        "print(len(training_loss))"
      ],
      "execution_count": 44,
      "outputs": [
        {
          "output_type": "stream",
          "text": [
            "[0.6451855149210953, 0.6356181182512423, 0.6247107335707036, 0.6166270745963585, 0.6088859177217251, 0.605311765176494, 0.6019165530437376, 0.5932011793299419, 0.5957153948341928, 0.593598443560484, 0.5930017334658925, 0.5902240232723516, 0.5917390156082991, 0.5887508552248885, 0.5869041724902827, 0.5878812103736691, 0.5870802998542786, 0.5872735722762782, 0.5873015352138659, 0.5874706586686577, 0.5923427248873362, 0.5923275333352205, 0.5906576208951997, 0.5905909378354143, 0.5914454013109207, 0.592097620411617, 0.5895605737843165, 0.588751899033058, 0.5907646170476588, 0.5901532467545533, 0.5885341694442238, 0.5945197485569047, 0.5909478998765713, 0.5905775849412127, 0.5913674162655342, 0.5896034447885141, 0.5932992682224367, 0.5913442304221596, 0.592031098720504, 0.5899839899161967, 0.5880512751457168, 0.5892408337534928, 0.5875604937716228, 0.589314852909344, 0.5843598871696286, 0.5898181541663844, 0.5883222614846578, 0.5863577105650087, 0.5876961357709838, 0.5896055891019542, 0.5725925473905191, 0.5711944801051442, 0.5725965856052027, 0.5712614259341868, 0.5747524543506343, 0.5718100249040418, 0.5705820787243727, 0.5723863778317847, 0.574493737482443, 0.574329352233468, 0.6019489292691393, 0.6004470339635524, 0.6003690689075284, 0.6018297257946759, 0.6004062781973583, 0.602112493137034, 0.600074498391733, 0.6010701409200343, 0.5986273779374797, 0.6038256440220809, 0.589383231430519, 0.5897872695108739, 0.5878411902160179, 0.5880531835846785, 0.5879005982381541, 0.5898409424031653, 0.5899995594489865, 0.5907701660947102, 0.5888054988733152, 0.5885070362469045, 0.5810318690974537, 0.5805447156109461, 0.5807353926867973, 0.5809779465198517, 0.5797881796592619, 0.5805935983250781, 0.5801730632055097, 0.5780485403246995, 0.5795490338308055, 0.5820326267219171, 0.5890258609079847, 0.5865027770107868, 0.5881902759241383, 0.5862787542519746, 0.5891812633325332, 0.5872723294628991, 0.588725708668528, 0.5871497453687498, 0.5886337729191209, 0.5910850103644244]\n",
            "[0.726829271490981, 0.7292682950089617, 0.7292682971896195, 0.7292682986433913, 0.7292682921014181, 0.7292683044584786, 0.7292682979165054, 0.7292682971896195, 0.7292682979165054, 0.72926829355519, 0.7292682913745322, 0.7292682950089617, 0.7292682913745322, 0.7292682964627336, 0.7292682913745322, 0.729268284105673, 0.7292682906476463, 0.7292682877401027, 0.7292682971896195, 0.729268300824049, 0.7231707391215534, 0.7231707376677815, 0.7231707383946675, 0.7231707405753252, 0.7231707434828688, 0.7231707347602379, 0.7231707267644929, 0.7231707354871239, 0.7231707311258083, 0.7231707347602379, 0.7231707325795802, 0.7231707311258083, 0.7231707303989224, 0.7231707383946675, 0.723170734033352, 0.7231707354871239, 0.7231707362140097, 0.7231707325795802, 0.7231707362140097, 0.7231707442097548, 0.7256097517362455, 0.7256097553706751, 0.7256097539169032, 0.725609764093306, 0.7256097619126483, 0.7256097568244468, 0.7256097699083933, 0.7256097626395341, 0.72560974737493, 0.7256097619126483, 0.7402438986592177, 0.7402439015667613, 0.7402439001129895, 0.7402439066549626, 0.7402439052011909, 0.7402439001129895, 0.7402439066549626, 0.7402439015667613, 0.740243903747419, 0.7402438972054458, 0.7121951274755525, 0.7121951260217806, 0.7121951289293242, 0.7121951231142369, 0.7121951231142369, 0.7121951274755525, 0.7121951252948947, 0.7121951252948947, 0.7121951245680088, 0.7121951274755525, 0.7256097546437892, 0.7256097611857624, 0.725609764093306, 0.7256097531900173, 0.7256097539169032, 0.7256097546437892, 0.7256097575513328, 0.725609764093306, 0.7256097568244468, 0.7256097510093595, 0.7329268361010203, 0.7329268361010203, 0.7329268281052752, 0.7329268295590471, 0.7329268295590471, 0.7329268281052752, 0.7329268339203625, 0.7329268346472484, 0.7329268317397047, 0.7329268390085639, 0.7254901988054413, 0.7254902007533055, 0.7254902091940504, 0.7254901940007096, 0.7254901991950141, 0.7254902001040174, 0.7254901959485738, 0.7254901988054413, 0.7254901975068652, 0.7254901927021334]\n",
            "validation_loss = [0.6082933334743276, 0.6058767712583729, 0.5606153846955767, 0.5599431208535737, 0.5781928762501362, 0.697090725104014, 0.47643689957319524, 0.5783085273761376, 0.636387065929525, 0.3192262649536133]\n",
            "[0.705882354109895, 0.705882351772458, 0.7549019596155953, 0.7549019619530323, 0.7352941176470589, 0.6176470599922479, 0.8431372537332422, 0.7352941188157773, 0.6764705870665756, 1.0]\n",
            "0.7402439066549626\n",
            "0.5705820787243727\n",
            "1.0\n",
            "min(validation_loss) = 0.3192262649536133\n",
            "100\n"
          ],
          "name": "stdout"
        }
      ]
    },
    {
      "metadata": {
        "id": "iqWgVL4YtP1c",
        "colab_type": "code",
        "colab": {
          "base_uri": "https://localhost:8080/",
          "height": 54
        },
        "outputId": "c764c54a-896f-4337-8cf2-edec30ee1060"
      },
      "cell_type": "code",
      "source": [
        "'''\n",
        "plt.plot(training_loss)\n",
        "plt.plot(validation_loss)\n",
        "plt.title('Training Loss vs Validation Loss')\n",
        "plt.ylabel('Loss')\n",
        "plt.xlabel('Epoch')\n",
        "plt.legend(['Training Loss', 'Validation Loss'], loc='upper left')\n",
        "plt.show()\n",
        "'''"
      ],
      "execution_count": 45,
      "outputs": [
        {
          "output_type": "execute_result",
          "data": {
            "text/plain": [
              "\"\\nplt.plot(training_loss)\\nplt.plot(validation_loss)\\nplt.title('Training Loss vs Validation Loss')\\nplt.ylabel('Loss')\\nplt.xlabel('Epoch')\\nplt.legend(['Training Loss', 'Validation Loss'], loc='upper left')\\nplt.show()\\n\""
            ]
          },
          "metadata": {
            "tags": []
          },
          "execution_count": 45
        }
      ]
    },
    {
      "metadata": {
        "id": "OgZS5c3OtP1g",
        "colab_type": "code",
        "colab": {
          "base_uri": "https://localhost:8080/",
          "height": 34
        },
        "outputId": "7fc70aa5-257f-4db7-f555-2aadb7b93d77"
      },
      "cell_type": "code",
      "source": [
        "5/3\n",
        "round(5/3, 2)"
      ],
      "execution_count": 46,
      "outputs": [
        {
          "output_type": "execute_result",
          "data": {
            "text/plain": [
              "1.67"
            ]
          },
          "metadata": {
            "tags": []
          },
          "execution_count": 46
        }
      ]
    },
    {
      "metadata": {
        "id": "wyX3q_GWtP1j",
        "colab_type": "code",
        "colab": {
          "base_uri": "https://localhost:8080/",
          "height": 122
        },
        "outputId": "0f7af091-0b4a-4c7b-a891-2796d264278c"
      },
      "cell_type": "code",
      "source": [
        "x_axis = [round(x/len(training_loss), 2) for x in range(1,len(training_loss)+1)]\n",
        "print(x_axis)\n",
        "\n",
        "x_axis = [x for x in range(epochs*k+1)]\n",
        "print(x_axis)\n",
        "\n",
        "x_axis = [x/epochs for x in range(epochs*k+1)]\n",
        "print(x_axis)\n",
        "\n",
        "x_axis = [x/epochs for x in range(epochs*k+1)]\n",
        "print(x_axis)\n",
        "\n",
        "y_axis = [y for y in training_loss]\n",
        "y_axis.append(1)\n",
        "print(y_axis)"
      ],
      "execution_count": 47,
      "outputs": [
        {
          "output_type": "stream",
          "text": [
            "[0.01, 0.02, 0.03, 0.04, 0.05, 0.06, 0.07, 0.08, 0.09, 0.1, 0.11, 0.12, 0.13, 0.14, 0.15, 0.16, 0.17, 0.18, 0.19, 0.2, 0.21, 0.22, 0.23, 0.24, 0.25, 0.26, 0.27, 0.28, 0.29, 0.3, 0.31, 0.32, 0.33, 0.34, 0.35, 0.36, 0.37, 0.38, 0.39, 0.4, 0.41, 0.42, 0.43, 0.44, 0.45, 0.46, 0.47, 0.48, 0.49, 0.5, 0.51, 0.52, 0.53, 0.54, 0.55, 0.56, 0.57, 0.58, 0.59, 0.6, 0.61, 0.62, 0.63, 0.64, 0.65, 0.66, 0.67, 0.68, 0.69, 0.7, 0.71, 0.72, 0.73, 0.74, 0.75, 0.76, 0.77, 0.78, 0.79, 0.8, 0.81, 0.82, 0.83, 0.84, 0.85, 0.86, 0.87, 0.88, 0.89, 0.9, 0.91, 0.92, 0.93, 0.94, 0.95, 0.96, 0.97, 0.98, 0.99, 1.0]\n",
            "[0, 1, 2, 3, 4, 5, 6, 7, 8, 9, 10, 11, 12, 13, 14, 15, 16, 17, 18, 19, 20, 21, 22, 23, 24, 25, 26, 27, 28, 29, 30, 31, 32, 33, 34, 35, 36, 37, 38, 39, 40, 41, 42, 43, 44, 45, 46, 47, 48, 49, 50, 51, 52, 53, 54, 55, 56, 57, 58, 59, 60, 61, 62, 63, 64, 65, 66, 67, 68, 69, 70, 71, 72, 73, 74, 75, 76, 77, 78, 79, 80, 81, 82, 83, 84, 85, 86, 87, 88, 89, 90, 91, 92, 93, 94, 95, 96, 97, 98, 99, 100]\n",
            "[0.0, 0.1, 0.2, 0.3, 0.4, 0.5, 0.6, 0.7, 0.8, 0.9, 1.0, 1.1, 1.2, 1.3, 1.4, 1.5, 1.6, 1.7, 1.8, 1.9, 2.0, 2.1, 2.2, 2.3, 2.4, 2.5, 2.6, 2.7, 2.8, 2.9, 3.0, 3.1, 3.2, 3.3, 3.4, 3.5, 3.6, 3.7, 3.8, 3.9, 4.0, 4.1, 4.2, 4.3, 4.4, 4.5, 4.6, 4.7, 4.8, 4.9, 5.0, 5.1, 5.2, 5.3, 5.4, 5.5, 5.6, 5.7, 5.8, 5.9, 6.0, 6.1, 6.2, 6.3, 6.4, 6.5, 6.6, 6.7, 6.8, 6.9, 7.0, 7.1, 7.2, 7.3, 7.4, 7.5, 7.6, 7.7, 7.8, 7.9, 8.0, 8.1, 8.2, 8.3, 8.4, 8.5, 8.6, 8.7, 8.8, 8.9, 9.0, 9.1, 9.2, 9.3, 9.4, 9.5, 9.6, 9.7, 9.8, 9.9, 10.0]\n",
            "[0.0, 0.1, 0.2, 0.3, 0.4, 0.5, 0.6, 0.7, 0.8, 0.9, 1.0, 1.1, 1.2, 1.3, 1.4, 1.5, 1.6, 1.7, 1.8, 1.9, 2.0, 2.1, 2.2, 2.3, 2.4, 2.5, 2.6, 2.7, 2.8, 2.9, 3.0, 3.1, 3.2, 3.3, 3.4, 3.5, 3.6, 3.7, 3.8, 3.9, 4.0, 4.1, 4.2, 4.3, 4.4, 4.5, 4.6, 4.7, 4.8, 4.9, 5.0, 5.1, 5.2, 5.3, 5.4, 5.5, 5.6, 5.7, 5.8, 5.9, 6.0, 6.1, 6.2, 6.3, 6.4, 6.5, 6.6, 6.7, 6.8, 6.9, 7.0, 7.1, 7.2, 7.3, 7.4, 7.5, 7.6, 7.7, 7.8, 7.9, 8.0, 8.1, 8.2, 8.3, 8.4, 8.5, 8.6, 8.7, 8.8, 8.9, 9.0, 9.1, 9.2, 9.3, 9.4, 9.5, 9.6, 9.7, 9.8, 9.9, 10.0]\n",
            "[0.6451855149210953, 0.6356181182512423, 0.6247107335707036, 0.6166270745963585, 0.6088859177217251, 0.605311765176494, 0.6019165530437376, 0.5932011793299419, 0.5957153948341928, 0.593598443560484, 0.5930017334658925, 0.5902240232723516, 0.5917390156082991, 0.5887508552248885, 0.5869041724902827, 0.5878812103736691, 0.5870802998542786, 0.5872735722762782, 0.5873015352138659, 0.5874706586686577, 0.5923427248873362, 0.5923275333352205, 0.5906576208951997, 0.5905909378354143, 0.5914454013109207, 0.592097620411617, 0.5895605737843165, 0.588751899033058, 0.5907646170476588, 0.5901532467545533, 0.5885341694442238, 0.5945197485569047, 0.5909478998765713, 0.5905775849412127, 0.5913674162655342, 0.5896034447885141, 0.5932992682224367, 0.5913442304221596, 0.592031098720504, 0.5899839899161967, 0.5880512751457168, 0.5892408337534928, 0.5875604937716228, 0.589314852909344, 0.5843598871696286, 0.5898181541663844, 0.5883222614846578, 0.5863577105650087, 0.5876961357709838, 0.5896055891019542, 0.5725925473905191, 0.5711944801051442, 0.5725965856052027, 0.5712614259341868, 0.5747524543506343, 0.5718100249040418, 0.5705820787243727, 0.5723863778317847, 0.574493737482443, 0.574329352233468, 0.6019489292691393, 0.6004470339635524, 0.6003690689075284, 0.6018297257946759, 0.6004062781973583, 0.602112493137034, 0.600074498391733, 0.6010701409200343, 0.5986273779374797, 0.6038256440220809, 0.589383231430519, 0.5897872695108739, 0.5878411902160179, 0.5880531835846785, 0.5879005982381541, 0.5898409424031653, 0.5899995594489865, 0.5907701660947102, 0.5888054988733152, 0.5885070362469045, 0.5810318690974537, 0.5805447156109461, 0.5807353926867973, 0.5809779465198517, 0.5797881796592619, 0.5805935983250781, 0.5801730632055097, 0.5780485403246995, 0.5795490338308055, 0.5820326267219171, 0.5890258609079847, 0.5865027770107868, 0.5881902759241383, 0.5862787542519746, 0.5891812633325332, 0.5872723294628991, 0.588725708668528, 0.5871497453687498, 0.5886337729191209, 0.5910850103644244, 1]\n"
          ],
          "name": "stdout"
        }
      ]
    },
    {
      "metadata": {
        "id": "Clfgxqt0tP1m",
        "colab_type": "code",
        "colab": {
          "base_uri": "https://localhost:8080/",
          "height": 34
        },
        "outputId": "fd700614-3275-47dc-fa9f-15250a831bcf"
      },
      "cell_type": "code",
      "source": [
        "x=10\n",
        "[x,11]"
      ],
      "execution_count": 48,
      "outputs": [
        {
          "output_type": "execute_result",
          "data": {
            "text/plain": [
              "[10, 11]"
            ]
          },
          "metadata": {
            "tags": []
          },
          "execution_count": 48
        }
      ]
    },
    {
      "metadata": {
        "id": "ZqYdCPXWtP1p",
        "colab_type": "code",
        "colab": {}
      },
      "cell_type": "code",
      "source": [
        ""
      ],
      "execution_count": 0,
      "outputs": []
    }
  ]
}
