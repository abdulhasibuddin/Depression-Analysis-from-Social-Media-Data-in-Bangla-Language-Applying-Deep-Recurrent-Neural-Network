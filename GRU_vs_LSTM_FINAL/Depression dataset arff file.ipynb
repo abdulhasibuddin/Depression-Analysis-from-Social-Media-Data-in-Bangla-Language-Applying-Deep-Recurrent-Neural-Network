{
 "cells": [
  {
   "cell_type": "code",
   "execution_count": 1,
   "metadata": {},
   "outputs": [],
   "source": [
    "# Depression Analysis in Bangla\n",
    "# Create depression 'arff' dataset\n",
    "# copyright (c) ABDUL HASIB UDDIN <abdulhasibuddin@gmail.com>\n",
    "# LICENSE: GNU General Public License v3.0"
   ]
  },
  {
   "cell_type": "code",
   "execution_count": 2,
   "metadata": {},
   "outputs": [],
   "source": [
    "import numpy as np\n",
    "from timeit import default_timer as timer\n",
    "from collections import Counter"
   ]
  },
  {
   "cell_type": "code",
   "execution_count": 3,
   "metadata": {},
   "outputs": [],
   "source": [
    "fileName = \"data_all_unique_dnd_stratified_1\""
   ]
  },
  {
   "cell_type": "code",
   "execution_count": 4,
   "metadata": {},
   "outputs": [],
   "source": [
    "with open('data_all_unique_dnd_stratified_text.txt', 'r', encoding=\"utf8\") as f:\n",
    "    text = f.read().split('\\n')\n",
    "with open('data_all_unique_dnd_stratified_labels.txt', 'r', encoding=\"utf8\") as f:\n",
    "    labels = f.read().split(' ')"
   ]
  },
  {
   "cell_type": "code",
   "execution_count": 5,
   "metadata": {},
   "outputs": [],
   "source": [
    "words = ' '.join(text)\n",
    "word_list = words.split()"
   ]
  },
  {
   "cell_type": "code",
   "execution_count": 6,
   "metadata": {},
   "outputs": [],
   "source": [
    "num_words = Counter(word_list)\n",
    "vocab = sorted(num_words, key=num_words.get, reverse=True)\n",
    "vocab_to_int = {word: ii for ii, word in enumerate(vocab, 1)}\n",
    "\n",
    "text_encoded = []\n",
    "for text_data in text:\n",
    "    text_encoded.append([vocab_to_int[word] for word in text_data.split()])"
   ]
  },
  {
   "cell_type": "code",
   "execution_count": 7,
   "metadata": {},
   "outputs": [
    {
     "name": "stdout",
     "output_type": "stream",
     "text": [
      "<class 'dict'>\n",
      "<class 'list'>\n",
      "[('।', 1), (',', 2), ('!', 3), ('না', 4), ('করে', 5)]\n"
     ]
    }
   ],
   "source": [
    "vocab_to_int_items = list(vocab_to_int.items())\n",
    "\n",
    "print(type(vocab_to_int))\n",
    "print(type(vocab_to_int_items))\n",
    "\n",
    "print(vocab_to_int_items[:5])"
   ]
  },
  {
   "cell_type": "code",
   "execution_count": 8,
   "metadata": {},
   "outputs": [
    {
     "name": "stdout",
     "output_type": "stream",
     "text": [
      "Zero-length text: 1\n",
      "Minimum text length: 0\n",
      "Maximum text length: 63\n"
     ]
    }
   ],
   "source": [
    "text_lens = Counter([len(x) for x in text_encoded])\n",
    "print(\"Zero-length text: {}\".format(text_lens[0]))\n",
    "print(\"Minimum text length: {}\".format(min(text_lens)))\n",
    "print(\"Maximum text length: {}\".format(max(text_lens)))"
   ]
  },
  {
   "cell_type": "code",
   "execution_count": 9,
   "metadata": {},
   "outputs": [],
   "source": [
    "# Filter out that tweets with 0 length\n",
    "text_encoded = [r[0:max(text_lens)] for r in text_encoded if len(r) > 0]"
   ]
  },
  {
   "cell_type": "code",
   "execution_count": 10,
   "metadata": {},
   "outputs": [
    {
     "name": "stdout",
     "output_type": "stream",
     "text": [
      "Zero-length text: 0\n",
      "Minimum text length: 1\n",
      "Maximum text length: 63\n"
     ]
    }
   ],
   "source": [
    "text_lens = Counter([len(x) for x in text_encoded])\n",
    "print(\"Zero-length text: {}\".format(text_lens[0]))\n",
    "print(\"Minimum text length: {}\".format(min(text_lens)))\n",
    "print(\"Maximum text length: {}\".format(max(text_lens)))"
   ]
  },
  {
   "cell_type": "code",
   "execution_count": 11,
   "metadata": {},
   "outputs": [],
   "source": [
    "data_list = []\n",
    "for i in range(len(text_encoded)):\n",
    "    padded_data = text_encoded[i]\n",
    "    num_zero = max(text_lens) - len(text_encoded[i])\n",
    "    if num_zero > 0:\n",
    "        for z in range(num_zero):\n",
    "            padded_data.append(0)\n",
    "    if labels[i] != 'depressive':\n",
    "        padded_data.append('non_depressive')\n",
    "    else:\n",
    "        padded_data.append('depressive')\n",
    "    data_list.append(padded_data)"
   ]
  },
  {
   "cell_type": "code",
   "execution_count": 12,
   "metadata": {},
   "outputs": [
    {
     "name": "stdout",
     "output_type": "stream",
     "text": [
      "Zero-length data: 0\n",
      "Minimum data length: 64\n",
      "Maximum data length: 64\n",
      "[15, 139, 67, 852, 475, 1139, 194, 2833, 476, 2, 553, 206, 181, 56, 477, 271, 63, 14, 238, 1140, 419, 1649, 2834, 26, 2, 238, 326, 150, 1650, 1651, 26, 2, 38, 151, 8, 4, 1, 420, 2835, 175, 8, 102, 1, 33, 6, 26, 1, 12, 139, 10, 1652, 3, 2836, 0, 0, 0, 0, 0, 0, 0, 0, 0, 0, 'depressive']\n",
      "[8004, 2832, 2832, 8005, 8006, 129, 1579, 2, 129, 1579, 8007, 103, 15, 83, 853, 1, 12, 2098, 8008, 8009, 8010, 8011, 2809, 83, 239, 421, 8012, 8013, 136, 1182, 1, 0, 0, 0, 0, 0, 0, 0, 0, 0, 0, 0, 0, 0, 0, 0, 0, 0, 0, 0, 0, 0, 0, 0, 0, 0, 0, 0, 0, 0, 0, 0, 0, 'non_depressive']\n"
     ]
    }
   ],
   "source": [
    "data_lens = Counter([len(x) for x in data_list])\n",
    "print(\"Zero-length data: {}\".format(data_lens[0]))\n",
    "print(\"Minimum data length: {}\".format(min(data_lens)))\n",
    "print(\"Maximum data length: {}\".format(max(data_lens)))\n",
    "print(data_list[0])\n",
    "print(data_list[-1])"
   ]
  },
  {
   "cell_type": "code",
   "execution_count": null,
   "metadata": {},
   "outputs": [],
   "source": []
  },
  {
   "cell_type": "code",
   "execution_count": 16,
   "metadata": {},
   "outputs": [],
   "source": []
  },
  {
   "cell_type": "code",
   "execution_count": 35,
   "metadata": {},
   "outputs": [],
   "source": [
    "arff = '@relation DepressionDataset\\n\\n'\n",
    "\n",
    "for i in range(1, len(data_list[0])+1):\n",
    "    if i == len(data_list[0]):\n",
    "        arff += '@attribute class {depressive,non_depressive}\\n\\n'\n",
    "        arff += '@data\\n'\n",
    "    else:\n",
    "        arff += '@attribute '+str(i)+' NUMERIC\\n'"
   ]
  },
  {
   "cell_type": "code",
   "execution_count": 36,
   "metadata": {},
   "outputs": [],
   "source": [
    "#arff_file.close()"
   ]
  },
  {
   "cell_type": "code",
   "execution_count": 37,
   "metadata": {},
   "outputs": [],
   "source": [
    "arff_file= open(\"depression_dataset.arff\",\"a+\")\n",
    "\n",
    "arff_file.write(arff)\n",
    "for data in data_list:\n",
    "    for i in range(len(data)):\n",
    "        if i == len(data)-1:\n",
    "            arff_file.write(str(data[i]))\n",
    "        else:\n",
    "            arff_file.write(str(data[i]))\n",
    "            arff_file.write(',')\n",
    "    arff_file.write('\\n')\n",
    "\n",
    "arff_file.close()"
   ]
  },
  {
   "cell_type": "code",
   "execution_count": null,
   "metadata": {},
   "outputs": [],
   "source": []
  },
  {
   "cell_type": "code",
   "execution_count": 29,
   "metadata": {},
   "outputs": [],
   "source": []
  },
  {
   "cell_type": "code",
   "execution_count": null,
   "metadata": {},
   "outputs": [],
   "source": []
  },
  {
   "cell_type": "code",
   "execution_count": null,
   "metadata": {},
   "outputs": [],
   "source": []
  },
  {
   "cell_type": "code",
   "execution_count": 24,
   "metadata": {},
   "outputs": [
    {
     "name": "stdout",
     "output_type": "stream",
     "text": [
      "@relation DepressionDataset\n",
      "\n",
      "@attribute 1 NUMERIC\n",
      "@attribute 2 NUMERIC\n",
      "@attribute 3 NUMERIC\n",
      "@attribute 4 NUMERIC\n",
      "@attribute 5 NUMERIC\n",
      "@attribute 6 NUMERIC\n",
      "@attribute 7 NUMERIC\n",
      "@attribute 8 NUMERIC\n",
      "@attribute 9 NUMERIC\n",
      "@attribute 10 NUMERIC\n",
      "@attribute 11 NUMERIC\n",
      "@attribute 12 NUMERIC\n",
      "@attribute 13 NUMERIC\n",
      "@attribute 14 NUMERIC\n",
      "@attribute 15 NUMERIC\n",
      "@attribute 16 NUMERIC\n",
      "@attribute 17 NUMERIC\n",
      "@attribute 18 NUMERIC\n",
      "@attribute 19 NUMERIC\n",
      "@attribute 20 NUMERIC\n",
      "@attribute 21 NUMERIC\n",
      "@attribute 22 NUMERIC\n",
      "@attribute 23 NUMERIC\n",
      "@attribute 24 NUMERIC\n",
      "@attribute 25 NUMERIC\n",
      "@attribute 26 NUMERIC\n",
      "@attribute 27 NUMERIC\n",
      "@attribute 28 NUMERIC\n",
      "@attribute 29 NUMERIC\n",
      "@attribute 30 NUMERIC\n",
      "@attribute 31 NUMERIC\n",
      "@attribute 32 NUMERIC\n",
      "@attribute 33 NUMERIC\n",
      "@attribute 34 NUMERIC\n",
      "@attribute 35 NUMERIC\n",
      "@attribute 36 NUMERIC\n",
      "@attribute 37 NUMERIC\n",
      "@attribute 38 NUMERIC\n",
      "@attribute 39 NUMERIC\n",
      "@attribute 40 NUMERIC\n",
      "@attribute 41 NUMERIC\n",
      "@attribute 42 NUMERIC\n",
      "@attribute 43 NUMERIC\n",
      "@attribute 44 NUMERIC\n",
      "@attribute 45 NUMERIC\n",
      "@attribute 46 NUMERIC\n",
      "@attribute 47 NUMERIC\n",
      "@attribute 48 NUMERIC\n",
      "@attribute 49 NUMERIC\n",
      "@attribute 50 NUMERIC\n",
      "@attribute 51 NUMERIC\n",
      "@attribute 52 NUMERIC\n",
      "@attribute 53 NUMERIC\n",
      "@attribute 54 NUMERIC\n",
      "@attribute 55 NUMERIC\n",
      "@attribute 56 NUMERIC\n",
      "@attribute 57 NUMERIC\n",
      "@attribute 58 NUMERIC\n",
      "@attribute 59 NUMERIC\n",
      "@attribute 60 NUMERIC\n",
      "@attribute 61 NUMERIC\n",
      "@attribute 62 NUMERIC\n",
      "@attribute 63 NUMERIC\n",
      "@attribute class {depressive,non_depressive}\n",
      "\n",
      "@data\n",
      "\n"
     ]
    }
   ],
   "source": [
    "print(arff)"
   ]
  },
  {
   "cell_type": "code",
   "execution_count": null,
   "metadata": {},
   "outputs": [],
   "source": []
  }
 ],
 "metadata": {
  "kernelspec": {
   "display_name": "Python 3",
   "language": "python",
   "name": "python3"
  },
  "language_info": {
   "codemirror_mode": {
    "name": "ipython",
    "version": 3
   },
   "file_extension": ".py",
   "mimetype": "text/x-python",
   "name": "python",
   "nbconvert_exporter": "python",
   "pygments_lexer": "ipython3",
   "version": "3.6.6"
  }
 },
 "nbformat": 4,
 "nbformat_minor": 2
}
