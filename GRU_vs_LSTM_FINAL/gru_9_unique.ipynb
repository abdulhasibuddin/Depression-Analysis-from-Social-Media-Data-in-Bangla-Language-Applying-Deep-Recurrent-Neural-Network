{
 "cells": [
  {
   "cell_type": "code",
   "execution_count": 1,
   "metadata": {
    "colab": {
     "base_uri": "https://localhost:8080/",
     "height": 54
    },
    "colab_type": "code",
    "id": "bYNbjzXFhtRe",
    "outputId": "fa8828cd-5360-4dfa-a397-5e8003880b07"
   },
   "outputs": [],
   "source": [
    "# GRU WITH UNIQUE DATASET IMPLEMENTATION 9\n",
    "# Depression Analysis in Bangla\n",
    "# copyright (c) ABDUL HASIB UDDIN <abdulhasibuddin@gmail.com>\n",
    "# Courtesy: https://github.com/mchablani/deep-learning/blob/master/sentiment-rnn/Sentiment_RNN.ipynb"
   ]
  },
  {
   "cell_type": "code",
   "execution_count": 0,
   "metadata": {
    "colab": {},
    "colab_type": "code",
    "id": "JXrnZhl7htRj"
   },
   "outputs": [],
   "source": [
    "import numpy as np\n",
    "import tensorflow as tf\n",
    "from timeit import default_timer as timer\n",
    "from collections import Counter\n",
    "from string import punctuation\n",
    "from google.colab import files"
   ]
  },
  {
   "cell_type": "code",
   "execution_count": 0,
   "metadata": {
    "colab": {},
    "colab_type": "code",
    "id": "diJRoCjmhtSo"
   },
   "outputs": [],
   "source": [
    "# Build the graph::\n",
    "\n",
    "gru_size = 512\n",
    "gru_layers = 5\n",
    "batch_size = 1\n",
    "learning_rate = 0.0001\n",
    "epochs = 2"
   ]
  },
  {
   "cell_type": "code",
   "execution_count": 4,
   "metadata": {
    "colab": {
     "base_uri": "https://localhost:8080/",
     "height": 51
    },
    "colab_type": "code",
    "id": "0lFS6elMEfgI",
    "outputId": "b11b8961-e93d-4fca-bda8-2a150ad5a6d6"
   },
   "outputs": [
    {
     "name": "stdout",
     "output_type": "stream",
     "text": [
      "checkpoints/data_all_unique_dnd_stratified_9.ckpt\n",
      "<class 'str'>\n"
     ]
    }
   ],
   "source": [
    "fileName = \"data_all_unique_dnd_stratified_9\"\n",
    "checkpointName = \"checkpoints/\"+fileName+\".ckpt\"\n",
    "print(checkpointName)\n",
    "print(type(checkpointName))"
   ]
  },
  {
   "cell_type": "code",
   "execution_count": 5,
   "metadata": {
    "colab": {
     "base_uri": "https://localhost:8080/",
     "height": 76,
     "resources": {
      "http://localhost:8080/nbextensions/google.colab/files.js": {
       "data": "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",
       "headers": [
        [
         "content-type",
         "application/javascript"
        ]
       ],
       "ok": true,
       "status": 200,
       "status_text": ""
      }
     }
    },
    "colab_type": "code",
    "id": "0pyEXn3ahtRn",
    "outputId": "85dc93ec-135a-4ee9-dca0-921d47a6c9b8"
   },
   "outputs": [
    {
     "data": {
      "text/html": [
       "\n",
       "     <input type=\"file\" id=\"files-95861842-9779-4f44-91e3-ce70ce935336\" name=\"files[]\" multiple disabled />\n",
       "     <output id=\"result-95861842-9779-4f44-91e3-ce70ce935336\">\n",
       "      Upload widget is only available when the cell has been executed in the\n",
       "      current browser session. Please rerun this cell to enable.\n",
       "      </output>\n",
       "      <script src=\"/nbextensions/google.colab/files.js\"></script> "
      ],
      "text/plain": [
       "<IPython.core.display.HTML object>"
      ]
     },
     "metadata": {
      "tags": []
     },
     "output_type": "display_data"
    },
    {
     "data": {
      "text/html": [
       "\n",
       "     <input type=\"file\" id=\"files-76b29cc8-3664-4815-99cf-60f51a9a8c6a\" name=\"files[]\" multiple disabled />\n",
       "     <output id=\"result-76b29cc8-3664-4815-99cf-60f51a9a8c6a\">\n",
       "      Upload widget is only available when the cell has been executed in the\n",
       "      current browser session. Please rerun this cell to enable.\n",
       "      </output>\n",
       "      <script src=\"/nbextensions/google.colab/files.js\"></script> "
      ],
      "text/plain": [
       "<IPython.core.display.HTML object>"
      ]
     },
     "metadata": {
      "tags": []
     },
     "output_type": "display_data"
    },
    {
     "name": "stdout",
     "output_type": "stream",
     "text": [
      "Done file uploading!\n"
     ]
    }
   ],
   "source": [
    "files.upload()\n",
    "files.upload()\n",
    "\n",
    "with open('data_all_unique_dnd_stratified_text.txt', 'r', encoding=\"utf8\") as f:\n",
    "    tweets = f.read()\n",
    "with open('data_all_unique_dnd_stratified_labels.txt', 'r', encoding=\"utf8\") as f:\n",
    "    labels_org = f.read()\n",
    "    \n",
    "print('Done file uploading!')"
   ]
  },
  {
   "cell_type": "code",
   "execution_count": 0,
   "metadata": {
    "colab": {},
    "colab_type": "code",
    "id": "P0fFqqYnhtRr"
   },
   "outputs": [],
   "source": [
    "# Data preprocessing::\n",
    "#all_text = ''.join([c for c in tweets if c not in punctuation])\n",
    "all_text = ''.join([c for c in tweets])\n",
    "tweets = all_text.split('\\n')\n",
    "\n",
    "all_text = ' '.join(tweets)\n",
    "words = all_text.split()"
   ]
  },
  {
   "cell_type": "code",
   "execution_count": 0,
   "metadata": {
    "colab": {},
    "colab_type": "code",
    "id": "Uit50WOLhtRv"
   },
   "outputs": [],
   "source": [
    "counts = Counter(words)\n",
    "vocab = sorted(counts, key=counts.get, reverse=True)\n",
    "vocab_to_int = {word: ii for ii, word in enumerate(vocab, 1)}\n",
    "\n",
    "tweets_ints = []\n",
    "for each in tweets:\n",
    "    tweets_ints.append([vocab_to_int[word] for word in each.split()])"
   ]
  },
  {
   "cell_type": "code",
   "execution_count": 8,
   "metadata": {
    "colab": {
     "base_uri": "https://localhost:8080/",
     "height": 34
    },
    "colab_type": "code",
    "id": "paAYGzUJhtR1",
    "outputId": "ed36b6e6-afb0-40ee-94ee-ef14d3151542"
   },
   "outputs": [
    {
     "name": "stdout",
     "output_type": "stream",
     "text": [
      "1176\n"
     ]
    }
   ],
   "source": [
    "# Encoding the labels::\n",
    "list_labels = []\n",
    "\n",
    "for l in labels_org.split():\n",
    "    if l == \"depressive\":\n",
    "        list_labels.append(1)\n",
    "    else:\n",
    "        list_labels.append(0)\n",
    "        \n",
    "labels = np.array(list_labels)\n",
    "print(len(labels))"
   ]
  },
  {
   "cell_type": "code",
   "execution_count": 9,
   "metadata": {
    "colab": {
     "base_uri": "https://localhost:8080/",
     "height": 51
    },
    "colab_type": "code",
    "id": "GeKWN9CMhtR9",
    "outputId": "9c9f559c-bf99-4e1b-8244-67ecbf3c1c72"
   },
   "outputs": [
    {
     "name": "stdout",
     "output_type": "stream",
     "text": [
      "Zero-length tweets: 1\n",
      "Maximum tweets length: 63\n"
     ]
    }
   ],
   "source": [
    "tweets_lens = Counter([len(x) for x in tweets_ints])\n",
    "print(\"Zero-length tweets: {}\".format(tweets_lens[0]))\n",
    "print(\"Maximum tweets length: {}\".format(max(tweets_lens)))"
   ]
  },
  {
   "cell_type": "code",
   "execution_count": 0,
   "metadata": {
    "colab": {},
    "colab_type": "code",
    "id": "FdXT8XsshtSH"
   },
   "outputs": [],
   "source": [
    "# Filter out that tweets with 0 length\n",
    "tweets_ints = [r[0:200] for r in tweets_ints if len(r) > 0]"
   ]
  },
  {
   "cell_type": "code",
   "execution_count": 11,
   "metadata": {
    "colab": {
     "base_uri": "https://localhost:8080/",
     "height": 51
    },
    "colab_type": "code",
    "id": "K90yCqVthtSP",
    "outputId": "6e3165e5-3a2a-4a6d-d69f-8050b2feba8a"
   },
   "outputs": [
    {
     "name": "stdout",
     "output_type": "stream",
     "text": [
      "Zero-length tweets: 0\n",
      "Maximum tweet length: 63\n"
     ]
    }
   ],
   "source": [
    "from collections import Counter\n",
    "tweets_lens = Counter([len(x) for x in tweets_ints])\n",
    "print(\"Zero-length tweets: {}\".format(tweets_lens[0]))\n",
    "print(\"Maximum tweet length: {}\".format(max(tweets_lens)))"
   ]
  },
  {
   "cell_type": "code",
   "execution_count": 0,
   "metadata": {
    "colab": {},
    "colab_type": "code",
    "id": "E0ho7v8rhtSe"
   },
   "outputs": [],
   "source": [
    "seq_len = 200\n",
    "features = np.zeros((len(tweets_ints), seq_len), dtype=int)\n",
    "# print(features[:10,:100])\n",
    "for i, row in enumerate(tweets_ints):\n",
    "    features[i, -len(row):] = np.array(row)[:seq_len]\n",
    "#features[:10,:100]"
   ]
  },
  {
   "cell_type": "code",
   "execution_count": 13,
   "metadata": {
    "colab": {
     "base_uri": "https://localhost:8080/",
     "height": 136
    },
    "colab_type": "code",
    "id": "O5CpSFqyhtSj",
    "outputId": "9dcf86c8-59d0-43be-8771-b38af76d57a1"
   },
   "outputs": [
    {
     "name": "stdout",
     "output_type": "stream",
     "text": [
      "\t\t\tFeature Shapes:\n",
      "Train set: \t\t(940, 200) \n",
      "Validation set: \t(118, 200) \n",
      "Test set: \t\t(118, 200)\n",
      "label set: \t\t(940,) \n",
      "Validation label set: \t(118,) \n",
      "Test label set: \t\t(118,)\n"
     ]
    }
   ],
   "source": [
    "split_frac = 0.8\n",
    "\n",
    "split_index = int(split_frac * len(features))\n",
    "\n",
    "train_x, val_x = features[:split_index], features[split_index:] \n",
    "train_y, val_y = labels[:split_index], labels[split_index:]\n",
    "\n",
    "split_frac = 0.5\n",
    "split_index = int(split_frac * len(val_x))\n",
    "\n",
    "val_x, test_x = val_x[:split_index], val_x[split_index:]\n",
    "val_y, test_y = val_y[:split_index], val_y[split_index:]\n",
    "\n",
    "print(\"\\t\\t\\tFeature Shapes:\")\n",
    "print(\"Train set: \\t\\t{}\".format(train_x.shape), \n",
    "      \"\\nValidation set: \\t{}\".format(val_x.shape),\n",
    "      \"\\nTest set: \\t\\t{}\".format(test_x.shape))\n",
    "print(\"label set: \\t\\t{}\".format(train_y.shape), \n",
    "      \"\\nValidation label set: \\t{}\".format(val_y.shape),\n",
    "      \"\\nTest label set: \\t\\t{}\".format(test_y.shape))"
   ]
  },
  {
   "cell_type": "code",
   "execution_count": 0,
   "metadata": {
    "colab": {},
    "colab_type": "code",
    "id": "1rJDL5UxhtSr"
   },
   "outputs": [],
   "source": [
    "n_words = len(vocab_to_int) + 1 # Add 1 for 0 added to vocab\n",
    "\n",
    "# Create the graph object\n",
    "tf.reset_default_graph()\n",
    "with tf.name_scope('inputs'):\n",
    "    inputs_ = tf.placeholder(tf.int32, [None, None], name=\"inputs\")\n",
    "    labels_ = tf.placeholder(tf.int32, [None, None], name=\"labels\")\n",
    "    keep_prob = tf.placeholder(tf.float32, name=\"keep_prob\")"
   ]
  },
  {
   "cell_type": "code",
   "execution_count": 0,
   "metadata": {
    "colab": {},
    "colab_type": "code",
    "id": "-65iAhMthtSu"
   },
   "outputs": [],
   "source": [
    "# Size of the embedding vectors (number of units in the embedding layer)\n",
    "embed_size = 300 \n",
    "\n",
    "with tf.name_scope(\"Embeddings\"):\n",
    "    embedding = tf.Variable(tf.random_uniform((n_words, embed_size), -1, 1))\n",
    "    embed = tf.nn.embedding_lookup(embedding, inputs_)"
   ]
  },
  {
   "cell_type": "code",
   "execution_count": 0,
   "metadata": {
    "colab": {},
    "colab_type": "code",
    "id": "nrXsegSyhtS0"
   },
   "outputs": [],
   "source": [
    "def gru_cell():\n",
    "    # Basic GRU cell\n",
    "    gru = tf.contrib.rnn.GRUCell(gru_size, reuse=tf.get_variable_scope().reuse)\n",
    "    # Add dropout to the cell\n",
    "    return tf.contrib.rnn.DropoutWrapper(gru, output_keep_prob=keep_prob)\n",
    "\n",
    "with tf.name_scope(\"RNN_layers\"):\n",
    "    # Stack up multiple GRU layers, for deep learning\n",
    "    cell = tf.contrib.rnn.MultiRNNCell([gru_cell() for _ in range(gru_layers)])\n",
    "    \n",
    "    # Getting an initial state of all zeros\n",
    "    initial_state = cell.zero_state(batch_size, tf.float32)"
   ]
  },
  {
   "cell_type": "code",
   "execution_count": 0,
   "metadata": {
    "colab": {},
    "colab_type": "code",
    "id": "t4C4Ozc8htS5"
   },
   "outputs": [],
   "source": [
    "with tf.name_scope(\"RNN_forward\"):\n",
    "    outputs, final_state = tf.nn.dynamic_rnn(cell, embed, initial_state=initial_state)"
   ]
  },
  {
   "cell_type": "code",
   "execution_count": 0,
   "metadata": {
    "colab": {},
    "colab_type": "code",
    "id": "2sRuyAXlhtTB"
   },
   "outputs": [],
   "source": [
    "# Output::\n",
    "\n",
    "with tf.name_scope('predictions'):\n",
    "    predictions = tf.contrib.layers.fully_connected(outputs[:, -1], 1, activation_fn=tf.sigmoid)\n",
    "    tf.summary.histogram('predictions', predictions)\n",
    "with tf.name_scope('cost'):\n",
    "    cost = tf.losses.mean_squared_error(labels_, predictions)\n",
    "    tf.summary.scalar('cost', cost)\n",
    "\n",
    "with tf.name_scope('train'):\n",
    "    optimizer = tf.train.AdamOptimizer(learning_rate).minimize(cost)\n",
    "\n",
    "merged = tf.summary.merge_all()"
   ]
  },
  {
   "cell_type": "code",
   "execution_count": 0,
   "metadata": {
    "colab": {},
    "colab_type": "code",
    "id": "j2NBBBEYhtTI"
   },
   "outputs": [],
   "source": [
    "# Validation accuracy::\n",
    "\n",
    "with tf.name_scope('validation'):\n",
    "    correct_pred = tf.equal(tf.cast(tf.round(predictions), tf.int32), labels_)\n",
    "    accuracy = tf.reduce_mean(tf.cast(correct_pred, tf.float32))"
   ]
  },
  {
   "cell_type": "code",
   "execution_count": 0,
   "metadata": {
    "colab": {},
    "colab_type": "code",
    "id": "n3NgTZgehtTN"
   },
   "outputs": [],
   "source": [
    "# Batching::\n",
    "\n",
    "def get_batches(x, y, batch_size=100):\n",
    "    \n",
    "    n_batches = len(x)//batch_size\n",
    "    x, y = x[:n_batches*batch_size], y[:n_batches*batch_size]\n",
    "    for ii in range(0, len(x), batch_size):\n",
    "        yield x[ii:ii+batch_size], y[ii:ii+batch_size]"
   ]
  },
  {
   "cell_type": "code",
   "execution_count": 21,
   "metadata": {
    "colab": {
     "base_uri": "https://localhost:8080/",
     "height": 7684
    },
    "colab_type": "code",
    "id": "JM9KclkLhtTT",
    "outputId": "e36e3cc7-c603-42a1-ffaf-f6be52c49585"
   },
   "outputs": [
    {
     "name": "stdout",
     "output_type": "stream",
     "text": [
      "Epoch: 1/2 Iteration: 5 Train loss: 0.290\n",
      "Epoch: 1/2 Iteration: 10 Train loss: 0.343\n",
      "Epoch: 1/2 Iteration: 15 Train loss: 0.233\n",
      "Epoch: 1/2 Iteration: 20 Train loss: 0.038\n",
      "Epoch: 1/2 Iteration: 25 Train loss: 0.066\n",
      "Val acc: 0.432\n",
      "Epoch: 1/2 Iteration: 30 Train loss: 0.574\n",
      "Epoch: 1/2 Iteration: 35 Train loss: 0.730\n",
      "Epoch: 1/2 Iteration: 40 Train loss: 0.009\n",
      "Epoch: 1/2 Iteration: 45 Train loss: 0.576\n",
      "Epoch: 1/2 Iteration: 50 Train loss: 0.441\n",
      "Val acc: 0.534\n",
      "Epoch: 1/2 Iteration: 55 Train loss: 0.279\n",
      "Epoch: 1/2 Iteration: 60 Train loss: 0.186\n",
      "Epoch: 1/2 Iteration: 65 Train loss: 0.197\n",
      "Epoch: 1/2 Iteration: 70 Train loss: 0.038\n",
      "Epoch: 1/2 Iteration: 75 Train loss: 0.169\n",
      "Val acc: 0.551\n",
      "Epoch: 1/2 Iteration: 80 Train loss: 0.347\n",
      "Epoch: 1/2 Iteration: 85 Train loss: 0.065\n",
      "Epoch: 1/2 Iteration: 90 Train loss: 0.617\n",
      "Epoch: 1/2 Iteration: 95 Train loss: 0.334\n",
      "Epoch: 1/2 Iteration: 100 Train loss: 0.323\n",
      "Val acc: 0.441\n",
      "Epoch: 1/2 Iteration: 105 Train loss: 0.127\n",
      "Epoch: 1/2 Iteration: 110 Train loss: 0.309\n",
      "Epoch: 1/2 Iteration: 115 Train loss: 0.275\n",
      "Epoch: 1/2 Iteration: 120 Train loss: 0.067\n",
      "Epoch: 1/2 Iteration: 125 Train loss: 0.032\n",
      "Val acc: 0.398\n",
      "Epoch: 1/2 Iteration: 130 Train loss: 0.422\n",
      "Epoch: 1/2 Iteration: 135 Train loss: 0.339\n",
      "Epoch: 1/2 Iteration: 140 Train loss: 0.580\n",
      "Epoch: 1/2 Iteration: 145 Train loss: 0.372\n",
      "Epoch: 1/2 Iteration: 150 Train loss: 0.133\n",
      "Val acc: 0.415\n",
      "Epoch: 1/2 Iteration: 155 Train loss: 0.305\n",
      "Epoch: 1/2 Iteration: 160 Train loss: 0.313\n",
      "Epoch: 1/2 Iteration: 165 Train loss: 0.188\n",
      "Epoch: 1/2 Iteration: 170 Train loss: 0.303\n",
      "Epoch: 1/2 Iteration: 175 Train loss: 0.263\n",
      "Val acc: 0.458\n",
      "Epoch: 1/2 Iteration: 180 Train loss: 0.151\n",
      "Epoch: 1/2 Iteration: 185 Train loss: 0.295\n",
      "Epoch: 1/2 Iteration: 190 Train loss: 0.026\n",
      "Epoch: 1/2 Iteration: 195 Train loss: 0.274\n",
      "Epoch: 1/2 Iteration: 200 Train loss: 0.371\n",
      "Val acc: 0.356\n",
      "Epoch: 1/2 Iteration: 205 Train loss: 0.434\n",
      "Epoch: 1/2 Iteration: 210 Train loss: 0.342\n",
      "Epoch: 1/2 Iteration: 215 Train loss: 0.242\n",
      "Epoch: 1/2 Iteration: 220 Train loss: 0.325\n",
      "Epoch: 1/2 Iteration: 225 Train loss: 0.474\n",
      "Val acc: 0.398\n",
      "Epoch: 1/2 Iteration: 230 Train loss: 0.304\n",
      "Epoch: 1/2 Iteration: 235 Train loss: 0.453\n",
      "Epoch: 1/2 Iteration: 240 Train loss: 0.276\n",
      "Epoch: 1/2 Iteration: 245 Train loss: 0.173\n",
      "Epoch: 1/2 Iteration: 250 Train loss: 0.195\n",
      "Val acc: 0.364\n",
      "Epoch: 1/2 Iteration: 255 Train loss: 0.258\n",
      "Epoch: 1/2 Iteration: 260 Train loss: 0.241\n",
      "Epoch: 1/2 Iteration: 265 Train loss: 0.235\n",
      "Epoch: 1/2 Iteration: 270 Train loss: 0.250\n",
      "Epoch: 1/2 Iteration: 275 Train loss: 0.241\n",
      "Val acc: 0.356\n",
      "Epoch: 1/2 Iteration: 280 Train loss: 0.168\n",
      "Epoch: 1/2 Iteration: 285 Train loss: 0.273\n",
      "Epoch: 1/2 Iteration: 290 Train loss: 0.301\n",
      "Epoch: 1/2 Iteration: 295 Train loss: 0.116\n",
      "Epoch: 1/2 Iteration: 300 Train loss: 0.372\n",
      "Val acc: 0.407\n",
      "Epoch: 1/2 Iteration: 305 Train loss: 0.491\n",
      "Epoch: 1/2 Iteration: 310 Train loss: 0.403\n",
      "Epoch: 1/2 Iteration: 315 Train loss: 0.253\n",
      "Epoch: 1/2 Iteration: 320 Train loss: 0.030\n",
      "Epoch: 1/2 Iteration: 325 Train loss: 0.144\n",
      "Val acc: 0.347\n",
      "Epoch: 1/2 Iteration: 330 Train loss: 0.352\n",
      "Epoch: 1/2 Iteration: 335 Train loss: 0.173\n",
      "Epoch: 1/2 Iteration: 340 Train loss: 0.461\n",
      "Epoch: 1/2 Iteration: 345 Train loss: 0.370\n",
      "Epoch: 1/2 Iteration: 350 Train loss: 0.096\n",
      "Val acc: 0.432\n",
      "Epoch: 1/2 Iteration: 355 Train loss: 0.277\n",
      "Epoch: 1/2 Iteration: 360 Train loss: 0.175\n",
      "Epoch: 1/2 Iteration: 365 Train loss: 0.208\n",
      "Epoch: 1/2 Iteration: 370 Train loss: 0.228\n",
      "Epoch: 1/2 Iteration: 375 Train loss: 0.279\n",
      "Val acc: 0.432\n",
      "Epoch: 1/2 Iteration: 380 Train loss: 0.069\n",
      "Epoch: 1/2 Iteration: 385 Train loss: 0.264\n",
      "Epoch: 1/2 Iteration: 390 Train loss: 0.282\n",
      "Epoch: 1/2 Iteration: 395 Train loss: 0.350\n",
      "Epoch: 1/2 Iteration: 400 Train loss: 0.247\n",
      "Val acc: 0.415\n",
      "Epoch: 1/2 Iteration: 405 Train loss: 0.193\n",
      "Epoch: 1/2 Iteration: 410 Train loss: 0.286\n",
      "Epoch: 1/2 Iteration: 415 Train loss: 0.232\n",
      "Epoch: 1/2 Iteration: 420 Train loss: 0.224\n",
      "Epoch: 1/2 Iteration: 425 Train loss: 0.162\n",
      "Val acc: 0.322\n",
      "Epoch: 1/2 Iteration: 430 Train loss: 0.377\n",
      "Epoch: 1/2 Iteration: 435 Train loss: 0.215\n",
      "Epoch: 1/2 Iteration: 440 Train loss: 0.243\n",
      "Epoch: 1/2 Iteration: 445 Train loss: 0.223\n",
      "Epoch: 1/2 Iteration: 450 Train loss: 0.102\n",
      "Val acc: 0.331\n",
      "Epoch: 1/2 Iteration: 455 Train loss: 0.331\n",
      "Epoch: 1/2 Iteration: 460 Train loss: 0.236\n",
      "Epoch: 1/2 Iteration: 465 Train loss: 0.195\n",
      "Epoch: 1/2 Iteration: 470 Train loss: 0.189\n",
      "Epoch: 1/2 Iteration: 475 Train loss: 0.280\n",
      "Val acc: 0.492\n",
      "Epoch: 1/2 Iteration: 480 Train loss: 0.348\n",
      "Epoch: 1/2 Iteration: 485 Train loss: 0.135\n",
      "Epoch: 1/2 Iteration: 490 Train loss: 0.348\n",
      "Epoch: 1/2 Iteration: 495 Train loss: 0.234\n",
      "Epoch: 1/2 Iteration: 500 Train loss: 0.260\n",
      "Val acc: 0.449\n",
      "Epoch: 1/2 Iteration: 505 Train loss: 0.221\n",
      "Epoch: 1/2 Iteration: 510 Train loss: 0.121\n",
      "Epoch: 1/2 Iteration: 515 Train loss: 0.536\n",
      "Epoch: 1/2 Iteration: 520 Train loss: 0.362\n",
      "Epoch: 1/2 Iteration: 525 Train loss: 0.341\n",
      "Val acc: 0.449\n",
      "Epoch: 1/2 Iteration: 530 Train loss: 0.089\n",
      "Epoch: 1/2 Iteration: 535 Train loss: 0.193\n",
      "Epoch: 1/2 Iteration: 540 Train loss: 0.356\n",
      "Epoch: 1/2 Iteration: 545 Train loss: 0.172\n",
      "Epoch: 1/2 Iteration: 550 Train loss: 0.358\n",
      "Val acc: 0.314\n",
      "Epoch: 1/2 Iteration: 555 Train loss: 0.097\n",
      "Epoch: 1/2 Iteration: 560 Train loss: 0.330\n",
      "Epoch: 1/2 Iteration: 565 Train loss: 0.230\n",
      "Epoch: 1/2 Iteration: 570 Train loss: 0.223\n",
      "Epoch: 1/2 Iteration: 575 Train loss: 0.226\n",
      "Val acc: 0.415\n",
      "Epoch: 1/2 Iteration: 580 Train loss: 0.154\n",
      "Epoch: 1/2 Iteration: 585 Train loss: 0.298\n",
      "Epoch: 1/2 Iteration: 590 Train loss: 0.222\n",
      "Epoch: 1/2 Iteration: 595 Train loss: 0.213\n",
      "Epoch: 1/2 Iteration: 600 Train loss: 0.177\n",
      "Val acc: 0.475\n",
      "Epoch: 1/2 Iteration: 605 Train loss: 0.835\n",
      "Epoch: 1/2 Iteration: 610 Train loss: 0.318\n",
      "Epoch: 1/2 Iteration: 615 Train loss: 0.518\n",
      "Epoch: 1/2 Iteration: 620 Train loss: 0.306\n",
      "Epoch: 1/2 Iteration: 625 Train loss: 0.286\n",
      "Val acc: 0.398\n",
      "Epoch: 1/2 Iteration: 630 Train loss: 0.157\n",
      "Epoch: 1/2 Iteration: 635 Train loss: 0.310\n",
      "Epoch: 1/2 Iteration: 640 Train loss: 0.430\n",
      "Epoch: 1/2 Iteration: 645 Train loss: 0.160\n",
      "Epoch: 1/2 Iteration: 650 Train loss: 0.145\n",
      "Val acc: 0.492\n",
      "Epoch: 1/2 Iteration: 655 Train loss: 0.424\n",
      "Epoch: 1/2 Iteration: 660 Train loss: 0.218\n",
      "Epoch: 1/2 Iteration: 665 Train loss: 0.305\n",
      "Epoch: 1/2 Iteration: 670 Train loss: 0.418\n",
      "Epoch: 1/2 Iteration: 675 Train loss: 0.201\n",
      "Val acc: 0.475\n",
      "Epoch: 1/2 Iteration: 680 Train loss: 0.363\n",
      "Epoch: 1/2 Iteration: 685 Train loss: 0.272\n",
      "Epoch: 1/2 Iteration: 690 Train loss: 0.204\n",
      "Epoch: 1/2 Iteration: 695 Train loss: 0.252\n",
      "Epoch: 1/2 Iteration: 700 Train loss: 0.269\n",
      "Val acc: 0.356\n",
      "Epoch: 1/2 Iteration: 705 Train loss: 0.189\n",
      "Epoch: 1/2 Iteration: 710 Train loss: 0.233\n",
      "Epoch: 1/2 Iteration: 715 Train loss: 0.203\n",
      "Epoch: 1/2 Iteration: 720 Train loss: 0.214\n",
      "Epoch: 1/2 Iteration: 725 Train loss: 0.215\n",
      "Val acc: 0.339\n",
      "Epoch: 1/2 Iteration: 730 Train loss: 0.302\n",
      "Epoch: 1/2 Iteration: 735 Train loss: 0.269\n",
      "Epoch: 1/2 Iteration: 740 Train loss: 0.324\n",
      "Epoch: 1/2 Iteration: 745 Train loss: 0.278\n",
      "Epoch: 1/2 Iteration: 750 Train loss: 0.290\n",
      "Val acc: 0.297\n",
      "Epoch: 1/2 Iteration: 755 Train loss: 0.237\n",
      "Epoch: 1/2 Iteration: 760 Train loss: 0.260\n",
      "Epoch: 1/2 Iteration: 765 Train loss: 0.356\n",
      "Epoch: 1/2 Iteration: 770 Train loss: 0.260\n",
      "Epoch: 1/2 Iteration: 775 Train loss: 0.228\n",
      "Val acc: 0.602\n",
      "Epoch: 1/2 Iteration: 780 Train loss: 0.244\n",
      "Epoch: 1/2 Iteration: 785 Train loss: 0.249\n",
      "Epoch: 1/2 Iteration: 790 Train loss: 0.093\n",
      "Epoch: 1/2 Iteration: 795 Train loss: 0.049\n",
      "Epoch: 1/2 Iteration: 800 Train loss: 0.049\n",
      "Val acc: 0.678\n",
      "Epoch: 1/2 Iteration: 805 Train loss: 0.001\n",
      "Epoch: 1/2 Iteration: 810 Train loss: 0.168\n",
      "Epoch: 1/2 Iteration: 815 Train loss: 0.000\n",
      "Epoch: 1/2 Iteration: 820 Train loss: 0.167\n",
      "Epoch: 1/2 Iteration: 825 Train loss: 0.055\n",
      "Val acc: 0.576\n",
      "Epoch: 1/2 Iteration: 830 Train loss: 0.607\n",
      "Epoch: 1/2 Iteration: 835 Train loss: 0.017\n",
      "Epoch: 1/2 Iteration: 840 Train loss: 0.010\n",
      "Epoch: 1/2 Iteration: 845 Train loss: 0.099\n",
      "Epoch: 1/2 Iteration: 850 Train loss: 0.003\n",
      "Val acc: 0.729\n",
      "Epoch: 1/2 Iteration: 855 Train loss: 0.003\n",
      "Epoch: 1/2 Iteration: 860 Train loss: 0.046\n",
      "Epoch: 1/2 Iteration: 865 Train loss: 0.001\n",
      "Epoch: 1/2 Iteration: 870 Train loss: 0.005\n",
      "Epoch: 1/2 Iteration: 875 Train loss: 0.002\n",
      "Val acc: 0.636\n",
      "Epoch: 1/2 Iteration: 880 Train loss: 0.400\n",
      "Epoch: 1/2 Iteration: 885 Train loss: 0.937\n",
      "Epoch: 1/2 Iteration: 890 Train loss: 0.008\n",
      "Epoch: 1/2 Iteration: 895 Train loss: 0.101\n",
      "Epoch: 1/2 Iteration: 900 Train loss: 0.184\n",
      "Val acc: 0.559\n",
      "Epoch: 1/2 Iteration: 905 Train loss: 0.002\n",
      "Epoch: 1/2 Iteration: 910 Train loss: 0.065\n",
      "Epoch: 1/2 Iteration: 915 Train loss: 0.126\n",
      "Epoch: 1/2 Iteration: 920 Train loss: 0.026\n",
      "Epoch: 1/2 Iteration: 925 Train loss: 0.277\n",
      "Val acc: 0.636\n",
      "Epoch: 1/2 Iteration: 930 Train loss: 0.353\n",
      "Epoch: 1/2 Iteration: 935 Train loss: 0.025\n",
      "Epoch: 1/2 Iteration: 940 Train loss: 0.688\n",
      "Epoch: 2/2 Iteration: 945 Train loss: 0.282\n",
      "Epoch: 2/2 Iteration: 950 Train loss: 0.159\n",
      "Val acc: 0.517\n",
      "Epoch: 2/2 Iteration: 955 Train loss: 0.297\n",
      "Epoch: 2/2 Iteration: 960 Train loss: 0.090\n",
      "Epoch: 2/2 Iteration: 965 Train loss: 0.154\n",
      "Epoch: 2/2 Iteration: 970 Train loss: 0.340\n",
      "Epoch: 2/2 Iteration: 975 Train loss: 0.194\n",
      "Val acc: 0.407\n",
      "Epoch: 2/2 Iteration: 980 Train loss: 0.179\n",
      "Epoch: 2/2 Iteration: 985 Train loss: 0.470\n",
      "Epoch: 2/2 Iteration: 990 Train loss: 0.167\n",
      "Epoch: 2/2 Iteration: 995 Train loss: 0.356\n",
      "Epoch: 2/2 Iteration: 1000 Train loss: 0.381\n",
      "Val acc: 0.661\n",
      "Epoch: 2/2 Iteration: 1005 Train loss: 0.140\n",
      "Epoch: 2/2 Iteration: 1010 Train loss: 0.010\n",
      "Epoch: 2/2 Iteration: 1015 Train loss: 0.179\n",
      "Epoch: 2/2 Iteration: 1020 Train loss: 0.129\n",
      "Epoch: 2/2 Iteration: 1025 Train loss: 0.008\n",
      "Val acc: 0.644\n",
      "Epoch: 2/2 Iteration: 1030 Train loss: 0.925\n",
      "Epoch: 2/2 Iteration: 1035 Train loss: 0.025\n",
      "Epoch: 2/2 Iteration: 1040 Train loss: 0.125\n",
      "Epoch: 2/2 Iteration: 1045 Train loss: 0.314\n",
      "Epoch: 2/2 Iteration: 1050 Train loss: 0.204\n",
      "Val acc: 0.381\n",
      "Epoch: 2/2 Iteration: 1055 Train loss: 0.289\n",
      "Epoch: 2/2 Iteration: 1060 Train loss: 0.084\n",
      "Epoch: 2/2 Iteration: 1065 Train loss: 0.002\n",
      "Epoch: 2/2 Iteration: 1070 Train loss: 0.562\n",
      "Epoch: 2/2 Iteration: 1075 Train loss: 0.694\n",
      "Val acc: 0.432\n",
      "Epoch: 2/2 Iteration: 1080 Train loss: 0.462\n",
      "Epoch: 2/2 Iteration: 1085 Train loss: 0.270\n",
      "Epoch: 2/2 Iteration: 1090 Train loss: 0.101\n",
      "Epoch: 2/2 Iteration: 1095 Train loss: 0.292\n",
      "Epoch: 2/2 Iteration: 1100 Train loss: 0.325\n",
      "Val acc: 0.627\n",
      "Epoch: 2/2 Iteration: 1105 Train loss: 0.166\n",
      "Epoch: 2/2 Iteration: 1110 Train loss: 0.303\n",
      "Epoch: 2/2 Iteration: 1115 Train loss: 0.210\n",
      "Epoch: 2/2 Iteration: 1120 Train loss: 0.194\n",
      "Epoch: 2/2 Iteration: 1125 Train loss: 0.256\n",
      "Val acc: 0.483\n",
      "Epoch: 2/2 Iteration: 1130 Train loss: 0.017\n",
      "Epoch: 2/2 Iteration: 1135 Train loss: 0.151\n",
      "Epoch: 2/2 Iteration: 1140 Train loss: 0.208\n",
      "Epoch: 2/2 Iteration: 1145 Train loss: 0.579\n",
      "Epoch: 2/2 Iteration: 1150 Train loss: 0.549\n",
      "Val acc: 0.347\n",
      "Epoch: 2/2 Iteration: 1155 Train loss: 0.081\n",
      "Epoch: 2/2 Iteration: 1160 Train loss: 0.299\n",
      "Epoch: 2/2 Iteration: 1165 Train loss: 0.329\n",
      "Epoch: 2/2 Iteration: 1170 Train loss: 0.201\n",
      "Epoch: 2/2 Iteration: 1175 Train loss: 0.548\n",
      "Val acc: 0.534\n",
      "Epoch: 2/2 Iteration: 1180 Train loss: 0.229\n",
      "Epoch: 2/2 Iteration: 1185 Train loss: 0.216\n",
      "Epoch: 2/2 Iteration: 1190 Train loss: 0.117\n",
      "Epoch: 2/2 Iteration: 1195 Train loss: 0.254\n",
      "Epoch: 2/2 Iteration: 1200 Train loss: 0.211\n",
      "Val acc: 0.381\n",
      "Epoch: 2/2 Iteration: 1205 Train loss: 0.155\n",
      "Epoch: 2/2 Iteration: 1210 Train loss: 0.107\n",
      "Epoch: 2/2 Iteration: 1215 Train loss: 0.158\n",
      "Epoch: 2/2 Iteration: 1220 Train loss: 0.134\n",
      "Epoch: 2/2 Iteration: 1225 Train loss: 0.213\n",
      "Val acc: 0.415\n",
      "Epoch: 2/2 Iteration: 1230 Train loss: 0.343\n",
      "Epoch: 2/2 Iteration: 1235 Train loss: 0.102\n",
      "Epoch: 2/2 Iteration: 1240 Train loss: 0.383\n",
      "Epoch: 2/2 Iteration: 1245 Train loss: 0.607\n",
      "Epoch: 2/2 Iteration: 1250 Train loss: 0.518\n",
      "Val acc: 0.466\n",
      "Epoch: 2/2 Iteration: 1255 Train loss: 0.074\n",
      "Epoch: 2/2 Iteration: 1260 Train loss: 0.016\n",
      "Epoch: 2/2 Iteration: 1265 Train loss: 0.037\n",
      "Epoch: 2/2 Iteration: 1270 Train loss: 0.075\n",
      "Epoch: 2/2 Iteration: 1275 Train loss: 0.010\n",
      "Val acc: 0.508\n",
      "Epoch: 2/2 Iteration: 1280 Train loss: 0.863\n",
      "Epoch: 2/2 Iteration: 1285 Train loss: 0.869\n",
      "Epoch: 2/2 Iteration: 1290 Train loss: 0.001\n",
      "Epoch: 2/2 Iteration: 1295 Train loss: 0.106\n",
      "Epoch: 2/2 Iteration: 1300 Train loss: 0.033\n",
      "Val acc: 0.407\n",
      "Epoch: 2/2 Iteration: 1305 Train loss: 0.043\n",
      "Epoch: 2/2 Iteration: 1310 Train loss: 0.231\n",
      "Epoch: 2/2 Iteration: 1315 Train loss: 0.094\n",
      "Epoch: 2/2 Iteration: 1325 Train loss: 0.259\n",
      "Val acc: 0.407\n",
      "Epoch: 2/2 Iteration: 1330 Train loss: 0.160\n",
      "Epoch: 2/2 Iteration: 1335 Train loss: 0.567\n",
      "Epoch: 2/2 Iteration: 1340 Train loss: 0.082\n",
      "Epoch: 2/2 Iteration: 1345 Train loss: 0.503\n",
      "Epoch: 2/2 Iteration: 1350 Train loss: 0.194\n",
      "Val acc: 0.669\n",
      "Epoch: 2/2 Iteration: 1355 Train loss: 0.257\n",
      "Epoch: 2/2 Iteration: 1360 Train loss: 0.109\n",
      "Epoch: 2/2 Iteration: 1365 Train loss: 0.080\n",
      "Epoch: 2/2 Iteration: 1370 Train loss: 0.526\n",
      "Epoch: 2/2 Iteration: 1375 Train loss: 0.186\n",
      "Val acc: 0.424\n",
      "Epoch: 2/2 Iteration: 1380 Train loss: 0.079\n",
      "Epoch: 2/2 Iteration: 1385 Train loss: 0.104\n",
      "Epoch: 2/2 Iteration: 1390 Train loss: 0.106\n",
      "Epoch: 2/2 Iteration: 1395 Train loss: 0.298\n",
      "Epoch: 2/2 Iteration: 1400 Train loss: 0.016\n",
      "Val acc: 0.542\n",
      "Epoch: 2/2 Iteration: 1405 Train loss: 0.070\n",
      "Epoch: 2/2 Iteration: 1410 Train loss: 0.165\n",
      "Epoch: 2/2 Iteration: 1415 Train loss: 0.025\n",
      "Epoch: 2/2 Iteration: 1420 Train loss: 0.216\n",
      "Epoch: 2/2 Iteration: 1425 Train loss: 0.021\n",
      "Val acc: 0.602\n",
      "Epoch: 2/2 Iteration: 1430 Train loss: 0.230\n",
      "Epoch: 2/2 Iteration: 1435 Train loss: 0.102\n",
      "Epoch: 2/2 Iteration: 1440 Train loss: 0.080\n",
      "Epoch: 2/2 Iteration: 1445 Train loss: 0.537\n",
      "Epoch: 2/2 Iteration: 1450 Train loss: 0.308\n",
      "Val acc: 0.559\n",
      "Epoch: 2/2 Iteration: 1455 Train loss: 0.448\n",
      "Epoch: 2/2 Iteration: 1460 Train loss: 0.095\n",
      "Epoch: 2/2 Iteration: 1465 Train loss: 0.009\n",
      "Epoch: 2/2 Iteration: 1470 Train loss: 0.147\n",
      "Epoch: 2/2 Iteration: 1475 Train loss: 0.508\n",
      "Val acc: 0.458\n",
      "Epoch: 2/2 Iteration: 1480 Train loss: 0.086\n",
      "Epoch: 2/2 Iteration: 1485 Train loss: 0.301\n",
      "Epoch: 2/2 Iteration: 1490 Train loss: 0.462\n",
      "Epoch: 2/2 Iteration: 1495 Train loss: 0.005\n",
      "Epoch: 2/2 Iteration: 1500 Train loss: 0.299\n",
      "Val acc: 0.390\n",
      "Epoch: 2/2 Iteration: 1505 Train loss: 0.047\n",
      "Epoch: 2/2 Iteration: 1510 Train loss: 0.146\n",
      "Epoch: 2/2 Iteration: 1515 Train loss: 0.084\n",
      "Epoch: 2/2 Iteration: 1520 Train loss: 0.003\n",
      "Epoch: 2/2 Iteration: 1525 Train loss: 0.281\n",
      "Val acc: 0.449\n",
      "Epoch: 2/2 Iteration: 1530 Train loss: 0.182\n",
      "Epoch: 2/2 Iteration: 1535 Train loss: 0.048\n",
      "Epoch: 2/2 Iteration: 1540 Train loss: 0.043\n",
      "Epoch: 2/2 Iteration: 1545 Train loss: 0.945\n",
      "Epoch: 2/2 Iteration: 1550 Train loss: 0.424\n",
      "Val acc: 0.466\n",
      "Epoch: 2/2 Iteration: 1555 Train loss: 0.796\n",
      "Epoch: 2/2 Iteration: 1560 Train loss: 0.072\n",
      "Epoch: 2/2 Iteration: 1565 Train loss: 0.245\n",
      "Epoch: 2/2 Iteration: 1570 Train loss: 0.359\n",
      "Epoch: 2/2 Iteration: 1575 Train loss: 0.258\n",
      "Val acc: 0.432\n",
      "Epoch: 2/2 Iteration: 1580 Train loss: 0.596\n",
      "Epoch: 2/2 Iteration: 1585 Train loss: 0.152\n",
      "Epoch: 2/2 Iteration: 1590 Train loss: 0.273\n",
      "Epoch: 2/2 Iteration: 1595 Train loss: 0.370\n",
      "Epoch: 2/2 Iteration: 1600 Train loss: 0.080\n",
      "Val acc: 0.390\n",
      "Epoch: 2/2 Iteration: 1605 Train loss: 0.412\n",
      "Epoch: 2/2 Iteration: 1610 Train loss: 0.633\n",
      "Epoch: 2/2 Iteration: 1615 Train loss: 0.077\n",
      "Epoch: 2/2 Iteration: 1620 Train loss: 0.632\n",
      "Epoch: 2/2 Iteration: 1625 Train loss: 0.285\n",
      "Val acc: 0.424\n",
      "Epoch: 2/2 Iteration: 1630 Train loss: 0.131\n",
      "Epoch: 2/2 Iteration: 1635 Train loss: 0.110\n",
      "Epoch: 2/2 Iteration: 1640 Train loss: 0.285\n",
      "Epoch: 2/2 Iteration: 1645 Train loss: 0.093\n",
      "Epoch: 2/2 Iteration: 1650 Train loss: 0.090\n",
      "Val acc: 0.441\n",
      "Epoch: 2/2 Iteration: 1655 Train loss: 0.130\n",
      "Epoch: 2/2 Iteration: 1660 Train loss: 0.089\n",
      "Epoch: 2/2 Iteration: 1665 Train loss: 0.046\n",
      "Epoch: 2/2 Iteration: 1670 Train loss: 0.198\n",
      "Epoch: 2/2 Iteration: 1675 Train loss: 0.514\n",
      "Val acc: 0.432\n",
      "Epoch: 2/2 Iteration: 1680 Train loss: 0.164\n",
      "Epoch: 2/2 Iteration: 1685 Train loss: 0.223\n",
      "Epoch: 2/2 Iteration: 1690 Train loss: 0.141\n",
      "Epoch: 2/2 Iteration: 1695 Train loss: 0.124\n",
      "Epoch: 2/2 Iteration: 1700 Train loss: 0.189\n",
      "Val acc: 0.500\n",
      "Epoch: 2/2 Iteration: 1705 Train loss: 0.182\n",
      "Epoch: 2/2 Iteration: 1710 Train loss: 0.176\n",
      "Epoch: 2/2 Iteration: 1715 Train loss: 0.016\n",
      "Epoch: 2/2 Iteration: 1720 Train loss: 0.970\n",
      "Epoch: 2/2 Iteration: 1725 Train loss: 0.108\n",
      "Val acc: 0.517\n",
      "Epoch: 2/2 Iteration: 1730 Train loss: 0.114\n",
      "Epoch: 2/2 Iteration: 1735 Train loss: 0.002\n",
      "Epoch: 2/2 Iteration: 1740 Train loss: 0.007\n",
      "Epoch: 2/2 Iteration: 1745 Train loss: 0.005\n",
      "Epoch: 2/2 Iteration: 1750 Train loss: 0.065\n",
      "Val acc: 0.729\n",
      "Epoch: 2/2 Iteration: 1755 Train loss: 0.014\n",
      "Epoch: 2/2 Iteration: 1760 Train loss: 0.146\n",
      "Epoch: 2/2 Iteration: 1765 Train loss: 0.001\n",
      "Epoch: 2/2 Iteration: 1770 Train loss: 0.783\n",
      "Epoch: 2/2 Iteration: 1775 Train loss: 0.017\n",
      "Val acc: 0.695\n",
      "Epoch: 2/2 Iteration: 1780 Train loss: 0.015\n",
      "Epoch: 2/2 Iteration: 1785 Train loss: 0.014\n",
      "Epoch: 2/2 Iteration: 1790 Train loss: 0.000\n",
      "Epoch: 2/2 Iteration: 1795 Train loss: 0.004\n",
      "Epoch: 2/2 Iteration: 1800 Train loss: 0.002\n",
      "Val acc: 0.703\n",
      "Epoch: 2/2 Iteration: 1805 Train loss: 0.008\n",
      "Epoch: 2/2 Iteration: 1810 Train loss: 0.000\n",
      "Epoch: 2/2 Iteration: 1815 Train loss: 0.000\n",
      "Epoch: 2/2 Iteration: 1820 Train loss: 0.884\n",
      "Epoch: 2/2 Iteration: 1825 Train loss: 0.880\n",
      "Val acc: 0.542\n",
      "Epoch: 2/2 Iteration: 1830 Train loss: 0.000\n",
      "Epoch: 2/2 Iteration: 1835 Train loss: 0.027\n",
      "Epoch: 2/2 Iteration: 1840 Train loss: 0.000\n",
      "Epoch: 2/2 Iteration: 1845 Train loss: 0.007\n",
      "Epoch: 2/2 Iteration: 1850 Train loss: 0.027\n",
      "Val acc: 0.669\n",
      "Epoch: 2/2 Iteration: 1855 Train loss: 0.005\n",
      "Epoch: 2/2 Iteration: 1860 Train loss: 0.083\n",
      "Epoch: 2/2 Iteration: 1865 Train loss: 0.174\n",
      "Epoch: 2/2 Iteration: 1870 Train loss: 0.306\n",
      "Epoch: 2/2 Iteration: 1875 Train loss: 0.024\n",
      "Val acc: 0.737\n",
      "Epoch: 2/2 Iteration: 1880 Train loss: 0.516\n",
      "Time elasped = 13237.545436587 sec(s)\n"
     ]
    }
   ],
   "source": [
    "# Training::\n",
    "\n",
    "#epochs = 5\n",
    "saver = tf.train.Saver()\n",
    "start = timer()\n",
    "\n",
    "with tf.Session() as sess:\n",
    "    sess.run(tf.global_variables_initializer())\n",
    "    train_writer = tf.summary.FileWriter('./logs/tb/train', sess.graph)\n",
    "    test_writer = tf.summary.FileWriter('./logs/tb/test', sess.graph)\n",
    "    iteration = 1\n",
    "    for e in range(1, epochs+1):\n",
    "        state = sess.run(initial_state)\n",
    "        \n",
    "        for ii, (x, y) in enumerate(get_batches(train_x, train_y, batch_size), 1):\n",
    "            feed = {inputs_: x,\n",
    "                    labels_: y[:, None],\n",
    "                    keep_prob: 1,\n",
    "                    initial_state: state}\n",
    "            summary, loss, state, _ = sess.run([merged, cost, final_state, optimizer], feed_dict=feed)\n",
    "#             loss, state, _ = sess.run([cost, final_state, optimizer], feed_dict=feed)\n",
    "\n",
    "            train_writer.add_summary(summary, iteration)\n",
    "        \n",
    "            if iteration%5==0:\n",
    "                print(\"Epoch: {}/{}\".format(e, epochs),\n",
    "                      \"Iteration: {}\".format(iteration),\n",
    "                      \"Train loss: {:.3f}\".format(loss))\n",
    "\n",
    "            if iteration%25==0:\n",
    "                val_acc = []\n",
    "                val_state = sess.run(cell.zero_state(batch_size, tf.float32))\n",
    "                for x, y in get_batches(val_x, val_y, batch_size):\n",
    "                    feed = {inputs_: x,\n",
    "                            labels_: y[:, None],\n",
    "                            keep_prob: 1,\n",
    "                            initial_state: val_state}\n",
    "#                     batch_acc, val_state = sess.run([accuracy, final_state], feed_dict=feed)\n",
    "                    summary, batch_acc, val_state = sess.run([merged, accuracy, final_state], feed_dict=feed)\n",
    "                    val_acc.append(batch_acc)\n",
    "                print(\"Val acc: {:.3f}\".format(np.mean(val_acc)))\n",
    "            iteration +=1\n",
    "            test_writer.add_summary(summary, iteration)\n",
    "            saver.save(sess, checkpointName)\n",
    "#            tensorboard = TensorBoard(log_dir=\"logs/tweet_5000_all_sentiments_six_classes-{}\".format(int(time.time())))\n",
    "    saver.save(sess, checkpointName)\n",
    "    \n",
    "duration = timer() - start\n",
    "print('Time elasped =',duration,'sec(s)')"
   ]
  },
  {
   "cell_type": "code",
   "execution_count": 22,
   "metadata": {
    "colab": {
     "base_uri": "https://localhost:8080/",
     "height": 51
    },
    "colab_type": "code",
    "id": "VbB608oJhtTZ",
    "outputId": "aded141e-35c1-4dc2-e04f-94b318d896ca"
   },
   "outputs": [
    {
     "name": "stdout",
     "output_type": "stream",
     "text": [
      "INFO:tensorflow:Restoring parameters from checkpoints/data_all_unique_dnd_stratified_9.ckpt\n",
      "Test accuracy: 0.703\n"
     ]
    }
   ],
   "source": [
    "# Testing::\n",
    "\n",
    "test_acc = []\n",
    "with tf.Session() as sess:\n",
    "    saver.restore(sess, checkpointName)\n",
    "    test_state = sess.run(cell.zero_state(batch_size, tf.float32))\n",
    "    for ii, (x, y) in enumerate(get_batches(test_x, test_y, batch_size), 1):\n",
    "        feed = {inputs_: x,\n",
    "                labels_: y[:, None],\n",
    "                keep_prob: 1,\n",
    "                initial_state: test_state}\n",
    "        batch_acc, test_state = sess.run([accuracy, final_state], feed_dict=feed)\n",
    "        test_acc.append(batch_acc)\n",
    "    print(\"Test accuracy: {:.3f}\".format(np.mean(test_acc)))"
   ]
  },
  {
   "cell_type": "code",
   "execution_count": 0,
   "metadata": {
    "colab": {},
    "colab_type": "code",
    "id": "W1zLME1whtTf"
   },
   "outputs": [],
   "source": []
  }
 ],
 "metadata": {
  "accelerator": "GPU",
  "colab": {
   "collapsed_sections": [],
   "name": "gru_9_unique.ipynb",
   "provenance": [],
   "version": "0.3.2"
  },
  "kernelspec": {
   "display_name": "Python 3",
   "language": "python",
   "name": "python3"
  },
  "language_info": {
   "codemirror_mode": {
    "name": "ipython",
    "version": 3
   },
   "file_extension": ".py",
   "mimetype": "text/x-python",
   "name": "python",
   "nbconvert_exporter": "python",
   "pygments_lexer": "ipython3",
   "version": "3.6.6"
  }
 },
 "nbformat": 4,
 "nbformat_minor": 1
}
