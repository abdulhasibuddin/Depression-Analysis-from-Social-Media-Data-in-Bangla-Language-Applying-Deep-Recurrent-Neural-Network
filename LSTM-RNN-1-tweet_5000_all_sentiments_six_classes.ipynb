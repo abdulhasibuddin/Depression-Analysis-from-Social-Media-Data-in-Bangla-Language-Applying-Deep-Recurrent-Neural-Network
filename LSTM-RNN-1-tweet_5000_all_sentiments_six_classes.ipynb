{
 "cells": [
  {
   "cell_type": "code",
   "execution_count": 1,
   "metadata": {},
   "outputs": [],
   "source": [
    "# Courtesy: https://github.com/mchablani/deep-learning/blob/master/sentiment-rnn/Sentiment_RNN.ipynb\n",
    "# Sentiment Analysis with an LSTM-RNN::\n",
    "# Six classes:\n",
    "# 1. Positive\n",
    "# 2. Neutral\n",
    "# 3. Depressed\n",
    "# 4. Negative but not depressed\n",
    "# 5. Ambiguous\n",
    "# 6. Incomplete"
   ]
  },
  {
   "cell_type": "code",
   "execution_count": 2,
   "metadata": {},
   "outputs": [],
   "source": [
    "import numpy as np\n",
    "import tensorflow as tf\n",
    "#from tensorflow.keras.callbacks import TensorBoard\n",
    "from timeit import default_timer as timer\n",
    "#import time"
   ]
  },
  {
   "cell_type": "code",
   "execution_count": 3,
   "metadata": {},
   "outputs": [],
   "source": [
    "with open('../tweet_5000_all_sentiments_six_classes_text.txt', 'r', encoding=\"utf8\") as f:\n",
    "    reviews = f.read()\n",
    "with open('../tweet_5000_all_sentiments_six_classes_labels.txt', 'r', encoding=\"utf8\") as f:\n",
    "    labels_org = f.read()"
   ]
  },
  {
   "cell_type": "code",
   "execution_count": 4,
   "metadata": {},
   "outputs": [
    {
     "data": {
      "text/plain": [
       "'neutral\\npositive\\nneutral\\npositive\\npositive\\nambiguous\\npositive\\npositive\\nambiguous\\npositive\\npositive\\npositive\\nambiguous\\ndepressive\\npositive\\npositive\\ndepressive\\npositive\\npositive\\nincomplete\\npositive\\npositive\\ndepressive\\nincomplete\\npositive\\npositive\\nneutral\\ndepressive\\nneutral\\nneutral\\nneutral\\npositive\\npositive\\npositive\\npositive\\ndepressive\\npositive\\nincomplete\\npositive\\npositive\\ndepressive\\npositive\\nincomplete\\npositive\\npositive\\npositive\\nneutral\\npositive\\ndepressive\\nambiguous\\npositive\\npositive\\npositive\\npositive\\nneutral\\npositive\\nneutral\\nneutral\\npositive\\npositive\\npositive\\nincomplete\\nneutral\\npositive\\nsim_negative\\nambiguous\\npositive\\nambiguous\\npositive\\npositive\\ndepressive\\npositive\\nambiguous\\npositive\\nneutral\\npositive\\npositive\\npositive\\npositive\\ndepressive\\nneutral\\npositive\\npositive\\npositive\\nsim_negative\\npositive\\npositive\\npositive\\nincomplete\\ndepressive\\nneutral\\npositive\\ndepressive\\npositive\\nneutral\\ndepressive\\npositive\\ndepressive\\nneutral\\ndepressive\\nneutral\\ndepressive\\npositive\\npositive\\ndepressive\\nambiguous\\nposit'"
      ]
     },
     "execution_count": 4,
     "metadata": {},
     "output_type": "execute_result"
    }
   ],
   "source": [
    "labels_org[:1002]"
   ]
  },
  {
   "cell_type": "code",
   "execution_count": 5,
   "metadata": {},
   "outputs": [
    {
     "data": {
      "text/plain": [
       "'জনগণের ভোট চুরি করে ক্ষমতায় আসা ওই নিয়ত আমাদের নাই আওয়ামী লীগ নেত্রী শেখ হাসিনা এভাবে নৌকার পক্ষে ভোটে ডাকাতি করছেন লজ্জা লাগেনা ছিঃ বাসদ নেত্রী ড মনীষা চক্রবর্তী । \\nসবথেকে বড় যুদ্ধ হলো নিজের মনের সাথে যুদ্ধ আবেগ\\nতোমাকে মনে পড়বে যখনিই জ্যোস্না হাসে তোমাকে মনে পড়বে যখনিই আকাশ ভেঙ্গে বর্ষা কাঁদে পাগল\\nরোজ আকাশে একটা তারা জলমল করতো হাজার মেঘলা এমনকি ঘন বর্ষাতেও আমি খুঁজে পাইতাম । শুভ সকাল \\nআল্লাহ মহাপরাক্রমশালী এবং সবার ওপর পরিপূর্ণরূপে বিজয়ী হওয়া সত্ত্বেও নিজের সৃষ্টির প্রতি তিনি দয়াবান ও ক্ষমাশীল । দুষ্কর্মকারীদের শাস্তি দেয়ার পুরো ক্ষমতা তাঁর আছে । কিন্তু যারা লজ্জিত হয়ে দুষ্কর্ম পরিত্যাগ করে এবং ক্ষমা প্রার্থনা করে তাদের সাথে তিনি ক্ষমাশীলতার আচরণ করে থাকেন । \\nআদরের ডাক যদি মুছে , এই নাও কিছু ঘুম পাড়ানি গান আলগোছে , বোঝনা এটুকু শিলালিপি , মন রে ব্যাথার আদরে অবুঝ আঙ্গুল রাখলাম \\nনিষিদ্ধ পল্লীতে নিষিদ্ধ মানুষের বসবাস থাকলেও সেখানকার খরিদ্দাররা একদম বিশুদ্ধ পল্লীর হয়\\nসবাই কেমন আছেন আশা করি ভালো আছেন\\nএনআৰচি ৰ ওপৰত মোৰ মন্তব্য । \\nযত ধৈর্য্য তত বেশি সফলতা । সমস্যা হলো আমাদের ধৈয্'"
      ]
     },
     "execution_count": 5,
     "metadata": {},
     "output_type": "execute_result"
    }
   ],
   "source": [
    "reviews[:1000]"
   ]
  },
  {
   "cell_type": "code",
   "execution_count": 6,
   "metadata": {},
   "outputs": [],
   "source": [
    "# Data preprocessing::\n",
    "\n",
    "from string import punctuation\n",
    "all_text = ''.join([c for c in reviews if c not in punctuation])\n",
    "reviews = all_text.split('\\n')\n",
    "\n",
    "all_text = ' '.join(reviews)\n",
    "words = all_text.split()"
   ]
  },
  {
   "cell_type": "code",
   "execution_count": 7,
   "metadata": {},
   "outputs": [
    {
     "data": {
      "text/plain": [
       "'জনগণের ভোট চুরি করে ক্ষমতায় আসা ওই নিয়ত আমাদের নাই আওয়ামী লীগ নেত্রী শেখ হাসিনা এভাবে নৌকার পক্ষে ভোটে ডাকাতি করছেন লজ্জা লাগেনা ছিঃ বাসদ নেত্রী ড মনীষা চক্রবর্তী ।  সবথেকে বড় যুদ্ধ হলো নিজের মনের সাথে যুদ্ধ আবেগ তোমাকে মনে পড়বে যখনিই জ্যোস্না হাসে তোমাকে মনে পড়বে যখনিই আকাশ ভেঙ্গে বর্ষা কাঁদে পাগল রোজ আকাশে একটা তারা জলমল করতো হাজার মেঘলা এমনকি ঘন বর্ষাতেও আমি খুঁজে পাইতাম । শুভ সকাল  আল্লাহ মহাপরাক্রমশালী এবং সবার ওপর পরিপূর্ণরূপে বিজয়ী হওয়া সত্ত্বেও নিজের সৃষ্টির প্রতি তিনি দয়াবান ও ক্ষমাশীল । দুষ্কর্মকারীদের শাস্তি দেয়ার পুরো ক্ষমতা তাঁর আছে । কিন্তু যারা লজ্জিত হয়ে দুষ্কর্ম পরিত্যাগ করে এবং ক্ষমা প্রার্থনা করে তাদের সাথে তিনি ক্ষমাশীলতার আচরণ করে থাকেন ।  আদরের ডাক যদি মুছে  এই নাও কিছু ঘুম পাড়ানি গান আলগোছে  বোঝনা এটুকু শিলালিপি  মন রে ব্যাথার আদরে অবুঝ আঙ্গুল রাখলাম  নিষিদ্ধ পল্লীতে নিষিদ্ধ মানুষের বসবাস থাকলেও সেখানকার খরিদ্দাররা একদম বিশুদ্ধ পল্লীর হয় সবাই কেমন আছেন আশা করি ভালো আছেন এনআৰচি ৰ ওপৰত মোৰ মন্তব্য ।  যত ধৈর্য্য তত বেশি সফলতা । সমস্যা হলো আমাদের ধৈয্যধারন ক্ষমতা তুলো গোছের ।  গতকাল হুগলী জেলার রিষড়ার হেস্টিংস জুট মিলের শ্রমিকদের ট্রাস্টি বোর্ডের বিজেপির অসংগঠিত শ্রমিকদের সংগঠন পাকসু মোর্চা র প্রার্থীদের জয় প্রমান করল পশ্চিমবঙ্গের খেটে খাওয়া গরিব মানুষ আজ প্রধানমন্ত্রী শ্রী নরেন্দ্র মোদী জির পক্ষে । বিজয়ী প্রার্থীদের জানাই আন্তরিক গৈরিক শুভেচ্ছা  অভিনন্দন   একটা গাড়ি যাবে আর পাশে নাকি একজন দৌড়াতে দৌড়াতে নাচবে আমার গাড়িতে করলে টা তো করবো কিন্তু যখনই গাড়িতে উঠতে যাবে  দরজা টেনে হুহু করে বেরিয়ে যাবো । কে বলিস বারি পৌছে দিতে । আমিতো করছি কেউ খালি বলুক করবো একটু করবি   যে দেশে মানুষের মৃত্যুর খবর শুনে মন্ত্রী মহোদয় হাসে  প্রতিদিন মৃত্যু ভয় নিয়ে বাইরে বের হতে হয় যেখানে প্রিয়জনের ঘরে ফেরার নিশ্চয়তা নেই  যেখানে রাস্তায় মা বোনদের নিরাপত্তা নেই  সেই দেশ আমার না । হয়তো দেশটা একদিন আমার ছিল । এখন আর নেই । এই দেশে আমি অসহায়  সড়কদুর্ঘটনা শত্রুর চেয়েও বেশি যন্ত্রণাদায়ক প্রিয়জনের অবহেলা । পরী তাড়াহুড়ায় যা সামনে পেয়েছি তাই দিয়েই গিফট বক্সটা সাজিয়েছিলাম  এখন ছবিতে দেখে ভালোলাগছে  নিকোটিনের ধোয়ায় সময় কাটে রাতে । রাতটা আমা'"
      ]
     },
     "execution_count": 7,
     "metadata": {},
     "output_type": "execute_result"
    }
   ],
   "source": [
    "all_text[:2000]"
   ]
  },
  {
   "cell_type": "code",
   "execution_count": 8,
   "metadata": {},
   "outputs": [
    {
     "data": {
      "text/plain": [
       "['জনগণের',\n",
       " 'ভোট',\n",
       " 'চুরি',\n",
       " 'করে',\n",
       " 'ক্ষমতায়',\n",
       " 'আসা',\n",
       " 'ওই',\n",
       " 'নিয়ত',\n",
       " 'আমাদের',\n",
       " 'নাই',\n",
       " 'আওয়ামী',\n",
       " 'লীগ',\n",
       " 'নেত্রী',\n",
       " 'শেখ',\n",
       " 'হাসিনা',\n",
       " 'এভাবে',\n",
       " 'নৌকার',\n",
       " 'পক্ষে',\n",
       " 'ভোটে',\n",
       " 'ডাকাতি',\n",
       " 'করছেন',\n",
       " 'লজ্জা',\n",
       " 'লাগেনা',\n",
       " 'ছিঃ',\n",
       " 'বাসদ',\n",
       " 'নেত্রী',\n",
       " 'ড',\n",
       " 'মনীষা',\n",
       " 'চক্রবর্তী',\n",
       " '।',\n",
       " 'সবথেকে',\n",
       " 'বড়',\n",
       " 'যুদ্ধ',\n",
       " 'হলো',\n",
       " 'নিজের',\n",
       " 'মনের',\n",
       " 'সাথে',\n",
       " 'যুদ্ধ',\n",
       " 'আবেগ',\n",
       " 'তোমাকে',\n",
       " 'মনে',\n",
       " 'পড়বে',\n",
       " 'যখনিই',\n",
       " 'জ্যোস্না',\n",
       " 'হাসে',\n",
       " 'তোমাকে',\n",
       " 'মনে',\n",
       " 'পড়বে',\n",
       " 'যখনিই',\n",
       " 'আকাশ',\n",
       " 'ভেঙ্গে',\n",
       " 'বর্ষা',\n",
       " 'কাঁদে',\n",
       " 'পাগল',\n",
       " 'রোজ',\n",
       " 'আকাশে',\n",
       " 'একটা',\n",
       " 'তারা',\n",
       " 'জলমল',\n",
       " 'করতো',\n",
       " 'হাজার',\n",
       " 'মেঘলা',\n",
       " 'এমনকি',\n",
       " 'ঘন',\n",
       " 'বর্ষাতেও',\n",
       " 'আমি',\n",
       " 'খুঁজে',\n",
       " 'পাইতাম',\n",
       " '।',\n",
       " 'শুভ',\n",
       " 'সকাল',\n",
       " 'আল্লাহ',\n",
       " 'মহাপরাক্রমশালী',\n",
       " 'এবং',\n",
       " 'সবার',\n",
       " 'ওপর',\n",
       " 'পরিপূর্ণরূপে',\n",
       " 'বিজয়ী',\n",
       " 'হওয়া',\n",
       " 'সত্ত্বেও',\n",
       " 'নিজের',\n",
       " 'সৃষ্টির',\n",
       " 'প্রতি',\n",
       " 'তিনি',\n",
       " 'দয়াবান',\n",
       " 'ও',\n",
       " 'ক্ষমাশীল',\n",
       " '।',\n",
       " 'দুষ্কর্মকারীদের',\n",
       " 'শাস্তি',\n",
       " 'দেয়ার',\n",
       " 'পুরো',\n",
       " 'ক্ষমতা',\n",
       " 'তাঁর',\n",
       " 'আছে',\n",
       " '।',\n",
       " 'কিন্তু',\n",
       " 'যারা',\n",
       " 'লজ্জিত',\n",
       " 'হয়ে']"
      ]
     },
     "execution_count": 8,
     "metadata": {},
     "output_type": "execute_result"
    }
   ],
   "source": [
    "words[:100]"
   ]
  },
  {
   "cell_type": "code",
   "execution_count": 9,
   "metadata": {},
   "outputs": [],
   "source": [
    "from collections import Counter\n",
    "counts = Counter(words)\n",
    "vocab = sorted(counts, key=counts.get, reverse=True)\n",
    "vocab_to_int = {word: ii for ii, word in enumerate(vocab, 1)}\n",
    "\n",
    "reviews_ints = []\n",
    "for each in reviews:\n",
    "    reviews_ints.append([vocab_to_int[word] for word in each.split()])"
   ]
  },
  {
   "cell_type": "code",
   "execution_count": 10,
   "metadata": {},
   "outputs": [
    {
     "name": "stdout",
     "output_type": "stream",
     "text": [
      "5001\n"
     ]
    }
   ],
   "source": [
    "print(len(reviews_ints))"
   ]
  },
  {
   "cell_type": "code",
   "execution_count": 11,
   "metadata": {},
   "outputs": [
    {
     "name": "stdout",
     "output_type": "stream",
     "text": [
      "5000\n"
     ]
    }
   ],
   "source": [
    "# Encoding the labels::\n",
    "\n",
    "# Convert labels to 1s and 0s for 'positive' and 'negative'\n",
    "# print(labels_org)\n",
    "labels = np.array([1 if l == \"positive\" else 0 for l in labels_org.split()])\n",
    "# print(labels)\n",
    "print(len(labels))"
   ]
  },
  {
   "cell_type": "code",
   "execution_count": 12,
   "metadata": {},
   "outputs": [
    {
     "name": "stdout",
     "output_type": "stream",
     "text": [
      "Zero-length reviews: 1\n",
      "Maximum review length: 61\n"
     ]
    }
   ],
   "source": [
    "from collections import Counter\n",
    "review_lens = Counter([len(x) for x in reviews_ints])\n",
    "print(\"Zero-length reviews: {}\".format(review_lens[0]))\n",
    "print(\"Maximum review length: {}\".format(max(review_lens)))"
   ]
  },
  {
   "cell_type": "code",
   "execution_count": 13,
   "metadata": {},
   "outputs": [],
   "source": [
    "# Filter out that review with 0 length\n",
    "reviews_ints = [r[0:200] for r in reviews_ints if len(r) > 0]"
   ]
  },
  {
   "cell_type": "code",
   "execution_count": 14,
   "metadata": {},
   "outputs": [
    {
     "name": "stdout",
     "output_type": "stream",
     "text": [
      "Zero-length reviews: 0\n",
      "Maximum review length: 61\n"
     ]
    }
   ],
   "source": [
    "from collections import Counter\n",
    "review_lens = Counter([len(x) for x in reviews_ints])\n",
    "print(\"Zero-length reviews: {}\".format(review_lens[0]))\n",
    "print(\"Maximum review length: {}\".format(max(review_lens)))"
   ]
  },
  {
   "cell_type": "code",
   "execution_count": 15,
   "metadata": {},
   "outputs": [
    {
     "data": {
      "text/plain": [
       "array([[0, 0, 0, 0, 0, 0, 0, 0, 0, 0, 0, 0, 0, 0, 0, 0, 0, 0, 0, 0, 0, 0,\n",
       "        0, 0, 0, 0, 0, 0, 0, 0, 0, 0, 0, 0, 0, 0, 0, 0, 0, 0, 0, 0, 0, 0,\n",
       "        0, 0, 0, 0, 0, 0, 0, 0, 0, 0, 0, 0, 0, 0, 0, 0, 0, 0, 0, 0, 0, 0,\n",
       "        0, 0, 0, 0, 0, 0, 0, 0, 0, 0, 0, 0, 0, 0, 0, 0, 0, 0, 0, 0, 0, 0,\n",
       "        0, 0, 0, 0, 0, 0, 0, 0, 0, 0, 0, 0],\n",
       "       [0, 0, 0, 0, 0, 0, 0, 0, 0, 0, 0, 0, 0, 0, 0, 0, 0, 0, 0, 0, 0, 0,\n",
       "        0, 0, 0, 0, 0, 0, 0, 0, 0, 0, 0, 0, 0, 0, 0, 0, 0, 0, 0, 0, 0, 0,\n",
       "        0, 0, 0, 0, 0, 0, 0, 0, 0, 0, 0, 0, 0, 0, 0, 0, 0, 0, 0, 0, 0, 0,\n",
       "        0, 0, 0, 0, 0, 0, 0, 0, 0, 0, 0, 0, 0, 0, 0, 0, 0, 0, 0, 0, 0, 0,\n",
       "        0, 0, 0, 0, 0, 0, 0, 0, 0, 0, 0, 0],\n",
       "       [0, 0, 0, 0, 0, 0, 0, 0, 0, 0, 0, 0, 0, 0, 0, 0, 0, 0, 0, 0, 0, 0,\n",
       "        0, 0, 0, 0, 0, 0, 0, 0, 0, 0, 0, 0, 0, 0, 0, 0, 0, 0, 0, 0, 0, 0,\n",
       "        0, 0, 0, 0, 0, 0, 0, 0, 0, 0, 0, 0, 0, 0, 0, 0, 0, 0, 0, 0, 0, 0,\n",
       "        0, 0, 0, 0, 0, 0, 0, 0, 0, 0, 0, 0, 0, 0, 0, 0, 0, 0, 0, 0, 0, 0,\n",
       "        0, 0, 0, 0, 0, 0, 0, 0, 0, 0, 0, 0],\n",
       "       [0, 0, 0, 0, 0, 0, 0, 0, 0, 0, 0, 0, 0, 0, 0, 0, 0, 0, 0, 0, 0, 0,\n",
       "        0, 0, 0, 0, 0, 0, 0, 0, 0, 0, 0, 0, 0, 0, 0, 0, 0, 0, 0, 0, 0, 0,\n",
       "        0, 0, 0, 0, 0, 0, 0, 0, 0, 0, 0, 0, 0, 0, 0, 0, 0, 0, 0, 0, 0, 0,\n",
       "        0, 0, 0, 0, 0, 0, 0, 0, 0, 0, 0, 0, 0, 0, 0, 0, 0, 0, 0, 0, 0, 0,\n",
       "        0, 0, 0, 0, 0, 0, 0, 0, 0, 0, 0, 0],\n",
       "       [0, 0, 0, 0, 0, 0, 0, 0, 0, 0, 0, 0, 0, 0, 0, 0, 0, 0, 0, 0, 0, 0,\n",
       "        0, 0, 0, 0, 0, 0, 0, 0, 0, 0, 0, 0, 0, 0, 0, 0, 0, 0, 0, 0, 0, 0,\n",
       "        0, 0, 0, 0, 0, 0, 0, 0, 0, 0, 0, 0, 0, 0, 0, 0, 0, 0, 0, 0, 0, 0,\n",
       "        0, 0, 0, 0, 0, 0, 0, 0, 0, 0, 0, 0, 0, 0, 0, 0, 0, 0, 0, 0, 0, 0,\n",
       "        0, 0, 0, 0, 0, 0, 0, 0, 0, 0, 0, 0],\n",
       "       [0, 0, 0, 0, 0, 0, 0, 0, 0, 0, 0, 0, 0, 0, 0, 0, 0, 0, 0, 0, 0, 0,\n",
       "        0, 0, 0, 0, 0, 0, 0, 0, 0, 0, 0, 0, 0, 0, 0, 0, 0, 0, 0, 0, 0, 0,\n",
       "        0, 0, 0, 0, 0, 0, 0, 0, 0, 0, 0, 0, 0, 0, 0, 0, 0, 0, 0, 0, 0, 0,\n",
       "        0, 0, 0, 0, 0, 0, 0, 0, 0, 0, 0, 0, 0, 0, 0, 0, 0, 0, 0, 0, 0, 0,\n",
       "        0, 0, 0, 0, 0, 0, 0, 0, 0, 0, 0, 0],\n",
       "       [0, 0, 0, 0, 0, 0, 0, 0, 0, 0, 0, 0, 0, 0, 0, 0, 0, 0, 0, 0, 0, 0,\n",
       "        0, 0, 0, 0, 0, 0, 0, 0, 0, 0, 0, 0, 0, 0, 0, 0, 0, 0, 0, 0, 0, 0,\n",
       "        0, 0, 0, 0, 0, 0, 0, 0, 0, 0, 0, 0, 0, 0, 0, 0, 0, 0, 0, 0, 0, 0,\n",
       "        0, 0, 0, 0, 0, 0, 0, 0, 0, 0, 0, 0, 0, 0, 0, 0, 0, 0, 0, 0, 0, 0,\n",
       "        0, 0, 0, 0, 0, 0, 0, 0, 0, 0, 0, 0],\n",
       "       [0, 0, 0, 0, 0, 0, 0, 0, 0, 0, 0, 0, 0, 0, 0, 0, 0, 0, 0, 0, 0, 0,\n",
       "        0, 0, 0, 0, 0, 0, 0, 0, 0, 0, 0, 0, 0, 0, 0, 0, 0, 0, 0, 0, 0, 0,\n",
       "        0, 0, 0, 0, 0, 0, 0, 0, 0, 0, 0, 0, 0, 0, 0, 0, 0, 0, 0, 0, 0, 0,\n",
       "        0, 0, 0, 0, 0, 0, 0, 0, 0, 0, 0, 0, 0, 0, 0, 0, 0, 0, 0, 0, 0, 0,\n",
       "        0, 0, 0, 0, 0, 0, 0, 0, 0, 0, 0, 0],\n",
       "       [0, 0, 0, 0, 0, 0, 0, 0, 0, 0, 0, 0, 0, 0, 0, 0, 0, 0, 0, 0, 0, 0,\n",
       "        0, 0, 0, 0, 0, 0, 0, 0, 0, 0, 0, 0, 0, 0, 0, 0, 0, 0, 0, 0, 0, 0,\n",
       "        0, 0, 0, 0, 0, 0, 0, 0, 0, 0, 0, 0, 0, 0, 0, 0, 0, 0, 0, 0, 0, 0,\n",
       "        0, 0, 0, 0, 0, 0, 0, 0, 0, 0, 0, 0, 0, 0, 0, 0, 0, 0, 0, 0, 0, 0,\n",
       "        0, 0, 0, 0, 0, 0, 0, 0, 0, 0, 0, 0],\n",
       "       [0, 0, 0, 0, 0, 0, 0, 0, 0, 0, 0, 0, 0, 0, 0, 0, 0, 0, 0, 0, 0, 0,\n",
       "        0, 0, 0, 0, 0, 0, 0, 0, 0, 0, 0, 0, 0, 0, 0, 0, 0, 0, 0, 0, 0, 0,\n",
       "        0, 0, 0, 0, 0, 0, 0, 0, 0, 0, 0, 0, 0, 0, 0, 0, 0, 0, 0, 0, 0, 0,\n",
       "        0, 0, 0, 0, 0, 0, 0, 0, 0, 0, 0, 0, 0, 0, 0, 0, 0, 0, 0, 0, 0, 0,\n",
       "        0, 0, 0, 0, 0, 0, 0, 0, 0, 0, 0, 0]])"
      ]
     },
     "execution_count": 15,
     "metadata": {},
     "output_type": "execute_result"
    }
   ],
   "source": [
    "seq_len = 200\n",
    "features = np.zeros((len(reviews_ints), seq_len), dtype=int)\n",
    "# print(features[:10,:100])\n",
    "for i, row in enumerate(reviews_ints):\n",
    "    features[i, -len(row):] = np.array(row)[:seq_len]\n",
    "features[:10,:100]"
   ]
  },
  {
   "cell_type": "code",
   "execution_count": 16,
   "metadata": {},
   "outputs": [
    {
     "name": "stdout",
     "output_type": "stream",
     "text": [
      "5000\n",
      "<class 'numpy.ndarray'>\n",
      "[   0    0    0    0    0    0    0    0    0    0    0    0    0    0\n",
      "    0    0    0    0    0    0    0    0    0    0    0    0    0    0\n",
      "    0    0    0    0    0    0    0    0    0    0    0    0    0    0\n",
      "    0    0    0    0    0    0    0    0    0    0    0    0    0    0\n",
      "    0    0    0    0    0    0    0    0    0    0    0    0    0    0\n",
      "    0    0    0    0    0    0    0    0    0    0    0    0    0    0\n",
      "    0    0    0    0    0    0    0    0    0    0    0    0    0    0\n",
      "    0    0    0    0    0    0    0    0    0    0    0    0    0    0\n",
      "    0    0    0    0    0    0    0    0    0    0    0    0    0    0\n",
      "    0    0    0    0    0    0    0    0    0    0    0    0    0    0\n",
      "    0    0    0    0    0    0    0    0    0    0    0    0    0    0\n",
      "    0    0    0    0    0    0    0    0    0    0    0    0    0    0\n",
      "    0    0    0    0    0    0    0  206 3951   69  535 3952 3953 2092\n",
      " 2718 3954   26 2719 1286  729 3955   91    6 3956  492   12  864 2720\n",
      " 2393    1 3957 2394]\n",
      "200\n",
      "[206, 3951, 69, 535, 3952, 3953, 2092, 2718, 3954, 26, 2719, 1286, 729, 3955, 91, 6, 3956, 492, 12, 864, 2720, 2393, 1, 3957, 2394]\n",
      "25\n"
     ]
    }
   ],
   "source": [
    "print(len(features))\n",
    "print(type(features))\n",
    "print(features[41])\n",
    "print(len(features[41]))\n",
    "print(reviews_ints[41])\n",
    "print(len(reviews_ints[41]))"
   ]
  },
  {
   "cell_type": "code",
   "execution_count": 17,
   "metadata": {},
   "outputs": [
    {
     "name": "stdout",
     "output_type": "stream",
     "text": [
      "\t\t\tFeature Shapes:\n",
      "Train set: \t\t(4000, 200) \n",
      "Validation set: \t(500, 200) \n",
      "Test set: \t\t(500, 200)\n",
      "label set: \t\t(4000,) \n",
      "Validation label set: \t(500,) \n",
      "Test label set: \t\t(500,)\n"
     ]
    }
   ],
   "source": [
    "split_frac = 0.8\n",
    "\n",
    "split_index = int(split_frac * len(features))\n",
    "\n",
    "train_x, val_x = features[:split_index], features[split_index:] \n",
    "train_y, val_y = labels[:split_index], labels[split_index:]\n",
    "\n",
    "split_frac = 0.5\n",
    "split_index = int(split_frac * len(val_x))\n",
    "\n",
    "val_x, test_x = val_x[:split_index], val_x[split_index:]\n",
    "val_y, test_y = val_y[:split_index], val_y[split_index:]\n",
    "\n",
    "print(\"\\t\\t\\tFeature Shapes:\")\n",
    "print(\"Train set: \\t\\t{}\".format(train_x.shape), \n",
    "      \"\\nValidation set: \\t{}\".format(val_x.shape),\n",
    "      \"\\nTest set: \\t\\t{}\".format(test_x.shape))\n",
    "print(\"label set: \\t\\t{}\".format(train_y.shape), \n",
    "      \"\\nValidation label set: \\t{}\".format(val_y.shape),\n",
    "      \"\\nTest label set: \\t\\t{}\".format(test_y.shape))"
   ]
  },
  {
   "cell_type": "code",
   "execution_count": 18,
   "metadata": {},
   "outputs": [],
   "source": [
    "# Build the graph::\n",
    "\n",
    "lstm_size = 256\n",
    "#lstm_layers = 2\n",
    "lstm_layers = 2\n",
    "#batch_size = 1000\n",
    "batch_size = 50\n",
    "learning_rate = 0.01"
   ]
  },
  {
   "cell_type": "code",
   "execution_count": 19,
   "metadata": {},
   "outputs": [],
   "source": [
    "n_words = len(vocab_to_int) + 1 # Add 1 for 0 added to vocab\n",
    "\n",
    "# Create the graph object\n",
    "tf.reset_default_graph()\n",
    "with tf.name_scope('inputs'):\n",
    "    inputs_ = tf.placeholder(tf.int32, [None, None], name=\"inputs\")\n",
    "    labels_ = tf.placeholder(tf.int32, [None, None], name=\"labels\")\n",
    "    keep_prob = tf.placeholder(tf.float32, name=\"keep_prob\")"
   ]
  },
  {
   "cell_type": "code",
   "execution_count": 20,
   "metadata": {},
   "outputs": [],
   "source": [
    "# Size of the embedding vectors (number of units in the embedding layer)\n",
    "embed_size = 300 \n",
    "\n",
    "with tf.name_scope(\"Embeddings\"):\n",
    "    embedding = tf.Variable(tf.random_uniform((n_words, embed_size), -1, 1))\n",
    "    embed = tf.nn.embedding_lookup(embedding, inputs_)"
   ]
  },
  {
   "cell_type": "code",
   "execution_count": 21,
   "metadata": {},
   "outputs": [],
   "source": [
    "def lstm_cell():\n",
    "    # Your basic LSTM cell\n",
    "    lstm = tf.contrib.rnn.BasicLSTMCell(lstm_size, reuse=tf.get_variable_scope().reuse)\n",
    "    # Add dropout to the cell\n",
    "    return tf.contrib.rnn.DropoutWrapper(lstm, output_keep_prob=keep_prob)\n",
    "\n",
    "with tf.name_scope(\"RNN_layers\"):\n",
    "    # Stack up multiple LSTM layers, for deep learning\n",
    "    cell = tf.contrib.rnn.MultiRNNCell([lstm_cell() for _ in range(lstm_layers)])\n",
    "    \n",
    "    # Getting an initial state of all zeros\n",
    "    initial_state = cell.zero_state(batch_size, tf.float32)"
   ]
  },
  {
   "cell_type": "code",
   "execution_count": 22,
   "metadata": {},
   "outputs": [],
   "source": [
    "with tf.name_scope(\"RNN_forward\"):\n",
    "    outputs, final_state = tf.nn.dynamic_rnn(cell, embed, initial_state=initial_state)"
   ]
  },
  {
   "cell_type": "code",
   "execution_count": 23,
   "metadata": {},
   "outputs": [],
   "source": [
    "# Output::\n",
    "\n",
    "with tf.name_scope('predictions'):\n",
    "    predictions = tf.contrib.layers.fully_connected(outputs[:, -1], 1, activation_fn=tf.sigmoid)\n",
    "    tf.summary.histogram('predictions', predictions)\n",
    "with tf.name_scope('cost'):\n",
    "    cost = tf.losses.mean_squared_error(labels_, predictions)\n",
    "    tf.summary.scalar('cost', cost)\n",
    "\n",
    "with tf.name_scope('train'):\n",
    "    optimizer = tf.train.AdamOptimizer(learning_rate).minimize(cost)\n",
    "\n",
    "merged = tf.summary.merge_all()"
   ]
  },
  {
   "cell_type": "code",
   "execution_count": 24,
   "metadata": {},
   "outputs": [],
   "source": [
    "# Validation accuracy::\n",
    "\n",
    "with tf.name_scope('validation'):\n",
    "    correct_pred = tf.equal(tf.cast(tf.round(predictions), tf.int32), labels_)\n",
    "    accuracy = tf.reduce_mean(tf.cast(correct_pred, tf.float32))"
   ]
  },
  {
   "cell_type": "code",
   "execution_count": 25,
   "metadata": {},
   "outputs": [],
   "source": [
    "# Batching::\n",
    "\n",
    "def get_batches(x, y, batch_size=100):\n",
    "    \n",
    "    n_batches = len(x)//batch_size\n",
    "    x, y = x[:n_batches*batch_size], y[:n_batches*batch_size]\n",
    "    for ii in range(0, len(x), batch_size):\n",
    "        yield x[ii:ii+batch_size], y[ii:ii+batch_size]"
   ]
  },
  {
   "cell_type": "code",
   "execution_count": 26,
   "metadata": {},
   "outputs": [
    {
     "name": "stdout",
     "output_type": "stream",
     "text": [
      "Epoch: 0/10 Iteration: 5 Train loss: 0.440\n",
      "Epoch: 0/10 Iteration: 10 Train loss: 0.327\n",
      "Epoch: 0/10 Iteration: 15 Train loss: 0.293\n",
      "Epoch: 0/10 Iteration: 20 Train loss: 0.281\n",
      "Epoch: 0/10 Iteration: 25 Train loss: 0.253\n",
      "Val acc: 0.450\n",
      "Epoch: 0/10 Iteration: 30 Train loss: 0.235\n",
      "Epoch: 0/10 Iteration: 35 Train loss: 0.270\n",
      "Epoch: 0/10 Iteration: 40 Train loss: 0.243\n",
      "Epoch: 0/10 Iteration: 45 Train loss: 0.262\n",
      "Epoch: 0/10 Iteration: 50 Train loss: 0.243\n",
      "Val acc: 0.450\n",
      "Epoch: 0/10 Iteration: 55 Train loss: 0.304\n",
      "Epoch: 0/10 Iteration: 60 Train loss: 0.269\n",
      "Epoch: 0/10 Iteration: 65 Train loss: 0.244\n",
      "Epoch: 0/10 Iteration: 70 Train loss: 0.346\n",
      "Epoch: 0/10 Iteration: 75 Train loss: 0.276\n",
      "Val acc: 0.550\n",
      "Epoch: 0/10 Iteration: 80 Train loss: 0.250\n",
      "Epoch: 1/10 Iteration: 85 Train loss: 0.262\n",
      "Epoch: 1/10 Iteration: 90 Train loss: 0.249\n",
      "Epoch: 1/10 Iteration: 95 Train loss: 0.216\n",
      "Epoch: 1/10 Iteration: 100 Train loss: 0.222\n",
      "Val acc: 0.620\n",
      "Epoch: 1/10 Iteration: 105 Train loss: 0.299\n",
      "Epoch: 1/10 Iteration: 110 Train loss: 0.206\n",
      "Epoch: 1/10 Iteration: 115 Train loss: 0.265\n",
      "Epoch: 1/10 Iteration: 120 Train loss: 0.220\n",
      "Epoch: 1/10 Iteration: 125 Train loss: 0.250\n",
      "Val acc: 0.602\n",
      "Epoch: 1/10 Iteration: 130 Train loss: 0.217\n",
      "Epoch: 1/10 Iteration: 135 Train loss: 0.226\n",
      "Epoch: 1/10 Iteration: 140 Train loss: 0.222\n",
      "Epoch: 1/10 Iteration: 145 Train loss: 0.210\n",
      "Epoch: 1/10 Iteration: 150 Train loss: 0.161\n",
      "Val acc: 0.720\n",
      "Epoch: 1/10 Iteration: 155 Train loss: 0.213\n",
      "Epoch: 1/10 Iteration: 160 Train loss: 0.147\n",
      "Epoch: 2/10 Iteration: 165 Train loss: 0.200\n",
      "Epoch: 2/10 Iteration: 170 Train loss: 0.159\n",
      "Epoch: 2/10 Iteration: 175 Train loss: 0.066\n",
      "Val acc: 0.714\n",
      "Epoch: 2/10 Iteration: 180 Train loss: 0.103\n",
      "Epoch: 2/10 Iteration: 185 Train loss: 0.149\n",
      "Epoch: 2/10 Iteration: 190 Train loss: 0.199\n",
      "Epoch: 2/10 Iteration: 195 Train loss: 0.161\n",
      "Epoch: 2/10 Iteration: 200 Train loss: 0.158\n",
      "Val acc: 0.742\n",
      "Epoch: 2/10 Iteration: 205 Train loss: 0.144\n",
      "Epoch: 2/10 Iteration: 210 Train loss: 0.150\n",
      "Epoch: 2/10 Iteration: 215 Train loss: 0.128\n",
      "Epoch: 2/10 Iteration: 220 Train loss: 0.150\n",
      "Epoch: 2/10 Iteration: 225 Train loss: 0.145\n",
      "Val acc: 0.764\n",
      "Epoch: 2/10 Iteration: 230 Train loss: 0.096\n",
      "Epoch: 2/10 Iteration: 235 Train loss: 0.110\n",
      "Epoch: 2/10 Iteration: 240 Train loss: 0.043\n",
      "Epoch: 3/10 Iteration: 245 Train loss: 0.092\n",
      "Epoch: 3/10 Iteration: 250 Train loss: 0.168\n",
      "Val acc: 0.778\n",
      "Epoch: 3/10 Iteration: 255 Train loss: 0.091\n",
      "Epoch: 3/10 Iteration: 260 Train loss: 0.043\n",
      "Epoch: 3/10 Iteration: 265 Train loss: 0.142\n",
      "Epoch: 3/10 Iteration: 270 Train loss: 0.165\n",
      "Epoch: 3/10 Iteration: 275 Train loss: 0.174\n",
      "Val acc: 0.760\n",
      "Epoch: 3/10 Iteration: 280 Train loss: 0.102\n",
      "Epoch: 3/10 Iteration: 285 Train loss: 0.062\n",
      "Epoch: 3/10 Iteration: 290 Train loss: 0.053\n",
      "Epoch: 3/10 Iteration: 295 Train loss: 0.057\n",
      "Epoch: 3/10 Iteration: 300 Train loss: 0.123\n",
      "Val acc: 0.830\n",
      "Epoch: 3/10 Iteration: 305 Train loss: 0.151\n",
      "Epoch: 3/10 Iteration: 310 Train loss: 0.070\n",
      "Epoch: 3/10 Iteration: 315 Train loss: 0.123\n",
      "Epoch: 3/10 Iteration: 320 Train loss: 0.058\n",
      "Epoch: 4/10 Iteration: 325 Train loss: 0.111\n",
      "Val acc: 0.836\n",
      "Epoch: 4/10 Iteration: 330 Train loss: 0.090\n",
      "Epoch: 4/10 Iteration: 335 Train loss: 0.061\n",
      "Epoch: 4/10 Iteration: 340 Train loss: 0.063\n",
      "Epoch: 4/10 Iteration: 345 Train loss: 0.160\n",
      "Epoch: 4/10 Iteration: 350 Train loss: 0.176\n",
      "Val acc: 0.808\n",
      "Epoch: 4/10 Iteration: 355 Train loss: 0.144\n",
      "Epoch: 4/10 Iteration: 360 Train loss: 0.120\n",
      "Epoch: 4/10 Iteration: 365 Train loss: 0.079\n",
      "Epoch: 4/10 Iteration: 370 Train loss: 0.018\n",
      "Epoch: 4/10 Iteration: 375 Train loss: 0.020\n",
      "Val acc: 0.840\n",
      "Epoch: 4/10 Iteration: 380 Train loss: 0.117\n",
      "Epoch: 4/10 Iteration: 385 Train loss: 0.121\n",
      "Epoch: 4/10 Iteration: 390 Train loss: 0.070\n",
      "Epoch: 4/10 Iteration: 395 Train loss: 0.099\n",
      "Epoch: 4/10 Iteration: 400 Train loss: 0.036\n",
      "Val acc: 0.834\n",
      "Epoch: 5/10 Iteration: 405 Train loss: 0.116\n",
      "Epoch: 5/10 Iteration: 410 Train loss: 0.081\n",
      "Epoch: 5/10 Iteration: 415 Train loss: 0.059\n",
      "Epoch: 5/10 Iteration: 420 Train loss: 0.054\n",
      "Epoch: 5/10 Iteration: 425 Train loss: 0.148\n",
      "Val acc: 0.840\n",
      "Epoch: 5/10 Iteration: 430 Train loss: 0.180\n",
      "Epoch: 5/10 Iteration: 435 Train loss: 0.112\n",
      "Epoch: 5/10 Iteration: 440 Train loss: 0.127\n",
      "Epoch: 5/10 Iteration: 445 Train loss: 0.063\n",
      "Epoch: 5/10 Iteration: 450 Train loss: 0.026\n",
      "Val acc: 0.842\n",
      "Epoch: 5/10 Iteration: 455 Train loss: 0.034\n",
      "Epoch: 5/10 Iteration: 460 Train loss: 0.124\n",
      "Epoch: 5/10 Iteration: 465 Train loss: 0.117\n",
      "Epoch: 5/10 Iteration: 470 Train loss: 0.045\n",
      "Epoch: 5/10 Iteration: 475 Train loss: 0.098\n",
      "Val acc: 0.830\n",
      "Epoch: 5/10 Iteration: 480 Train loss: 0.024\n",
      "Epoch: 6/10 Iteration: 485 Train loss: 0.117\n",
      "Epoch: 6/10 Iteration: 490 Train loss: 0.100\n",
      "Epoch: 6/10 Iteration: 495 Train loss: 0.052\n",
      "Epoch: 6/10 Iteration: 500 Train loss: 0.092\n",
      "Val acc: 0.798\n",
      "Epoch: 6/10 Iteration: 505 Train loss: 0.144\n",
      "Epoch: 6/10 Iteration: 510 Train loss: 0.182\n",
      "Epoch: 6/10 Iteration: 515 Train loss: 0.120\n",
      "Epoch: 6/10 Iteration: 520 Train loss: 0.073\n",
      "Epoch: 6/10 Iteration: 525 Train loss: 0.057\n",
      "Val acc: 0.836\n",
      "Epoch: 6/10 Iteration: 530 Train loss: 0.007\n",
      "Epoch: 6/10 Iteration: 535 Train loss: 0.013\n",
      "Epoch: 6/10 Iteration: 540 Train loss: 0.116\n",
      "Epoch: 6/10 Iteration: 545 Train loss: 0.123\n",
      "Epoch: 6/10 Iteration: 550 Train loss: 0.044\n",
      "Val acc: 0.842\n",
      "Epoch: 6/10 Iteration: 555 Train loss: 0.093\n",
      "Epoch: 6/10 Iteration: 560 Train loss: 0.014\n",
      "Epoch: 7/10 Iteration: 565 Train loss: 0.118\n",
      "Epoch: 7/10 Iteration: 570 Train loss: 0.102\n",
      "Epoch: 7/10 Iteration: 575 Train loss: 0.088\n",
      "Val acc: 0.774\n",
      "Epoch: 7/10 Iteration: 580 Train loss: 0.065\n",
      "Epoch: 7/10 Iteration: 585 Train loss: 0.126\n",
      "Epoch: 7/10 Iteration: 590 Train loss: 0.166\n",
      "Epoch: 7/10 Iteration: 595 Train loss: 0.114\n",
      "Epoch: 7/10 Iteration: 600 Train loss: 0.078\n",
      "Val acc: 0.834\n",
      "Epoch: 7/10 Iteration: 605 Train loss: 0.043\n",
      "Epoch: 7/10 Iteration: 610 Train loss: 0.004\n",
      "Epoch: 7/10 Iteration: 615 Train loss: 0.002\n",
      "Epoch: 7/10 Iteration: 620 Train loss: 0.131\n",
      "Epoch: 7/10 Iteration: 625 Train loss: 0.142\n",
      "Val acc: 0.846\n",
      "Epoch: 7/10 Iteration: 630 Train loss: 0.046\n",
      "Epoch: 7/10 Iteration: 635 Train loss: 0.066\n",
      "Epoch: 7/10 Iteration: 640 Train loss: 0.010\n",
      "Epoch: 8/10 Iteration: 645 Train loss: 0.105\n",
      "Epoch: 8/10 Iteration: 650 Train loss: 0.079\n",
      "Val acc: 0.840\n",
      "Epoch: 8/10 Iteration: 655 Train loss: 0.066\n",
      "Epoch: 8/10 Iteration: 660 Train loss: 0.051\n",
      "Epoch: 8/10 Iteration: 665 Train loss: 0.141\n",
      "Epoch: 8/10 Iteration: 670 Train loss: 0.170\n",
      "Epoch: 8/10 Iteration: 675 Train loss: 0.132\n",
      "Val acc: 0.830\n",
      "Epoch: 8/10 Iteration: 680 Train loss: 0.083\n",
      "Epoch: 8/10 Iteration: 685 Train loss: 0.042\n",
      "Epoch: 8/10 Iteration: 690 Train loss: 0.003\n",
      "Epoch: 8/10 Iteration: 695 Train loss: 0.012\n",
      "Epoch: 8/10 Iteration: 700 Train loss: 0.117\n",
      "Val acc: 0.850\n",
      "Epoch: 8/10 Iteration: 705 Train loss: 0.131\n",
      "Epoch: 8/10 Iteration: 710 Train loss: 0.046\n",
      "Epoch: 8/10 Iteration: 715 Train loss: 0.094\n",
      "Epoch: 8/10 Iteration: 720 Train loss: 0.006\n",
      "Epoch: 9/10 Iteration: 725 Train loss: 0.130\n",
      "Val acc: 0.846\n",
      "Epoch: 9/10 Iteration: 730 Train loss: 0.108\n",
      "Epoch: 9/10 Iteration: 735 Train loss: 0.082\n",
      "Epoch: 9/10 Iteration: 740 Train loss: 0.071\n",
      "Epoch: 9/10 Iteration: 745 Train loss: 0.133\n",
      "Epoch: 9/10 Iteration: 750 Train loss: 0.209\n",
      "Val acc: 0.850\n",
      "Epoch: 9/10 Iteration: 755 Train loss: 0.106\n",
      "Epoch: 9/10 Iteration: 760 Train loss: 0.098\n",
      "Epoch: 9/10 Iteration: 765 Train loss: 0.048\n",
      "Epoch: 9/10 Iteration: 770 Train loss: 0.004\n",
      "Epoch: 9/10 Iteration: 775 Train loss: 0.007\n",
      "Val acc: 0.848\n",
      "Epoch: 9/10 Iteration: 780 Train loss: 0.138\n",
      "Epoch: 9/10 Iteration: 785 Train loss: 0.151\n",
      "Epoch: 9/10 Iteration: 790 Train loss: 0.041\n",
      "Epoch: 9/10 Iteration: 795 Train loss: 0.081\n",
      "Epoch: 9/10 Iteration: 800 Train loss: 0.027\n",
      "Val acc: 0.846\n",
      "Time elasped = 2562.4928489817403 sec(s)\n"
     ]
    }
   ],
   "source": [
    "# Training::\n",
    "\n",
    "epochs = 10\n",
    "\n",
    "# with graph.as_default():\n",
    "saver = tf.train.Saver()\n",
    "start = timer()\n",
    "\n",
    "with tf.Session() as sess:\n",
    "    sess.run(tf.global_variables_initializer())\n",
    "    train_writer = tf.summary.FileWriter('./logs/tb/train', sess.graph)\n",
    "    test_writer = tf.summary.FileWriter('./logs/tb/test', sess.graph)\n",
    "    iteration = 1\n",
    "    for e in range(epochs):\n",
    "        state = sess.run(initial_state)\n",
    "        \n",
    "        for ii, (x, y) in enumerate(get_batches(train_x, train_y, batch_size), 1):\n",
    "            feed = {inputs_: x,\n",
    "                    labels_: y[:, None],\n",
    "                    keep_prob: 0.5,\n",
    "                    initial_state: state}\n",
    "            summary, loss, state, _ = sess.run([merged, cost, final_state, optimizer], feed_dict=feed)\n",
    "#             loss, state, _ = sess.run([cost, final_state, optimizer], feed_dict=feed)\n",
    "\n",
    "            train_writer.add_summary(summary, iteration)\n",
    "        \n",
    "            if iteration%5==0:\n",
    "                print(\"Epoch: {}/{}\".format(e, epochs),\n",
    "                      \"Iteration: {}\".format(iteration),\n",
    "                      \"Train loss: {:.3f}\".format(loss))\n",
    "\n",
    "            if iteration%25==0:\n",
    "                val_acc = []\n",
    "                val_state = sess.run(cell.zero_state(batch_size, tf.float32))\n",
    "                for x, y in get_batches(val_x, val_y, batch_size):\n",
    "                    feed = {inputs_: x,\n",
    "                            labels_: y[:, None],\n",
    "                            keep_prob: 1,\n",
    "                            initial_state: val_state}\n",
    "#                     batch_acc, val_state = sess.run([accuracy, final_state], feed_dict=feed)\n",
    "                    summary, batch_acc, val_state = sess.run([merged, accuracy, final_state], feed_dict=feed)\n",
    "                    val_acc.append(batch_acc)\n",
    "                print(\"Val acc: {:.3f}\".format(np.mean(val_acc)))\n",
    "            iteration +=1\n",
    "            test_writer.add_summary(summary, iteration)\n",
    "            saver.save(sess, \"checkpoints/tweet_5000_all_sentiments_six_classes.ckpt\")\n",
    "#            tensorboard = TensorBoard(log_dir=\"logs/tweet_5000_all_sentiments_six_classes-{}\".format(int(time.time())))\n",
    "    saver.save(sess, \"checkpoints/tweet_5000_all_sentiments_six_classes.ckpt\")\n",
    "    \n",
    "duration = timer() - start\n",
    "print('Time elasped =',duration,'sec(s)')"
   ]
  },
  {
   "cell_type": "code",
   "execution_count": 27,
   "metadata": {},
   "outputs": [
    {
     "name": "stdout",
     "output_type": "stream",
     "text": [
      "INFO:tensorflow:Restoring parameters from checkpoints/tweet_5000_all_sentiments_six_classes.ckpt\n",
      "Test accuracy: 0.808\n"
     ]
    }
   ],
   "source": [
    "# Testing::\n",
    "\n",
    "test_acc = []\n",
    "with tf.Session() as sess:\n",
    "    saver.restore(sess, \"checkpoints/tweet_5000_all_sentiments_six_classes.ckpt\")\n",
    "    test_state = sess.run(cell.zero_state(batch_size, tf.float32))\n",
    "    for ii, (x, y) in enumerate(get_batches(test_x, test_y, batch_size), 1):\n",
    "        feed = {inputs_: x,\n",
    "                labels_: y[:, None],\n",
    "                keep_prob: 1,\n",
    "                initial_state: test_state}\n",
    "        batch_acc, test_state = sess.run([accuracy, final_state], feed_dict=feed)\n",
    "        test_acc.append(batch_acc)\n",
    "    print(\"Test accuracy: {:.3f}\".format(np.mean(test_acc)))"
   ]
  },
  {
   "cell_type": "code",
   "execution_count": null,
   "metadata": {},
   "outputs": [],
   "source": []
  }
 ],
 "metadata": {
  "kernelspec": {
   "display_name": "Python 3",
   "language": "python",
   "name": "python3"
  },
  "language_info": {
   "codemirror_mode": {
    "name": "ipython",
    "version": 3
   },
   "file_extension": ".py",
   "mimetype": "text/x-python",
   "name": "python",
   "nbconvert_exporter": "python",
   "pygments_lexer": "ipython3",
   "version": "3.6.6"
  }
 },
 "nbformat": 4,
 "nbformat_minor": 2
}
