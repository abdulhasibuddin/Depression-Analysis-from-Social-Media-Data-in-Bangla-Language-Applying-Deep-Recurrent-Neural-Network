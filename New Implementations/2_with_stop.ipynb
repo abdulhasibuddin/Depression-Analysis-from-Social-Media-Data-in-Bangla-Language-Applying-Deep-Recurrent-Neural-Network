{
  "nbformat": 4,
  "nbformat_minor": 0,
  "metadata": {
    "colab": {
      "name": "2_with_stop.ipynb",
      "version": "0.3.2",
      "provenance": [],
      "collapsed_sections": []
    },
    "kernelspec": {
      "name": "python3",
      "display_name": "Python 3"
    },
    "accelerator": "TPU"
  },
  "cells": [
    {
      "metadata": {
        "id": "bYNbjzXFhtRe",
        "colab_type": "code",
        "colab": {
          "base_uri": "https://localhost:8080/",
          "height": 54
        },
        "outputId": "9f0a7adf-26ad-4948-e827-81f7c3fb8fc0"
      },
      "cell_type": "code",
      "source": [
        "# WITH STOP CHAR IMPLEMENTATION 2\n",
        "# Courtesy: https://github.com/mchablani/deep-learning/blob/master/sentiment-rnn/Sentiment_RNN.ipynb\n",
        "# Depression Analysis in Bangla with LSTM-RNN (without spaces before and after stop characters)::\n",
        "# Two classes with balanced dataset (Total 1968 tweets):\n",
        "# 1. Depressive (984 tweets)\n",
        "# 2. Non-depressive (984 tweets)\n",
        "# 1 depressive -> 1 non-depressive -> 1 depressive -> 1 non-depressive ...\n",
        "\n",
        "'''\n",
        "SELECT im2_tweets_depressive_nondepressive_balanced_rearranged.tweet\n",
        "INTO OUTFILE \"D:/EDUCATION/Machine & Deep Learning/Implementations/Implementation 2/im2_tweets_depressive_nondepressive_balanced_rearranged_text.txt\" \n",
        "FROM im2_tweets_depressive_nondepressive_balanced_rearranged;\n",
        "'''"
      ],
      "execution_count": 1,
      "outputs": [
        {
          "output_type": "execute_result",
          "data": {
            "text/plain": [
              "'\\nSELECT im2_tweets_depressive_nondepressive_balanced_rearranged.tweet\\nINTO OUTFILE \"D:/EDUCATION/Machine & Deep Learning/Implementations/Implementation 2/im2_tweets_depressive_nondepressive_balanced_rearranged_text.txt\" \\nFROM im2_tweets_depressive_nondepressive_balanced_rearranged;\\n'"
            ]
          },
          "metadata": {
            "tags": []
          },
          "execution_count": 1
        }
      ]
    },
    {
      "metadata": {
        "id": "JXrnZhl7htRj",
        "colab_type": "code",
        "colab": {}
      },
      "cell_type": "code",
      "source": [
        "import numpy as np\n",
        "import tensorflow as tf\n",
        "from timeit import default_timer as timer\n",
        "from collections import Counter\n",
        "from string import punctuation\n",
        "from google.colab import files"
      ],
      "execution_count": 0,
      "outputs": []
    },
    {
      "metadata": {
        "id": "diJRoCjmhtSo",
        "colab_type": "code",
        "colab": {}
      },
      "cell_type": "code",
      "source": [
        "# Build the graph::\n",
        "\n",
        "lstm_size = 128\n",
        "lstm_layers = 5\n",
        "batch_size = 10\n",
        "learning_rate = 0.0001\n",
        "epochs = 5"
      ],
      "execution_count": 0,
      "outputs": []
    },
    {
      "metadata": {
        "id": "0lFS6elMEfgI",
        "colab_type": "code",
        "colab": {
          "base_uri": "https://localhost:8080/",
          "height": 51
        },
        "outputId": "cb03f170-fbad-4c79-e53b-cf877cd25233"
      },
      "cell_type": "code",
      "source": [
        "fileName = \"2_with_stop\"\n",
        "checkpointName = \"checkpoints/\"+fileName+\".ckpt\"\n",
        "print(checkpointName)\n",
        "print(type(checkpointName))"
      ],
      "execution_count": 4,
      "outputs": [
        {
          "output_type": "stream",
          "text": [
            "checkpoints/2_with_stop.ckpt\n",
            "<class 'str'>\n"
          ],
          "name": "stdout"
        }
      ]
    },
    {
      "metadata": {
        "id": "0pyEXn3ahtRn",
        "colab_type": "code",
        "colab": {
          "resources": {
            "http://localhost:8080/nbextensions/google.colab/files.js": {
              "data": "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",
              "ok": true,
              "headers": [
                [
                  "content-type",
                  "application/javascript"
                ]
              ],
              "status": 200,
              "status_text": ""
            }
          },
          "base_uri": "https://localhost:8080/",
          "height": 147
        },
        "outputId": "186e3200-ec37-4a58-ab26-542268943a7f"
      },
      "cell_type": "code",
      "source": [
        "files.upload()\n",
        "files.upload()\n",
        "\n",
        "with open('2_tweets_depressive_nondepressive_balanced_rearranged_with_stop_char_text.txt', 'r', encoding=\"utf8\") as f:\n",
        "    tweets = f.read()\n",
        "with open('2_tweets_depressive_nondepressive_balanced_rearranged_with_stop_char_labels.txt', 'r', encoding=\"utf8\") as f:\n",
        "    labels_org = f.read()"
      ],
      "execution_count": 5,
      "outputs": [
        {
          "output_type": "display_data",
          "data": {
            "text/html": [
              "\n",
              "     <input type=\"file\" id=\"files-1d23e69d-4fd8-4075-9bca-fbd951ec5923\" name=\"files[]\" multiple disabled />\n",
              "     <output id=\"result-1d23e69d-4fd8-4075-9bca-fbd951ec5923\">\n",
              "      Upload widget is only available when the cell has been executed in the\n",
              "      current browser session. Please rerun this cell to enable.\n",
              "      </output>\n",
              "      <script src=\"/nbextensions/google.colab/files.js\"></script> "
            ],
            "text/plain": [
              "<IPython.core.display.HTML object>"
            ]
          },
          "metadata": {
            "tags": []
          }
        },
        {
          "output_type": "stream",
          "text": [
            "Saving 2_tweets_depressive_nondepressive_balanced_rearranged_with_stop_char_text.txt to 2_tweets_depressive_nondepressive_balanced_rearranged_with_stop_char_text.txt\n"
          ],
          "name": "stdout"
        },
        {
          "output_type": "display_data",
          "data": {
            "text/html": [
              "\n",
              "     <input type=\"file\" id=\"files-125be821-0ed1-4384-b11b-c6ae4a349185\" name=\"files[]\" multiple disabled />\n",
              "     <output id=\"result-125be821-0ed1-4384-b11b-c6ae4a349185\">\n",
              "      Upload widget is only available when the cell has been executed in the\n",
              "      current browser session. Please rerun this cell to enable.\n",
              "      </output>\n",
              "      <script src=\"/nbextensions/google.colab/files.js\"></script> "
            ],
            "text/plain": [
              "<IPython.core.display.HTML object>"
            ]
          },
          "metadata": {
            "tags": []
          }
        },
        {
          "output_type": "stream",
          "text": [
            "Saving 2_tweets_depressive_nondepressive_balanced_rearranged_with_stop_char_labels.txt to 2_tweets_depressive_nondepressive_balanced_rearranged_with_stop_char_labels.txt\n"
          ],
          "name": "stdout"
        }
      ]
    },
    {
      "metadata": {
        "id": "P0fFqqYnhtRr",
        "colab_type": "code",
        "colab": {}
      },
      "cell_type": "code",
      "source": [
        "# Data preprocessing::\n",
        "#all_text = ''.join([c for c in tweets if c not in punctuation])\n",
        "all_text = ''.join([c for c in tweets])\n",
        "tweets = all_text.split('\\n')\n",
        "\n",
        "all_text = ' '.join(tweets)\n",
        "words = all_text.split()"
      ],
      "execution_count": 0,
      "outputs": []
    },
    {
      "metadata": {
        "id": "Uit50WOLhtRv",
        "colab_type": "code",
        "colab": {}
      },
      "cell_type": "code",
      "source": [
        "counts = Counter(words)\n",
        "vocab = sorted(counts, key=counts.get, reverse=True)\n",
        "vocab_to_int = {word: ii for ii, word in enumerate(vocab, 1)}\n",
        "\n",
        "tweets_ints = []\n",
        "for each in tweets:\n",
        "    tweets_ints.append([vocab_to_int[word] for word in each.split()])"
      ],
      "execution_count": 0,
      "outputs": []
    },
    {
      "metadata": {
        "id": "paAYGzUJhtR1",
        "colab_type": "code",
        "colab": {
          "base_uri": "https://localhost:8080/",
          "height": 34
        },
        "outputId": "20973ffd-b85a-4c96-f04b-4e56f7925d07"
      },
      "cell_type": "code",
      "source": [
        "# Encoding the labels::\n",
        "list_labels = []\n",
        "\n",
        "for l in labels_org.split():\n",
        "    if l == \"depressive\":\n",
        "        list_labels.append(1)\n",
        "    else:\n",
        "        list_labels.append(0)\n",
        "        \n",
        "labels = np.array(list_labels)\n",
        "print(len(labels))"
      ],
      "execution_count": 8,
      "outputs": [
        {
          "output_type": "stream",
          "text": [
            "1968\n"
          ],
          "name": "stdout"
        }
      ]
    },
    {
      "metadata": {
        "id": "GeKWN9CMhtR9",
        "colab_type": "code",
        "colab": {
          "base_uri": "https://localhost:8080/",
          "height": 51
        },
        "outputId": "6a9cde97-06d9-4d59-f659-e933b2c668f7"
      },
      "cell_type": "code",
      "source": [
        "tweets_lens = Counter([len(x) for x in tweets_ints])\n",
        "print(\"Zero-length tweets: {}\".format(tweets_lens[0]))\n",
        "print(\"Maximum tweets length: {}\".format(max(tweets_lens)))"
      ],
      "execution_count": 9,
      "outputs": [
        {
          "output_type": "stream",
          "text": [
            "Zero-length tweets: 1\n",
            "Maximum tweets length: 55\n"
          ],
          "name": "stdout"
        }
      ]
    },
    {
      "metadata": {
        "id": "FdXT8XsshtSH",
        "colab_type": "code",
        "colab": {}
      },
      "cell_type": "code",
      "source": [
        "# Filter out that tweets with 0 length\n",
        "tweets_ints = [r[0:200] for r in tweets_ints if len(r) > 0]"
      ],
      "execution_count": 0,
      "outputs": []
    },
    {
      "metadata": {
        "id": "K90yCqVthtSP",
        "colab_type": "code",
        "colab": {
          "base_uri": "https://localhost:8080/",
          "height": 51
        },
        "outputId": "c0fed44f-9936-484e-bad3-f2374c9b8713"
      },
      "cell_type": "code",
      "source": [
        "from collections import Counter\n",
        "tweets_lens = Counter([len(x) for x in tweets_ints])\n",
        "print(\"Zero-length tweets: {}\".format(tweets_lens[0]))\n",
        "print(\"Maximum tweet length: {}\".format(max(tweets_lens)))"
      ],
      "execution_count": 11,
      "outputs": [
        {
          "output_type": "stream",
          "text": [
            "Zero-length tweets: 0\n",
            "Maximum tweet length: 55\n"
          ],
          "name": "stdout"
        }
      ]
    },
    {
      "metadata": {
        "id": "E0ho7v8rhtSe",
        "colab_type": "code",
        "colab": {}
      },
      "cell_type": "code",
      "source": [
        "seq_len = 200\n",
        "features = np.zeros((len(tweets_ints), seq_len), dtype=int)\n",
        "# print(features[:10,:100])\n",
        "for i, row in enumerate(tweets_ints):\n",
        "    features[i, -len(row):] = np.array(row)[:seq_len]\n",
        "#features[:10,:100]"
      ],
      "execution_count": 0,
      "outputs": []
    },
    {
      "metadata": {
        "id": "O5CpSFqyhtSj",
        "colab_type": "code",
        "colab": {
          "base_uri": "https://localhost:8080/",
          "height": 136
        },
        "outputId": "0179c26e-e33f-482b-806e-894a06c1b1de"
      },
      "cell_type": "code",
      "source": [
        "split_frac = 0.8\n",
        "\n",
        "split_index = int(split_frac * len(features))\n",
        "\n",
        "train_x, val_x = features[:split_index], features[split_index:] \n",
        "train_y, val_y = labels[:split_index], labels[split_index:]\n",
        "\n",
        "split_frac = 0.5\n",
        "split_index = int(split_frac * len(val_x))\n",
        "\n",
        "val_x, test_x = val_x[:split_index], val_x[split_index:]\n",
        "val_y, test_y = val_y[:split_index], val_y[split_index:]\n",
        "\n",
        "print(\"\\t\\t\\tFeature Shapes:\")\n",
        "print(\"Train set: \\t\\t{}\".format(train_x.shape), \n",
        "      \"\\nValidation set: \\t{}\".format(val_x.shape),\n",
        "      \"\\nTest set: \\t\\t{}\".format(test_x.shape))\n",
        "print(\"label set: \\t\\t{}\".format(train_y.shape), \n",
        "      \"\\nValidation label set: \\t{}\".format(val_y.shape),\n",
        "      \"\\nTest label set: \\t\\t{}\".format(test_y.shape))"
      ],
      "execution_count": 13,
      "outputs": [
        {
          "output_type": "stream",
          "text": [
            "\t\t\tFeature Shapes:\n",
            "Train set: \t\t(1574, 200) \n",
            "Validation set: \t(197, 200) \n",
            "Test set: \t\t(197, 200)\n",
            "label set: \t\t(1574,) \n",
            "Validation label set: \t(197,) \n",
            "Test label set: \t\t(197,)\n"
          ],
          "name": "stdout"
        }
      ]
    },
    {
      "metadata": {
        "id": "1rJDL5UxhtSr",
        "colab_type": "code",
        "colab": {}
      },
      "cell_type": "code",
      "source": [
        "n_words = len(vocab_to_int) + 1 # Add 1 for 0 added to vocab\n",
        "\n",
        "# Create the graph object\n",
        "tf.reset_default_graph()\n",
        "with tf.name_scope('inputs'):\n",
        "    inputs_ = tf.placeholder(tf.int32, [None, None], name=\"inputs\")\n",
        "    labels_ = tf.placeholder(tf.int32, [None, None], name=\"labels\")\n",
        "    keep_prob = tf.placeholder(tf.float32, name=\"keep_prob\")"
      ],
      "execution_count": 0,
      "outputs": []
    },
    {
      "metadata": {
        "id": "-65iAhMthtSu",
        "colab_type": "code",
        "colab": {}
      },
      "cell_type": "code",
      "source": [
        "# Size of the embedding vectors (number of units in the embedding layer)\n",
        "embed_size = 300 \n",
        "\n",
        "with tf.name_scope(\"Embeddings\"):\n",
        "    embedding = tf.Variable(tf.random_uniform((n_words, embed_size), -1, 1))\n",
        "    embed = tf.nn.embedding_lookup(embedding, inputs_)"
      ],
      "execution_count": 0,
      "outputs": []
    },
    {
      "metadata": {
        "id": "nrXsegSyhtS0",
        "colab_type": "code",
        "colab": {
          "base_uri": "https://localhost:8080/",
          "height": 88
        },
        "outputId": "8294d3f9-3b15-449e-c9a7-dffcc2cefef0"
      },
      "cell_type": "code",
      "source": [
        "def lstm_cell():\n",
        "    # Your basic LSTM cell\n",
        "    lstm = tf.contrib.rnn.BasicLSTMCell(lstm_size, reuse=tf.get_variable_scope().reuse)\n",
        "    # Add dropout to the cell\n",
        "    return tf.contrib.rnn.DropoutWrapper(lstm, output_keep_prob=keep_prob)\n",
        "\n",
        "with tf.name_scope(\"RNN_layers\"):\n",
        "    # Stack up multiple LSTM layers, for deep learning\n",
        "    cell = tf.contrib.rnn.MultiRNNCell([lstm_cell() for _ in range(lstm_layers)])\n",
        "    \n",
        "    # Getting an initial state of all zeros\n",
        "    initial_state = cell.zero_state(batch_size, tf.float32)"
      ],
      "execution_count": 16,
      "outputs": [
        {
          "output_type": "stream",
          "text": [
            "WARNING:tensorflow:From <ipython-input-16-678741cf60df>:3: BasicLSTMCell.__init__ (from tensorflow.python.ops.rnn_cell_impl) is deprecated and will be removed in a future version.\n",
            "Instructions for updating:\n",
            "This class is deprecated, please use tf.nn.rnn_cell.LSTMCell, which supports all the feature this cell currently has. Please replace the existing code with tf.nn.rnn_cell.LSTMCell(name='basic_lstm_cell').\n"
          ],
          "name": "stdout"
        }
      ]
    },
    {
      "metadata": {
        "id": "t4C4Ozc8htS5",
        "colab_type": "code",
        "colab": {}
      },
      "cell_type": "code",
      "source": [
        "with tf.name_scope(\"RNN_forward\"):\n",
        "    outputs, final_state = tf.nn.dynamic_rnn(cell, embed, initial_state=initial_state)"
      ],
      "execution_count": 0,
      "outputs": []
    },
    {
      "metadata": {
        "id": "2sRuyAXlhtTB",
        "colab_type": "code",
        "colab": {}
      },
      "cell_type": "code",
      "source": [
        "# Output::\n",
        "\n",
        "with tf.name_scope('predictions'):\n",
        "    predictions = tf.contrib.layers.fully_connected(outputs[:, -1], 1, activation_fn=tf.sigmoid)\n",
        "    tf.summary.histogram('predictions', predictions)\n",
        "with tf.name_scope('cost'):\n",
        "    cost = tf.losses.mean_squared_error(labels_, predictions)\n",
        "    tf.summary.scalar('cost', cost)\n",
        "\n",
        "with tf.name_scope('train'):\n",
        "    optimizer = tf.train.AdamOptimizer(learning_rate).minimize(cost)\n",
        "\n",
        "merged = tf.summary.merge_all()"
      ],
      "execution_count": 0,
      "outputs": []
    },
    {
      "metadata": {
        "id": "j2NBBBEYhtTI",
        "colab_type": "code",
        "colab": {}
      },
      "cell_type": "code",
      "source": [
        "# Validation accuracy::\n",
        "\n",
        "with tf.name_scope('validation'):\n",
        "    correct_pred = tf.equal(tf.cast(tf.round(predictions), tf.int32), labels_)\n",
        "    accuracy = tf.reduce_mean(tf.cast(correct_pred, tf.float32))"
      ],
      "execution_count": 0,
      "outputs": []
    },
    {
      "metadata": {
        "id": "n3NgTZgehtTN",
        "colab_type": "code",
        "colab": {}
      },
      "cell_type": "code",
      "source": [
        "# Batching::\n",
        "\n",
        "def get_batches(x, y, batch_size=100):\n",
        "    \n",
        "    n_batches = len(x)//batch_size\n",
        "    x, y = x[:n_batches*batch_size], y[:n_batches*batch_size]\n",
        "    for ii in range(0, len(x), batch_size):\n",
        "        yield x[ii:ii+batch_size], y[ii:ii+batch_size]"
      ],
      "execution_count": 0,
      "outputs": []
    },
    {
      "metadata": {
        "id": "JM9KclkLhtTT",
        "colab_type": "code",
        "colab": {
          "base_uri": "https://localhost:8080/",
          "height": 3230
        },
        "outputId": "0284c02f-2d9a-4ac3-9809-a76a08363bdc"
      },
      "cell_type": "code",
      "source": [
        "# Training::\n",
        "\n",
        "#epochs = 5\n",
        "saver = tf.train.Saver()\n",
        "start = timer()\n",
        "\n",
        "with tf.Session() as sess:\n",
        "    sess.run(tf.global_variables_initializer())\n",
        "    train_writer = tf.summary.FileWriter('./logs/tb/train', sess.graph)\n",
        "    test_writer = tf.summary.FileWriter('./logs/tb/test', sess.graph)\n",
        "    iteration = 1\n",
        "    for e in range(1, epochs+1):\n",
        "        state = sess.run(initial_state)\n",
        "        \n",
        "        for ii, (x, y) in enumerate(get_batches(train_x, train_y, batch_size), 1):\n",
        "            feed = {inputs_: x,\n",
        "                    labels_: y[:, None],\n",
        "                    keep_prob: 0.5,\n",
        "                    initial_state: state}\n",
        "            summary, loss, state, _ = sess.run([merged, cost, final_state, optimizer], feed_dict=feed)\n",
        "#             loss, state, _ = sess.run([cost, final_state, optimizer], feed_dict=feed)\n",
        "\n",
        "            train_writer.add_summary(summary, iteration)\n",
        "        \n",
        "            if iteration%5==0:\n",
        "                print(\"Epoch: {}/{}\".format(e, epochs),\n",
        "                      \"Iteration: {}\".format(iteration),\n",
        "                      \"Train loss: {:.3f}\".format(loss))\n",
        "\n",
        "            if iteration%25==0:\n",
        "                val_acc = []\n",
        "                val_state = sess.run(cell.zero_state(batch_size, tf.float32))\n",
        "                for x, y in get_batches(val_x, val_y, batch_size):\n",
        "                    feed = {inputs_: x,\n",
        "                            labels_: y[:, None],\n",
        "                            keep_prob: 1,\n",
        "                            initial_state: val_state}\n",
        "#                     batch_acc, val_state = sess.run([accuracy, final_state], feed_dict=feed)\n",
        "                    summary, batch_acc, val_state = sess.run([merged, accuracy, final_state], feed_dict=feed)\n",
        "                    val_acc.append(batch_acc)\n",
        "                print(\"Val acc: {:.3f}\".format(np.mean(val_acc)))\n",
        "            iteration +=1\n",
        "            test_writer.add_summary(summary, iteration)\n",
        "            saver.save(sess, checkpointName)\n",
        "#            tensorboard = TensorBoard(log_dir=\"logs/tweet_5000_all_sentiments_six_classes-{}\".format(int(time.time())))\n",
        "    saver.save(sess, checkpointName)\n",
        "    \n",
        "duration = timer() - start\n",
        "print('Time elasped =',duration,'sec(s)')"
      ],
      "execution_count": 21,
      "outputs": [
        {
          "output_type": "stream",
          "text": [
            "Epoch: 1/5 Iteration: 5 Train loss: 0.251\n",
            "Epoch: 1/5 Iteration: 10 Train loss: 0.252\n",
            "Epoch: 1/5 Iteration: 15 Train loss: 0.260\n",
            "Epoch: 1/5 Iteration: 20 Train loss: 0.245\n",
            "Epoch: 1/5 Iteration: 25 Train loss: 0.252\n",
            "Val acc: 0.521\n",
            "Epoch: 1/5 Iteration: 30 Train loss: 0.251\n",
            "Epoch: 1/5 Iteration: 35 Train loss: 0.243\n",
            "Epoch: 1/5 Iteration: 40 Train loss: 0.249\n",
            "Epoch: 1/5 Iteration: 45 Train loss: 0.254\n",
            "Epoch: 1/5 Iteration: 50 Train loss: 0.244\n",
            "Val acc: 0.553\n",
            "Epoch: 1/5 Iteration: 55 Train loss: 0.239\n",
            "Epoch: 1/5 Iteration: 60 Train loss: 0.246\n",
            "Epoch: 1/5 Iteration: 65 Train loss: 0.256\n",
            "Epoch: 1/5 Iteration: 70 Train loss: 0.255\n",
            "Epoch: 1/5 Iteration: 75 Train loss: 0.246\n",
            "Val acc: 0.547\n",
            "Epoch: 1/5 Iteration: 80 Train loss: 0.252\n",
            "Epoch: 1/5 Iteration: 85 Train loss: 0.232\n",
            "Epoch: 1/5 Iteration: 90 Train loss: 0.258\n",
            "Epoch: 1/5 Iteration: 95 Train loss: 0.240\n",
            "Epoch: 1/5 Iteration: 100 Train loss: 0.244\n",
            "Val acc: 0.563\n",
            "Epoch: 1/5 Iteration: 105 Train loss: 0.243\n",
            "Epoch: 1/5 Iteration: 110 Train loss: 0.251\n",
            "Epoch: 1/5 Iteration: 115 Train loss: 0.250\n",
            "Epoch: 1/5 Iteration: 120 Train loss: 0.222\n",
            "Epoch: 1/5 Iteration: 125 Train loss: 0.240\n",
            "Val acc: 0.568\n",
            "Epoch: 1/5 Iteration: 130 Train loss: 0.242\n",
            "Epoch: 1/5 Iteration: 135 Train loss: 0.241\n",
            "Epoch: 1/5 Iteration: 140 Train loss: 0.247\n",
            "Epoch: 1/5 Iteration: 145 Train loss: 0.274\n",
            "Epoch: 1/5 Iteration: 150 Train loss: 0.227\n",
            "Val acc: 0.600\n",
            "Epoch: 1/5 Iteration: 155 Train loss: 0.227\n",
            "Epoch: 2/5 Iteration: 160 Train loss: 0.269\n",
            "Epoch: 2/5 Iteration: 165 Train loss: 0.225\n",
            "Epoch: 2/5 Iteration: 170 Train loss: 0.243\n",
            "Epoch: 2/5 Iteration: 175 Train loss: 0.229\n",
            "Val acc: 0.611\n",
            "Epoch: 2/5 Iteration: 180 Train loss: 0.218\n",
            "Epoch: 2/5 Iteration: 185 Train loss: 0.262\n",
            "Epoch: 2/5 Iteration: 190 Train loss: 0.248\n",
            "Epoch: 2/5 Iteration: 195 Train loss: 0.250\n",
            "Epoch: 2/5 Iteration: 200 Train loss: 0.253\n",
            "Val acc: 0.600\n",
            "Epoch: 2/5 Iteration: 205 Train loss: 0.248\n",
            "Epoch: 2/5 Iteration: 210 Train loss: 0.266\n",
            "Epoch: 2/5 Iteration: 215 Train loss: 0.252\n",
            "Epoch: 2/5 Iteration: 220 Train loss: 0.266\n",
            "Epoch: 2/5 Iteration: 225 Train loss: 0.245\n",
            "Val acc: 0.605\n",
            "Epoch: 2/5 Iteration: 230 Train loss: 0.215\n",
            "Epoch: 2/5 Iteration: 235 Train loss: 0.258\n",
            "Epoch: 2/5 Iteration: 240 Train loss: 0.249\n",
            "Epoch: 2/5 Iteration: 245 Train loss: 0.264\n",
            "Epoch: 2/5 Iteration: 250 Train loss: 0.236\n",
            "Val acc: 0.605\n",
            "Epoch: 2/5 Iteration: 255 Train loss: 0.199\n",
            "Epoch: 2/5 Iteration: 260 Train loss: 0.269\n",
            "Epoch: 2/5 Iteration: 265 Train loss: 0.251\n",
            "Epoch: 2/5 Iteration: 270 Train loss: 0.205\n",
            "Epoch: 2/5 Iteration: 275 Train loss: 0.228\n",
            "Val acc: 0.616\n",
            "Epoch: 2/5 Iteration: 280 Train loss: 0.250\n",
            "Epoch: 2/5 Iteration: 285 Train loss: 0.236\n",
            "Epoch: 2/5 Iteration: 290 Train loss: 0.250\n",
            "Epoch: 2/5 Iteration: 295 Train loss: 0.278\n",
            "Epoch: 2/5 Iteration: 300 Train loss: 0.253\n",
            "Val acc: 0.626\n",
            "Epoch: 2/5 Iteration: 305 Train loss: 0.249\n",
            "Epoch: 2/5 Iteration: 310 Train loss: 0.248\n",
            "Epoch: 3/5 Iteration: 315 Train loss: 0.223\n",
            "Epoch: 3/5 Iteration: 320 Train loss: 0.192\n",
            "Epoch: 3/5 Iteration: 325 Train loss: 0.241\n",
            "Val acc: 0.616\n",
            "Epoch: 3/5 Iteration: 330 Train loss: 0.260\n",
            "Epoch: 3/5 Iteration: 335 Train loss: 0.194\n",
            "Epoch: 3/5 Iteration: 340 Train loss: 0.233\n",
            "Epoch: 3/5 Iteration: 345 Train loss: 0.206\n",
            "Epoch: 3/5 Iteration: 350 Train loss: 0.183\n",
            "Val acc: 0.574\n",
            "Epoch: 3/5 Iteration: 355 Train loss: 0.175\n",
            "Epoch: 3/5 Iteration: 360 Train loss: 0.196\n",
            "Epoch: 3/5 Iteration: 365 Train loss: 0.230\n",
            "Epoch: 3/5 Iteration: 370 Train loss: 0.191\n",
            "Epoch: 3/5 Iteration: 375 Train loss: 0.325\n",
            "Val acc: 0.568\n",
            "Epoch: 3/5 Iteration: 380 Train loss: 0.210\n",
            "Epoch: 3/5 Iteration: 385 Train loss: 0.221\n",
            "Epoch: 3/5 Iteration: 390 Train loss: 0.249\n",
            "Epoch: 3/5 Iteration: 395 Train loss: 0.205\n",
            "Epoch: 3/5 Iteration: 400 Train loss: 0.200\n",
            "Val acc: 0.663\n",
            "Epoch: 3/5 Iteration: 405 Train loss: 0.220\n",
            "Epoch: 3/5 Iteration: 410 Train loss: 0.190\n",
            "Epoch: 3/5 Iteration: 415 Train loss: 0.211\n",
            "Epoch: 3/5 Iteration: 420 Train loss: 0.240\n",
            "Epoch: 3/5 Iteration: 425 Train loss: 0.310\n",
            "Val acc: 0.684\n",
            "Epoch: 3/5 Iteration: 430 Train loss: 0.276\n",
            "Epoch: 3/5 Iteration: 435 Train loss: 0.174\n",
            "Epoch: 3/5 Iteration: 440 Train loss: 0.216\n",
            "Epoch: 3/5 Iteration: 445 Train loss: 0.197\n",
            "Epoch: 3/5 Iteration: 450 Train loss: 0.336\n",
            "Val acc: 0.689\n",
            "Epoch: 3/5 Iteration: 455 Train loss: 0.208\n",
            "Epoch: 3/5 Iteration: 460 Train loss: 0.210\n",
            "Epoch: 3/5 Iteration: 465 Train loss: 0.200\n",
            "Epoch: 3/5 Iteration: 470 Train loss: 0.140\n",
            "Epoch: 4/5 Iteration: 475 Train loss: 0.136\n",
            "Val acc: 0.668\n",
            "Epoch: 4/5 Iteration: 480 Train loss: 0.174\n",
            "Epoch: 4/5 Iteration: 485 Train loss: 0.177\n",
            "Epoch: 4/5 Iteration: 490 Train loss: 0.079\n",
            "Epoch: 4/5 Iteration: 495 Train loss: 0.194\n",
            "Epoch: 4/5 Iteration: 500 Train loss: 0.240\n",
            "Val acc: 0.642\n",
            "Epoch: 4/5 Iteration: 505 Train loss: 0.238\n",
            "Epoch: 4/5 Iteration: 510 Train loss: 0.275\n",
            "Epoch: 4/5 Iteration: 515 Train loss: 0.222\n",
            "Epoch: 4/5 Iteration: 520 Train loss: 0.135\n",
            "Epoch: 4/5 Iteration: 525 Train loss: 0.108\n",
            "Val acc: 0.658\n",
            "Epoch: 4/5 Iteration: 530 Train loss: 0.144\n",
            "Epoch: 4/5 Iteration: 535 Train loss: 0.180\n",
            "Epoch: 4/5 Iteration: 540 Train loss: 0.128\n",
            "Epoch: 4/5 Iteration: 545 Train loss: 0.302\n",
            "Epoch: 4/5 Iteration: 550 Train loss: 0.233\n",
            "Val acc: 0.679\n",
            "Epoch: 4/5 Iteration: 555 Train loss: 0.221\n",
            "Epoch: 4/5 Iteration: 560 Train loss: 0.213\n",
            "Epoch: 4/5 Iteration: 565 Train loss: 0.162\n",
            "Epoch: 4/5 Iteration: 570 Train loss: 0.194\n",
            "Epoch: 4/5 Iteration: 575 Train loss: 0.186\n",
            "Val acc: 0.721\n",
            "Epoch: 4/5 Iteration: 580 Train loss: 0.238\n",
            "Epoch: 4/5 Iteration: 585 Train loss: 0.212\n",
            "Epoch: 4/5 Iteration: 590 Train loss: 0.132\n",
            "Epoch: 4/5 Iteration: 595 Train loss: 0.188\n",
            "Epoch: 4/5 Iteration: 600 Train loss: 0.144\n",
            "Val acc: 0.726\n",
            "Epoch: 4/5 Iteration: 605 Train loss: 0.125\n",
            "Epoch: 4/5 Iteration: 610 Train loss: 0.247\n",
            "Epoch: 4/5 Iteration: 615 Train loss: 0.064\n",
            "Epoch: 4/5 Iteration: 620 Train loss: 0.230\n",
            "Epoch: 4/5 Iteration: 625 Train loss: 0.252\n",
            "Val acc: 0.726\n",
            "Epoch: 5/5 Iteration: 630 Train loss: 0.210\n",
            "Epoch: 5/5 Iteration: 635 Train loss: 0.127\n",
            "Epoch: 5/5 Iteration: 640 Train loss: 0.153\n",
            "Epoch: 5/5 Iteration: 645 Train loss: 0.098\n",
            "Epoch: 5/5 Iteration: 650 Train loss: 0.078\n",
            "Val acc: 0.632\n",
            "Epoch: 5/5 Iteration: 655 Train loss: 0.179\n",
            "Epoch: 5/5 Iteration: 660 Train loss: 0.098\n",
            "Epoch: 5/5 Iteration: 665 Train loss: 0.251\n",
            "Epoch: 5/5 Iteration: 670 Train loss: 0.094\n",
            "Epoch: 5/5 Iteration: 675 Train loss: 0.102\n",
            "Val acc: 0.737\n",
            "Epoch: 5/5 Iteration: 680 Train loss: 0.177\n",
            "Epoch: 5/5 Iteration: 685 Train loss: 0.293\n",
            "Epoch: 5/5 Iteration: 690 Train loss: 0.130\n",
            "Epoch: 5/5 Iteration: 695 Train loss: 0.307\n",
            "Epoch: 5/5 Iteration: 700 Train loss: 0.110\n",
            "Val acc: 0.747\n",
            "Epoch: 5/5 Iteration: 705 Train loss: 0.153\n",
            "Epoch: 5/5 Iteration: 710 Train loss: 0.261\n",
            "Epoch: 5/5 Iteration: 715 Train loss: 0.135\n",
            "Epoch: 5/5 Iteration: 720 Train loss: 0.182\n",
            "Epoch: 5/5 Iteration: 725 Train loss: 0.142\n",
            "Val acc: 0.768\n",
            "Epoch: 5/5 Iteration: 730 Train loss: 0.162\n",
            "Epoch: 5/5 Iteration: 735 Train loss: 0.120\n",
            "Epoch: 5/5 Iteration: 740 Train loss: 0.197\n",
            "Epoch: 5/5 Iteration: 745 Train loss: 0.146\n",
            "Epoch: 5/5 Iteration: 750 Train loss: 0.317\n",
            "Val acc: 0.768\n",
            "Epoch: 5/5 Iteration: 755 Train loss: 0.167\n",
            "Epoch: 5/5 Iteration: 760 Train loss: 0.169\n",
            "Epoch: 5/5 Iteration: 765 Train loss: 0.044\n",
            "Epoch: 5/5 Iteration: 770 Train loss: 0.111\n",
            "Epoch: 5/5 Iteration: 775 Train loss: 0.161\n",
            "Val acc: 0.763\n",
            "Epoch: 5/5 Iteration: 780 Train loss: 0.249\n",
            "Epoch: 5/5 Iteration: 785 Train loss: 0.101\n",
            "Time elasped = 1526.644944133 sec(s)\n"
          ],
          "name": "stdout"
        }
      ]
    },
    {
      "metadata": {
        "id": "VbB608oJhtTZ",
        "colab_type": "code",
        "colab": {
          "base_uri": "https://localhost:8080/",
          "height": 51
        },
        "outputId": "74a0301a-8567-4af9-947b-333dbbf68df2"
      },
      "cell_type": "code",
      "source": [
        "# Testing::\n",
        "\n",
        "test_acc = []\n",
        "with tf.Session() as sess:\n",
        "    saver.restore(sess, checkpointName)\n",
        "    test_state = sess.run(cell.zero_state(batch_size, tf.float32))\n",
        "    for ii, (x, y) in enumerate(get_batches(test_x, test_y, batch_size), 1):\n",
        "        feed = {inputs_: x,\n",
        "                labels_: y[:, None],\n",
        "                keep_prob: 1,\n",
        "                initial_state: test_state}\n",
        "        batch_acc, test_state = sess.run([accuracy, final_state], feed_dict=feed)\n",
        "        test_acc.append(batch_acc)\n",
        "    print(\"Test accuracy: {:.3f}\".format(np.mean(test_acc)))"
      ],
      "execution_count": 22,
      "outputs": [
        {
          "output_type": "stream",
          "text": [
            "INFO:tensorflow:Restoring parameters from checkpoints/2_with_stop.ckpt\n",
            "Test accuracy: 0.789\n"
          ],
          "name": "stdout"
        }
      ]
    },
    {
      "metadata": {
        "id": "W1zLME1whtTf",
        "colab_type": "code",
        "colab": {}
      },
      "cell_type": "code",
      "source": [
        ""
      ],
      "execution_count": 0,
      "outputs": []
    }
  ]
}