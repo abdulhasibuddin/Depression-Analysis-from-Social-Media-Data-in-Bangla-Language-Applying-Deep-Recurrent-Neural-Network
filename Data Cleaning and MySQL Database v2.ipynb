{
 "cells": [
  {
   "cell_type": "raw",
   "metadata": {},
   "source": [
    " Data Cleaning::"
   ]
  },
  {
   "cell_type": "code",
   "execution_count": 1,
   "metadata": {},
   "outputs": [],
   "source": [
    "import csv\n",
    "from openpyxl import Workbook\n",
    "from openpyxl import load_workbook"
   ]
  },
  {
   "cell_type": "raw",
   "metadata": {},
   "source": [
    " White list of characters::"
   ]
  },
  {
   "cell_type": "code",
   "execution_count": 2,
   "metadata": {},
   "outputs": [],
   "source": [
    "white_list = ['অ','আ','ই','ঈ','উ','ঊ','ঋ','এ','ঐ','ও','ঔ','ক','খ','গ','ঘ','ঙ','চ','ছ','জ','ঝ','ঞ','ট','ঠ','ড',\n",
    "              'ঢ','ণ','ত','থ','দ','ধ','ন','প','ফ','ব','ভ','ম','য','র','ল','শ','ষ','স','হ','ড়','ঢ়','য়','ৎ','ক্ষ',\n",
    "              'ঁ','ং','ঃ','়','া','ি','ী','ু','ূ','ৃ','ৄ','ে','ৈ','ো','ৌ','্','ৗ','ৠ','ৢ','ৣ','ৰ','ৱ','০','১','২',\n",
    "              '৩','৪','৫','৬','৭','৮','৯','।','?','!',',',':',';','-',' ']"
   ]
  },
  {
   "cell_type": "code",
   "execution_count": 3,
   "metadata": {},
   "outputs": [],
   "source": [
    "special_char_list = ['।','?','!',',',':',';','-',' ']"
   ]
  },
  {
   "cell_type": "code",
   "execution_count": 4,
   "metadata": {},
   "outputs": [],
   "source": [
    "wb = Workbook()"
   ]
  },
  {
   "cell_type": "code",
   "execution_count": 5,
   "metadata": {},
   "outputs": [],
   "source": [
    "path = 'D:\\EDUCATION\\Deep Learning\\Jupyter Notebook\\Twitter Bangla Collection\\Tweets_July_Bangla_Raw\\\\'"
   ]
  },
  {
   "cell_type": "code",
   "execution_count": 6,
   "metadata": {},
   "outputs": [],
   "source": [
    "file_name = 'Tweet_July_2018_1'"
   ]
  },
  {
   "cell_type": "code",
   "execution_count": 7,
   "metadata": {},
   "outputs": [],
   "source": [
    "file_extension = '.xlsx'"
   ]
  },
  {
   "cell_type": "code",
   "execution_count": 8,
   "metadata": {},
   "outputs": [],
   "source": [
    "tweet_year = '2018'"
   ]
  },
  {
   "cell_type": "code",
   "execution_count": 9,
   "metadata": {},
   "outputs": [],
   "source": [
    "wb = load_workbook(path+file_name+file_extension)"
   ]
  },
  {
   "cell_type": "code",
   "execution_count": 10,
   "metadata": {},
   "outputs": [],
   "source": [
    "ws = wb.active"
   ]
  },
  {
   "cell_type": "code",
   "execution_count": 11,
   "metadata": {},
   "outputs": [],
   "source": [
    "tuple_cells = ws['A']"
   ]
  },
  {
   "cell_type": "code",
   "execution_count": 12,
   "metadata": {},
   "outputs": [],
   "source": [
    "clean_values = []\n",
    "for cell_num in range(1, len(tuple_cells)+1):\n",
    "    cell_date = 'A'+str(cell_num)\n",
    "    cell_tweet = 'B'+str(cell_num)\n",
    "    filtered_string = ''\n",
    "    skip_space_before_special_char = False\n",
    "    \n",
    "    if ws[cell_tweet].value is not None:        \n",
    "        #Tweet data cleaning::\n",
    "        multi_same_special_char = ''\n",
    "        for char in ws[cell_tweet].value:\n",
    "            if char in white_list and char not in special_char_list and multi_same_special_char!=' ' and\\\n",
    "            multi_same_special_char in special_char_list:\n",
    "                filtered_string += ' '\n",
    "                filtered_string += char\n",
    "                multi_same_special_char = ''\n",
    "            elif char in white_list and char not in special_char_list:\n",
    "                filtered_string += char\n",
    "                multi_same_special_char = ''\n",
    "            elif char in special_char_list and char!=multi_same_special_char:\n",
    "                filtered_string += char\n",
    "                multi_same_special_char = char\n",
    "            elif char==multi_same_special_char:\n",
    "                continue\n",
    "            elif char is '\\n' and multi_same_special_char in special_char_list and multi_same_special_char!=' ':\n",
    "                filtered_string += ' '\n",
    "                multi_same_special_char = ' '\n",
    "            elif char is '\\n' and (multi_same_special_char=='' or multi_same_special_char==' '):\n",
    "                filtered_string += '; '\n",
    "                multi_same_special_char = ' '\n",
    "                \n",
    "        filtered_string = filtered_string.replace(' ;', ';')\n",
    "        \n",
    "        #Date formatting::\n",
    "        date = ''\n",
    "        for char in ws[cell_date].value:\n",
    "            if char==' ':\n",
    "                date += '-'\n",
    "            else:\n",
    "                date += char\n",
    "        date = date + '-' + tweet_year\n",
    "        \n",
    "        clean_values.append((date, filtered_string))"
   ]
  },
  {
   "cell_type": "code",
   "execution_count": 13,
   "metadata": {},
   "outputs": [
    {
     "name": "stdout",
     "output_type": "stream",
     "text": [
      "('Jul-30-2018', 'ইদানীং মনে হয় এত কষ্ট কইরা এদের এত মিথ্যা বলার দরকারটা কি?; কইলেই হয় যা করসি, করসি। পারলে ঠ্যাকা নাইলে অফ যা। বাস্তবে তো তাই হইতেসে।') \n",
      " ('Jul-22-2018', 'এক্সকিউজমি; সাইডপ্লিজ; এই মাত্রই ল্যান্ডিং খেয়েছে আমার দু চোখের পাতায় গভীর ঘুম; শুভরাত্রি')\n"
     ]
    }
   ],
   "source": [
    "i = 100\n",
    "print(clean_values[i],'\\n',clean_values[-1*i])"
   ]
  },
  {
   "cell_type": "raw",
   "metadata": {},
   "source": [
    "Inserting clean data in MySQL Database::"
   ]
  },
  {
   "cell_type": "code",
   "execution_count": 14,
   "metadata": {},
   "outputs": [],
   "source": [
    "import mysql.connector"
   ]
  },
  {
   "cell_type": "code",
   "execution_count": 15,
   "metadata": {},
   "outputs": [],
   "source": [
    "host_name = 'localhost'\n",
    "username = 'root'\n",
    "password = ''\n",
    "database = 'sentimentdb'"
   ]
  },
  {
   "cell_type": "code",
   "execution_count": 16,
   "metadata": {},
   "outputs": [
    {
     "name": "stdout",
     "output_type": "stream",
     "text": [
      "<mysql.connector.connection.MySQLConnection object at 0x0000021F5FDD1048>\n"
     ]
    }
   ],
   "source": [
    "mydb = mysql.connector.Connect(host=host_name, user=username, passwd=password)\n",
    "print(mydb)"
   ]
  },
  {
   "cell_type": "code",
   "execution_count": 17,
   "metadata": {},
   "outputs": [
    {
     "name": "stdout",
     "output_type": "stream",
     "text": [
      "MySQLCursor: (Nothing executed yet)\n"
     ]
    }
   ],
   "source": [
    "mycursor = mydb.cursor()\n",
    "print(mycursor)"
   ]
  },
  {
   "cell_type": "code",
   "execution_count": 18,
   "metadata": {},
   "outputs": [],
   "source": [
    "sql = 'CREATE DATABASE IF NOT EXISTS ' + database"
   ]
  },
  {
   "cell_type": "code",
   "execution_count": 19,
   "metadata": {},
   "outputs": [],
   "source": [
    "mycursor.execute(sql)"
   ]
  },
  {
   "cell_type": "code",
   "execution_count": 20,
   "metadata": {},
   "outputs": [],
   "source": [
    "sql = 'USE ' + database"
   ]
  },
  {
   "cell_type": "code",
   "execution_count": 21,
   "metadata": {},
   "outputs": [],
   "source": [
    "mycursor.execute(sql)"
   ]
  },
  {
   "cell_type": "code",
   "execution_count": 22,
   "metadata": {},
   "outputs": [],
   "source": [
    "sql = '''CREATE TABLE IF NOT EXISTS tweets (\n",
    "    tweet_id INT AUTO_INCREMENT PRIMARY KEY,\n",
    "    label_1 VARCHAR(100),\n",
    "    label_2 VARCHAR(100),\n",
    "    tweet TEXT NOT NULL,\n",
    "    tweet_date VARCHAR(20) NOT NULL,\n",
    "    labeller_1 INT,\n",
    "    labeller_2 INT,\n",
    "    labeling_date_1 TIMESTAMP ON UPDATE CURRENT_TIMESTAMP,\n",
    "    labeling_date_2 TIMESTAMP ON UPDATE CURRENT_TIMESTAMP\n",
    "    )CHARACTER SET utf8 COLLATE utf8_general_ci\n",
    "'''"
   ]
  },
  {
   "cell_type": "code",
   "execution_count": 23,
   "metadata": {},
   "outputs": [],
   "source": [
    "mycursor.execute(sql)"
   ]
  },
  {
   "cell_type": "code",
   "execution_count": 24,
   "metadata": {},
   "outputs": [],
   "source": [
    "sql = 'INSERT INTO tweets (tweet_date, tweet) VALUES (%s, %s)'"
   ]
  },
  {
   "cell_type": "code",
   "execution_count": 25,
   "metadata": {},
   "outputs": [
    {
     "name": "stdout",
     "output_type": "stream",
     "text": [
      "9998 rows have been insetred!\n"
     ]
    }
   ],
   "source": [
    "total_inserted_rows = 0\n",
    "for value in clean_values:\n",
    "    mycursor.execute(sql, value)\n",
    "    total_inserted_rows += 1\n",
    "mydb.commit()\n",
    "print(total_inserted_rows, 'rows have been insetred!')"
   ]
  },
  {
   "cell_type": "code",
   "execution_count": 26,
   "metadata": {},
   "outputs": [
    {
     "name": "stdout",
     "output_type": "stream",
     "text": [
      "Total no. of rows = 9998\n"
     ]
    }
   ],
   "source": [
    "sql = 'SELECT COUNT(*) FROM tweets'\n",
    "mycursor.execute(sql)\n",
    "total_entry = mycursor.fetchall()\n",
    "print('Total no. of rows =', total_entry[0][0])"
   ]
  },
  {
   "cell_type": "code",
   "execution_count": 27,
   "metadata": {},
   "outputs": [
    {
     "name": "stdout",
     "output_type": "stream",
     "text": [
      "<class 'list'>\n",
      "<class 'tuple'>\n",
      "<class 'int'>\n"
     ]
    }
   ],
   "source": [
    "print(type(total_entry))\n",
    "print(type(total_entry[0]))\n",
    "print(type(total_entry[0][0]))"
   ]
  },
  {
   "cell_type": "code",
   "execution_count": 28,
   "metadata": {},
   "outputs": [],
   "source": [
    "def drop_database():\n",
    "    mycursor.execute('DROP DATABASE tweetdb')\n",
    "#drop_database()"
   ]
  },
  {
   "cell_type": "code",
   "execution_count": 29,
   "metadata": {},
   "outputs": [],
   "source": [
    "def drop_table():\n",
    "    mycursor.execute('DROP TABLE tweets')\n",
    "#drop_table()"
   ]
  },
  {
   "cell_type": "code",
   "execution_count": null,
   "metadata": {},
   "outputs": [],
   "source": []
  }
 ],
 "metadata": {
  "kernelspec": {
   "display_name": "Python 3",
   "language": "python",
   "name": "python3"
  },
  "language_info": {
   "codemirror_mode": {
    "name": "ipython",
    "version": 3
   },
   "file_extension": ".py",
   "mimetype": "text/x-python",
   "name": "python",
   "nbconvert_exporter": "python",
   "pygments_lexer": "ipython3",
   "version": "3.6.6"
  }
 },
 "nbformat": 4,
 "nbformat_minor": 2
}
