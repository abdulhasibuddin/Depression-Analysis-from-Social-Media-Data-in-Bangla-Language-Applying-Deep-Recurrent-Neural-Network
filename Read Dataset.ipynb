{
 "cells": [
  {
   "cell_type": "code",
   "execution_count": 12,
   "metadata": {},
   "outputs": [],
   "source": [
    "with open('data_all_unique_dnd_stratified_text.txt', 'r', encoding=\"utf8\") as f:\n",
    "    tweets = f.read()\n",
    "with open('data_all_unique_dnd_stratified_labels.txt', 'r', encoding=\"utf8\") as f:\n",
    "    labels_org = f.read()"
   ]
  },
  {
   "cell_type": "code",
   "execution_count": 13,
   "metadata": {},
   "outputs": [],
   "source": [
    "tweet_list = []\n",
    "label_list = []\n",
    "\n",
    "all_text = ''.join([c for c in tweets])\n",
    "tweets = all_text.split('\\n')\n",
    "\n",
    "tweet_list = [r[0:200] for r in tweets if len(r) > 0]\n",
    "label_list = labels_org.split()"
   ]
  },
  {
   "cell_type": "code",
   "execution_count": 15,
   "metadata": {},
   "outputs": [
    {
     "name": "stdout",
     "output_type": "stream",
     "text": [
      "1176\n",
      "1176\n"
     ]
    }
   ],
   "source": [
    "print(len(tweet_list))\n",
    "print(len(label_list))"
   ]
  },
  {
   "cell_type": "code",
   "execution_count": 20,
   "metadata": {},
   "outputs": [
    {
     "name": "stdout",
     "output_type": "stream",
     "text": [
      "যে দেশে মানুষের মৃত্যুর খবর শুনে মন্ত্রী মহোদয় হাসে , প্রতিদিন মৃত্যু ভয় নিয়ে বাইরে বের হতে হয় যেখানে প্রিয়জনের ঘরে ফেরার নিশ্চয়তা নেই , যেখানে রাস্তায় মা বোনদের নিরাপত্তা নেই , সেই দেশ আমার না\n",
      "positive\n",
      "যে দেশে মানুষের মৃত্যুর খবর শুনে মন্ত্রী মহোদয় হাসে , প্রতিদিন মৃত্যু ভয় নিয়ে বাইরে বের হতে হয় যেখানে প্রিয়জনের ঘরে ফেরার নিশ্চয়তা নেই , যেখানে রাস্তায় মা বোনদের নিরাপত্তা নেই , সেই দেশ আমার না\n",
      "positive\n"
     ]
    }
   ],
   "source": [
    "print(tweet_list[0])\n",
    "print(label_list[-1])\n",
    "print(tweet_list[0])\n",
    "print(label_list[-1])"
   ]
  },
  {
   "cell_type": "code",
   "execution_count": 21,
   "metadata": {},
   "outputs": [
    {
     "name": "stdout",
     "output_type": "stream",
     "text": [
      "1176\n"
     ]
    }
   ],
   "source": [
    "dataset = []\n",
    "for data, label in zip(tweet_list,label_list):\n",
    "    dataset.append([label,data])\n",
    "print(len(dataset))"
   ]
  },
  {
   "cell_type": "code",
   "execution_count": 27,
   "metadata": {},
   "outputs": [],
   "source": [
    "outF = open(\"depression_dataset.txt\", \"w\", encoding=\"utf8\")\n",
    "for line in dataset:\n",
    "  # write line to output file\n",
    "    outF.write(line[0])\n",
    "    outF.write(\"\\t\")\n",
    "    outF.write(line[1])\n",
    "    outF.write(\"\\n\")\n",
    "outF.close()"
   ]
  },
  {
   "cell_type": "code",
   "execution_count": null,
   "metadata": {},
   "outputs": [],
   "source": []
  }
 ],
 "metadata": {
  "kernelspec": {
   "display_name": "Python 3",
   "language": "python",
   "name": "python3"
  },
  "language_info": {
   "codemirror_mode": {
    "name": "ipython",
    "version": 3
   },
   "file_extension": ".py",
   "mimetype": "text/x-python",
   "name": "python",
   "nbconvert_exporter": "python",
   "pygments_lexer": "ipython3",
   "version": "3.6.6"
  }
 },
 "nbformat": 4,
 "nbformat_minor": 2
}
